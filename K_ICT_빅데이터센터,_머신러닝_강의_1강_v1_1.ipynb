{
  "nbformat": 4,
  "nbformat_minor": 0,
  "metadata": {
    "colab": {
      "name": "K-ICT 빅데이터센터, 머신러닝 강의_1강_v1.1",
      "provenance": [],
      "collapsed_sections": [],
      "authorship_tag": "ABX9TyMtCyGk4yPc3Nz1XW1j7FPq",
      "include_colab_link": true
    },
    "kernelspec": {
      "name": "python3",
      "display_name": "Python 3"
    },
    "language_info": {
      "name": "python"
    }
  },
  "cells": [
    {
      "cell_type": "markdown",
      "metadata": {
        "id": "view-in-github",
        "colab_type": "text"
      },
      "source": [
        "<a href=\"https://colab.research.google.com/github/outinletter/DataAnalysis/blob/main/K_ICT_%EB%B9%85%EB%8D%B0%EC%9D%B4%ED%84%B0%EC%84%BC%ED%84%B0%2C_%EB%A8%B8%EC%8B%A0%EB%9F%AC%EB%8B%9D_%EA%B0%95%EC%9D%98_1%EA%B0%95_v1_1.ipynb\" target=\"_parent\"><img src=\"https://colab.research.google.com/assets/colab-badge.svg\" alt=\"Open In Colab\"/></a>"
      ]
    },
    {
      "cell_type": "markdown",
      "metadata": {
        "id": "-NHfqdDSRyzr"
      },
      "source": [
        "# 파이썬 머신러닝 강의\n",
        "> https://www.youtube.com/watch?v=G1mpExQOAg8&list=PLwvr-xPygMX9TaQFW3C1UGEuD0zJF7pCk&index=19&ab_channel=K-ICT%EB%B9%85%EB%8D%B0%EC%9D%B4%ED%84%B0%EC%84%BC%ED%84%B0"
      ]
    },
    {
      "cell_type": "markdown",
      "metadata": {
        "id": "Dbgskl2u-P2W"
      },
      "source": [
        "> 파이썬 머신러닝 강의 04-2 - 머신러닝을 위한 통계학 핵심개념 - 기술통계"
      ]
    },
    {
      "cell_type": "code",
      "metadata": {
        "id": "lTPyIlqDRyMt",
        "colab": {
          "base_uri": "https://localhost:8080/"
        },
        "outputId": "7431ce9f-f51e-4a02-aee8-f163cfb91ab2"
      },
      "source": [
        "import numpy as np\n",
        "from scipy import stats\n",
        "\n",
        "np.random.seed(0)\n",
        "\n",
        "data = np.random.randint(0, 100, 1000)\n",
        "\n",
        "mean = np.mean(data); print('평균값: ', mean.round(2))\n",
        "median = np.median(data); print('중앙값: ', median)\n",
        "mode = stats.mode(data); print('최빈값: {} ({})'.format(mode[0][0], mode[1][0]))"
      ],
      "execution_count": null,
      "outputs": [
        {
          "output_type": "stream",
          "name": "stdout",
          "text": [
            "평균값:  49.4\n",
            "중앙값:  49.0\n",
            "최빈값: 0 (18)\n"
          ]
        }
      ]
    },
    {
      "cell_type": "code",
      "metadata": {
        "colab": {
          "base_uri": "https://localhost:8080/"
        },
        "id": "80eJDsts9haY",
        "outputId": "7dfef277-1c9d-4ca8-fa1d-eaf27d888d97"
      },
      "source": [
        "print(mode)"
      ],
      "execution_count": null,
      "outputs": [
        {
          "output_type": "stream",
          "name": "stdout",
          "text": [
            "ModeResult(mode=array([0]), count=array([18]))\n"
          ]
        }
      ]
    },
    {
      "cell_type": "code",
      "metadata": {
        "colab": {
          "base_uri": "https://localhost:8080/"
        },
        "id": "4O2-y9bJ9tn7",
        "outputId": "9d5447d3-e27a-469a-9a94-27b401d08f5b"
      },
      "source": [
        "import numpy as np\n",
        "from statistics import variance, stdev\n",
        "\n",
        "np.random.seed(0)\n",
        "\n",
        "points = np.random.randint(0,100, 20)\n",
        "var = variance(points); print('분산: ', var)\n",
        "std = stdev(points); print('표준편차: ', np.round(std, 2))\n",
        "range = np.max(points) - np.min(points); print('범위: ', range)\n",
        "\n",
        "print('사분위수: ')\n",
        "for val in [0, 25, 50, 75, 100]:\n",
        "    quantile = np.percentile(points, val)\n",
        "    print('{}% => {}'.format(val, quantile))\n",
        "\n",
        "q1, q3 = np.percentile(points, [25, 75])\n",
        "print('IQR: ', q3-q1)\n",
        "# Interquartile range (사분위수 범위)"
      ],
      "execution_count": null,
      "outputs": [
        {
          "output_type": "stream",
          "name": "stdout",
          "text": [
            "분산:  662\n",
            "표준편차:  25.73\n",
            "범위:  79\n",
            "사분위수: \n",
            "0% => 9.0\n",
            "25% => 42.75\n",
            "50% => 64.5\n",
            "75% => 84.0\n",
            "100% => 88.0\n",
            "IQR:  41.25\n"
          ]
        }
      ]
    },
    {
      "cell_type": "markdown",
      "metadata": {
        "id": "27i7a-x6BvB2"
      },
      "source": [
        "# 파이썬 머신러닝 강의 04-3 - 머신러닝을 위한 통계학 핵심개념 - 통계적 추론\n",
        "> https://www.youtube.com/watch?v=KkmdDTswwOU&list=PLwvr-xPygMX9TaQFW3C1UGEuD0zJF7pCk&index=20&ab_channel=K-ICT%EB%B9%85%EB%8D%B0%EC%9D%B4%ED%84%B0%EC%84%BC%ED%84%B0"
      ]
    },
    {
      "cell_type": "markdown",
      "metadata": {
        "id": "UzIvPU61Cm0A"
      },
      "source": [
        "가설 검정: \n",
        "- 표본에 대한 통계적 테스트를 수행해 전체 모집단에 대한 추론을 만드는 과정으로, 귀무가설과 대립가설을 통해 가정이 통계적으로 의미가 있는지 검정함\n",
        "- 모델링에서 각 독립 변수에 대해 0.05보다 작은 p-value(통계적 유의성) 는 유의미하다고 간주함\n",
        "\n",
        "* 대립가설(연구가설) : 연구를 할 때 세우는 가설을 의미\n",
        "* 귀무가설 : 통계적으로 의미가 있다는 것을 검정할 때 사용\n",
        "\n",
        "- p-value: 귀무가설이 옳다는 전제 하에 표본에서 실제로 관측된 통계값과 같거나 더 극단적인 통계값이 관측될 확률\n"
      ]
    },
    {
      "cell_type": "code",
      "metadata": {
        "colab": {
          "base_uri": "https://localhost:8080/"
        },
        "id": "ReB0YxpgBNqk",
        "outputId": "19322adf-1b28-4e30-8058-43371364ad87"
      },
      "source": [
        "import numpy as np\n",
        "from scipy import stats\n",
        "\n",
        "x_bar, mu, sigma, n = 196, 200, 5.3, 20\n",
        "\n",
        "t_sample = (x_bar - mu) / (sigma / np.sqrt(float(n)))\n",
        "print('검정 통계량: ', np.round(t_sample, 2))\n",
        "\n",
        "alpha = 0.05\n",
        "t_alpha = stats.t.ppf(alpha, n-1) # percent point function\n",
        "print('t-table 로부터의 임계값: ', np.round(t_alpha, 3))\n",
        "\n",
        "p_val = stats.t.sf(np.abs(t_sample), n-1) # survaival function\n",
        "print('t-table 의 아래쪽 꼬리 p 값: ', np.round(p_val, 4))\n",
        "\n",
        "# p_value값이 0.05로 유의수준보다 작으므로 귀무가설 기각 : 평균 200g 이라는 주장을 기각"
      ],
      "execution_count": null,
      "outputs": [
        {
          "output_type": "stream",
          "name": "stdout",
          "text": [
            "검정 통계량:  -3.38\n",
            "t-table 로부터의 임계값:  -1.729\n",
            "t-table 의 아래쪽 꼬리 p 값:  0.0016\n"
          ]
        }
      ]
    },
    {
      "cell_type": "code",
      "metadata": {
        "colab": {
          "base_uri": "https://localhost:8080/"
        },
        "id": "ifWTMla3GQqA",
        "outputId": "a65948bb-7376-46a8-e1a3-2cf522fa610e"
      },
      "source": [
        "import numpy as np\n",
        "from scipy import stats\n",
        "\n",
        "x, mu, s = 75, 56, 13.6\n",
        "z=(x-mu)/s\n",
        "print('z_score: ', np.round(z,2))\n",
        "\n",
        "p_val = 1 - stats.norm.cdf(z)\n",
        "print('학생이 {}점 이상 받을 확률 : {}%'.format(x, np.round(p_val*100,2)))"
      ],
      "execution_count": null,
      "outputs": [
        {
          "output_type": "stream",
          "name": "stdout",
          "text": [
            "z_score:  1.4\n",
            "학생이 75점 이상 받을 확률 : 8.12%\n"
          ]
        }
      ]
    },
    {
      "cell_type": "markdown",
      "metadata": {
        "id": "dF7VHTCFDkf7"
      },
      "source": [
        "## 주요 정리\n",
        "* p-value는 귀무가설이 옳다는 전제 하에 표본에서 실제로 관측된 통계값과 같거나 더 극단적인 통계값이 관측될 확률이다.\n",
        "* 평균이 μ이고 분산이 σ2인 모집단으로부터 가능한 모든 n개의 조합을 표본으로 추출하면 표본의 평균은 정규분포에 접근한다.\n",
        "* 카이제곱 검정은 범주형 데이터의 통계 분석에 사용되는 검정으로, 2개의 범주형 변수 사이에 독립성을 판단한다.\n",
        "* ANOVA 분산분석은 모집단이 셋 이상인 경우, 이들의 평균이 서로 동일한지 테스트한다."
      ]
    },
    {
      "cell_type": "markdown",
      "metadata": {
        "id": "1pzKs8Ke-FnK"
      },
      "source": [
        "# 카이제곱 독립성 검정\n",
        "> 2개의 범주형 변수에서 독립적인지, 상관관계가 있는지를 분석"
      ]
    },
    {
      "cell_type": "code",
      "metadata": {
        "colab": {
          "base_uri": "https://localhost:8080/",
          "height": 203
        },
        "id": "Gn8NGyDyB0ge",
        "outputId": "7d990c85-efc2-4728-c901-779ca5e1abb6"
      },
      "source": [
        "import numpy as np\n",
        "import pandas as pd\n",
        "from scipy import stats\n",
        "\n",
        "np.random.seed(0)\n",
        "\n",
        "smoke = ['안함', '가끔', '매일', '심함']\n",
        "exercise = ['안함', '가끔', '매일']\n",
        "\n",
        "data = {'smoke' :    np.random.choice(smoke, size = 500),\n",
        "        'exercise' : np.random.choice(exercise, size=500)}\n",
        "df = pd.DataFrame(data, columns=['smoke', 'exercise'])\n",
        "df.head()"
      ],
      "execution_count": null,
      "outputs": [
        {
          "output_type": "execute_result",
          "data": {
            "text/html": [
              "<div>\n",
              "<style scoped>\n",
              "    .dataframe tbody tr th:only-of-type {\n",
              "        vertical-align: middle;\n",
              "    }\n",
              "\n",
              "    .dataframe tbody tr th {\n",
              "        vertical-align: top;\n",
              "    }\n",
              "\n",
              "    .dataframe thead th {\n",
              "        text-align: right;\n",
              "    }\n",
              "</style>\n",
              "<table border=\"1\" class=\"dataframe\">\n",
              "  <thead>\n",
              "    <tr style=\"text-align: right;\">\n",
              "      <th></th>\n",
              "      <th>smoke</th>\n",
              "      <th>exercise</th>\n",
              "    </tr>\n",
              "  </thead>\n",
              "  <tbody>\n",
              "    <tr>\n",
              "      <th>0</th>\n",
              "      <td>안함</td>\n",
              "      <td>안함</td>\n",
              "    </tr>\n",
              "    <tr>\n",
              "      <th>1</th>\n",
              "      <td>심함</td>\n",
              "      <td>안함</td>\n",
              "    </tr>\n",
              "    <tr>\n",
              "      <th>2</th>\n",
              "      <td>가끔</td>\n",
              "      <td>매일</td>\n",
              "    </tr>\n",
              "    <tr>\n",
              "      <th>3</th>\n",
              "      <td>안함</td>\n",
              "      <td>가끔</td>\n",
              "    </tr>\n",
              "    <tr>\n",
              "      <th>4</th>\n",
              "      <td>심함</td>\n",
              "      <td>가끔</td>\n",
              "    </tr>\n",
              "  </tbody>\n",
              "</table>\n",
              "</div>"
            ],
            "text/plain": [
              "  smoke exercise\n",
              "0    안함       안함\n",
              "1    심함       안함\n",
              "2    가끔       매일\n",
              "3    안함       가끔\n",
              "4    심함       가끔"
            ]
          },
          "metadata": {},
          "execution_count": 6
        }
      ]
    },
    {
      "cell_type": "code",
      "metadata": {
        "colab": {
          "base_uri": "https://localhost:8080/",
          "height": 203
        },
        "id": "uPWLa3XpB0bw",
        "outputId": "d17e6c31-7930-4483-8788-ccb95962b86e"
      },
      "source": [
        "xtab = pd.crosstab(df.smoke, df.exercise)\n",
        "xtab"
      ],
      "execution_count": null,
      "outputs": [
        {
          "output_type": "execute_result",
          "data": {
            "text/html": [
              "<div>\n",
              "<style scoped>\n",
              "    .dataframe tbody tr th:only-of-type {\n",
              "        vertical-align: middle;\n",
              "    }\n",
              "\n",
              "    .dataframe tbody tr th {\n",
              "        vertical-align: top;\n",
              "    }\n",
              "\n",
              "    .dataframe thead th {\n",
              "        text-align: right;\n",
              "    }\n",
              "</style>\n",
              "<table border=\"1\" class=\"dataframe\">\n",
              "  <thead>\n",
              "    <tr style=\"text-align: right;\">\n",
              "      <th>exercise</th>\n",
              "      <th>가끔</th>\n",
              "      <th>매일</th>\n",
              "      <th>안함</th>\n",
              "    </tr>\n",
              "    <tr>\n",
              "      <th>smoke</th>\n",
              "      <th></th>\n",
              "      <th></th>\n",
              "      <th></th>\n",
              "    </tr>\n",
              "  </thead>\n",
              "  <tbody>\n",
              "    <tr>\n",
              "      <th>가끔</th>\n",
              "      <td>38</td>\n",
              "      <td>39</td>\n",
              "      <td>45</td>\n",
              "    </tr>\n",
              "    <tr>\n",
              "      <th>매일</th>\n",
              "      <td>34</td>\n",
              "      <td>44</td>\n",
              "      <td>33</td>\n",
              "    </tr>\n",
              "    <tr>\n",
              "      <th>심함</th>\n",
              "      <td>45</td>\n",
              "      <td>44</td>\n",
              "      <td>51</td>\n",
              "    </tr>\n",
              "    <tr>\n",
              "      <th>안함</th>\n",
              "      <td>47</td>\n",
              "      <td>41</td>\n",
              "      <td>39</td>\n",
              "    </tr>\n",
              "  </tbody>\n",
              "</table>\n",
              "</div>"
            ],
            "text/plain": [
              "exercise  가끔  매일  안함\n",
              "smoke               \n",
              "가끔        38  39  45\n",
              "매일        34  44  33\n",
              "심함        45  44  51\n",
              "안함        47  41  39"
            ]
          },
          "metadata": {},
          "execution_count": 7
        }
      ]
    },
    {
      "cell_type": "code",
      "metadata": {
        "colab": {
          "base_uri": "https://localhost:8080/"
        },
        "id": "Rrch5Wo1_qjB",
        "outputId": "8ffc6311-531f-4448-cc57-96522826f00f"
      },
      "source": [
        "contg = stats.chi2_contingency(observed=xtab)\n",
        "p_val = np.round(contg[1],3)\n",
        "print('P-값: ', p_val) # 0.05보다 크므로 흡연과 운동은 상관관계가 없다."
      ],
      "execution_count": null,
      "outputs": [
        {
          "output_type": "stream",
          "name": "stdout",
          "text": [
            "P-값:  0.668\n"
          ]
        }
      ]
    },
    {
      "cell_type": "markdown",
      "metadata": {
        "id": "lVXTsy8BA3cH"
      },
      "source": [
        "# ANOVA 분산 분석\n",
        "> Analysis of Variance\n",
        "- 모집단이 셋 이상인 경우, 이들의 평균이 서로 동일한지 테스트함\n",
        "- 귀무가설 : 모든 모집단의 평균에 차이가 없다.\n",
        "- 대립가설 : 적어도 하나의 모집단의 평균에 차이가 있다.\n",
        "\n",
        ">> t-검정 : 두 개 집단 평균의 차이를 구할 때  \n",
        "\n",
        "* 10명의 환자를 대상으로 A,B,C 세 가지 수면제 약효(수면시간)를 각각 테스트할 경우, 유의수준 0.05에서 A,B,C 수면제의 평균 수면시간은 동일한가?"
      ]
    },
    {
      "cell_type": "code",
      "metadata": {
        "colab": {
          "base_uri": "https://localhost:8080/",
          "height": 357
        },
        "id": "vSlOyX_bAU_y",
        "outputId": "82a53e3a-4630-41d6-9861-b8b823624e1e"
      },
      "source": [
        "data2 = (np.random.rand(30).round(2)*10).reshape(-1,3)\n",
        "df2 = pd.DataFrame(data=data2, columns=['A', 'B', 'C'])\n",
        "df2"
      ],
      "execution_count": null,
      "outputs": [
        {
          "output_type": "execute_result",
          "data": {
            "text/html": [
              "<div>\n",
              "<style scoped>\n",
              "    .dataframe tbody tr th:only-of-type {\n",
              "        vertical-align: middle;\n",
              "    }\n",
              "\n",
              "    .dataframe tbody tr th {\n",
              "        vertical-align: top;\n",
              "    }\n",
              "\n",
              "    .dataframe thead th {\n",
              "        text-align: right;\n",
              "    }\n",
              "</style>\n",
              "<table border=\"1\" class=\"dataframe\">\n",
              "  <thead>\n",
              "    <tr style=\"text-align: right;\">\n",
              "      <th></th>\n",
              "      <th>A</th>\n",
              "      <th>B</th>\n",
              "      <th>C</th>\n",
              "    </tr>\n",
              "  </thead>\n",
              "  <tbody>\n",
              "    <tr>\n",
              "      <th>0</th>\n",
              "      <td>1.7</td>\n",
              "      <td>3.9</td>\n",
              "      <td>9.5</td>\n",
              "    </tr>\n",
              "    <tr>\n",
              "      <th>1</th>\n",
              "      <td>3.0</td>\n",
              "      <td>1.6</td>\n",
              "      <td>8.9</td>\n",
              "    </tr>\n",
              "    <tr>\n",
              "      <th>2</th>\n",
              "      <td>4.5</td>\n",
              "      <td>9.1</td>\n",
              "      <td>1.6</td>\n",
              "    </tr>\n",
              "    <tr>\n",
              "      <th>3</th>\n",
              "      <td>6.6</td>\n",
              "      <td>4.4</td>\n",
              "      <td>0.8</td>\n",
              "    </tr>\n",
              "    <tr>\n",
              "      <th>4</th>\n",
              "      <td>7.0</td>\n",
              "      <td>2.5</td>\n",
              "      <td>0.4</td>\n",
              "    </tr>\n",
              "    <tr>\n",
              "      <th>5</th>\n",
              "      <td>0.6</td>\n",
              "      <td>0.6</td>\n",
              "      <td>9.1</td>\n",
              "    </tr>\n",
              "    <tr>\n",
              "      <th>6</th>\n",
              "      <td>7.4</td>\n",
              "      <td>9.0</td>\n",
              "      <td>6.7</td>\n",
              "    </tr>\n",
              "    <tr>\n",
              "      <th>7</th>\n",
              "      <td>5.3</td>\n",
              "      <td>3.0</td>\n",
              "      <td>10.0</td>\n",
              "    </tr>\n",
              "    <tr>\n",
              "      <th>8</th>\n",
              "      <td>3.6</td>\n",
              "      <td>4.7</td>\n",
              "      <td>3.8</td>\n",
              "    </tr>\n",
              "    <tr>\n",
              "      <th>9</th>\n",
              "      <td>9.8</td>\n",
              "      <td>1.7</td>\n",
              "      <td>3.3</td>\n",
              "    </tr>\n",
              "  </tbody>\n",
              "</table>\n",
              "</div>"
            ],
            "text/plain": [
              "     A    B     C\n",
              "0  1.7  3.9   9.5\n",
              "1  3.0  1.6   8.9\n",
              "2  4.5  9.1   1.6\n",
              "3  6.6  4.4   0.8\n",
              "4  7.0  2.5   0.4\n",
              "5  0.6  0.6   9.1\n",
              "6  7.4  9.0   6.7\n",
              "7  5.3  3.0  10.0\n",
              "8  3.6  4.7   3.8\n",
              "9  9.8  1.7   3.3"
            ]
          },
          "metadata": {},
          "execution_count": 9
        }
      ]
    },
    {
      "cell_type": "code",
      "metadata": {
        "colab": {
          "base_uri": "https://localhost:8080/"
        },
        "id": "45IfXlwUCNn-",
        "outputId": "0114a912-6a66-4cab-b0e2-814605eb86dc"
      },
      "source": [
        "one_way_anova = stats.f_oneway(df2.A, df2.B, df2.C)\n",
        "print('통계량 : {}, p_value: {}'. format(np.round(one_way_anova[0],2), np.round(one_way_anova[1],3)))\n",
        "# p value가 0.05 보다 크므로 귀무가설(차이가 없다, 동일하다) 채택"
      ],
      "execution_count": null,
      "outputs": [
        {
          "output_type": "stream",
          "name": "stdout",
          "text": [
            "통계량 : 0.46, p_value: 0.638\n"
          ]
        }
      ]
    },
    {
      "cell_type": "markdown",
      "metadata": {
        "id": "cCI77pRLFii_"
      },
      "source": [
        "# Scikit-Learn API\n",
        "> Scikit-Learn 기초 및 데이터 표현 방식 이해\n",
        "\n",
        "> https://www.youtube.com/watch?v=2VPFth2UqoI&list=PLwvr-xPygMX9TaQFW3C1UGEuD0zJF7pCk&index=22&ab_channel=K-ICT%EB%B9%85%EB%8D%B0%EC%9D%B4%ED%84%B0%EC%84%BC%ED%84%B0"
      ]
    },
    {
      "cell_type": "code",
      "metadata": {
        "colab": {
          "base_uri": "https://localhost:8080/"
        },
        "id": "Hbnj3iADCkkG",
        "outputId": "5b1528cc-16f2-4540-9c31-4c840ec2f55b"
      },
      "source": [
        "import numpy as np\n",
        "\n",
        "rs = np.random.RandomState(10) # seed 값 특정하여 동일한 결과를 만들어 줌\n",
        "x= 10 * rs.rand(5)\n",
        "y = 2*x -1*rs.rand(5)\n",
        "x.shape, y.shape"
      ],
      "execution_count": null,
      "outputs": [
        {
          "output_type": "execute_result",
          "data": {
            "text/plain": [
              "((5,), (5,))"
            ]
          },
          "metadata": {},
          "execution_count": 11
        }
      ]
    },
    {
      "cell_type": "code",
      "metadata": {
        "colab": {
          "base_uri": "https://localhost:8080/"
        },
        "id": "eR9FsNJvDlFt",
        "outputId": "5adc76d3-3937-439f-da34-3df799681c1d"
      },
      "source": [
        "x, y"
      ],
      "execution_count": null,
      "outputs": [
        {
          "output_type": "execute_result",
          "data": {
            "text/plain": [
              "(array([7.71320643, 0.20751949, 6.33648235, 7.48803883, 4.98507012]),\n",
              " array([15.20161622,  0.21697612, 11.91243399, 14.80696681,  9.88180043]))"
            ]
          },
          "metadata": {},
          "execution_count": 12
        }
      ]
    },
    {
      "cell_type": "code",
      "metadata": {
        "colab": {
          "base_uri": "https://localhost:8080/"
        },
        "id": "NLP56yIHDlDW",
        "outputId": "3acbcc81-8694-4608-bda9-ee823240703d"
      },
      "source": [
        "X = x.reshape(-1,1) # 열을 1로 고정\n",
        "X.shape"
      ],
      "execution_count": null,
      "outputs": [
        {
          "output_type": "execute_result",
          "data": {
            "text/plain": [
              "(5, 1)"
            ]
          },
          "metadata": {},
          "execution_count": 13
        }
      ]
    },
    {
      "cell_type": "code",
      "metadata": {
        "colab": {
          "base_uri": "https://localhost:8080/"
        },
        "id": "Emm3iJ-VDlA4",
        "outputId": "e83dae31-8a94-48f8-d0fe-a44cc1679d64"
      },
      "source": [
        "import seaborn as sns\n",
        "iris = sns.load_dataset('iris')\n",
        "iris.info()"
      ],
      "execution_count": null,
      "outputs": [
        {
          "output_type": "stream",
          "name": "stdout",
          "text": [
            "<class 'pandas.core.frame.DataFrame'>\n",
            "RangeIndex: 150 entries, 0 to 149\n",
            "Data columns (total 5 columns):\n",
            " #   Column        Non-Null Count  Dtype  \n",
            "---  ------        --------------  -----  \n",
            " 0   sepal_length  150 non-null    float64\n",
            " 1   sepal_width   150 non-null    float64\n",
            " 2   petal_length  150 non-null    float64\n",
            " 3   petal_width   150 non-null    float64\n",
            " 4   species       150 non-null    object \n",
            "dtypes: float64(4), object(1)\n",
            "memory usage: 6.0+ KB\n"
          ]
        }
      ]
    },
    {
      "cell_type": "code",
      "metadata": {
        "colab": {
          "base_uri": "https://localhost:8080/",
          "height": 203
        },
        "id": "B9h84MQhUSyk",
        "outputId": "09eaba7d-f4ea-46e6-ae1c-c64c8b3ccae0"
      },
      "source": [
        "iris.head()"
      ],
      "execution_count": null,
      "outputs": [
        {
          "output_type": "execute_result",
          "data": {
            "text/html": [
              "<div>\n",
              "<style scoped>\n",
              "    .dataframe tbody tr th:only-of-type {\n",
              "        vertical-align: middle;\n",
              "    }\n",
              "\n",
              "    .dataframe tbody tr th {\n",
              "        vertical-align: top;\n",
              "    }\n",
              "\n",
              "    .dataframe thead th {\n",
              "        text-align: right;\n",
              "    }\n",
              "</style>\n",
              "<table border=\"1\" class=\"dataframe\">\n",
              "  <thead>\n",
              "    <tr style=\"text-align: right;\">\n",
              "      <th></th>\n",
              "      <th>sepal_length</th>\n",
              "      <th>sepal_width</th>\n",
              "      <th>petal_length</th>\n",
              "      <th>petal_width</th>\n",
              "      <th>species</th>\n",
              "    </tr>\n",
              "  </thead>\n",
              "  <tbody>\n",
              "    <tr>\n",
              "      <th>0</th>\n",
              "      <td>5.1</td>\n",
              "      <td>3.5</td>\n",
              "      <td>1.4</td>\n",
              "      <td>0.2</td>\n",
              "      <td>setosa</td>\n",
              "    </tr>\n",
              "    <tr>\n",
              "      <th>1</th>\n",
              "      <td>4.9</td>\n",
              "      <td>3.0</td>\n",
              "      <td>1.4</td>\n",
              "      <td>0.2</td>\n",
              "      <td>setosa</td>\n",
              "    </tr>\n",
              "    <tr>\n",
              "      <th>2</th>\n",
              "      <td>4.7</td>\n",
              "      <td>3.2</td>\n",
              "      <td>1.3</td>\n",
              "      <td>0.2</td>\n",
              "      <td>setosa</td>\n",
              "    </tr>\n",
              "    <tr>\n",
              "      <th>3</th>\n",
              "      <td>4.6</td>\n",
              "      <td>3.1</td>\n",
              "      <td>1.5</td>\n",
              "      <td>0.2</td>\n",
              "      <td>setosa</td>\n",
              "    </tr>\n",
              "    <tr>\n",
              "      <th>4</th>\n",
              "      <td>5.0</td>\n",
              "      <td>3.6</td>\n",
              "      <td>1.4</td>\n",
              "      <td>0.2</td>\n",
              "      <td>setosa</td>\n",
              "    </tr>\n",
              "  </tbody>\n",
              "</table>\n",
              "</div>"
            ],
            "text/plain": [
              "   sepal_length  sepal_width  petal_length  petal_width species\n",
              "0           5.1          3.5           1.4          0.2  setosa\n",
              "1           4.9          3.0           1.4          0.2  setosa\n",
              "2           4.7          3.2           1.3          0.2  setosa\n",
              "3           4.6          3.1           1.5          0.2  setosa\n",
              "4           5.0          3.6           1.4          0.2  setosa"
            ]
          },
          "metadata": {},
          "execution_count": 15
        }
      ]
    },
    {
      "cell_type": "code",
      "metadata": {
        "colab": {
          "base_uri": "https://localhost:8080/"
        },
        "id": "zfRFShFhUhNm",
        "outputId": "6a52afc3-91f0-46b7-835f-ab2714d8b191"
      },
      "source": [
        "X = iris.drop('species', axis=1)\n",
        "X.shape"
      ],
      "execution_count": null,
      "outputs": [
        {
          "output_type": "execute_result",
          "data": {
            "text/plain": [
              "(150, 4)"
            ]
          },
          "metadata": {},
          "execution_count": 16
        }
      ]
    },
    {
      "cell_type": "code",
      "metadata": {
        "colab": {
          "base_uri": "https://localhost:8080/"
        },
        "id": "VEvi5ameUx6L",
        "outputId": "9c2940ba-c90f-448d-d97d-61c1542c885a"
      },
      "source": [
        "y = iris['species']\n",
        "y.shape"
      ],
      "execution_count": null,
      "outputs": [
        {
          "output_type": "execute_result",
          "data": {
            "text/plain": [
              "(150,)"
            ]
          },
          "metadata": {},
          "execution_count": 17
        }
      ]
    },
    {
      "cell_type": "markdown",
      "metadata": {
        "id": "95hcCAm2VZKF"
      },
      "source": [
        "> bunch 객체를 이용한 특징 행렬(X), 대상 벡터(y)의 생성"
      ]
    },
    {
      "cell_type": "code",
      "metadata": {
        "colab": {
          "base_uri": "https://localhost:8080/"
        },
        "id": "o-vme-KaU2Tb",
        "outputId": "febe46ad-41f4-4d46-c01f-8fccb8ebe7fa"
      },
      "source": [
        "from sklearn.datasets import load_iris\n",
        "\n",
        "iris = load_iris()\n",
        "type(iris)"
      ],
      "execution_count": null,
      "outputs": [
        {
          "output_type": "execute_result",
          "data": {
            "text/plain": [
              "sklearn.utils.Bunch"
            ]
          },
          "metadata": {},
          "execution_count": 18
        }
      ]
    },
    {
      "cell_type": "code",
      "metadata": {
        "colab": {
          "base_uri": "https://localhost:8080/"
        },
        "id": "YOu7p06WU359",
        "outputId": "0b407a70-5ca5-4e93-8ba2-3c8fb84922ee"
      },
      "source": [
        "iris.keys()"
      ],
      "execution_count": null,
      "outputs": [
        {
          "output_type": "execute_result",
          "data": {
            "text/plain": [
              "dict_keys(['data', 'target', 'target_names', 'DESCR', 'feature_names', 'filename'])"
            ]
          },
          "metadata": {},
          "execution_count": 19
        }
      ]
    },
    {
      "cell_type": "code",
      "metadata": {
        "colab": {
          "base_uri": "https://localhost:8080/"
        },
        "id": "gyiEqJwgdof-",
        "outputId": "abb03376-37d7-4e47-b353-535db97be807"
      },
      "source": [
        "iris.data[:5]"
      ],
      "execution_count": null,
      "outputs": [
        {
          "output_type": "execute_result",
          "data": {
            "text/plain": [
              "array([[5.1, 3.5, 1.4, 0.2],\n",
              "       [4.9, 3. , 1.4, 0.2],\n",
              "       [4.7, 3.2, 1.3, 0.2],\n",
              "       [4.6, 3.1, 1.5, 0.2],\n",
              "       [5. , 3.6, 1.4, 0.2]])"
            ]
          },
          "metadata": {},
          "execution_count": 20
        }
      ]
    },
    {
      "cell_type": "code",
      "metadata": {
        "colab": {
          "base_uri": "https://localhost:8080/"
        },
        "id": "t3XzkjCKcbks",
        "outputId": "f6c70289-4047-4a4e-f049-d0dd202564bf"
      },
      "source": [
        "print(iris.target) # y열에 해당하는 특징열"
      ],
      "execution_count": null,
      "outputs": [
        {
          "output_type": "stream",
          "name": "stdout",
          "text": [
            "[0 0 0 0 0 0 0 0 0 0 0 0 0 0 0 0 0 0 0 0 0 0 0 0 0 0 0 0 0 0 0 0 0 0 0 0 0\n",
            " 0 0 0 0 0 0 0 0 0 0 0 0 0 1 1 1 1 1 1 1 1 1 1 1 1 1 1 1 1 1 1 1 1 1 1 1 1\n",
            " 1 1 1 1 1 1 1 1 1 1 1 1 1 1 1 1 1 1 1 1 1 1 1 1 1 1 2 2 2 2 2 2 2 2 2 2 2\n",
            " 2 2 2 2 2 2 2 2 2 2 2 2 2 2 2 2 2 2 2 2 2 2 2 2 2 2 2 2 2 2 2 2 2 2 2 2 2\n",
            " 2 2]\n"
          ]
        }
      ]
    },
    {
      "cell_type": "code",
      "metadata": {
        "colab": {
          "base_uri": "https://localhost:8080/"
        },
        "id": "obcBeSFjU31m",
        "outputId": "807ab010-c0b2-4c20-e546-8db532b3c5f9"
      },
      "source": [
        "iris.feature_names"
      ],
      "execution_count": null,
      "outputs": [
        {
          "output_type": "execute_result",
          "data": {
            "text/plain": [
              "['sepal length (cm)',\n",
              " 'sepal width (cm)',\n",
              " 'petal length (cm)',\n",
              " 'petal width (cm)']"
            ]
          },
          "metadata": {},
          "execution_count": 22
        }
      ]
    },
    {
      "cell_type": "code",
      "metadata": {
        "id": "Qy0XmsCEU3zk"
      },
      "source": [
        "X = iris.data\n",
        "y = iris.target"
      ],
      "execution_count": null,
      "outputs": []
    },
    {
      "cell_type": "code",
      "metadata": {
        "colab": {
          "base_uri": "https://localhost:8080/",
          "height": 203
        },
        "id": "FgGk431ONL1F",
        "outputId": "44729f27-5045-4e83-a09d-8f761cd9273c"
      },
      "source": [
        "pd.DataFrame(X).head()"
      ],
      "execution_count": null,
      "outputs": [
        {
          "output_type": "execute_result",
          "data": {
            "text/html": [
              "<div>\n",
              "<style scoped>\n",
              "    .dataframe tbody tr th:only-of-type {\n",
              "        vertical-align: middle;\n",
              "    }\n",
              "\n",
              "    .dataframe tbody tr th {\n",
              "        vertical-align: top;\n",
              "    }\n",
              "\n",
              "    .dataframe thead th {\n",
              "        text-align: right;\n",
              "    }\n",
              "</style>\n",
              "<table border=\"1\" class=\"dataframe\">\n",
              "  <thead>\n",
              "    <tr style=\"text-align: right;\">\n",
              "      <th></th>\n",
              "      <th>0</th>\n",
              "      <th>1</th>\n",
              "      <th>2</th>\n",
              "      <th>3</th>\n",
              "    </tr>\n",
              "  </thead>\n",
              "  <tbody>\n",
              "    <tr>\n",
              "      <th>0</th>\n",
              "      <td>5.1</td>\n",
              "      <td>3.5</td>\n",
              "      <td>1.4</td>\n",
              "      <td>0.2</td>\n",
              "    </tr>\n",
              "    <tr>\n",
              "      <th>1</th>\n",
              "      <td>4.9</td>\n",
              "      <td>3.0</td>\n",
              "      <td>1.4</td>\n",
              "      <td>0.2</td>\n",
              "    </tr>\n",
              "    <tr>\n",
              "      <th>2</th>\n",
              "      <td>4.7</td>\n",
              "      <td>3.2</td>\n",
              "      <td>1.3</td>\n",
              "      <td>0.2</td>\n",
              "    </tr>\n",
              "    <tr>\n",
              "      <th>3</th>\n",
              "      <td>4.6</td>\n",
              "      <td>3.1</td>\n",
              "      <td>1.5</td>\n",
              "      <td>0.2</td>\n",
              "    </tr>\n",
              "    <tr>\n",
              "      <th>4</th>\n",
              "      <td>5.0</td>\n",
              "      <td>3.6</td>\n",
              "      <td>1.4</td>\n",
              "      <td>0.2</td>\n",
              "    </tr>\n",
              "  </tbody>\n",
              "</table>\n",
              "</div>"
            ],
            "text/plain": [
              "     0    1    2    3\n",
              "0  5.1  3.5  1.4  0.2\n",
              "1  4.9  3.0  1.4  0.2\n",
              "2  4.7  3.2  1.3  0.2\n",
              "3  4.6  3.1  1.5  0.2\n",
              "4  5.0  3.6  1.4  0.2"
            ]
          },
          "metadata": {},
          "execution_count": 24
        }
      ]
    },
    {
      "cell_type": "code",
      "metadata": {
        "colab": {
          "base_uri": "https://localhost:8080/"
        },
        "id": "4CdoCeF7NZch",
        "outputId": "3c232192-a737-41d0-bd0b-c6aefc5b1476"
      },
      "source": [
        "X.shape, y.shape"
      ],
      "execution_count": null,
      "outputs": [
        {
          "output_type": "execute_result",
          "data": {
            "text/plain": [
              "((150, 4), (150,))"
            ]
          },
          "metadata": {},
          "execution_count": 25
        }
      ]
    },
    {
      "cell_type": "code",
      "metadata": {
        "colab": {
          "base_uri": "https://localhost:8080/",
          "height": 282
        },
        "id": "bdZfVRTuU3w4",
        "outputId": "ddbde4ab-28cd-4413-e4ce-75eef822820b"
      },
      "source": [
        "import numpy as np\n",
        "import matplotlib.pyplot as plt\n",
        "rs = np.random.RandomState(10)\n",
        "x = 10*rs.rand(100)\n",
        "y = 3*x + 2*rs.rand(100)\n",
        "plt.scatter(x, y, s=10)"
      ],
      "execution_count": null,
      "outputs": [
        {
          "output_type": "execute_result",
          "data": {
            "text/plain": [
              "<matplotlib.collections.PathCollection at 0x7f1977f45cd0>"
            ]
          },
          "metadata": {},
          "execution_count": 26
        },
        {
          "output_type": "display_data",
          "data": {
            "image/png": "[encoded data removed]",
            "text/plain": [
              "<Figure size 432x288 with 1 Axes>"
            ]
          },
          "metadata": {
            "needs_background": "light"
          }
        }
      ]
    },
    {
      "cell_type": "code",
      "metadata": {
        "colab": {
          "base_uri": "https://localhost:8080/"
        },
        "id": "R4uyF0VWOjp1",
        "outputId": "bc0c9298-a57b-41db-b42a-0926f7c17b5c"
      },
      "source": [
        "x"
      ],
      "execution_count": null,
      "outputs": [
        {
          "output_type": "execute_result",
          "data": {
            "text/plain": [
              "array([7.71320643, 0.20751949, 6.33648235, 7.48803883, 4.98507012,\n",
              "       2.24796646, 1.98062865, 7.60530712, 1.69110837, 0.88339814,\n",
              "       6.85359818, 9.53393346, 0.03948266, 5.12192263, 8.12620962,\n",
              "       6.12526067, 7.21755317, 2.91876068, 9.17774123, 7.14575783,\n",
              "       5.42544368, 1.42170048, 3.7334076 , 6.74133615, 4.41833174,\n",
              "       4.34013993, 6.17766978, 5.13138243, 6.50397182, 6.01038953,\n",
              "       8.05223197, 5.21647152, 9.08648881, 3.19236089, 0.90459349,\n",
              "       3.00700057, 1.13984362, 8.28681326, 0.46896319, 6.26287148,\n",
              "       5.47586156, 8.19286996, 1.9894754 , 8.56850302, 3.51652639,\n",
              "       7.54647692, 2.95961707, 8.8393648 , 3.25511638, 1.65015898,\n",
              "       3.92529244, 0.93460375, 8.21105658, 1.5115202 , 3.84114449,\n",
              "       9.44260712, 9.87625475, 4.56304547, 8.26122844, 2.51374134,\n",
              "       5.97371648, 9.0283176 , 5.34557949, 5.90201363, 0.39281767,\n",
              "       3.57181759, 0.7961309 , 3.05459918, 3.30719312, 7.73830296,\n",
              "       0.39959209, 4.29492178, 3.14926872, 6.36491143, 3.4634715 ,\n",
              "       0.43097356, 8.79915175, 7.63240587, 8.78096643, 4.17509144,\n",
              "       6.05577564, 5.13466627, 5.97836648, 2.62215661, 3.00871309,\n",
              "       0.25399782, 3.03062561, 2.42075875, 5.57578189, 5.6550702 ,\n",
              "       4.75132247, 2.92797976, 0.64251061, 9.78819146, 3.39707844,\n",
              "       4.95048631, 9.77080726, 4.40773825, 3.18272805, 5.19796986])"
            ]
          },
          "metadata": {},
          "execution_count": 27
        }
      ]
    },
    {
      "cell_type": "code",
      "metadata": {
        "colab": {
          "base_uri": "https://localhost:8080/"
        },
        "id": "pu2hALfVOH7D",
        "outputId": "9e661c5e-b0dc-4b56-822f-2801c1d77b16"
      },
      "source": [
        "x.shape, y.shape"
      ],
      "execution_count": null,
      "outputs": [
        {
          "output_type": "execute_result",
          "data": {
            "text/plain": [
              "((100,), (100,))"
            ]
          },
          "metadata": {},
          "execution_count": 28
        }
      ]
    },
    {
      "cell_type": "code",
      "metadata": {
        "id": "t2hKCu75miqC"
      },
      "source": [
        "from sklearn.linear_model import LinearRegression\n",
        "regr = LinearRegression(fit_intercept=True)"
      ],
      "execution_count": null,
      "outputs": []
    },
    {
      "cell_type": "code",
      "metadata": {
        "colab": {
          "base_uri": "https://localhost:8080/"
        },
        "id": "69U-qbT1mpg9",
        "outputId": "8e0c8bb3-d3c7-428b-ce4e-e716eb3f9aac"
      },
      "source": [
        "X = x.reshape(-1,1)\n",
        "X.shape, y.shape"
      ],
      "execution_count": null,
      "outputs": [
        {
          "output_type": "execute_result",
          "data": {
            "text/plain": [
              "((100, 1), (100,))"
            ]
          },
          "metadata": {},
          "execution_count": 30
        }
      ]
    },
    {
      "cell_type": "code",
      "metadata": {
        "colab": {
          "base_uri": "https://localhost:8080/"
        },
        "id": "02_LOpjBm4WL",
        "outputId": "ae929178-e600-4a7c-befe-a73252e66a1e"
      },
      "source": [
        "# X: 훈련데이터? , y: 대상 벡터\n",
        "regr.fit(X, y)"
      ],
      "execution_count": null,
      "outputs": [
        {
          "output_type": "execute_result",
          "data": {
            "text/plain": [
              "LinearRegression(copy_X=True, fit_intercept=True, n_jobs=None, normalize=False)"
            ]
          },
          "metadata": {},
          "execution_count": 31
        }
      ]
    },
    {
      "cell_type": "code",
      "metadata": {
        "colab": {
          "base_uri": "https://localhost:8080/"
        },
        "id": "ee5vNv1Gm5iJ",
        "outputId": "39fb8cde-aad0-44e7-e125-5d8787017465"
      },
      "source": [
        "regr.coef_"
      ],
      "execution_count": null,
      "outputs": [
        {
          "output_type": "execute_result",
          "data": {
            "text/plain": [
              "array([2.9855087])"
            ]
          },
          "metadata": {},
          "execution_count": 32
        }
      ]
    },
    {
      "cell_type": "code",
      "metadata": {
        "colab": {
          "base_uri": "https://localhost:8080/"
        },
        "id": "dOElqF0jm5fr",
        "outputId": "2eaf75bd-125d-4c5a-9b7a-f3739f10e2c5"
      },
      "source": [
        "regr.intercept_"
      ],
      "execution_count": null,
      "outputs": [
        {
          "output_type": "execute_result",
          "data": {
            "text/plain": [
              "0.9878534341975644"
            ]
          },
          "metadata": {},
          "execution_count": 33
        }
      ]
    },
    {
      "cell_type": "code",
      "metadata": {
        "colab": {
          "base_uri": "https://localhost:8080/"
        },
        "id": "iAfWCFpAm5c3",
        "outputId": "4e049c81-9de3-41f3-91f3-ba0024c82008"
      },
      "source": [
        "x_new = np.linspace(-1, 11, num=100)\n",
        "x_new"
      ],
      "execution_count": null,
      "outputs": [
        {
          "output_type": "execute_result",
          "data": {
            "text/plain": [
              "array([-1.        , -0.87878788, -0.75757576, -0.63636364, -0.51515152,\n",
              "       -0.39393939, -0.27272727, -0.15151515, -0.03030303,  0.09090909,\n",
              "        0.21212121,  0.33333333,  0.45454545,  0.57575758,  0.6969697 ,\n",
              "        0.81818182,  0.93939394,  1.06060606,  1.18181818,  1.3030303 ,\n",
              "        1.42424242,  1.54545455,  1.66666667,  1.78787879,  1.90909091,\n",
              "        2.03030303,  2.15151515,  2.27272727,  2.39393939,  2.51515152,\n",
              "        2.63636364,  2.75757576,  2.87878788,  3.        ,  3.12121212,\n",
              "        3.24242424,  3.36363636,  3.48484848,  3.60606061,  3.72727273,\n",
              "        3.84848485,  3.96969697,  4.09090909,  4.21212121,  4.33333333,\n",
              "        4.45454545,  4.57575758,  4.6969697 ,  4.81818182,  4.93939394,\n",
              "        5.06060606,  5.18181818,  5.3030303 ,  5.42424242,  5.54545455,\n",
              "        5.66666667,  5.78787879,  5.90909091,  6.03030303,  6.15151515,\n",
              "        6.27272727,  6.39393939,  6.51515152,  6.63636364,  6.75757576,\n",
              "        6.87878788,  7.        ,  7.12121212,  7.24242424,  7.36363636,\n",
              "        7.48484848,  7.60606061,  7.72727273,  7.84848485,  7.96969697,\n",
              "        8.09090909,  8.21212121,  8.33333333,  8.45454545,  8.57575758,\n",
              "        8.6969697 ,  8.81818182,  8.93939394,  9.06060606,  9.18181818,\n",
              "        9.3030303 ,  9.42424242,  9.54545455,  9.66666667,  9.78787879,\n",
              "        9.90909091, 10.03030303, 10.15151515, 10.27272727, 10.39393939,\n",
              "       10.51515152, 10.63636364, 10.75757576, 10.87878788, 11.        ])"
            ]
          },
          "metadata": {},
          "execution_count": 34
        }
      ]
    },
    {
      "cell_type": "code",
      "metadata": {
        "colab": {
          "base_uri": "https://localhost:8080/"
        },
        "id": "Xi35TAyzm5ad",
        "outputId": "8d71cac2-914e-4ced-fefd-ccf501499fb5"
      },
      "source": [
        "X_new = x_new.reshape(-1,1)\n",
        "X_new.shape"
      ],
      "execution_count": null,
      "outputs": [
        {
          "output_type": "execute_result",
          "data": {
            "text/plain": [
              "(100, 1)"
            ]
          },
          "metadata": {},
          "execution_count": 35
        }
      ]
    },
    {
      "cell_type": "code",
      "metadata": {
        "id": "S7clxgtynXxq"
      },
      "source": [
        "y_pred = regr.predict(X_new) # 특징행렬(2차원 구조)을 regr 회귀 함수를 이용하여 예측"
      ],
      "execution_count": null,
      "outputs": []
    },
    {
      "cell_type": "code",
      "metadata": {
        "colab": {
          "base_uri": "https://localhost:8080/",
          "height": 283
        },
        "id": "1cO38oi_nY9J",
        "outputId": "8ad4590a-edeb-4e0f-ea91-cf695f0a726b"
      },
      "source": [
        "plt.plot(x_new, y_pred, c='red')\n",
        "plt.scatter(x, y, s=10)"
      ],
      "execution_count": null,
      "outputs": [
        {
          "output_type": "execute_result",
          "data": {
            "text/plain": [
              "<matplotlib.collections.PathCollection at 0x7f1975df1f50>"
            ]
          },
          "metadata": {},
          "execution_count": 37
        },
        {
          "output_type": "display_data",
          "data": {
            "image/png": "[encoded data removed]",
            "text/plain": [
              "<Figure size 432x288 with 1 Axes>"
            ]
          },
          "metadata": {
            "needs_background": "light"
          }
        }
      ]
    },
    {
      "cell_type": "markdown",
      "metadata": {
        "id": "6g748oC-oHY2"
      },
      "source": [
        "# 모델 평가"
      ]
    },
    {
      "cell_type": "code",
      "metadata": {
        "colab": {
          "base_uri": "https://localhost:8080/"
        },
        "id": "nX2UK6eGn9M9",
        "outputId": "28307ef0-8976-4da7-c87a-969e64cc91ba"
      },
      "source": [
        "# 실제값 y와 예측값 y_pred 비교 평가, 0에 가까우면 예측이 잘됨\n",
        "from sklearn.metrics import mean_squared_error\n",
        "\n",
        "rmse = np.sqrt(mean_squared_error(y, y_pred))\n",
        "rmse"
      ],
      "execution_count": null,
      "outputs": [
        {
          "output_type": "execute_result",
          "data": {
            "text/plain": [
              "13.708237122486333"
            ]
          },
          "metadata": {},
          "execution_count": 38
        }
      ]
    },
    {
      "cell_type": "markdown",
      "metadata": {
        "id": "6PdMOK57ogYP"
      },
      "source": [
        "# 05-3 - Scikit-Learn 활용 훈련, 테스트 데이터 분할\n",
        "> https://www.youtube.com/watch?v=EgVmG1_Mllc&list=PLwvr-xPygMX9TaQFW3C1UGEuD0zJF7pCk&index=24&ab_channel=K-ICT%EB%B9%85%EB%8D%B0%EC%9D%B4%ED%84%B0%EC%84%BC%ED%84%B0"
      ]
    },
    {
      "cell_type": "code",
      "metadata": {
        "id": "trLd8KNUn9KC"
      },
      "source": [
        "X = iris.data\n",
        "y = iris.target"
      ],
      "execution_count": null,
      "outputs": []
    },
    {
      "cell_type": "code",
      "metadata": {
        "id": "KArsWsPzn9Hk"
      },
      "source": [
        "from sklearn.neighbors import KNeighborsClassifier\n",
        "knn = KNeighborsClassifier(n_neighbors=1)"
      ],
      "execution_count": null,
      "outputs": []
    },
    {
      "cell_type": "code",
      "metadata": {
        "colab": {
          "base_uri": "https://localhost:8080/"
        },
        "id": "QvhDmwlan9FL",
        "outputId": "c6efc1cb-d320-4ad5-cb02-605d4239c504"
      },
      "source": [
        "knn.fit(X, y)"
      ],
      "execution_count": null,
      "outputs": [
        {
          "output_type": "execute_result",
          "data": {
            "text/plain": [
              "KNeighborsClassifier(algorithm='auto', leaf_size=30, metric='minkowski',\n",
              "                     metric_params=None, n_jobs=None, n_neighbors=1, p=2,\n",
              "                     weights='uniform')"
            ]
          },
          "metadata": {},
          "execution_count": 41
        }
      ]
    },
    {
      "cell_type": "code",
      "metadata": {
        "id": "z2qatl-wn9C0"
      },
      "source": [
        "y_pred = knn.predict(X) # 훈련된 데이터를 그대로 예측 모델 적용, 테스트 데이터 분리 필요"
      ],
      "execution_count": null,
      "outputs": []
    },
    {
      "cell_type": "code",
      "metadata": {
        "colab": {
          "base_uri": "https://localhost:8080/"
        },
        "id": "H0y6rx2vn9AP",
        "outputId": "4a7e5222-ec8d-4dc9-a793-5686c27557f4"
      },
      "source": [
        "np.mean(y==y_pred)"
      ],
      "execution_count": null,
      "outputs": [
        {
          "output_type": "execute_result",
          "data": {
            "text/plain": [
              "1.0"
            ]
          },
          "metadata": {},
          "execution_count": 43
        }
      ]
    },
    {
      "cell_type": "markdown",
      "metadata": {
        "id": "5yaHDCszpjfi"
      },
      "source": [
        "> 머신러닝 모델을 만들 때 사용한 데이터는 모델의 성능 측정용으로 사용하지 않음(일반화 문제)"
      ]
    },
    {
      "cell_type": "code",
      "metadata": {
        "id": "JL7leiu7nY64"
      },
      "source": [
        "from sklearn.model_selection import train_test_split\n",
        "\n",
        "X_train, X_test, y_train, y_test = train_test_split(X, y, test_size =0.2, random_state=25)"
      ],
      "execution_count": null,
      "outputs": []
    },
    {
      "cell_type": "code",
      "metadata": {
        "colab": {
          "base_uri": "https://localhost:8080/"
        },
        "id": "sBBSYgQwnY4p",
        "outputId": "1359ab72-d4cf-4b1f-eda3-0db7bc59031c"
      },
      "source": [
        "X_train.shape, y_train.shape, X_test.shape , y_test.shape"
      ],
      "execution_count": null,
      "outputs": [
        {
          "output_type": "execute_result",
          "data": {
            "text/plain": [
              "((120, 4), (120,), (30, 4), (30,))"
            ]
          },
          "metadata": {},
          "execution_count": 45
        }
      ]
    },
    {
      "cell_type": "code",
      "metadata": {
        "id": "S8cSsEPmnY2Q"
      },
      "source": [
        "from sklearn.neighbors import KNeighborsClassifier\n",
        "knn = KNeighborsClassifier(n_neighbors=1)"
      ],
      "execution_count": null,
      "outputs": []
    },
    {
      "cell_type": "code",
      "metadata": {
        "colab": {
          "base_uri": "https://localhost:8080/"
        },
        "id": "75xizLhmnYzA",
        "outputId": "fc9335c5-2aa5-4198-8530-58f784e1804c"
      },
      "source": [
        "knn.fit(X_train, y_train)"
      ],
      "execution_count": null,
      "outputs": [
        {
          "output_type": "execute_result",
          "data": {
            "text/plain": [
              "KNeighborsClassifier(algorithm='auto', leaf_size=30, metric='minkowski',\n",
              "                     metric_params=None, n_jobs=None, n_neighbors=1, p=2,\n",
              "                     weights='uniform')"
            ]
          },
          "metadata": {},
          "execution_count": 47
        }
      ]
    },
    {
      "cell_type": "code",
      "metadata": {
        "colab": {
          "base_uri": "https://localhost:8080/"
        },
        "id": "pHr52pYyqU8Q",
        "outputId": "072ad816-f407-4491-9415-1717cefee524"
      },
      "source": [
        "y_pred = knn.predict(X_test)\n",
        "y_pred"
      ],
      "execution_count": null,
      "outputs": [
        {
          "output_type": "execute_result",
          "data": {
            "text/plain": [
              "array([0, 2, 2, 1, 2, 1, 2, 0, 1, 1, 0, 0, 0, 1, 0, 1, 2, 2, 1, 1, 1, 1,\n",
              "       1, 0, 0, 2, 1, 2, 2, 0])"
            ]
          },
          "metadata": {},
          "execution_count": 48
        }
      ]
    },
    {
      "cell_type": "code",
      "metadata": {
        "colab": {
          "base_uri": "https://localhost:8080/"
        },
        "id": "VFBP8f5dqU4l",
        "outputId": "25fc9ec1-10d1-498f-a967-1e225d9e5057"
      },
      "source": [
        "np.mean(y_test == y_pred)"
      ],
      "execution_count": null,
      "outputs": [
        {
          "output_type": "execute_result",
          "data": {
            "text/plain": [
              "0.9"
            ]
          },
          "metadata": {},
          "execution_count": 49
        }
      ]
    },
    {
      "cell_type": "markdown",
      "metadata": {
        "id": "aa7XnJ35tr05"
      },
      "source": [
        "# 하이퍼 파라미터의 선택"
      ]
    },
    {
      "cell_type": "code",
      "metadata": {
        "id": "y4LHWVeaqUyu"
      },
      "source": [
        "train_accuracy = []\n",
        "test_accuracy = []\n",
        "\n",
        "neighbors = range(1, 11)\n",
        "\n",
        "for n in neighbors :\n",
        "    knn = KNeighborsClassifier(n_neighbors = n)\n",
        "    knn.fit(X_train, y_train)\n",
        "    train_accuracy.append(knn.score(X_train, y_train))\n",
        "    test_accuracy.append(knn.score(X_test, y_test))"
      ],
      "execution_count": null,
      "outputs": []
    },
    {
      "cell_type": "markdown",
      "metadata": {
        "id": "EcVcNMxY_tUh"
      },
      "source": [
        "# 교차 검증\n",
        "## 06-1 - 머신러닝 교차검증 개념 및 기법\n",
        "- 교차 검증은 모델의 변동성을 줄여주며 오버피팅과 같은 문제를 막아줌\n",
        "\n",
        "> https://www.youtube.com/watch?v=h5rvZQ8hl6k&list=PLwvr-xPygMX9TaQFW3C1UGEuD0zJF7pCk&index=27&ab_channel=K-ICT%EB%B9%85%EB%8D%B0%EC%9D%B4%ED%84%B0%EC%84%BC%ED%84%B0\n",
        "\n",
        "## k 폴드 교차 검증\n",
        "- 데이터를 무작위로 k개의 동일한 크기인 폴드로 나눔(보통 k값으로 3, 5, 10을 많이 사용)\n",
        "- 각 시행 단계에서 특정 폴드를 테스트용, 나머지는 학습용으로 사용\n",
        "- 각 폴드를 테스트 세트로 한 번씩 사용하고 이 과정을 k번 반복 시행\n",
        "- 최종적으로 모델 성능의 평균을 계산"
      ]
    },
    {
      "cell_type": "code",
      "metadata": {
        "id": "xvWgYGE6Yohd"
      },
      "source": [
        "from sklearn.datasets import load_iris\n",
        "iris = load_iris()\n",
        "X = iris.data\n",
        "y = iris.target"
      ],
      "execution_count": null,
      "outputs": []
    },
    {
      "cell_type": "code",
      "metadata": {
        "id": "e4UCddmGYoeR"
      },
      "source": [
        "from sklearn.neighbors import KNeighborsClassifier\n",
        "model = KNeighborsClassifier(n_neighbors=1)"
      ],
      "execution_count": null,
      "outputs": []
    },
    {
      "cell_type": "code",
      "metadata": {
        "colab": {
          "base_uri": "https://localhost:8080/"
        },
        "id": "AEFWjQ3NYoUd",
        "outputId": "dbdb7c8d-f213-409f-b114-05ee55718b17"
      },
      "source": [
        "from sklearn.model_selection import cross_val_score\n",
        "cross_val_score(model, X, y, cv=5)"
      ],
      "execution_count": null,
      "outputs": [
        {
          "output_type": "execute_result",
          "data": {
            "text/plain": [
              "array([0.96666667, 0.96666667, 0.93333333, 0.93333333, 1.        ])"
            ]
          },
          "metadata": {},
          "execution_count": 53
        }
      ]
    },
    {
      "cell_type": "markdown",
      "metadata": {
        "id": "t1_pvytPZ8yp"
      },
      "source": [
        "## 단일 관측치 제거 방식"
      ]
    },
    {
      "cell_type": "code",
      "metadata": {
        "colab": {
          "base_uri": "https://localhost:8080/"
        },
        "id": "bGI-1EmaaCYb",
        "outputId": "1a285ca7-7b0a-4c7d-bcda-114417db3c8d"
      },
      "source": [
        "from sklearn.model_selection import LeaveOneOut\n",
        "scores = cross_val_score(model, X, y, cv=LeaveOneOut())\n",
        "scores"
      ],
      "execution_count": null,
      "outputs": [
        {
          "output_type": "execute_result",
          "data": {
            "text/plain": [
              "array([1., 1., 1., 1., 1., 1., 1., 1., 1., 1., 1., 1., 1., 1., 1., 1., 1.,\n",
              "       1., 1., 1., 1., 1., 1., 1., 1., 1., 1., 1., 1., 1., 1., 1., 1., 1.,\n",
              "       1., 1., 1., 1., 1., 1., 1., 1., 1., 1., 1., 1., 1., 1., 1., 1., 1.,\n",
              "       1., 1., 1., 1., 1., 1., 1., 1., 1., 1., 1., 1., 1., 1., 1., 1., 1.,\n",
              "       1., 1., 0., 1., 0., 1., 1., 1., 1., 1., 1., 1., 1., 1., 1., 0., 1.,\n",
              "       1., 1., 1., 1., 1., 1., 1., 1., 1., 1., 1., 1., 1., 1., 1., 1., 1.,\n",
              "       1., 1., 1., 1., 0., 1., 1., 1., 1., 1., 1., 1., 1., 1., 1., 1., 1.,\n",
              "       0., 1., 1., 1., 1., 1., 1., 1., 1., 1., 1., 1., 1., 1., 0., 1., 1.,\n",
              "       1., 1., 1., 1., 1., 1., 1., 1., 1., 1., 1., 1., 1., 1.])"
            ]
          },
          "metadata": {},
          "execution_count": 54
        }
      ]
    },
    {
      "cell_type": "code",
      "metadata": {
        "colab": {
          "base_uri": "https://localhost:8080/"
        },
        "id": "UlSLQvBPaVr3",
        "outputId": "a8423e04-5f67-4ec4-cfae-44c5e10e1f8a"
      },
      "source": [
        "scores.mean()"
      ],
      "execution_count": null,
      "outputs": [
        {
          "output_type": "execute_result",
          "data": {
            "text/plain": [
              "0.96"
            ]
          },
          "metadata": {},
          "execution_count": 55
        }
      ]
    },
    {
      "cell_type": "markdown",
      "metadata": {
        "id": "7L08FORjDCpq"
      },
      "source": [
        "# 편향-분산 트레이드 오프\n",
        "> https://www.youtube.com/watch?v=haJHSSX37kU&list=PLwvr-xPygMX9TaQFW3C1UGEuD0zJF7pCk&index=29&ab_channel=K-ICT%EB%B9%85%EB%8D%B0%EC%9D%B4%ED%84%B0%EC%84%BC%ED%84%B0"
      ]
    },
    {
      "cell_type": "code",
      "metadata": {
        "id": "ZRqxyPHy4QA2"
      },
      "source": [
        "from sklearn.preprocessing import PolynomialFeatures # 다항식의 차수 증가\n",
        "from sklearn.linear_model import LinearRegression # 선형회귀\n",
        "from sklearn.pipeline import make_pipeline # 객체들이 전처리와 모델을 같이 수행, 생산성이 높아짐\n",
        "import numpy as np\n",
        "\n",
        "np.random.seed(1)\n",
        "X = np.random.rand(40,1 ) **2  # 40행, 1열\n",
        "y = (10 - (X.ravel()+ 0.1)) + np.random.randn(40) # 오차 부여"
      ],
      "execution_count": null,
      "outputs": []
    },
    {
      "cell_type": "code",
      "metadata": {
        "id": "7URH6kQ2_3_K",
        "colab": {
          "base_uri": "https://localhost:8080/"
        },
        "outputId": "c58ffd8f-bc41-4fde-e723-870bb1f52164"
      },
      "source": [
        "X.shape"
      ],
      "execution_count": null,
      "outputs": [
        {
          "output_type": "execute_result",
          "data": {
            "text/plain": [
              "(40, 1)"
            ]
          },
          "metadata": {},
          "execution_count": 57
        }
      ]
    },
    {
      "cell_type": "code",
      "metadata": {
        "id": "yUyLHLfsEoPS",
        "colab": {
          "base_uri": "https://localhost:8080/"
        },
        "outputId": "1fc29daf-c060-446d-e412-7f10328a2cd1"
      },
      "source": [
        "X.ravel().shape # 2차 행렬을 flat 시킴"
      ],
      "execution_count": null,
      "outputs": [
        {
          "output_type": "execute_result",
          "data": {
            "text/plain": [
              "(40,)"
            ]
          },
          "metadata": {},
          "execution_count": 58
        }
      ]
    },
    {
      "cell_type": "code",
      "metadata": {
        "id": "YiRbJyrADGV8",
        "colab": {
          "base_uri": "https://localhost:8080/"
        },
        "outputId": "f3257096-9d40-4830-f256-249d3f5a30e5"
      },
      "source": [
        "y.shape"
      ],
      "execution_count": null,
      "outputs": [
        {
          "output_type": "execute_result",
          "data": {
            "text/plain": [
              "(40,)"
            ]
          },
          "metadata": {},
          "execution_count": 59
        }
      ]
    },
    {
      "cell_type": "code",
      "metadata": {
        "id": "tFE1ZMXmI2lH"
      },
      "source": [
        "def PolynomialRegression(degree=2, **kwargs):\n",
        "    return make_pipeline(PolynomialFeatures(degree), LinearRegression(**kwargs))"
      ],
      "execution_count": null,
      "outputs": []
    },
    {
      "cell_type": "code",
      "metadata": {
        "id": "HmqwiP74JAnx"
      },
      "source": [
        "import numpy as np\n",
        "\n",
        "def make_data(N, err=1.0, seed=1):\n",
        "    np.random.seed(seed)\n",
        "    X = np.random.rand(N, 1) ** 2\n",
        "    y = 10 -1.0 / (X.ravel() + 0.1)\n",
        "    if err > 0 :\n",
        "        y += err * np.random.randn(N)\n",
        "    return X, y\n",
        "\n",
        "X, y = make_data(40)"
      ],
      "execution_count": null,
      "outputs": []
    },
    {
      "cell_type": "code",
      "metadata": {
        "id": "HSsOvZio_38_",
        "colab": {
          "base_uri": "https://localhost:8080/",
          "height": 592
        },
        "outputId": "e71f3514-c127-48f0-a0fe-7e964aa4dd14"
      },
      "source": [
        "%matplotlib inline\n",
        "import matplotlib.pyplot as plt\n",
        "\n",
        "plt.style.use('seaborn-whitegrid')\n",
        "\n",
        "X_test = np.linspace(-0.1, 1.1, 500).reshape(-1,1)\n",
        "\n",
        "fig = plt.figure(figsize=(12, 10))\n",
        "\n",
        "for i, degree in enumerate([1,3,5,10], start=1):\n",
        "    ax= fig.add_subplot(2, 2, i)\n",
        "    ax.scatter(X.ravel(), y, s=15)\n",
        "    y_test = make_pipeline(PolynomialFeatures(degree), LinearRegression())\\\n",
        "                    .fit(X, y).predict(X_test) # 선형 모델을 비선형 구조로 변환\n",
        "    ax.plot(X_test.ravel(), y_test, label='degree={}'.format(degree))\n",
        "    ax.set_xlim(-0.1, 1.0)\n",
        "    ax.set_ylim(-2,12)"
      ],
      "execution_count": null,
      "outputs": [
        {
          "output_type": "display_data",
          "data": {
            "image/png": "[encoded data removed]",
            "text/plain": [
              "<Figure size 864x720 with 4 Axes>"
            ]
          },
          "metadata": {}
        }
      ]
    },
    {
      "cell_type": "code",
      "metadata": {
        "id": "kHPyhWSo_36_",
        "colab": {
          "base_uri": "https://localhost:8080/",
          "height": 492
        },
        "outputId": "b22ddc03-398c-4665-fdb4-8736cb21ae65"
      },
      "source": [
        "plt.figure(figsize = (8,7))\n",
        "plt.scatter(X.ravel(), y)\n",
        "lim = plt.axis()\n",
        "y_test = PolynomialRegression(3).fit(X, y).predict(X_test)\n",
        "plt.plot(X_test.ravel(), y_test)\n",
        "plt.axis(lim)"
      ],
      "execution_count": null,
      "outputs": [
        {
          "output_type": "execute_result",
          "data": {
            "text/plain": [
              "(-0.04687651021505175,\n",
              " 0.9844070023112612,\n",
              " -0.7308177116555796,\n",
              " 10.902869392322714)"
            ]
          },
          "metadata": {},
          "execution_count": 63
        },
        {
          "output_type": "display_data",
          "data": {
            "image/png": "[encoded data removed]",
            "text/plain": [
              "<Figure size 576x504 with 1 Axes>"
            ]
          },
          "metadata": {}
        }
      ]
    },
    {
      "cell_type": "markdown",
      "metadata": {
        "id": "mRHs5FR8LaMc"
      },
      "source": [
        "## 편향과 분산 사이의 트레이드오프에서 가장 효율적인 지점 : 최적의 모델"
      ]
    },
    {
      "cell_type": "markdown",
      "metadata": {
        "id": "Qq5Fj5yqMTy1"
      },
      "source": [
        "> 데이터 규모가 증가하면 그래프, 검증 곡선이 바뀜"
      ]
    },
    {
      "cell_type": "markdown",
      "metadata": {
        "id": "f9vSWPXeMzJM"
      },
      "source": [
        "# 그리드 서치\n",
        "> 그리드 서치를 통해 최적 모델과 데이터 적합을 찾음\n",
        "\n",
        "> https://www.youtube.com/watch?v=4FGDcIMcUZo&list=PLwvr-xPygMX9TaQFW3C1UGEuD0zJF7pCk&index=31&ab_channel=K-ICT%EB%B9%85%EB%8D%B0%EC%9D%B4%ED%84%B0%EC%84%BC%ED%84%B0"
      ]
    },
    {
      "cell_type": "code",
      "metadata": {
        "id": "gZx1yY3aQULG",
        "colab": {
          "base_uri": "https://localhost:8080/"
        },
        "outputId": "8b249566-997c-41ea-fcc9-5d44ecef7d63"
      },
      "source": [
        "X.shape, y.shape"
      ],
      "execution_count": null,
      "outputs": [
        {
          "output_type": "execute_result",
          "data": {
            "text/plain": [
              "((40, 1), (40,))"
            ]
          },
          "metadata": {},
          "execution_count": 64
        }
      ]
    },
    {
      "cell_type": "code",
      "metadata": {
        "id": "o0sZwxUU_340"
      },
      "source": [
        "from sklearn.model_selection import GridSearchCV\n",
        "\n",
        "param_grid = {'polynomialfeatures_degree ' : np.arange(21),\n",
        "                        'linearregression_fit_intercept' : [True, False],\n",
        "                         'linearregression_normailize  ' : [True, False]}\n",
        "grid = GridSearchCV(PolynomialRegression(), param_grid, cv=7)"
      ],
      "execution_count": null,
      "outputs": []
    },
    {
      "cell_type": "code",
      "metadata": {
        "colab": {
          "base_uri": "https://localhost:8080/"
        },
        "id": "6tyoEWFSmSdo",
        "outputId": "10aa22a1-2eb6-4da9-b483-3489b3cd13f9"
      },
      "source": [
        "import numpy as np\n",
        "np.arange(21)"
      ],
      "execution_count": null,
      "outputs": [
        {
          "output_type": "execute_result",
          "data": {
            "text/plain": [
              "array([ 0,  1,  2,  3,  4,  5,  6,  7,  8,  9, 10, 11, 12, 13, 14, 15, 16,\n",
              "       17, 18, 19, 20])"
            ]
          },
          "metadata": {},
          "execution_count": 2
        }
      ]
    },
    {
      "cell_type": "code",
      "metadata": {
        "id": "syjA77Vcmbxs",
        "colab": {
          "base_uri": "https://localhost:8080/"
        },
        "outputId": "31a0eee3-0980-445a-b325-9210223833d6"
      },
      "source": [
        "range(21)"
      ],
      "execution_count": null,
      "outputs": [
        {
          "output_type": "execute_result",
          "data": {
            "text/plain": [
              "range(0, 21)"
            ]
          },
          "metadata": {},
          "execution_count": 3
        }
      ]
    },
    {
      "cell_type": "code",
      "metadata": {
        "id": "cbiS3yDR_32P"
      },
      "source": [
        "grid.fit(X, y);"
      ],
      "execution_count": null,
      "outputs": []
    },
    {
      "cell_type": "code",
      "metadata": {
        "id": "otvHlmZL_3zp"
      },
      "source": [
        "grid.best_params_"
      ],
      "execution_count": null,
      "outputs": []
    },
    {
      "cell_type": "code",
      "metadata": {
        "id": "O02ZhHtGPNjz"
      },
      "source": [
        "model  = grid.best_estimator_\n",
        "\n",
        "plt.figure(figsize = (8, 7))\n",
        "plt.scatter(X.ravel(), y)\n",
        "lim = plt.axis()\n",
        "y_test = model.fit(X, y).predict(X_test)\n",
        "plt.plot(X_test.ravel(), y_test)\n",
        "plt.axis(lim)"
      ],
      "execution_count": null,
      "outputs": []
    },
    {
      "cell_type": "markdown",
      "metadata": {
        "id": "5XZkZmemQmbK"
      },
      "source": [
        "# 코딩 실습 (6:50)\n",
        "\n",
        "> https://www.youtube.com/watch?v=4FGDcIMcUZo&list=PLwvr-xPygMX9TaQFW3C1UGEuD0zJF7pCk&index=31&ab_channel=K-ICT%EB%B9%85%EB%8D%B0%EC%9D%B4%ED%84%B0%EC%84%BC%ED%84%B0"
      ]
    },
    {
      "cell_type": "code",
      "metadata": {
        "id": "azIw6IxEks83"
      },
      "source": [
        "all = [var for var in globals() if var[0] != \"_\"]\n",
        "for var in all:\n",
        "    del globals()[var]"
      ],
      "execution_count": null,
      "outputs": []
    },
    {
      "cell_type": "code",
      "metadata": {
        "id": "FAw4ZHaqP5CE"
      },
      "source": [
        "def PolynomialRegression(degree=2, **kwargs):\n",
        "    return make_pipeline(PolynomialFeatures(degree), LinearRegression(**kwargs))"
      ],
      "execution_count": null,
      "outputs": []
    },
    {
      "cell_type": "code",
      "metadata": {
        "id": "tSq-fwm7QG_o"
      },
      "source": [
        "import numpy as np\n",
        "from sklearn.preprocessing import PolynomialFeatures\n",
        "from sklearn.linear_model import LinearRegression\n",
        "from sklearn.pipeline import make_pipeline\n",
        "import matplotlib.pyplot as plt\n",
        "%matplotlib inline"
      ],
      "execution_count": null,
      "outputs": []
    },
    {
      "cell_type": "code",
      "metadata": {
        "id": "Iqpl0szsZfNy"
      },
      "source": [
        "np.random.seed(1)\n",
        "X = np.random.rand(40,1) **2. # 40행 1열\n",
        "y = (10 - 1. / (X.ravel() + 0.1)) + np.random.randn(40) # X numpy배열을 flat 시킴 + 오차값"
      ],
      "execution_count": null,
      "outputs": []
    },
    {
      "cell_type": "code",
      "metadata": {
        "id": "EgH0ZRnYZuky",
        "colab": {
          "base_uri": "https://localhost:8080/"
        },
        "outputId": "e68181f3-f25f-447f-b99b-f2fef8345775"
      },
      "source": [
        "X"
      ],
      "execution_count": null,
      "outputs": [
        {
          "output_type": "execute_result",
          "data": {
            "text/plain": [
              "array([[1.73907352e-01],\n",
              "       [5.18867376e-01],\n",
              "       [1.30815988e-08],\n",
              "       [9.14049845e-02],\n",
              "       [2.15372915e-02],\n",
              "       [8.52641608e-03],\n",
              "       [3.46928663e-02],\n",
              "       [1.19412216e-01],\n",
              "       [1.57424429e-01],\n",
              "       [2.90323473e-01],\n",
              "       [1.75724041e-01],\n",
              "       [4.69525764e-01],\n",
              "       [4.18007224e-02],\n",
              "       [7.71090232e-01],\n",
              "       [7.50080261e-04],\n",
              "       [4.49526682e-01],\n",
              "       [1.74143298e-01],\n",
              "       [3.12134324e-01],\n",
              "       [1.97084925e-02],\n",
              "       [3.92442000e-02],\n",
              "       [6.41191864e-01],\n",
              "       [9.37530479e-01],\n",
              "       [9.82347155e-02],\n",
              "       [4.79310604e-01],\n",
              "       [7.68057946e-01],\n",
              "       [8.00321082e-01],\n",
              "       [7.23251789e-03],\n",
              "       [1.52527609e-03],\n",
              "       [2.88423714e-02],\n",
              "       [7.71134256e-01],\n",
              "       [9.67209972e-03],\n",
              "       [1.77331632e-01],\n",
              "       [9.17552352e-01],\n",
              "       [2.84265221e-01],\n",
              "       [4.78693941e-01],\n",
              "       [9.95501134e-02],\n",
              "       [4.71283524e-01],\n",
              "       [6.96600012e-01],\n",
              "       [3.34461088e-04],\n",
              "       [5.62716493e-01]])"
            ]
          },
          "metadata": {},
          "execution_count": 73
        }
      ]
    },
    {
      "cell_type": "code",
      "metadata": {
        "id": "UZ9z56DRR7Bk",
        "colab": {
          "base_uri": "https://localhost:8080/"
        },
        "outputId": "aa972e13-81e0-4e90-a5fa-943f3b280754"
      },
      "source": [
        "y"
      ],
      "execution_count": null,
      "outputs": [
        {
          "output_type": "execute_result",
          "data": {
            "text/plain": [
              "array([ 7.24998644,  7.70041705, -0.12288892,  3.83970623,  1.50418461,\n",
              "        1.31600899,  1.88404109,  5.0456151 ,  5.42819209,  6.59281674,\n",
              "        5.70193919,  8.23148858,  1.8305394 ,  9.086429  ,  1.73425177,\n",
              "        8.92229631,  6.16043712,  6.68597765,  0.8992155 ,  4.51082693,\n",
              "        8.70162943,  8.39917725,  5.14639037, 10.37406543,  8.96816213,\n",
              "        9.50648826,  0.9746409 , -0.20201375,  1.09605993,  8.50272859,\n",
              "        0.67301646,  6.98083184,  9.856233  ,  8.32873282,  8.55755817,\n",
              "        5.87386864,  7.49515774,  9.997533  ,  0.54626444,  8.1929663 ])"
            ]
          },
          "metadata": {},
          "execution_count": 74
        }
      ]
    },
    {
      "cell_type": "code",
      "metadata": {
        "id": "YdKU70gKZu83",
        "colab": {
          "base_uri": "https://localhost:8080/"
        },
        "outputId": "d99f6f73-8c78-4543-eeff-23f4e66cc7d6"
      },
      "source": [
        "X.shape, y.shape"
      ],
      "execution_count": null,
      "outputs": [
        {
          "output_type": "execute_result",
          "data": {
            "text/plain": [
              "((40, 1), (40,))"
            ]
          },
          "metadata": {},
          "execution_count": 75
        }
      ]
    },
    {
      "cell_type": "code",
      "metadata": {
        "id": "Z_ZlDsU1g3YR"
      },
      "source": [
        "from sklearn.model_selection import validation_curve"
      ],
      "execution_count": null,
      "outputs": []
    },
    {
      "cell_type": "code",
      "metadata": {
        "id": "5Aob6OVshVLJ",
        "colab": {
          "base_uri": "https://localhost:8080/"
        },
        "outputId": "ddbb300d-f32d-4856-a677-ace7eb136e69"
      },
      "source": [
        "degree = np.arange(0,21)\n",
        "degree.shape"
      ],
      "execution_count": null,
      "outputs": [
        {
          "output_type": "execute_result",
          "data": {
            "text/plain": [
              "(21,)"
            ]
          },
          "metadata": {},
          "execution_count": 77
        }
      ]
    },
    {
      "cell_type": "code",
      "metadata": {
        "id": "MOUYjvOBhdrL"
      },
      "source": [
        "train_score, val_score = validation_curve(make_pipeline(PolynomialFeatures(degree=2), LinearRegression()), X, y, 'Polynomialfeatures__degree', degree, cv=7)"
      ],
      "execution_count": null,
      "outputs": []
    },
    {
      "cell_type": "code",
      "metadata": {
        "id": "9X5-FNJIVRpC"
      },
      "source": [
        "plt.figure(figsize = (8,5))\n",
        "plt.plot(degree, np.median(train_score, 1), 'b-', label ='training score')\n",
        "plt.plot(degree, np.median(val_score, 1), 'r-', label ='validation score')\n",
        "plt.ylim(0,1)\n",
        "plt.xlabel('degree')\n",
        "plt.ylabel('score')\n",
        "plt.legend(loc='best');"
      ],
      "execution_count": null,
      "outputs": []
    },
    {
      "cell_type": "code",
      "metadata": {
        "id": "pOId0WkBX-KU"
      },
      "source": [
        "X_test = np.linspace(-0.1, 1.1, 500).reshape(-1,1)"
      ],
      "execution_count": null,
      "outputs": []
    },
    {
      "cell_type": "code",
      "metadata": {
        "id": "M5GSy5BGWkHl",
        "colab": {
          "base_uri": "https://localhost:8080/",
          "height": 425
        },
        "outputId": "fc9cc057-9350-40e1-f4df-94f044b32a4a"
      },
      "source": [
        "plt.figure(figsize = (8,7))\n",
        "plt.scatter(X.ravel(), y)\n",
        "lim = plt.axis()\n",
        "y_pred = make_pipeline(PolynomialFeatures(degree = 3), LinearRegression()).fit(X, y).predict(X_test)\n",
        "plt.plot(X_test.ravel(), y_pred)\n",
        "plt.axis(lim);"
      ],
      "execution_count": null,
      "outputs": [
        {
          "output_type": "display_data",
          "data": {
            "image/png": "[encoded data removed]",
            "text/plain": [
              "<Figure size 576x504 with 1 Axes>"
            ]
          },
          "metadata": {
            "needs_background": "light"
          }
        }
      ]
    },
    {
      "cell_type": "code",
      "metadata": {
        "id": "1FVnhRvqWkFu"
      },
      "source": [
        "from sklearn.model_selection import learning_curve"
      ],
      "execution_count": null,
      "outputs": []
    },
    {
      "cell_type": "code",
      "metadata": {
        "id": "WYH6EV5nWj-b",
        "colab": {
          "base_uri": "https://localhost:8080/",
          "height": 402
        },
        "outputId": "b2372d34-6696-44d2-d3cc-efd89c963545"
      },
      "source": [
        "fig, ax = plt.subplots(1, 2, figsize = (16,6))\n",
        "for i, degree in enumerate([2,9]):\n",
        "    n, train_lc, val_lc = learning_curve(make_pipeline(PolynomialFeatures(degree),\\\n",
        "                                                       LinearRegression()), \\\n",
        "                                         X, y, cv=7, train_sizes=np.linspace(0.1, 1, 25))\n",
        "    ax[i].plot(n, np.mean(train_lc, 1), 'b-', label='training score')\n",
        "    ax[i].plot(n, np.mean(val_lc, 1),   'r-', label='validation score')\n",
        "    ax[i].hlines(np.mean([train_lc[-1], val_lc[-1]]), n[0], n[-1], color = 'gray', linestyle='dashed')\n",
        "    ax[i].set(xlim=(n[0], n[-1]), ylim=(0,1), xlabel = 'training size', ylabel='score')\n",
        "    ax[i].set_title('degree = {}'.format(degree), size = 14)\n",
        "    ax[i].legend(loc='best');"
      ],
      "execution_count": null,
      "outputs": [
        {
          "output_type": "display_data",
          "data": {
            "image/png": "[encoded data removed]",
            "text/plain": [
              "<Figure size 1152x432 with 2 Axes>"
            ]
          },
          "metadata": {
            "needs_background": "light"
          }
        }
      ]
    },
    {
      "cell_type": "code",
      "metadata": {
        "id": "WKF22j6LWj75"
      },
      "source": [
        ""
      ],
      "execution_count": null,
      "outputs": []
    },
    {
      "cell_type": "code",
      "metadata": {
        "id": "g26o7Gjyh-6r"
      },
      "source": [
        "from sklearn.model_selection import GridSearchCV\n",
        "\n",
        "params = {'polynomialfeatures__degree': np.arange(21),\n",
        "              'linearregression__fit_intercept': [True, False],\n",
        "              'linearregression__normalize': [True, False]}\n",
        "grid = GridSearchCV(PolynomialRegression(), param_grid, cv=7)"
      ],
      "execution_count": null,
      "outputs": []
    },
    {
      "cell_type": "code",
      "metadata": {
        "id": "6Y44TnI8VVh1"
      },
      "source": [
        "# grid = GridSearchCV(make_pipeline(PolynomialFeatures(),\n",
        "#                                  LinearRegression()), params, iid=True, cv=7)\n",
        "grid = GridSearchCV(make_pipeline(PolynomialFeatures(),\n",
        "                                  LinearRegression()), params, cv=7)"
      ],
      "execution_count": null,
      "outputs": []
    },
    {
      "cell_type": "code",
      "metadata": {
        "id": "b5tYqLb7Pg4n"
      },
      "source": [
        "grid.fit(X, y)"
      ],
      "execution_count": null,
      "outputs": []
    },
    {
      "cell_type": "code",
      "metadata": {
        "id": "GaQhB-fiQAWt"
      },
      "source": [
        "grid.best_params_"
      ],
      "execution_count": null,
      "outputs": []
    },
    {
      "cell_type": "code",
      "metadata": {
        "id": "e1E4KmdyrA-P"
      },
      "source": [
        "model = grid.best_estimator_\n",
        "model"
      ],
      "execution_count": null,
      "outputs": []
    },
    {
      "cell_type": "code",
      "metadata": {
        "id": "0BHNEMubQC_G"
      },
      "source": [
        "plt.figure(figsize = (8,7))\n",
        "plt.scatter(X.ravel(), y)\n",
        "lim = plt.axis()\n",
        "y_pred = model.fit(X,y).predict(X_test)\n",
        "plt.plot(X_test.ravel(), y_pred)\n",
        "#plt.plot(y_test.ravel(), y_pred)\n",
        "#plt.axis(lim)\n",
        "plt.axis(lim);"
      ],
      "execution_count": null,
      "outputs": []
    },
    {
      "cell_type": "markdown",
      "metadata": {
        "id": "b8XZHeettVqy"
      },
      "source": [
        "# 06-6 특징 공학 및 데이터 변환 실습\n",
        "> https://www.youtube.com/watch?v=aVUQWph066A&list=PLwvr-xPygMX9TaQFW3C1UGEuD0zJF7pCk&index=32&ab_channel=K-ICT%EB%B9%85%EB%8D%B0%EC%9D%B4%ED%84%B0%EC%84%BC%ED%84%B0"
      ]
    },
    {
      "cell_type": "markdown",
      "metadata": {
        "id": "2SBMZOUuxBxp"
      },
      "source": [
        "## 범주 특징의 변환"
      ]
    },
    {
      "cell_type": "code",
      "metadata": {
        "id": "l4KBS2_LrSPi"
      },
      "source": [
        "data = [\n",
        "        {'price': 1200000000, 'room':3, 'location': '잠실동'},\n",
        "        {'price': 700000000, 'room':4, 'location': '천호동'},\n",
        "        {'price': 1300000000, 'room':4, 'location': '신천동'},\n",
        "        {'price': 450000000, 'room':2, 'location': '천호동'}\n",
        "]"
      ],
      "execution_count": null,
      "outputs": []
    },
    {
      "cell_type": "code",
      "metadata": {
        "id": "f0GVTWE4uORg",
        "colab": {
          "base_uri": "https://localhost:8080/"
        },
        "outputId": "52f81548-6b69-409f-fab8-8b4868790518"
      },
      "source": [
        "# 수치형 데이터가 아닌 것을 0,1 수치형 데이터로 변환\n",
        "import numpy as np\n",
        "from sklearn.feature_extraction import DictVectorizer\n",
        "\n",
        "dv = DictVectorizer(sparse = False, dtype=np.int)\n",
        "x = dv.fit_transform(data)\n",
        "x"
      ],
      "execution_count": null,
      "outputs": [
        {
          "output_type": "execute_result",
          "data": {
            "text/plain": [
              "array([[         0,          1,          0, 1200000000,          3],\n",
              "       [         0,          0,          1,  700000000,          4],\n",
              "       [         1,          0,          0, 1300000000,          4],\n",
              "       [         0,          0,          1,  450000000,          2]])"
            ]
          },
          "metadata": {},
          "execution_count": 86
        }
      ]
    },
    {
      "cell_type": "code",
      "metadata": {
        "id": "QS04WOlozqhm",
        "colab": {
          "base_uri": "https://localhost:8080/"
        },
        "outputId": "6b04c73a-d3fa-4261-b2b8-c9d93a72d348"
      },
      "source": [
        "print(x)"
      ],
      "execution_count": null,
      "outputs": [
        {
          "output_type": "stream",
          "name": "stdout",
          "text": [
            "[[         0          1          0 1200000000          3]\n",
            " [         0          0          1  700000000          4]\n",
            " [         1          0          0 1300000000          4]\n",
            " [         0          0          1  450000000          2]]\n"
          ]
        }
      ]
    },
    {
      "cell_type": "code",
      "metadata": {
        "id": "nSVxoL7qudd5",
        "colab": {
          "base_uri": "https://localhost:8080/"
        },
        "outputId": "74b7593f-b868-4395-e994-6d81290d9deb"
      },
      "source": [
        "dv.get_feature_names()"
      ],
      "execution_count": null,
      "outputs": [
        {
          "output_type": "execute_result",
          "data": {
            "text/plain": [
              "['location=신천동', 'location=잠실동', 'location=천호동', 'price', 'room']"
            ]
          },
          "metadata": {},
          "execution_count": 88
        }
      ]
    },
    {
      "cell_type": "code",
      "metadata": {
        "id": "6fbKCYMvu51q",
        "colab": {
          "base_uri": "https://localhost:8080/"
        },
        "outputId": "455ea040-dcac-44ca-8647-10404f514812"
      },
      "source": [
        "# sparse 희소 행렬(예: 0 의미 없는 데이터가 많은 경우, 메모리를 적게 사용하는 장점)\n",
        "dv= DictVectorizer(sparse = True, dtype=np.int)\n",
        "dv.fit_transform(data)"
      ],
      "execution_count": null,
      "outputs": [
        {
          "output_type": "execute_result",
          "data": {
            "text/plain": [
              "<4x5 sparse matrix of type '<class 'numpy.int64'>'\n",
              "\twith 12 stored elements in Compressed Sparse Row format>"
            ]
          },
          "metadata": {},
          "execution_count": 89
        }
      ]
    },
    {
      "cell_type": "markdown",
      "metadata": {
        "id": "bxfrST6Evpqv"
      },
      "source": [
        "## 텍스트 특징의 변환 / 원핫인코딩(one-hot incoding)"
      ]
    },
    {
      "cell_type": "code",
      "metadata": {
        "id": "FIiX-qa9u5y-",
        "colab": {
          "base_uri": "https://localhost:8080/"
        },
        "outputId": "9e2f021f-7703-4963-a495-3e00d0bc69f1"
      },
      "source": [
        "text = ['mobile phone', 'battleground mobile game', 'phone game']\n",
        "\n",
        "from sklearn.feature_extraction.text import CountVectorizer\n",
        "\n",
        "cv = CountVectorizer()\n",
        "X = cv.fit_transform(text)\n",
        "print(X)"
      ],
      "execution_count": null,
      "outputs": [
        {
          "output_type": "stream",
          "name": "stdout",
          "text": [
            "  (0, 2)\t1\n",
            "  (0, 3)\t1\n",
            "  (1, 2)\t1\n",
            "  (1, 0)\t1\n",
            "  (1, 1)\t1\n",
            "  (2, 3)\t1\n",
            "  (2, 1)\t1\n"
          ]
        }
      ]
    },
    {
      "cell_type": "code",
      "metadata": {
        "id": "_NPpSAwEzgwU",
        "colab": {
          "base_uri": "https://localhost:8080/"
        },
        "outputId": "91c1ed2b-e411-4cf2-d218-1d7d132b3ed7"
      },
      "source": [
        "X, X.shape"
      ],
      "execution_count": null,
      "outputs": [
        {
          "output_type": "execute_result",
          "data": {
            "text/plain": [
              "(<3x4 sparse matrix of type '<class 'numpy.int64'>'\n",
              " \twith 7 stored elements in Compressed Sparse Row format>, (3, 4))"
            ]
          },
          "metadata": {},
          "execution_count": 91
        }
      ]
    },
    {
      "cell_type": "code",
      "metadata": {
        "id": "ec9f5l0owyBA",
        "colab": {
          "base_uri": "https://localhost:8080/"
        },
        "outputId": "c8e79dcd-b694-4e0e-8189-9dcd351989c9"
      },
      "source": [
        "cv.fit_transform(text)"
      ],
      "execution_count": null,
      "outputs": [
        {
          "output_type": "execute_result",
          "data": {
            "text/plain": [
              "<3x4 sparse matrix of type '<class 'numpy.int64'>'\n",
              "\twith 7 stored elements in Compressed Sparse Row format>"
            ]
          },
          "metadata": {},
          "execution_count": 92
        }
      ]
    },
    {
      "cell_type": "code",
      "metadata": {
        "id": "oCZU2yplu5w8",
        "colab": {
          "base_uri": "https://localhost:8080/",
          "height": 142
        },
        "outputId": "a0a68b9a-5029-4ef3-903e-770df4ad78c3"
      },
      "source": [
        "import pandas as pd\n",
        "pd.DataFrame(X.toarray(), columns=cv.get_feature_names())"
      ],
      "execution_count": null,
      "outputs": [
        {
          "output_type": "execute_result",
          "data": {
            "text/html": [
              "<div>\n",
              "<style scoped>\n",
              "    .dataframe tbody tr th:only-of-type {\n",
              "        vertical-align: middle;\n",
              "    }\n",
              "\n",
              "    .dataframe tbody tr th {\n",
              "        vertical-align: top;\n",
              "    }\n",
              "\n",
              "    .dataframe thead th {\n",
              "        text-align: right;\n",
              "    }\n",
              "</style>\n",
              "<table border=\"1\" class=\"dataframe\">\n",
              "  <thead>\n",
              "    <tr style=\"text-align: right;\">\n",
              "      <th></th>\n",
              "      <th>battleground</th>\n",
              "      <th>game</th>\n",
              "      <th>mobile</th>\n",
              "      <th>phone</th>\n",
              "    </tr>\n",
              "  </thead>\n",
              "  <tbody>\n",
              "    <tr>\n",
              "      <th>0</th>\n",
              "      <td>0</td>\n",
              "      <td>0</td>\n",
              "      <td>1</td>\n",
              "      <td>1</td>\n",
              "    </tr>\n",
              "    <tr>\n",
              "      <th>1</th>\n",
              "      <td>1</td>\n",
              "      <td>1</td>\n",
              "      <td>1</td>\n",
              "      <td>0</td>\n",
              "    </tr>\n",
              "    <tr>\n",
              "      <th>2</th>\n",
              "      <td>0</td>\n",
              "      <td>1</td>\n",
              "      <td>0</td>\n",
              "      <td>1</td>\n",
              "    </tr>\n",
              "  </tbody>\n",
              "</table>\n",
              "</div>"
            ],
            "text/plain": [
              "   battleground  game  mobile  phone\n",
              "0             0     0       1      1\n",
              "1             1     1       1      0\n",
              "2             0     1       0      1"
            ]
          },
          "metadata": {},
          "execution_count": 93
        }
      ]
    },
    {
      "cell_type": "code",
      "metadata": {
        "id": "L8hn4GWiu5u1"
      },
      "source": [
        "#dv2 = cv.fit_transform(data)"
      ],
      "execution_count": null,
      "outputs": []
    },
    {
      "cell_type": "code",
      "metadata": {
        "id": "zgdoPalxu5p1",
        "colab": {
          "base_uri": "https://localhost:8080/"
        },
        "outputId": "e9a63dc4-1120-4b58-83c5-065747ad14e2"
      },
      "source": [
        "dv.get_feature_names()"
      ],
      "execution_count": null,
      "outputs": [
        {
          "output_type": "execute_result",
          "data": {
            "text/plain": [
              "['location=신천동', 'location=잠실동', 'location=천호동', 'price', 'room']"
            ]
          },
          "metadata": {},
          "execution_count": 95
        }
      ]
    },
    {
      "cell_type": "markdown",
      "metadata": {
        "id": "rOjKOvVtyOce"
      },
      "source": [
        "## Tfid는 빈도 뿐만 아니라 중요도와 관련되 가중치를 적용한 값을 적용함"
      ]
    },
    {
      "cell_type": "code",
      "metadata": {
        "id": "oU_rMx9Xu5nh",
        "colab": {
          "base_uri": "https://localhost:8080/"
        },
        "outputId": "ab2dfc6e-b956-4d2b-f83a-566f0613ff01"
      },
      "source": [
        "from sklearn.feature_extraction.text import TfidfVectorizer\n",
        "\n",
        "tv = TfidfVectorizer()\n",
        "X = tv.fit_transform(text)\n",
        "print(X)"
      ],
      "execution_count": null,
      "outputs": [
        {
          "output_type": "stream",
          "name": "stdout",
          "text": [
            "  (0, 3)\t0.7071067811865476\n",
            "  (0, 2)\t0.7071067811865476\n",
            "  (1, 1)\t0.5178561161676974\n",
            "  (1, 0)\t0.680918560398684\n",
            "  (1, 2)\t0.5178561161676974\n",
            "  (2, 1)\t0.7071067811865476\n",
            "  (2, 3)\t0.7071067811865476\n"
          ]
        }
      ]
    },
    {
      "cell_type": "code",
      "metadata": {
        "id": "1gxim2gWyX5w",
        "colab": {
          "base_uri": "https://localhost:8080/",
          "height": 142
        },
        "outputId": "e24ff447-ee00-4178-8576-7a2691c1cc25"
      },
      "source": [
        "pd.DataFrame(X.toarray(), columns = tv.get_feature_names())"
      ],
      "execution_count": null,
      "outputs": [
        {
          "output_type": "execute_result",
          "data": {
            "text/html": [
              "<div>\n",
              "<style scoped>\n",
              "    .dataframe tbody tr th:only-of-type {\n",
              "        vertical-align: middle;\n",
              "    }\n",
              "\n",
              "    .dataframe tbody tr th {\n",
              "        vertical-align: top;\n",
              "    }\n",
              "\n",
              "    .dataframe thead th {\n",
              "        text-align: right;\n",
              "    }\n",
              "</style>\n",
              "<table border=\"1\" class=\"dataframe\">\n",
              "  <thead>\n",
              "    <tr style=\"text-align: right;\">\n",
              "      <th></th>\n",
              "      <th>battleground</th>\n",
              "      <th>game</th>\n",
              "      <th>mobile</th>\n",
              "      <th>phone</th>\n",
              "    </tr>\n",
              "  </thead>\n",
              "  <tbody>\n",
              "    <tr>\n",
              "      <th>0</th>\n",
              "      <td>0.000000</td>\n",
              "      <td>0.000000</td>\n",
              "      <td>0.707107</td>\n",
              "      <td>0.707107</td>\n",
              "    </tr>\n",
              "    <tr>\n",
              "      <th>1</th>\n",
              "      <td>0.680919</td>\n",
              "      <td>0.517856</td>\n",
              "      <td>0.517856</td>\n",
              "      <td>0.000000</td>\n",
              "    </tr>\n",
              "    <tr>\n",
              "      <th>2</th>\n",
              "      <td>0.000000</td>\n",
              "      <td>0.707107</td>\n",
              "      <td>0.000000</td>\n",
              "      <td>0.707107</td>\n",
              "    </tr>\n",
              "  </tbody>\n",
              "</table>\n",
              "</div>"
            ],
            "text/plain": [
              "   battleground      game    mobile     phone\n",
              "0      0.000000  0.000000  0.707107  0.707107\n",
              "1      0.680919  0.517856  0.517856  0.000000\n",
              "2      0.000000  0.707107  0.000000  0.707107"
            ]
          },
          "metadata": {},
          "execution_count": 97
        }
      ]
    },
    {
      "cell_type": "markdown",
      "metadata": {
        "id": "dRQzZCCc0q-O"
      },
      "source": [
        "## 유도 특징의 추가"
      ]
    },
    {
      "cell_type": "code",
      "metadata": {
        "id": "7uR8oUn7yw-0",
        "colab": {
          "base_uri": "https://localhost:8080/",
          "height": 262
        },
        "outputId": "31f5617c-c231-45f2-938c-4fc3749a3d48"
      },
      "source": [
        "%matplotlib inline\n",
        "\n",
        "import numpy as np\n",
        "import matplotlib.pyplot as plt\n",
        "\n",
        "x= np.arange(1,6)\n",
        "y =np.array([4,2,1,3,7])\n",
        "plt.scatter(x, y);"
      ],
      "execution_count": null,
      "outputs": [
        {
          "output_type": "display_data",
          "data": {
            "image/png": "[encoded data removed]",
            "text/plain": [
              "<Figure size 432x288 with 1 Axes>"
            ]
          },
          "metadata": {
            "needs_background": "light"
          }
        }
      ]
    },
    {
      "cell_type": "code",
      "metadata": {
        "id": "Vwmf-kRB0tgW"
      },
      "source": [
        "from sklearn.linear_model import LinearRegression\n",
        "\n",
        "X = x.reshape(-1,1)"
      ],
      "execution_count": null,
      "outputs": []
    },
    {
      "cell_type": "code",
      "metadata": {
        "id": "htaawdIn0tdM",
        "colab": {
          "base_uri": "https://localhost:8080/"
        },
        "outputId": "2c98d18d-f1e0-4cbd-d548-583dfb1faa14"
      },
      "source": [
        "x, X"
      ],
      "execution_count": null,
      "outputs": [
        {
          "output_type": "execute_result",
          "data": {
            "text/plain": [
              "(array([1, 2, 3, 4, 5]), array([[1],\n",
              "        [2],\n",
              "        [3],\n",
              "        [4],\n",
              "        [5]]))"
            ]
          },
          "metadata": {},
          "execution_count": 100
        }
      ]
    },
    {
      "cell_type": "code",
      "metadata": {
        "id": "4BJCSMEX0taq",
        "colab": {
          "base_uri": "https://localhost:8080/",
          "height": 262
        },
        "outputId": "24258ab7-889f-458f-d178-d52686b17b96"
      },
      "source": [
        "model = LinearRegression()\n",
        "model.fit(X, y)\n",
        "y_pred = model.predict(X)\n",
        "plt.scatter(x, y)\n",
        "plt.plot(x, y_pred);\n",
        "# 언더핏, 고편향된 모델임이므로 복작도를 높여주어야 함"
      ],
      "execution_count": null,
      "outputs": [
        {
          "output_type": "display_data",
          "data": {
            "image/png": "[encoded data removed]",
            "text/plain": [
              "<Figure size 432x288 with 1 Axes>"
            ]
          },
          "metadata": {
            "needs_background": "light"
          }
        }
      ]
    },
    {
      "cell_type": "code",
      "metadata": {
        "id": "4lAmsStz17Ie",
        "colab": {
          "base_uri": "https://localhost:8080/"
        },
        "outputId": "6f9bd15e-fcb1-4308-bba0-5a3b2dce4fb1"
      },
      "source": [
        "from sklearn.preprocessing import PolynomialFeatures\n",
        "poly = PolynomialFeatures(degree=3, include_bias = False)\n",
        "X2 = poly.fit_transform(X)\n",
        "print(X2)"
      ],
      "execution_count": null,
      "outputs": [
        {
          "output_type": "stream",
          "name": "stdout",
          "text": [
            "[[  1.   1.   1.]\n",
            " [  2.   4.   8.]\n",
            " [  3.   9.  27.]\n",
            " [  4.  16.  64.]\n",
            " [  5.  25. 125.]]\n"
          ]
        }
      ]
    },
    {
      "cell_type": "code",
      "metadata": {
        "id": "DBoHIvJn2EOK",
        "colab": {
          "base_uri": "https://localhost:8080/",
          "height": 279
        },
        "outputId": "0bde2178-8a57-4c75-ef73-596df08b6139"
      },
      "source": [
        "model = LinearRegression()\n",
        "model.fit(X2, y)\n",
        "y_pred = model.predict(X2)\n",
        "plt.scatter(x, y)\n",
        "plt.plot(x, y_pred)"
      ],
      "execution_count": null,
      "outputs": [
        {
          "output_type": "execute_result",
          "data": {
            "text/plain": [
              "[<matplotlib.lines.Line2D at 0x7f197295ca10>]"
            ]
          },
          "metadata": {},
          "execution_count": 103
        },
        {
          "output_type": "display_data",
          "data": {
            "image/png": "[encoded data removed]",
            "text/plain": [
              "<Figure size 432x288 with 1 Axes>"
            ]
          },
          "metadata": {
            "needs_background": "light"
          }
        }
      ]
    },
    {
      "cell_type": "markdown",
      "metadata": {
        "id": "OnvWZNIr2rnT"
      },
      "source": [
        "## 누락 데이터 대체"
      ]
    },
    {
      "cell_type": "code",
      "metadata": {
        "id": "797dVjvY2ELk"
      },
      "source": [
        "X = np.array([[np.nan, 0, 3],\n",
        "              [3, 7, 9],\n",
        "              [3, 5, 2],\n",
        "              [4, np.nan, 6],\n",
        "              [8, 8, 1]])\n",
        "y = np.array([14, 16, -1, 8, -5])"
      ],
      "execution_count": null,
      "outputs": []
    },
    {
      "cell_type": "code",
      "metadata": {
        "id": "5itDvpWD2EIi",
        "colab": {
          "base_uri": "https://localhost:8080/"
        },
        "outputId": "acb4646a-185d-4f70-d042-1a0f70aaeb54"
      },
      "source": [
        "from sklearn.impute import SimpleImputer\n",
        "imp = SimpleImputer(strategy = 'mean')\n",
        "X2 = imp.fit_transform(X)\n",
        "X2"
      ],
      "execution_count": null,
      "outputs": [
        {
          "output_type": "execute_result",
          "data": {
            "text/plain": [
              "array([[4.5, 0. , 3. ],\n",
              "       [3. , 7. , 9. ],\n",
              "       [3. , 5. , 2. ],\n",
              "       [4. , 5. , 6. ],\n",
              "       [8. , 8. , 1. ]])"
            ]
          },
          "metadata": {},
          "execution_count": 105
        }
      ]
    },
    {
      "cell_type": "markdown",
      "metadata": {
        "id": "AZ4CzAnX3rFz"
      },
      "source": [
        "## 특징 파이프라인"
      ]
    },
    {
      "cell_type": "code",
      "metadata": {
        "id": "3GaAjDAS2EFw"
      },
      "source": [
        "from sklearn.pipeline import make_pipeline\n",
        "\n",
        "model = make_pipeline(SimpleImputer(strategy='mean'),\n",
        "                      PolynomialFeatures(degree = 2), # 유도특징을 추구해 복잡도를 높임\n",
        "                      LinearRegression())\n",
        "# 누락 값을 평균으로 대체\n",
        "# 이차 형태의 유도특징 변환\n",
        "# 선형회귀 적합"
      ],
      "execution_count": null,
      "outputs": []
    },
    {
      "cell_type": "code",
      "metadata": {
        "id": "7JXJ_Sr42EB1",
        "colab": {
          "base_uri": "https://localhost:8080/"
        },
        "outputId": "400c7f44-f14b-4762-aaf5-7e663f4f2eef"
      },
      "source": [
        "model.fit(X, y)"
      ],
      "execution_count": null,
      "outputs": [
        {
          "output_type": "execute_result",
          "data": {
            "text/plain": [
              "Pipeline(memory=None,\n",
              "         steps=[('simpleimputer',\n",
              "                 SimpleImputer(add_indicator=False, copy=True, fill_value=None,\n",
              "                               missing_values=nan, strategy='mean',\n",
              "                               verbose=0)),\n",
              "                ('polynomialfeatures',\n",
              "                 PolynomialFeatures(degree=2, include_bias=True,\n",
              "                                    interaction_only=False, order='C')),\n",
              "                ('linearregression',\n",
              "                 LinearRegression(copy_X=True, fit_intercept=True, n_jobs=None,\n",
              "                                  normalize=False))],\n",
              "         verbose=False)"
            ]
          },
          "metadata": {},
          "execution_count": 107
        }
      ]
    },
    {
      "cell_type": "code",
      "metadata": {
        "id": "eCJY-qZE2D--",
        "colab": {
          "base_uri": "https://localhost:8080/"
        },
        "outputId": "f0126ba3-e4d9-489f-dc3a-ba7d69491d4c"
      },
      "source": [
        "print(y)\n",
        "print(model.predict(X))"
      ],
      "execution_count": null,
      "outputs": [
        {
          "output_type": "stream",
          "name": "stdout",
          "text": [
            "[14 16 -1  8 -5]\n",
            "[14. 16. -1.  8. -5.]\n"
          ]
        }
      ]
    },
    {
      "cell_type": "markdown",
      "metadata": {
        "id": "AOMomII1BFXo"
      },
      "source": [
        "## 실습"
      ]
    },
    {
      "cell_type": "code",
      "metadata": {
        "id": "Wu9TPxTk2D8N"
      },
      "source": [
        " from sklearn.feature_extraction.text import CountVectorizer"
      ],
      "execution_count": null,
      "outputs": []
    },
    {
      "cell_type": "code",
      "metadata": {
        "id": "ziIFOtbBBEF4"
      },
      "source": [
        "text = [\n",
        "        'a better tomorro',\n",
        "        'a few good man',\n",
        "        'happy day',\n",
        "        'good morning'\n",
        "]"
      ],
      "execution_count": null,
      "outputs": []
    },
    {
      "cell_type": "code",
      "metadata": {
        "id": "O3vC2OhOBECi",
        "colab": {
          "base_uri": "https://localhost:8080/"
        },
        "outputId": "bdfa5ce5-9884-4416-f032-f341b74de381"
      },
      "source": [
        "cvec = CountVectorizer()\n",
        "X = cvec.fit_transform(text)\n",
        "print(X)"
      ],
      "execution_count": null,
      "outputs": [
        {
          "output_type": "stream",
          "name": "stdout",
          "text": [
            "  (0, 0)\t1\n",
            "  (0, 7)\t1\n",
            "  (1, 2)\t1\n",
            "  (1, 3)\t1\n",
            "  (1, 5)\t1\n",
            "  (2, 4)\t1\n",
            "  (2, 1)\t1\n",
            "  (3, 3)\t1\n",
            "  (3, 6)\t1\n"
          ]
        }
      ]
    },
    {
      "cell_type": "code",
      "metadata": {
        "id": "iPVk_iP8B6oE",
        "colab": {
          "base_uri": "https://localhost:8080/"
        },
        "outputId": "a76a9f41-4822-4d8e-bb47-5695d0fc4eeb"
      },
      "source": [
        "X.shape"
      ],
      "execution_count": null,
      "outputs": [
        {
          "output_type": "execute_result",
          "data": {
            "text/plain": [
              "(4, 8)"
            ]
          },
          "metadata": {},
          "execution_count": 112
        }
      ]
    },
    {
      "cell_type": "code",
      "metadata": {
        "id": "9rOy-zl_BD8n",
        "colab": {
          "base_uri": "https://localhost:8080/",
          "height": 172
        },
        "outputId": "241a2516-e364-457d-9d01-218279f5c32d"
      },
      "source": [
        "import pandas as pd\n",
        "pd.DataFrame(X.toarray(), columns = cvec.get_feature_names())\n",
        "# stopwords 제거"
      ],
      "execution_count": null,
      "outputs": [
        {
          "output_type": "execute_result",
          "data": {
            "text/html": [
              "<div>\n",
              "<style scoped>\n",
              "    .dataframe tbody tr th:only-of-type {\n",
              "        vertical-align: middle;\n",
              "    }\n",
              "\n",
              "    .dataframe tbody tr th {\n",
              "        vertical-align: top;\n",
              "    }\n",
              "\n",
              "    .dataframe thead th {\n",
              "        text-align: right;\n",
              "    }\n",
              "</style>\n",
              "<table border=\"1\" class=\"dataframe\">\n",
              "  <thead>\n",
              "    <tr style=\"text-align: right;\">\n",
              "      <th></th>\n",
              "      <th>better</th>\n",
              "      <th>day</th>\n",
              "      <th>few</th>\n",
              "      <th>good</th>\n",
              "      <th>happy</th>\n",
              "      <th>man</th>\n",
              "      <th>morning</th>\n",
              "      <th>tomorro</th>\n",
              "    </tr>\n",
              "  </thead>\n",
              "  <tbody>\n",
              "    <tr>\n",
              "      <th>0</th>\n",
              "      <td>1</td>\n",
              "      <td>0</td>\n",
              "      <td>0</td>\n",
              "      <td>0</td>\n",
              "      <td>0</td>\n",
              "      <td>0</td>\n",
              "      <td>0</td>\n",
              "      <td>1</td>\n",
              "    </tr>\n",
              "    <tr>\n",
              "      <th>1</th>\n",
              "      <td>0</td>\n",
              "      <td>0</td>\n",
              "      <td>1</td>\n",
              "      <td>1</td>\n",
              "      <td>0</td>\n",
              "      <td>1</td>\n",
              "      <td>0</td>\n",
              "      <td>0</td>\n",
              "    </tr>\n",
              "    <tr>\n",
              "      <th>2</th>\n",
              "      <td>0</td>\n",
              "      <td>1</td>\n",
              "      <td>0</td>\n",
              "      <td>0</td>\n",
              "      <td>1</td>\n",
              "      <td>0</td>\n",
              "      <td>0</td>\n",
              "      <td>0</td>\n",
              "    </tr>\n",
              "    <tr>\n",
              "      <th>3</th>\n",
              "      <td>0</td>\n",
              "      <td>0</td>\n",
              "      <td>0</td>\n",
              "      <td>1</td>\n",
              "      <td>0</td>\n",
              "      <td>0</td>\n",
              "      <td>1</td>\n",
              "      <td>0</td>\n",
              "    </tr>\n",
              "  </tbody>\n",
              "</table>\n",
              "</div>"
            ],
            "text/plain": [
              "   better  day  few  good  happy  man  morning  tomorro\n",
              "0       1    0    0     0      0    0        0        1\n",
              "1       0    0    1     1      0    1        0        0\n",
              "2       0    1    0     0      1    0        0        0\n",
              "3       0    0    0     1      0    0        1        0"
            ]
          },
          "metadata": {},
          "execution_count": 113
        }
      ]
    },
    {
      "cell_type": "code",
      "metadata": {
        "id": "njHfz0bx2D4Q"
      },
      "source": [
        "import numpy as np\n",
        "X = np.array([[np.nan, 0, 5],\n",
        "              [4, 8, 9],\n",
        "              [3, 6, 3],\n",
        "              [5, np.nan, 8],\n",
        "              [9, 5, 0]])\n",
        "y = np.array([16, 14, 8, -3, -1])"
      ],
      "execution_count": null,
      "outputs": []
    },
    {
      "cell_type": "code",
      "metadata": {
        "id": "QeEa6dsmDL1S",
        "colab": {
          "base_uri": "https://localhost:8080/"
        },
        "outputId": "57fe27a8-a787-4c39-b059-95e7a9d0af91"
      },
      "source": [
        "from sklearn.impute import SimpleImputer\n",
        "imputer = SimpleImputer(strategy = 'mean')\n",
        "X2 = imputer.fit_transform(X)\n",
        "X2"
      ],
      "execution_count": null,
      "outputs": [
        {
          "output_type": "execute_result",
          "data": {
            "text/plain": [
              "array([[5.25, 0.  , 5.  ],\n",
              "       [4.  , 8.  , 9.  ],\n",
              "       [3.  , 6.  , 3.  ],\n",
              "       [5.  , 4.75, 8.  ],\n",
              "       [9.  , 5.  , 0.  ]])"
            ]
          },
          "metadata": {},
          "execution_count": 115
        }
      ]
    },
    {
      "cell_type": "code",
      "metadata": {
        "id": "gTWWZBB_Dcpd"
      },
      "source": [
        "from sklearn.pipeline import make_pipeline\n",
        "from sklearn.preprocessing import PolynomialFeatures\n",
        "from sklearn.linear_model import LinearRegression"
      ],
      "execution_count": null,
      "outputs": []
    },
    {
      "cell_type": "code",
      "metadata": {
        "id": "EVKTuvkTEGdj"
      },
      "source": [
        "pl = make_pipeline(SimpleImputer(strategy = 'mean'),\n",
        "                   PolynomialFeatures(degree = 2), \n",
        "                   LinearRegression())"
      ],
      "execution_count": null,
      "outputs": []
    },
    {
      "cell_type": "code",
      "metadata": {
        "id": "BqsmQLHfEkWc",
        "colab": {
          "base_uri": "https://localhost:8080/"
        },
        "outputId": "83b4a627-9976-453b-f859-6bc45577a806"
      },
      "source": [
        "pl.fit(X, y)"
      ],
      "execution_count": null,
      "outputs": [
        {
          "output_type": "execute_result",
          "data": {
            "text/plain": [
              "Pipeline(memory=None,\n",
              "         steps=[('simpleimputer',\n",
              "                 SimpleImputer(add_indicator=False, copy=True, fill_value=None,\n",
              "                               missing_values=nan, strategy='mean',\n",
              "                               verbose=0)),\n",
              "                ('polynomialfeatures',\n",
              "                 PolynomialFeatures(degree=2, include_bias=True,\n",
              "                                    interaction_only=False, order='C')),\n",
              "                ('linearregression',\n",
              "                 LinearRegression(copy_X=True, fit_intercept=True, n_jobs=None,\n",
              "                                  normalize=False))],\n",
              "         verbose=False)"
            ]
          },
          "metadata": {},
          "execution_count": 118
        }
      ]
    },
    {
      "cell_type": "code",
      "metadata": {
        "id": "OwWeJlwPEniK",
        "colab": {
          "base_uri": "https://localhost:8080/"
        },
        "outputId": "9deafc9d-8960-4ac6-8b1e-3a71b9c0ec73"
      },
      "source": [
        "print(pl.predict(X)), print(y)"
      ],
      "execution_count": null,
      "outputs": [
        {
          "output_type": "stream",
          "name": "stdout",
          "text": [
            "[16. 14.  8. -3. -1.]\n",
            "[16 14  8 -3 -1]\n"
          ]
        },
        {
          "output_type": "execute_result",
          "data": {
            "text/plain": [
              "(None, None)"
            ]
          },
          "metadata": {},
          "execution_count": 119
        }
      ]
    },
    {
      "cell_type": "markdown",
      "metadata": {
        "id": "O7q32CImE9PH"
      },
      "source": [
        "# 06-7 - 교차검증, 그리드 서치, 특징 공학 주요내용 정리\n",
        "\n",
        "> https://www.youtube.com/watch?v=E729heRkpAY&list=PLwvr-xPygMX9TaQFW3C1UGEuD0zJF7pCk&index=33&ab_channel=K-ICT%EB%B9%85%EB%8D%B0%EC%9D%B4%ED%84%B0%EC%84%BC%ED%84%B0\n",
        "\n",
        "- 교차 검증을 사용하면 모델을 훈련시킬 데이터를 빠뜨릴 수 있는 문제를 방지할 수 있다.\n",
        "- 검증곡선을 시각화하면 모델의 복잡도와 관련된 편향과 분산 사이의 트레이드오프에서 적절한 지점을 확인할 수 있다.\n",
        "- 학습곡선 플롯을 이용하면 훈련집합의 크기에 따른 훈련 점수와 검증 점수의 변화를 시각적으로 확인할 수 있다.\n",
        "- 그리드 서치 자동화 도구를 이용하면 검증 점수를 최대화하는 최적의 모델을 찾아 데이터에 적합시킬 수 있다.\n",
        "- 특징 공학을 통해 머신러닝의 특징 행렬의 구축하는데 필요한 범주형 데이터의 인코딩, 복잡도를 증가시키기 위한 유도 특징의 추가, 누락 데이터 대체 등의 작업을 수행하며, 파이프라인을 통해 작업의 생산성을 높일 수 있다."
      ]
    },
    {
      "cell_type": "markdown",
      "metadata": {
        "id": "P-ZbMQOlnR54"
      },
      "source": [
        ""
      ]
    },
    {
      "cell_type": "markdown",
      "metadata": {
        "id": "XYbV0crAnR2f"
      },
      "source": [
        ""
      ]
    },
    {
      "cell_type": "markdown",
      "metadata": {
        "id": "xMY_OwNOnRyQ"
      },
      "source": [
        ""
      ]
    },
    {
      "cell_type": "markdown",
      "metadata": {
        "id": "yf3429LsnRus"
      },
      "source": [
        ""
      ]
    },
    {
      "cell_type": "markdown",
      "metadata": {
        "id": "TmiWfbxJnRm3"
      },
      "source": [
        ""
      ]
    },
    {
      "cell_type": "markdown",
      "metadata": {
        "id": "qmfgdQ8kGCqe"
      },
      "source": [
        "# 07-1 - 와인 품질 데이터 탐색\n",
        "> https://www.youtube.com/watch?v=4IzZ_3QGuG4&list=PLwvr-xPygMX9TaQFW3C1UGEuD0zJF7pCk&index=34&ab_channel=K-ICT%EB%B9%85%EB%8D%B0%EC%9D%B4%ED%84%B0%EC%84%BC%ED%84%B0"
      ]
    },
    {
      "cell_type": "markdown",
      "metadata": {
        "id": "qd669d-3GhaO"
      },
      "source": [
        "> 출력변수 : 와인품질평가점수(1점~10점), 분류의 범주형 보다 연속형으로 회귀로 해석함"
      ]
    },
    {
      "cell_type": "code",
      "metadata": {
        "id": "kicKQvw6CrBD"
      },
      "source": [
        "import pandas as pd\n",
        "import seaborn as sns\n",
        "import numpy as np\n",
        "import matplotlib.pyplot as plt"
      ],
      "execution_count": null,
      "outputs": []
    },
    {
      "cell_type": "code",
      "metadata": {
        "id": "2XddkdWeFFTk",
        "colab": {
          "base_uri": "https://localhost:8080/",
          "height": 220
        },
        "outputId": "0f9b5bea-0ea3-4a3c-ebdc-b708217491da"
      },
      "source": [
        "redwine = pd.read_csv('http://archive.ics.uci.edu/ml/machine-learning-databases/wine-quality/winequality-red.csv', sep=';', header=0)\n",
        "redwine['type'] = 'Red'\n",
        "redwine.head()"
      ],
      "execution_count": null,
      "outputs": [
        {
          "output_type": "execute_result",
          "data": {
            "text/html": [
              "<div>\n",
              "<style scoped>\n",
              "    .dataframe tbody tr th:only-of-type {\n",
              "        vertical-align: middle;\n",
              "    }\n",
              "\n",
              "    .dataframe tbody tr th {\n",
              "        vertical-align: top;\n",
              "    }\n",
              "\n",
              "    .dataframe thead th {\n",
              "        text-align: right;\n",
              "    }\n",
              "</style>\n",
              "<table border=\"1\" class=\"dataframe\">\n",
              "  <thead>\n",
              "    <tr style=\"text-align: right;\">\n",
              "      <th></th>\n",
              "      <th>fixed acidity</th>\n",
              "      <th>volatile acidity</th>\n",
              "      <th>citric acid</th>\n",
              "      <th>residual sugar</th>\n",
              "      <th>chlorides</th>\n",
              "      <th>free sulfur dioxide</th>\n",
              "      <th>total sulfur dioxide</th>\n",
              "      <th>density</th>\n",
              "      <th>pH</th>\n",
              "      <th>sulphates</th>\n",
              "      <th>alcohol</th>\n",
              "      <th>quality</th>\n",
              "      <th>type</th>\n",
              "    </tr>\n",
              "  </thead>\n",
              "  <tbody>\n",
              "    <tr>\n",
              "      <th>0</th>\n",
              "      <td>7.4</td>\n",
              "      <td>0.70</td>\n",
              "      <td>0.00</td>\n",
              "      <td>1.9</td>\n",
              "      <td>0.076</td>\n",
              "      <td>11.0</td>\n",
              "      <td>34.0</td>\n",
              "      <td>0.9978</td>\n",
              "      <td>3.51</td>\n",
              "      <td>0.56</td>\n",
              "      <td>9.4</td>\n",
              "      <td>5</td>\n",
              "      <td>Red</td>\n",
              "    </tr>\n",
              "    <tr>\n",
              "      <th>1</th>\n",
              "      <td>7.8</td>\n",
              "      <td>0.88</td>\n",
              "      <td>0.00</td>\n",
              "      <td>2.6</td>\n",
              "      <td>0.098</td>\n",
              "      <td>25.0</td>\n",
              "      <td>67.0</td>\n",
              "      <td>0.9968</td>\n",
              "      <td>3.20</td>\n",
              "      <td>0.68</td>\n",
              "      <td>9.8</td>\n",
              "      <td>5</td>\n",
              "      <td>Red</td>\n",
              "    </tr>\n",
              "    <tr>\n",
              "      <th>2</th>\n",
              "      <td>7.8</td>\n",
              "      <td>0.76</td>\n",
              "      <td>0.04</td>\n",
              "      <td>2.3</td>\n",
              "      <td>0.092</td>\n",
              "      <td>15.0</td>\n",
              "      <td>54.0</td>\n",
              "      <td>0.9970</td>\n",
              "      <td>3.26</td>\n",
              "      <td>0.65</td>\n",
              "      <td>9.8</td>\n",
              "      <td>5</td>\n",
              "      <td>Red</td>\n",
              "    </tr>\n",
              "    <tr>\n",
              "      <th>3</th>\n",
              "      <td>11.2</td>\n",
              "      <td>0.28</td>\n",
              "      <td>0.56</td>\n",
              "      <td>1.9</td>\n",
              "      <td>0.075</td>\n",
              "      <td>17.0</td>\n",
              "      <td>60.0</td>\n",
              "      <td>0.9980</td>\n",
              "      <td>3.16</td>\n",
              "      <td>0.58</td>\n",
              "      <td>9.8</td>\n",
              "      <td>6</td>\n",
              "      <td>Red</td>\n",
              "    </tr>\n",
              "    <tr>\n",
              "      <th>4</th>\n",
              "      <td>7.4</td>\n",
              "      <td>0.70</td>\n",
              "      <td>0.00</td>\n",
              "      <td>1.9</td>\n",
              "      <td>0.076</td>\n",
              "      <td>11.0</td>\n",
              "      <td>34.0</td>\n",
              "      <td>0.9978</td>\n",
              "      <td>3.51</td>\n",
              "      <td>0.56</td>\n",
              "      <td>9.4</td>\n",
              "      <td>5</td>\n",
              "      <td>Red</td>\n",
              "    </tr>\n",
              "  </tbody>\n",
              "</table>\n",
              "</div>"
            ],
            "text/plain": [
              "   fixed acidity  volatile acidity  citric acid  ...  alcohol  quality  type\n",
              "0            7.4              0.70         0.00  ...      9.4        5   Red\n",
              "1            7.8              0.88         0.00  ...      9.8        5   Red\n",
              "2            7.8              0.76         0.04  ...      9.8        5   Red\n",
              "3           11.2              0.28         0.56  ...      9.8        6   Red\n",
              "4            7.4              0.70         0.00  ...      9.4        5   Red\n",
              "\n",
              "[5 rows x 13 columns]"
            ]
          },
          "metadata": {},
          "execution_count": 121
        }
      ]
    },
    {
      "cell_type": "code",
      "metadata": {
        "id": "FDEjl6faFFQE",
        "colab": {
          "base_uri": "https://localhost:8080/",
          "height": 220
        },
        "outputId": "1a0b8c0b-830c-4702-a6c8-238664190f6e"
      },
      "source": [
        "whitewine = pd.read_csv('http://archive.ics.uci.edu/ml/machine-learning-databases/wine-quality/winequality-white.csv', sep=';', header=0)\n",
        "whitewine['type'] = 'White'\n",
        "whitewine.head()"
      ],
      "execution_count": null,
      "outputs": [
        {
          "output_type": "execute_result",
          "data": {
            "text/html": [
              "<div>\n",
              "<style scoped>\n",
              "    .dataframe tbody tr th:only-of-type {\n",
              "        vertical-align: middle;\n",
              "    }\n",
              "\n",
              "    .dataframe tbody tr th {\n",
              "        vertical-align: top;\n",
              "    }\n",
              "\n",
              "    .dataframe thead th {\n",
              "        text-align: right;\n",
              "    }\n",
              "</style>\n",
              "<table border=\"1\" class=\"dataframe\">\n",
              "  <thead>\n",
              "    <tr style=\"text-align: right;\">\n",
              "      <th></th>\n",
              "      <th>fixed acidity</th>\n",
              "      <th>volatile acidity</th>\n",
              "      <th>citric acid</th>\n",
              "      <th>residual sugar</th>\n",
              "      <th>chlorides</th>\n",
              "      <th>free sulfur dioxide</th>\n",
              "      <th>total sulfur dioxide</th>\n",
              "      <th>density</th>\n",
              "      <th>pH</th>\n",
              "      <th>sulphates</th>\n",
              "      <th>alcohol</th>\n",
              "      <th>quality</th>\n",
              "      <th>type</th>\n",
              "    </tr>\n",
              "  </thead>\n",
              "  <tbody>\n",
              "    <tr>\n",
              "      <th>0</th>\n",
              "      <td>7.0</td>\n",
              "      <td>0.27</td>\n",
              "      <td>0.36</td>\n",
              "      <td>20.7</td>\n",
              "      <td>0.045</td>\n",
              "      <td>45.0</td>\n",
              "      <td>170.0</td>\n",
              "      <td>1.0010</td>\n",
              "      <td>3.00</td>\n",
              "      <td>0.45</td>\n",
              "      <td>8.8</td>\n",
              "      <td>6</td>\n",
              "      <td>White</td>\n",
              "    </tr>\n",
              "    <tr>\n",
              "      <th>1</th>\n",
              "      <td>6.3</td>\n",
              "      <td>0.30</td>\n",
              "      <td>0.34</td>\n",
              "      <td>1.6</td>\n",
              "      <td>0.049</td>\n",
              "      <td>14.0</td>\n",
              "      <td>132.0</td>\n",
              "      <td>0.9940</td>\n",
              "      <td>3.30</td>\n",
              "      <td>0.49</td>\n",
              "      <td>9.5</td>\n",
              "      <td>6</td>\n",
              "      <td>White</td>\n",
              "    </tr>\n",
              "    <tr>\n",
              "      <th>2</th>\n",
              "      <td>8.1</td>\n",
              "      <td>0.28</td>\n",
              "      <td>0.40</td>\n",
              "      <td>6.9</td>\n",
              "      <td>0.050</td>\n",
              "      <td>30.0</td>\n",
              "      <td>97.0</td>\n",
              "      <td>0.9951</td>\n",
              "      <td>3.26</td>\n",
              "      <td>0.44</td>\n",
              "      <td>10.1</td>\n",
              "      <td>6</td>\n",
              "      <td>White</td>\n",
              "    </tr>\n",
              "    <tr>\n",
              "      <th>3</th>\n",
              "      <td>7.2</td>\n",
              "      <td>0.23</td>\n",
              "      <td>0.32</td>\n",
              "      <td>8.5</td>\n",
              "      <td>0.058</td>\n",
              "      <td>47.0</td>\n",
              "      <td>186.0</td>\n",
              "      <td>0.9956</td>\n",
              "      <td>3.19</td>\n",
              "      <td>0.40</td>\n",
              "      <td>9.9</td>\n",
              "      <td>6</td>\n",
              "      <td>White</td>\n",
              "    </tr>\n",
              "    <tr>\n",
              "      <th>4</th>\n",
              "      <td>7.2</td>\n",
              "      <td>0.23</td>\n",
              "      <td>0.32</td>\n",
              "      <td>8.5</td>\n",
              "      <td>0.058</td>\n",
              "      <td>47.0</td>\n",
              "      <td>186.0</td>\n",
              "      <td>0.9956</td>\n",
              "      <td>3.19</td>\n",
              "      <td>0.40</td>\n",
              "      <td>9.9</td>\n",
              "      <td>6</td>\n",
              "      <td>White</td>\n",
              "    </tr>\n",
              "  </tbody>\n",
              "</table>\n",
              "</div>"
            ],
            "text/plain": [
              "   fixed acidity  volatile acidity  citric acid  ...  alcohol  quality   type\n",
              "0            7.0              0.27         0.36  ...      8.8        6  White\n",
              "1            6.3              0.30         0.34  ...      9.5        6  White\n",
              "2            8.1              0.28         0.40  ...     10.1        6  White\n",
              "3            7.2              0.23         0.32  ...      9.9        6  White\n",
              "4            7.2              0.23         0.32  ...      9.9        6  White\n",
              "\n",
              "[5 rows x 13 columns]"
            ]
          },
          "metadata": {},
          "execution_count": 122
        }
      ]
    },
    {
      "cell_type": "code",
      "metadata": {
        "id": "INz7oC-rFFMl",
        "colab": {
          "base_uri": "https://localhost:8080/"
        },
        "outputId": "31b13c92-fddf-41b4-8712-16be068ec676"
      },
      "source": [
        "wine = redwine.append(whitewine)\n",
        "wine.shape"
      ],
      "execution_count": null,
      "outputs": [
        {
          "output_type": "execute_result",
          "data": {
            "text/plain": [
              "(6497, 13)"
            ]
          },
          "metadata": {},
          "execution_count": 123
        }
      ]
    },
    {
      "cell_type": "code",
      "metadata": {
        "id": "x-PPNJ2EFFJr",
        "colab": {
          "base_uri": "https://localhost:8080/",
          "height": 223
        },
        "outputId": "ffb1813b-66b0-4e6a-8df9-f23723b52b07"
      },
      "source": [
        "wine.columns = wine.columns.str.replace(\" \", '_')\n",
        "wine.head()"
      ],
      "execution_count": null,
      "outputs": [
        {
          "output_type": "execute_result",
          "data": {
            "text/html": [
              "<div>\n",
              "<style scoped>\n",
              "    .dataframe tbody tr th:only-of-type {\n",
              "        vertical-align: middle;\n",
              "    }\n",
              "\n",
              "    .dataframe tbody tr th {\n",
              "        vertical-align: top;\n",
              "    }\n",
              "\n",
              "    .dataframe thead th {\n",
              "        text-align: right;\n",
              "    }\n",
              "</style>\n",
              "<table border=\"1\" class=\"dataframe\">\n",
              "  <thead>\n",
              "    <tr style=\"text-align: right;\">\n",
              "      <th></th>\n",
              "      <th>fixed_acidity</th>\n",
              "      <th>volatile_acidity</th>\n",
              "      <th>citric_acid</th>\n",
              "      <th>residual_sugar</th>\n",
              "      <th>chlorides</th>\n",
              "      <th>free_sulfur_dioxide</th>\n",
              "      <th>total_sulfur_dioxide</th>\n",
              "      <th>density</th>\n",
              "      <th>pH</th>\n",
              "      <th>sulphates</th>\n",
              "      <th>alcohol</th>\n",
              "      <th>quality</th>\n",
              "      <th>type</th>\n",
              "    </tr>\n",
              "  </thead>\n",
              "  <tbody>\n",
              "    <tr>\n",
              "      <th>0</th>\n",
              "      <td>7.4</td>\n",
              "      <td>0.70</td>\n",
              "      <td>0.00</td>\n",
              "      <td>1.9</td>\n",
              "      <td>0.076</td>\n",
              "      <td>11.0</td>\n",
              "      <td>34.0</td>\n",
              "      <td>0.9978</td>\n",
              "      <td>3.51</td>\n",
              "      <td>0.56</td>\n",
              "      <td>9.4</td>\n",
              "      <td>5</td>\n",
              "      <td>Red</td>\n",
              "    </tr>\n",
              "    <tr>\n",
              "      <th>1</th>\n",
              "      <td>7.8</td>\n",
              "      <td>0.88</td>\n",
              "      <td>0.00</td>\n",
              "      <td>2.6</td>\n",
              "      <td>0.098</td>\n",
              "      <td>25.0</td>\n",
              "      <td>67.0</td>\n",
              "      <td>0.9968</td>\n",
              "      <td>3.20</td>\n",
              "      <td>0.68</td>\n",
              "      <td>9.8</td>\n",
              "      <td>5</td>\n",
              "      <td>Red</td>\n",
              "    </tr>\n",
              "    <tr>\n",
              "      <th>2</th>\n",
              "      <td>7.8</td>\n",
              "      <td>0.76</td>\n",
              "      <td>0.04</td>\n",
              "      <td>2.3</td>\n",
              "      <td>0.092</td>\n",
              "      <td>15.0</td>\n",
              "      <td>54.0</td>\n",
              "      <td>0.9970</td>\n",
              "      <td>3.26</td>\n",
              "      <td>0.65</td>\n",
              "      <td>9.8</td>\n",
              "      <td>5</td>\n",
              "      <td>Red</td>\n",
              "    </tr>\n",
              "    <tr>\n",
              "      <th>3</th>\n",
              "      <td>11.2</td>\n",
              "      <td>0.28</td>\n",
              "      <td>0.56</td>\n",
              "      <td>1.9</td>\n",
              "      <td>0.075</td>\n",
              "      <td>17.0</td>\n",
              "      <td>60.0</td>\n",
              "      <td>0.9980</td>\n",
              "      <td>3.16</td>\n",
              "      <td>0.58</td>\n",
              "      <td>9.8</td>\n",
              "      <td>6</td>\n",
              "      <td>Red</td>\n",
              "    </tr>\n",
              "    <tr>\n",
              "      <th>4</th>\n",
              "      <td>7.4</td>\n",
              "      <td>0.70</td>\n",
              "      <td>0.00</td>\n",
              "      <td>1.9</td>\n",
              "      <td>0.076</td>\n",
              "      <td>11.0</td>\n",
              "      <td>34.0</td>\n",
              "      <td>0.9978</td>\n",
              "      <td>3.51</td>\n",
              "      <td>0.56</td>\n",
              "      <td>9.4</td>\n",
              "      <td>5</td>\n",
              "      <td>Red</td>\n",
              "    </tr>\n",
              "  </tbody>\n",
              "</table>\n",
              "</div>"
            ],
            "text/plain": [
              "   fixed_acidity  volatile_acidity  citric_acid  ...  alcohol  quality  type\n",
              "0            7.4              0.70         0.00  ...      9.4        5   Red\n",
              "1            7.8              0.88         0.00  ...      9.8        5   Red\n",
              "2            7.8              0.76         0.04  ...      9.8        5   Red\n",
              "3           11.2              0.28         0.56  ...      9.8        6   Red\n",
              "4            7.4              0.70         0.00  ...      9.4        5   Red\n",
              "\n",
              "[5 rows x 13 columns]"
            ]
          },
          "metadata": {},
          "execution_count": 124
        }
      ]
    },
    {
      "cell_type": "code",
      "metadata": {
        "id": "9SCLd0VfS-HH",
        "colab": {
          "base_uri": "https://localhost:8080/",
          "height": 252
        },
        "outputId": "1617b92f-73c1-436b-fbf1-9fdc20b572f0"
      },
      "source": [
        "wine.T.head()"
      ],
      "execution_count": null,
      "outputs": [
        {
          "output_type": "execute_result",
          "data": {
            "text/html": [
              "<div>\n",
              "<style scoped>\n",
              "    .dataframe tbody tr th:only-of-type {\n",
              "        vertical-align: middle;\n",
              "    }\n",
              "\n",
              "    .dataframe tbody tr th {\n",
              "        vertical-align: top;\n",
              "    }\n",
              "\n",
              "    .dataframe thead th {\n",
              "        text-align: right;\n",
              "    }\n",
              "</style>\n",
              "<table border=\"1\" class=\"dataframe\">\n",
              "  <thead>\n",
              "    <tr style=\"text-align: right;\">\n",
              "      <th></th>\n",
              "      <th>0</th>\n",
              "      <th>1</th>\n",
              "      <th>2</th>\n",
              "      <th>3</th>\n",
              "      <th>4</th>\n",
              "      <th>5</th>\n",
              "      <th>6</th>\n",
              "      <th>7</th>\n",
              "      <th>8</th>\n",
              "      <th>9</th>\n",
              "      <th>10</th>\n",
              "      <th>11</th>\n",
              "      <th>12</th>\n",
              "      <th>13</th>\n",
              "      <th>14</th>\n",
              "      <th>15</th>\n",
              "      <th>16</th>\n",
              "      <th>17</th>\n",
              "      <th>18</th>\n",
              "      <th>19</th>\n",
              "      <th>20</th>\n",
              "      <th>21</th>\n",
              "      <th>22</th>\n",
              "      <th>23</th>\n",
              "      <th>24</th>\n",
              "      <th>25</th>\n",
              "      <th>26</th>\n",
              "      <th>27</th>\n",
              "      <th>28</th>\n",
              "      <th>29</th>\n",
              "      <th>30</th>\n",
              "      <th>31</th>\n",
              "      <th>32</th>\n",
              "      <th>33</th>\n",
              "      <th>34</th>\n",
              "      <th>35</th>\n",
              "      <th>36</th>\n",
              "      <th>37</th>\n",
              "      <th>38</th>\n",
              "      <th>39</th>\n",
              "      <th>...</th>\n",
              "      <th>4858</th>\n",
              "      <th>4859</th>\n",
              "      <th>4860</th>\n",
              "      <th>4861</th>\n",
              "      <th>4862</th>\n",
              "      <th>4863</th>\n",
              "      <th>4864</th>\n",
              "      <th>4865</th>\n",
              "      <th>4866</th>\n",
              "      <th>4867</th>\n",
              "      <th>4868</th>\n",
              "      <th>4869</th>\n",
              "      <th>4870</th>\n",
              "      <th>4871</th>\n",
              "      <th>4872</th>\n",
              "      <th>4873</th>\n",
              "      <th>4874</th>\n",
              "      <th>4875</th>\n",
              "      <th>4876</th>\n",
              "      <th>4877</th>\n",
              "      <th>4878</th>\n",
              "      <th>4879</th>\n",
              "      <th>4880</th>\n",
              "      <th>4881</th>\n",
              "      <th>4882</th>\n",
              "      <th>4883</th>\n",
              "      <th>4884</th>\n",
              "      <th>4885</th>\n",
              "      <th>4886</th>\n",
              "      <th>4887</th>\n",
              "      <th>4888</th>\n",
              "      <th>4889</th>\n",
              "      <th>4890</th>\n",
              "      <th>4891</th>\n",
              "      <th>4892</th>\n",
              "      <th>4893</th>\n",
              "      <th>4894</th>\n",
              "      <th>4895</th>\n",
              "      <th>4896</th>\n",
              "      <th>4897</th>\n",
              "    </tr>\n",
              "  </thead>\n",
              "  <tbody>\n",
              "    <tr>\n",
              "      <th>fixed_acidity</th>\n",
              "      <td>7.4</td>\n",
              "      <td>7.8</td>\n",
              "      <td>7.8</td>\n",
              "      <td>11.2</td>\n",
              "      <td>7.4</td>\n",
              "      <td>7.4</td>\n",
              "      <td>7.9</td>\n",
              "      <td>7.3</td>\n",
              "      <td>7.8</td>\n",
              "      <td>7.5</td>\n",
              "      <td>6.7</td>\n",
              "      <td>7.5</td>\n",
              "      <td>5.6</td>\n",
              "      <td>7.8</td>\n",
              "      <td>8.9</td>\n",
              "      <td>8.9</td>\n",
              "      <td>8.5</td>\n",
              "      <td>8.1</td>\n",
              "      <td>7.4</td>\n",
              "      <td>7.9</td>\n",
              "      <td>8.9</td>\n",
              "      <td>7.6</td>\n",
              "      <td>7.9</td>\n",
              "      <td>8.5</td>\n",
              "      <td>6.9</td>\n",
              "      <td>6.3</td>\n",
              "      <td>7.6</td>\n",
              "      <td>7.9</td>\n",
              "      <td>7.1</td>\n",
              "      <td>7.8</td>\n",
              "      <td>6.7</td>\n",
              "      <td>6.9</td>\n",
              "      <td>8.3</td>\n",
              "      <td>6.9</td>\n",
              "      <td>5.2</td>\n",
              "      <td>7.8</td>\n",
              "      <td>7.8</td>\n",
              "      <td>8.1</td>\n",
              "      <td>5.7</td>\n",
              "      <td>7.3</td>\n",
              "      <td>...</td>\n",
              "      <td>6.4</td>\n",
              "      <td>6</td>\n",
              "      <td>6</td>\n",
              "      <td>5.5</td>\n",
              "      <td>5.9</td>\n",
              "      <td>6.2</td>\n",
              "      <td>6</td>\n",
              "      <td>6.2</td>\n",
              "      <td>5.7</td>\n",
              "      <td>5.3</td>\n",
              "      <td>5.8</td>\n",
              "      <td>6.6</td>\n",
              "      <td>6.1</td>\n",
              "      <td>5</td>\n",
              "      <td>6</td>\n",
              "      <td>5.7</td>\n",
              "      <td>5.6</td>\n",
              "      <td>7.4</td>\n",
              "      <td>6.2</td>\n",
              "      <td>5.9</td>\n",
              "      <td>6.2</td>\n",
              "      <td>6.6</td>\n",
              "      <td>6.6</td>\n",
              "      <td>5</td>\n",
              "      <td>5.5</td>\n",
              "      <td>4.9</td>\n",
              "      <td>6.5</td>\n",
              "      <td>6.6</td>\n",
              "      <td>6.2</td>\n",
              "      <td>6.2</td>\n",
              "      <td>6.8</td>\n",
              "      <td>4.9</td>\n",
              "      <td>6.1</td>\n",
              "      <td>5.7</td>\n",
              "      <td>6.5</td>\n",
              "      <td>6.2</td>\n",
              "      <td>6.6</td>\n",
              "      <td>6.5</td>\n",
              "      <td>5.5</td>\n",
              "      <td>6</td>\n",
              "    </tr>\n",
              "    <tr>\n",
              "      <th>volatile_acidity</th>\n",
              "      <td>0.7</td>\n",
              "      <td>0.88</td>\n",
              "      <td>0.76</td>\n",
              "      <td>0.28</td>\n",
              "      <td>0.7</td>\n",
              "      <td>0.66</td>\n",
              "      <td>0.6</td>\n",
              "      <td>0.65</td>\n",
              "      <td>0.58</td>\n",
              "      <td>0.5</td>\n",
              "      <td>0.58</td>\n",
              "      <td>0.5</td>\n",
              "      <td>0.615</td>\n",
              "      <td>0.61</td>\n",
              "      <td>0.62</td>\n",
              "      <td>0.62</td>\n",
              "      <td>0.28</td>\n",
              "      <td>0.56</td>\n",
              "      <td>0.59</td>\n",
              "      <td>0.32</td>\n",
              "      <td>0.22</td>\n",
              "      <td>0.39</td>\n",
              "      <td>0.43</td>\n",
              "      <td>0.49</td>\n",
              "      <td>0.4</td>\n",
              "      <td>0.39</td>\n",
              "      <td>0.41</td>\n",
              "      <td>0.43</td>\n",
              "      <td>0.71</td>\n",
              "      <td>0.645</td>\n",
              "      <td>0.675</td>\n",
              "      <td>0.685</td>\n",
              "      <td>0.655</td>\n",
              "      <td>0.605</td>\n",
              "      <td>0.32</td>\n",
              "      <td>0.645</td>\n",
              "      <td>0.6</td>\n",
              "      <td>0.38</td>\n",
              "      <td>1.13</td>\n",
              "      <td>0.45</td>\n",
              "      <td>...</td>\n",
              "      <td>0.35</td>\n",
              "      <td>0.43</td>\n",
              "      <td>0.52</td>\n",
              "      <td>0.31</td>\n",
              "      <td>0.22</td>\n",
              "      <td>0.36</td>\n",
              "      <td>0.41</td>\n",
              "      <td>0.355</td>\n",
              "      <td>0.41</td>\n",
              "      <td>0.6</td>\n",
              "      <td>0.23</td>\n",
              "      <td>0.24</td>\n",
              "      <td>0.32</td>\n",
              "      <td>0.2</td>\n",
              "      <td>0.42</td>\n",
              "      <td>0.21</td>\n",
              "      <td>0.2</td>\n",
              "      <td>0.22</td>\n",
              "      <td>0.38</td>\n",
              "      <td>0.54</td>\n",
              "      <td>0.53</td>\n",
              "      <td>0.34</td>\n",
              "      <td>0.34</td>\n",
              "      <td>0.235</td>\n",
              "      <td>0.32</td>\n",
              "      <td>0.47</td>\n",
              "      <td>0.33</td>\n",
              "      <td>0.34</td>\n",
              "      <td>0.21</td>\n",
              "      <td>0.41</td>\n",
              "      <td>0.22</td>\n",
              "      <td>0.235</td>\n",
              "      <td>0.34</td>\n",
              "      <td>0.21</td>\n",
              "      <td>0.23</td>\n",
              "      <td>0.21</td>\n",
              "      <td>0.32</td>\n",
              "      <td>0.24</td>\n",
              "      <td>0.29</td>\n",
              "      <td>0.21</td>\n",
              "    </tr>\n",
              "    <tr>\n",
              "      <th>citric_acid</th>\n",
              "      <td>0</td>\n",
              "      <td>0</td>\n",
              "      <td>0.04</td>\n",
              "      <td>0.56</td>\n",
              "      <td>0</td>\n",
              "      <td>0</td>\n",
              "      <td>0.06</td>\n",
              "      <td>0</td>\n",
              "      <td>0.02</td>\n",
              "      <td>0.36</td>\n",
              "      <td>0.08</td>\n",
              "      <td>0.36</td>\n",
              "      <td>0</td>\n",
              "      <td>0.29</td>\n",
              "      <td>0.18</td>\n",
              "      <td>0.19</td>\n",
              "      <td>0.56</td>\n",
              "      <td>0.28</td>\n",
              "      <td>0.08</td>\n",
              "      <td>0.51</td>\n",
              "      <td>0.48</td>\n",
              "      <td>0.31</td>\n",
              "      <td>0.21</td>\n",
              "      <td>0.11</td>\n",
              "      <td>0.14</td>\n",
              "      <td>0.16</td>\n",
              "      <td>0.24</td>\n",
              "      <td>0.21</td>\n",
              "      <td>0</td>\n",
              "      <td>0</td>\n",
              "      <td>0.07</td>\n",
              "      <td>0</td>\n",
              "      <td>0.12</td>\n",
              "      <td>0.12</td>\n",
              "      <td>0.25</td>\n",
              "      <td>0</td>\n",
              "      <td>0.14</td>\n",
              "      <td>0.28</td>\n",
              "      <td>0.09</td>\n",
              "      <td>0.36</td>\n",
              "      <td>...</td>\n",
              "      <td>0.51</td>\n",
              "      <td>0.34</td>\n",
              "      <td>0.33</td>\n",
              "      <td>0.29</td>\n",
              "      <td>0.3</td>\n",
              "      <td>0.32</td>\n",
              "      <td>0.23</td>\n",
              "      <td>0.35</td>\n",
              "      <td>0.21</td>\n",
              "      <td>0.34</td>\n",
              "      <td>0.31</td>\n",
              "      <td>0.33</td>\n",
              "      <td>0.28</td>\n",
              "      <td>0.4</td>\n",
              "      <td>0.41</td>\n",
              "      <td>0.32</td>\n",
              "      <td>0.36</td>\n",
              "      <td>0.26</td>\n",
              "      <td>0.42</td>\n",
              "      <td>0</td>\n",
              "      <td>0.02</td>\n",
              "      <td>0.4</td>\n",
              "      <td>0.4</td>\n",
              "      <td>0.27</td>\n",
              "      <td>0.13</td>\n",
              "      <td>0.17</td>\n",
              "      <td>0.38</td>\n",
              "      <td>0.4</td>\n",
              "      <td>0.28</td>\n",
              "      <td>0.22</td>\n",
              "      <td>0.36</td>\n",
              "      <td>0.27</td>\n",
              "      <td>0.29</td>\n",
              "      <td>0.32</td>\n",
              "      <td>0.38</td>\n",
              "      <td>0.29</td>\n",
              "      <td>0.36</td>\n",
              "      <td>0.19</td>\n",
              "      <td>0.3</td>\n",
              "      <td>0.38</td>\n",
              "    </tr>\n",
              "    <tr>\n",
              "      <th>residual_sugar</th>\n",
              "      <td>1.9</td>\n",
              "      <td>2.6</td>\n",
              "      <td>2.3</td>\n",
              "      <td>1.9</td>\n",
              "      <td>1.9</td>\n",
              "      <td>1.8</td>\n",
              "      <td>1.6</td>\n",
              "      <td>1.2</td>\n",
              "      <td>2</td>\n",
              "      <td>6.1</td>\n",
              "      <td>1.8</td>\n",
              "      <td>6.1</td>\n",
              "      <td>1.6</td>\n",
              "      <td>1.6</td>\n",
              "      <td>3.8</td>\n",
              "      <td>3.9</td>\n",
              "      <td>1.8</td>\n",
              "      <td>1.7</td>\n",
              "      <td>4.4</td>\n",
              "      <td>1.8</td>\n",
              "      <td>1.8</td>\n",
              "      <td>2.3</td>\n",
              "      <td>1.6</td>\n",
              "      <td>2.3</td>\n",
              "      <td>2.4</td>\n",
              "      <td>1.4</td>\n",
              "      <td>1.8</td>\n",
              "      <td>1.6</td>\n",
              "      <td>1.9</td>\n",
              "      <td>2</td>\n",
              "      <td>2.4</td>\n",
              "      <td>2.5</td>\n",
              "      <td>2.3</td>\n",
              "      <td>10.7</td>\n",
              "      <td>1.8</td>\n",
              "      <td>5.5</td>\n",
              "      <td>2.4</td>\n",
              "      <td>2.1</td>\n",
              "      <td>1.5</td>\n",
              "      <td>5.9</td>\n",
              "      <td>...</td>\n",
              "      <td>7.8</td>\n",
              "      <td>7.6</td>\n",
              "      <td>7.7</td>\n",
              "      <td>3</td>\n",
              "      <td>1.3</td>\n",
              "      <td>4</td>\n",
              "      <td>1.1</td>\n",
              "      <td>2</td>\n",
              "      <td>1.9</td>\n",
              "      <td>1.4</td>\n",
              "      <td>4.5</td>\n",
              "      <td>10.1</td>\n",
              "      <td>6.6</td>\n",
              "      <td>1.9</td>\n",
              "      <td>12.4</td>\n",
              "      <td>1.6</td>\n",
              "      <td>2.5</td>\n",
              "      <td>1.2</td>\n",
              "      <td>2.5</td>\n",
              "      <td>0.8</td>\n",
              "      <td>0.9</td>\n",
              "      <td>8.1</td>\n",
              "      <td>8.1</td>\n",
              "      <td>11.75</td>\n",
              "      <td>1.3</td>\n",
              "      <td>1.9</td>\n",
              "      <td>8.3</td>\n",
              "      <td>8.1</td>\n",
              "      <td>5.7</td>\n",
              "      <td>1.9</td>\n",
              "      <td>1.2</td>\n",
              "      <td>11.75</td>\n",
              "      <td>2.2</td>\n",
              "      <td>0.9</td>\n",
              "      <td>1.3</td>\n",
              "      <td>1.6</td>\n",
              "      <td>8</td>\n",
              "      <td>1.2</td>\n",
              "      <td>1.1</td>\n",
              "      <td>0.8</td>\n",
              "    </tr>\n",
              "    <tr>\n",
              "      <th>chlorides</th>\n",
              "      <td>0.076</td>\n",
              "      <td>0.098</td>\n",
              "      <td>0.092</td>\n",
              "      <td>0.075</td>\n",
              "      <td>0.076</td>\n",
              "      <td>0.075</td>\n",
              "      <td>0.069</td>\n",
              "      <td>0.065</td>\n",
              "      <td>0.073</td>\n",
              "      <td>0.071</td>\n",
              "      <td>0.097</td>\n",
              "      <td>0.071</td>\n",
              "      <td>0.089</td>\n",
              "      <td>0.114</td>\n",
              "      <td>0.176</td>\n",
              "      <td>0.17</td>\n",
              "      <td>0.092</td>\n",
              "      <td>0.368</td>\n",
              "      <td>0.086</td>\n",
              "      <td>0.341</td>\n",
              "      <td>0.077</td>\n",
              "      <td>0.082</td>\n",
              "      <td>0.106</td>\n",
              "      <td>0.084</td>\n",
              "      <td>0.085</td>\n",
              "      <td>0.08</td>\n",
              "      <td>0.08</td>\n",
              "      <td>0.106</td>\n",
              "      <td>0.08</td>\n",
              "      <td>0.082</td>\n",
              "      <td>0.089</td>\n",
              "      <td>0.105</td>\n",
              "      <td>0.083</td>\n",
              "      <td>0.073</td>\n",
              "      <td>0.103</td>\n",
              "      <td>0.086</td>\n",
              "      <td>0.086</td>\n",
              "      <td>0.066</td>\n",
              "      <td>0.172</td>\n",
              "      <td>0.074</td>\n",
              "      <td>...</td>\n",
              "      <td>0.055</td>\n",
              "      <td>0.045</td>\n",
              "      <td>0.046</td>\n",
              "      <td>0.027</td>\n",
              "      <td>0.052</td>\n",
              "      <td>0.036</td>\n",
              "      <td>0.066</td>\n",
              "      <td>0.046</td>\n",
              "      <td>0.048</td>\n",
              "      <td>0.031</td>\n",
              "      <td>0.046</td>\n",
              "      <td>0.032</td>\n",
              "      <td>0.021</td>\n",
              "      <td>0.015</td>\n",
              "      <td>0.032</td>\n",
              "      <td>0.03</td>\n",
              "      <td>0.048</td>\n",
              "      <td>0.035</td>\n",
              "      <td>0.038</td>\n",
              "      <td>0.032</td>\n",
              "      <td>0.035</td>\n",
              "      <td>0.046</td>\n",
              "      <td>0.046</td>\n",
              "      <td>0.03</td>\n",
              "      <td>0.037</td>\n",
              "      <td>0.035</td>\n",
              "      <td>0.048</td>\n",
              "      <td>0.046</td>\n",
              "      <td>0.028</td>\n",
              "      <td>0.023</td>\n",
              "      <td>0.052</td>\n",
              "      <td>0.03</td>\n",
              "      <td>0.036</td>\n",
              "      <td>0.038</td>\n",
              "      <td>0.032</td>\n",
              "      <td>0.039</td>\n",
              "      <td>0.047</td>\n",
              "      <td>0.041</td>\n",
              "      <td>0.022</td>\n",
              "      <td>0.02</td>\n",
              "    </tr>\n",
              "  </tbody>\n",
              "</table>\n",
              "<p>5 rows × 6497 columns</p>\n",
              "</div>"
            ],
            "text/plain": [
              "                   0      1      2      3     ...   4894   4895   4896  4897\n",
              "fixed_acidity       7.4    7.8    7.8   11.2  ...    6.6    6.5    5.5     6\n",
              "volatile_acidity    0.7   0.88   0.76   0.28  ...   0.32   0.24   0.29  0.21\n",
              "citric_acid           0      0   0.04   0.56  ...   0.36   0.19    0.3  0.38\n",
              "residual_sugar      1.9    2.6    2.3    1.9  ...      8    1.2    1.1   0.8\n",
              "chlorides         0.076  0.098  0.092  0.075  ...  0.047  0.041  0.022  0.02\n",
              "\n",
              "[5 rows x 6497 columns]"
            ]
          },
          "metadata": {},
          "execution_count": 125
        }
      ]
    },
    {
      "cell_type": "code",
      "metadata": {
        "id": "V0JRBx7jTRXS",
        "colab": {
          "base_uri": "https://localhost:8080/",
          "height": 162
        },
        "outputId": "cf9de884-aa09-43f2-d1ff-17b18044cc26"
      },
      "source": [
        "wine.T.values().head()"
      ],
      "execution_count": null,
      "outputs": [
        {
          "output_type": "error",
          "ename": "TypeError",
          "evalue": "ignored",
          "traceback": [
            "\u001b[0;31m---------------------------------------------------------------------------\u001b[0m",
            "\u001b[0;31mTypeError\u001b[0m                                 Traceback (most recent call last)",
            "\u001b[0;32m<ipython-input-126-cce774058dd7>\u001b[0m in \u001b[0;36m<module>\u001b[0;34m()\u001b[0m\n\u001b[0;32m----> 1\u001b[0;31m \u001b[0mwine\u001b[0m\u001b[0;34m.\u001b[0m\u001b[0mT\u001b[0m\u001b[0;34m.\u001b[0m\u001b[0mvalues\u001b[0m\u001b[0;34m(\u001b[0m\u001b[0;34m)\u001b[0m\u001b[0;34m.\u001b[0m\u001b[0mhead\u001b[0m\u001b[0;34m(\u001b[0m\u001b[0;34m)\u001b[0m\u001b[0;34m\u001b[0m\u001b[0;34m\u001b[0m\u001b[0m\n\u001b[0m",
            "\u001b[0;31mTypeError\u001b[0m: 'numpy.ndarray' object is not callable"
          ]
        }
      ]
    },
    {
      "cell_type": "code",
      "metadata": {
        "id": "VWUiQlo-FFGv"
      },
      "source": [
        "wine.describe() # 연속형 데이터에 대한 통계량"
      ],
      "execution_count": null,
      "outputs": []
    },
    {
      "cell_type": "code",
      "metadata": {
        "id": "jvxBCtW9FFDO"
      },
      "source": [
        "wine.quality.describe()"
      ],
      "execution_count": null,
      "outputs": []
    },
    {
      "cell_type": "code",
      "metadata": {
        "id": "iZOZSQJNFFAT"
      },
      "source": [
        "sorted(wine.quality.unique())"
      ],
      "execution_count": null,
      "outputs": []
    },
    {
      "cell_type": "code",
      "metadata": {
        "id": "mruu8PLxFE8l"
      },
      "source": [
        "wine.quality.value_counts()"
      ],
      "execution_count": null,
      "outputs": []
    },
    {
      "cell_type": "code",
      "metadata": {
        "id": "zBpQ21g_OL94"
      },
      "source": [
        "wine.groupby('type')['quality'].value_counts()"
      ],
      "execution_count": null,
      "outputs": []
    },
    {
      "cell_type": "code",
      "metadata": {
        "id": "UljiBrlvFE5q"
      },
      "source": [
        "wine.groupby('type')['quality'].describe()"
      ],
      "execution_count": null,
      "outputs": []
    },
    {
      "cell_type": "code",
      "metadata": {
        "id": "RGJS16oRNsra"
      },
      "source": [
        "wine.groupby('type')['quality'].quantile([0,0.25, 0.5, 0.75, 1]).unstack('type')\n",
        "# unstack: dataframe으로 변환"
      ],
      "execution_count": null,
      "outputs": []
    },
    {
      "cell_type": "code",
      "metadata": {
        "id": "XyOlXmJsN3bH"
      },
      "source": [
        "red_q = wine.loc[wine['type'] == 'Red', 'quality']\n",
        "white_q = wine.loc[wine['type'] == 'White', 'quality']"
      ],
      "execution_count": null,
      "outputs": []
    },
    {
      "cell_type": "code",
      "metadata": {
        "id": "ZCXtyXu4Q6Jj"
      },
      "source": [
        "pd.DataFrame(red_q)"
      ],
      "execution_count": null,
      "outputs": []
    },
    {
      "cell_type": "code",
      "metadata": {
        "id": "TNNPOFIwQ7Ny"
      },
      "source": [
        "sns.set_style('darkgrid')\n",
        "sns.distplot(red_q, norm_hist = True, kde = False, color = 'red', label='Red Wine')\n",
        "sns.distplot(white_q, norm_hist = True, kde = False, color = 'blue', label='White Wine')\n",
        "plt.title('Distribution of Quality of Wine Type')\n",
        "plt.xlabel('Quality Score')\n",
        "plt.ylabel('Density')\n",
        "plt.legend();"
      ],
      "execution_count": null,
      "outputs": []
    },
    {
      "cell_type": "code",
      "metadata": {
        "id": "iQf8-CRsR62f"
      },
      "source": [
        "sns.set_style('darkgrid')\n",
        "sns.distplot(red_q, color = 'red', label='Red Wine')\n",
        "sns.distplot(white_q, color = 'blue', label='White Wine')\n",
        "plt.title('Distribution of Quality of Wine Type')\n",
        "plt.xlabel('Quality Score')\n",
        "plt.ylabel('Density')\n",
        "plt.legend();"
      ],
      "execution_count": null,
      "outputs": []
    },
    {
      "cell_type": "code",
      "metadata": {
        "id": "Mf_Ar-G1SA2l"
      },
      "source": [
        "sns.set_style('darkgrid')\n",
        "sns.distplot(red_q, norm_hist = True, color = 'red', label='Red Wine')\n",
        "sns.distplot(white_q, norm_hist = True, color = 'blue', label='White Wine')\n",
        "plt.title('Distribution of Quality of Wine Type')\n",
        "plt.xlabel('Quality Score')\n",
        "plt.ylabel('Density')\n",
        "plt.legend();"
      ],
      "execution_count": null,
      "outputs": []
    },
    {
      "cell_type": "markdown",
      "metadata": {
        "id": "nEjIJggEA7rb"
      },
      "source": [
        "## 품질 차이의 통계적 유의적 검정\n",
        "> 귀무가설 정의 -> 표본 추출 -> 통계 기법을 통한 검정 -> 귀무가설 기각/채택\n",
        "\n",
        "> 귀무가설 : 가설 검증에서 , 표본에 의하여 그 진위가 검증되어야 할 가설. 두 모수치 사이에 차이가 없다고 하는 가설로, 기각될 것을 상정하고 있으므로 이런 이름이 붙음. 기 가설이 기각되지 않으면 모수치들 사이에 확률적으로 차이가 없다고 결론 내리며, 기각된다면 차이가 있다고 결론.\n",
        "\n",
        "> 모집단이 3개 이상일 때 ANOVA 분산 분석\n",
        "  모집단이 2개 일때 t-검정"
      ]
    },
    {
      "cell_type": "code",
      "metadata": {
        "id": "gc_b0jsASWje"
      },
      "source": [
        "wine.groupby('type')['quality'].aggregate(['std', 'mean'])"
      ],
      "execution_count": null,
      "outputs": []
    },
    {
      "cell_type": "code",
      "metadata": {
        "id": "px90kq9rSWgL"
      },
      "source": [
        "import statsmodels.api as sm\n",
        "\n",
        "t_stat, p_value, df = sm.stats.ttest_ind(red_q, white_q)\n",
        "'t-stat : {: .3f}, p-value : {: 4f}'.format(t_stat, p_value)\n",
        "\n",
        "# df(degree of freedom) : 밀도 함수를 그릴 때 함수의 기울기\n",
        "# 귀무가설 : 와인 종류별 품질의 차이는 없다. p-value > 0.05이면 평균 차이가 없음(귀무가설 채택)"
      ],
      "execution_count": null,
      "outputs": []
    },
    {
      "cell_type": "code",
      "metadata": {
        "id": "DWSinRd9SWdq"
      },
      "source": [
        "t_stat, p_value, df # 6495.0 : degree of freedom"
      ],
      "execution_count": null,
      "outputs": []
    },
    {
      "cell_type": "code",
      "metadata": {
        "id": "14f8P6jf4o45"
      },
      "source": [
        "sm.stats.ttest_ind(red_q, white_q)[1] # p-value"
      ],
      "execution_count": null,
      "outputs": []
    },
    {
      "cell_type": "code",
      "metadata": {
        "id": "Q-2HmSPb4j08"
      },
      "source": [
        "sm.stats.ttest_ind(red_q, white_q)[1] <= 0.05 # 귀무가설 기각, 평균의 차이가 있다."
      ],
      "execution_count": null,
      "outputs": []
    },
    {
      "cell_type": "markdown",
      "metadata": {
        "id": "0gBGPMow5jSu"
      },
      "source": [
        "_"
      ]
    },
    {
      "cell_type": "markdown",
      "metadata": {
        "id": "INQdQTanFSoN"
      },
      "source": [
        "## 07-3 - 와인 품질 데이터 상관 분석\n",
        "> https://www.youtube.com/watch?v=OhXREH7orHs&list=PLwvr-xPygMX9TaQFW3C1UGEuD0zJF7pCk&index=36&ab_channel=K-ICT%EB%B9%85%EB%8D%B0%EC%9D%B4%ED%84%B0%EC%84%BC%ED%84%B0"
      ]
    },
    {
      "cell_type": "code",
      "metadata": {
        "id": "J-ZYbeQsSWaT"
      },
      "source": [
        "wine_corr = wine.corr()\n",
        "wine_corr"
      ],
      "execution_count": null,
      "outputs": []
    },
    {
      "cell_type": "code",
      "metadata": {
        "id": "9SYuK9eaSWUM"
      },
      "source": [
        "wine_corr.loc[wine_corr['quality']>0, 'quality'] # quality 열만 Series 출력"
      ],
      "execution_count": null,
      "outputs": []
    },
    {
      "cell_type": "code",
      "metadata": {
        "id": "oK4kKss4F28-"
      },
      "source": [
        "wine_corr.loc[wine_corr['quality']<0, 'quality']"
      ],
      "execution_count": null,
      "outputs": []
    },
    {
      "cell_type": "code",
      "metadata": {
        "id": "psP2FyY-_aB3"
      },
      "source": [
        "wine_corr.loc[ (np.abs(wine_corr['quality']) > 0.3) & (np.abs(wine_corr['quality'] !=1)) , 'quality']\n",
        "# 음수 중에서도 0보다 큰 값을 출력"
      ],
      "execution_count": null,
      "outputs": []
    },
    {
      "cell_type": "code",
      "metadata": {
        "id": "jSkIf899_Z-7"
      },
      "source": [
        ""
      ],
      "execution_count": null,
      "outputs": []
    },
    {
      "cell_type": "markdown",
      "metadata": {
        "id": "rbOzGHEJGXN9"
      },
      "source": [
        "## 07-4 - 와인 품질 데이터 탐색적 분석 실습\n",
        "> 산점도 행렬\n",
        "\n",
        "> https://www.youtube.com/watch?v=g3ErwN8AKkw&list=PLwvr-xPygMX9TaQFW3C1UGEuD0zJF7pCk&index=37&ab_channel=K-ICT%EB%B9%85%EB%8D%B0%EC%9D%B4%ED%84%B0%EC%84%BC%ED%84%B0"
      ]
    },
    {
      "cell_type": "code",
      "metadata": {
        "id": "OklCLyTcGbni"
      },
      "source": [
        "red_sample = wine.loc[wine['type'] == 'Red', :]\n",
        "white_sample = wine.loc[wine['type'] == 'White', :]"
      ],
      "execution_count": null,
      "outputs": []
    },
    {
      "cell_type": "code",
      "metadata": {
        "id": "k-uk4gD8Gck5"
      },
      "source": [
        "red_idx = np.random.choice(red_sample.index, replace=True, size = 200)\n",
        "white_idx = np.random.choice(white_sample.index, replace=True, size = 200)"
      ],
      "execution_count": null,
      "outputs": []
    },
    {
      "cell_type": "code",
      "metadata": {
        "id": "vBXyf4ZlGchu"
      },
      "source": [
        "wine_sample = red_sample.loc[red_idx, ].append(white_sample.loc[white_idx, ])\n",
        "wine_sample.head()"
      ],
      "execution_count": null,
      "outputs": []
    },
    {
      "cell_type": "code",
      "metadata": {
        "id": "BJp1Z17vGcfV"
      },
      "source": [
        "wine_sample.shape"
      ],
      "execution_count": null,
      "outputs": []
    },
    {
      "cell_type": "code",
      "metadata": {
        "id": "OHXHSWj4GccB"
      },
      "source": [
        "sns.set_style('dark')\n",
        "sns.pairplot(wine_sample, vars = ['quality', 'alcohol', 'residual_sugar'],\n",
        "             kind='reg', plot_kws = {'ci': False, 'x_jitter': 0.25, 'y_jitter': 0.25},\n",
        "             diag_kind = 'hist', diag_kws = {'bins': 10, 'alpha': 1},\n",
        "             hue = 'type', palette = dict(Red='red', White='blue', markers = ['o', 's']))"
      ],
      "execution_count": null,
      "outputs": []
    },
    {
      "cell_type": "markdown",
      "metadata": {
        "id": "k_EAXh6fjSzF"
      },
      "source": [
        "> 17:40\n",
        "\n",
        "> https://www.youtube.com/watch?v=g3ErwN8AKkw&list=PLwvr-xPygMX9TaQFW3C1UGEuD0zJF7pCk&index=38&ab_channel=K-ICT%EB%B9%85%EB%8D%B0%EC%9D%B4%ED%84%B0%EC%84%BC%ED%84%B0 "
      ]
    },
    {
      "cell_type": "code",
      "metadata": {
        "id": "LsDPiubbabkR"
      },
      "source": [
        "wine.shape"
      ],
      "execution_count": null,
      "outputs": []
    },
    {
      "cell_type": "code",
      "metadata": {
        "id": "ezMcxh0z3kJ8"
      },
      "source": [
        "wine.quality.value_counts()"
      ],
      "execution_count": null,
      "outputs": []
    },
    {
      "cell_type": "markdown",
      "metadata": {
        "id": "oemh4fdvAk2Y"
      },
      "source": [
        "## 07-5 - 단순 선형 회귀(OLS) 개념\n",
        "> 최소 제곱법 : OLS(Ordinary Least Sqaures), LLS(Linear Least Squares)\n",
        "\n",
        "> https://www.youtube.com/watch?v=eTTGN4FAPxk&list=PLwvr-xPygMX9TaQFW3C1UGEuD0zJF7pCk&index=38&ab_channel=K-ICT%EB%B9%85%EB%8D%B0%EC%9D%B4%ED%84%B0%EC%84%BC%ED%84%B0"
      ]
    },
    {
      "cell_type": "markdown",
      "metadata": {
        "id": "_q3APRbNnkiy"
      },
      "source": [
        "> 단순 선형 회귀\n",
        "- 회귀의 목표는 연속형(수치형) 반응 변수의 값을 예측하는 것\n",
        "- 단순 선형 회귀란 설명 변수인 단일 특징과 단일 반응 변수 간에 선형 관계가 있다고 가정하고 초평면이라고 하는 선형 평면을 이용해 모델링한 것"
      ]
    },
    {
      "cell_type": "markdown",
      "metadata": {
        "id": "qjSDBpo-rcQ4"
      },
      "source": [
        "## 08-2 - 선형회귀 모델 기반 와인 품질 예측 모델 학습\n",
        "\n",
        "> https://www.youtube.com/watch?v=ByxvPA0Hybk&list=PLwvr-xPygMX9TaQFW3C1UGEuD0zJF7pCk&index=43&ab_channel=K-ICT%EB%B9%85%EB%8D%B0%EC%9D%B4%ED%84%B0%EC%84%BC%ED%84%B0"
      ]
    },
    {
      "cell_type": "code",
      "metadata": {
        "id": "yeBubLjK4JET"
      },
      "source": [
        "wine.shape"
      ],
      "execution_count": null,
      "outputs": []
    },
    {
      "cell_type": "code",
      "metadata": {
        "id": "SHj1ROvsriuN"
      },
      "source": [
        "from sklearn.linear_model import LinearRegression\n",
        "\n",
        "model = LinearRegression(fit_intercept=True) # 상수항을 사용할지 여부\n",
        "model"
      ],
      "execution_count": null,
      "outputs": []
    },
    {
      "cell_type": "markdown",
      "metadata": {
        "id": "A8M4sVCusVc7"
      },
      "source": [
        "> sckit-learn api를 사용하기 위해 DataFrmae 객체에서 특징 행렬(feature matrix, ndarry 2차원 배열)과 대상 벡터(ndarry 1차원 배열)이어야 함"
      ]
    },
    {
      "cell_type": "code",
      "metadata": {
        "id": "Qmzcsw37rw73"
      },
      "source": [
        "X = wine.drop(['type', 'quality'], axis=1)\n",
        "X.shape"
      ],
      "execution_count": null,
      "outputs": []
    },
    {
      "cell_type": "code",
      "metadata": {
        "id": "fzgphGj7sCjs"
      },
      "source": [
        "y=wine.quality\n",
        "y.shape"
      ],
      "execution_count": null,
      "outputs": []
    },
    {
      "cell_type": "code",
      "metadata": {
        "id": "Fq8JLZDOsLUy"
      },
      "source": [
        "from sklearn.model_selection import train_test_split\n",
        "\n",
        "# 특징행렬과 대상벡터로 나눔(X 대문자: 2차원 구조, y 소문자 1차원 표현)\n",
        "\n",
        "X_train, X_test, y_train, y_test = train_test_split(X, y, random_state = 1)\n",
        "#test_size 지정하지 않으면 25%\n",
        "X_train.shape, X_test.shape, y_train.shape, y_test.shape"
      ],
      "execution_count": null,
      "outputs": []
    },
    {
      "cell_type": "code",
      "metadata": {
        "id": "9nMwBC5_tVg4"
      },
      "source": [
        "model.fit(X_train, y_train)"
      ],
      "execution_count": null,
      "outputs": []
    },
    {
      "cell_type": "code",
      "metadata": {
        "id": "N7g6t41Jt547"
      },
      "source": [
        "model.coef_ # 11개의 계수들"
      ],
      "execution_count": null,
      "outputs": []
    },
    {
      "cell_type": "code",
      "metadata": {
        "id": "oWo-GImPt-0o"
      },
      "source": [
        "model.intercept_"
      ],
      "execution_count": null,
      "outputs": []
    },
    {
      "cell_type": "code",
      "metadata": {
        "id": "3weKm4u3uBNk"
      },
      "source": [
        "newdata = np.array([6.3, 0.3, 0.34, 1.6, 0.049, 14, 132, 0.994, 3.3, 0.49, 9.5])"
      ],
      "execution_count": null,
      "outputs": []
    },
    {
      "cell_type": "code",
      "metadata": {
        "id": "tdB0WAnLu2mF"
      },
      "source": [
        "model.predict(np.reshape(newdata, (1, 11)))"
      ],
      "execution_count": null,
      "outputs": []
    },
    {
      "cell_type": "code",
      "metadata": {
        "id": "GVYCz6_Lu8xP"
      },
      "source": [
        "y_pred = model.predict(X_test)\n",
        "y_pred.shape"
      ],
      "execution_count": null,
      "outputs": []
    },
    {
      "cell_type": "code",
      "metadata": {
        "id": "f5Q7ydRs7uzA"
      },
      "source": [
        "from sklearn.metrics import mean_squared_error\n",
        "\n",
        "np.round(np.sqrt(mean_squared_error(y_test, y_pred)), 3)"
      ],
      "execution_count": null,
      "outputs": []
    },
    {
      "cell_type": "code",
      "metadata": {
        "id": "rRk1w_SF7uvy"
      },
      "source": [
        ""
      ],
      "execution_count": null,
      "outputs": []
    },
    {
      "cell_type": "code",
      "metadata": {
        "id": "beWmDDua7usn"
      },
      "source": [
        ""
      ],
      "execution_count": null,
      "outputs": []
    },
    {
      "cell_type": "markdown",
      "metadata": {
        "id": "GdZYmcezvKSJ"
      },
      "source": [
        "## 선형회귀 모델 성능 측정 및 와인 품질 예측 모델 만들기 실습\n",
        "\n",
        "> https://www.youtube.com/watch?v=OXNTKInVuDk&list=PLwvr-xPygMX9TaQFW3C1UGEuD0zJF7pCk&index=44&ab_channel=K-ICT%EB%B9%85%EB%8D%B0%EC%9D%B4%ED%84%B0%EC%84%BC%ED%84%B0\n",
        "\n",
        "> 모델의 성능 측정\n",
        "- 평균 제곱근 오차 RMSE(Root Mean Square Error)\n",
        "- 평균 제곱근 오차는 분산의 제곱근, 즉, 표준 오차가 됨"
      ]
    },
    {
      "cell_type": "code",
      "metadata": {
        "id": "FW3lNqXavBJQ"
      },
      "source": [
        "def rmse(y_real, y_pred):\n",
        "    return np.sqrt(np.mean((y_real-y_pred)**2))"
      ],
      "execution_count": null,
      "outputs": []
    },
    {
      "cell_type": "code",
      "metadata": {
        "id": "ogCU3j2Tv493"
      },
      "source": [
        "np.round(rmse(y_test, y_pred), 2)"
      ],
      "execution_count": null,
      "outputs": []
    },
    {
      "cell_type": "markdown",
      "metadata": {
        "id": "zY3wTFVJ8Cfc"
      },
      "source": [
        "## 08-4 - 규제 선형회귀 모델 개념 및 학습\n",
        "\n",
        "> https://www.youtube.com/watch?v=w4_kU4Ilgtc&list=PLwvr-xPygMX9TaQFW3C1UGEuD0zJF7pCk&index=45&ab_channel=K-ICT%EB%B9%85%EB%8D%B0%EC%9D%B4%ED%84%B0%EC%84%BC%ED%84%B0\n",
        "\n",
        "- 과분산 모델에 대해 모델을 규제하면 오버피팅을 감소시킬 수 있음 (차원수가 높아지는 것을 규제)\n",
        "- 규제란 오버피팅된 파라미터 값에 대해 페널티를 부여하는 것\n",
        "- 페널티를 추가하게 되면 규제가 없는 회귀 모델보다 계수의 절대값이 작아지게 되는 원리를 이용해 오퍼피팅을 방지할 수 있음\n",
        "- 페널티를 가한다는 것은 편향을 높인다는 것을 의미하며, 규제가 없는 모델보다 훈련 데이터와의 적합도가 떨어지지만 전체적인 결과는 좋아짐\n",
        "- 오버피팅된 모델은 지나친 노이즈를 반영할 수 있으므로 모델을 단순화하여 좀 더 일반화된 모델로 만들 필요가 있음"
      ]
    },
    {
      "cell_type": "markdown",
      "metadata": {
        "id": "Ru8rdOHE-mEn"
      },
      "source": [
        "## 08-5 - 리지(Ridge)회귀 모델 개념 및 와인 품질 예측 모델 만들기 실습\n",
        "\n",
        "> https://www.youtube.com/watch?v=Lw6AayMhl9s&list=PLwvr-xPygMX9TaQFW3C1UGEuD0zJF7pCk&index=46&ab_channel=K-ICT%EB%B9%85%EB%8D%B0%EC%9D%B4%ED%84%B0%EC%84%BC%ED%84%B0"
      ]
    },
    {
      "cell_type": "code",
      "metadata": {
        "id": "cWfwyD7Zv-qF"
      },
      "source": [
        "from sklearn.linear_model import Ridge\n",
        "\n",
        "model_name = 'ridge'\n",
        "alpha = 0.05\n",
        "fig = plt.figure(figsize = (6,3))\n",
        "ax = fig.add_subplot(111)\n",
        "ridge = Ridge(alpha = alpha)\n",
        "ridge.fit(X_train, y_train)\n",
        "y_pred = ridge.predict(X_test)\n",
        "rmse = np.round(np.sqrt(mean_squared_error(y_test, y_pred)), 3)\n",
        "coef = pd.Series(data=ridge.coef_, index = X_train.columns).sort_values()\n",
        "ax.bar(coef.index, coef.values)\n",
        "ax.set_xticklabels(coef.index, rotation =90)\n",
        "ax.set_title('{0}: alpha = {1}, rmse = {2}'.format(model_name, alpha, rmse));"
      ],
      "execution_count": null,
      "outputs": []
    },
    {
      "cell_type": "markdown",
      "metadata": {
        "id": "vZrpengQB6zG"
      },
      "source": [
        "## 라쏘(Lasso)회귀 모델 기반 와인 품질 예측 모델 만들기 실습\n",
        "\n",
        "> https://www.youtube.com/watch?v=Zb-6ZhT2zBE&list=PLwvr-xPygMX9TaQFW3C1UGEuD0zJF7pCk&index=47&ab_channel=K-ICT%EB%B9%85%EB%8D%B0%EC%9D%B4%ED%84%B0%EC%84%BC%ED%84%B0\n",
        "\n",
        "- 덜 중요한 특징의 가중치(0)를 완전히 제거하려고 함\n",
        "- 차수가 높은 다항 특징의 가중치를 0으로 만듦"
      ]
    },
    {
      "cell_type": "code",
      "metadata": {
        "id": "cDJJn8fsAYtv"
      },
      "source": [
        "from sklearn.linear_model import Lasso\n",
        "\n",
        "model_name = 'lasso'\n",
        "alpha = 0.05\n",
        "fig = plt.figure(figsize = (6,3))\n",
        "ax = fig.add_subplot(111)\n",
        "lasso = Lasso(alpha = alpha)\n",
        "lasso.fit(X_train, y_train)\n",
        "y_pred = lasso.predict(X_test)\n",
        "rmse = np.round(np.sqrt(mean_squared_error(y_test, y_pred)), 3)\n",
        "coef = pd.Series(data=lasso.coef_, index = X_train.columns).sort_values()\n",
        "ax.bar(coef.index, coef.values)\n",
        "ax.set_xticklabels(coef.index, rotation =90)\n",
        "ax.set_title('{0}: alpha = {1}, rmse = {2}'.format(model_name, alpha, rmse));"
      ],
      "execution_count": null,
      "outputs": []
    },
    {
      "cell_type": "markdown",
      "metadata": {
        "id": "nu7p6b3IDjbe"
      },
      "source": [
        "## 주요 정리\n",
        "- 선형 회귀 모델의 성능을 측정하는 평가 지표로 RMSE를 사용할 수 있다.\n",
        "- 과분산 선형 회귀 모델에 대해 규제를 적용하면 오버피팅 문제를 감소시킬 수 있다.\n",
        "- 리지 회귀 모델은 규제가 있는 선형 회귀 모델로 가중치 벡터의 제곱항을 합한 L2노름을 2로 나눈 값을 적용한다.\n",
        "- 라쏘 회귀 모델은 규제가 있는 선형 회귀 모델로 가중치 벡터의 절대값의 합인 L1 노름을 적용한다."
      ]
    },
    {
      "cell_type": "markdown",
      "metadata": {
        "id": "qYDoF4muE-Bk"
      },
      "source": [
        "# 09-3 - 의사결정트리 구현을 위한 CART 알고리즘\n",
        "\n",
        "> https://www.youtube.com/watch?v=zE78KTsyoO0&list=PLwvr-xPygMX9TaQFW3C1UGEuD0zJF7pCk&index=51&ab_channel=K-ICT%EB%B9%85%EB%8D%B0%EC%9D%B4%ED%84%B0%EC%84%BC%ED%84%B0\n",
        "\n",
        "- CART는 scikit-Learn의 디시젼 트리, 램덤 포레스트가 사용하는 내부 알고리즘\n",
        "- Classification and Regression Tree\n",
        "- 노드를 왼쪽, 오른쪽 자식 노드로 분할 확장하면서 트리를 생성함\n",
        "- 분할 단계에서 가장 중요한 특징과 해당 값의 모든 가능한 조합을 측정 함수를 이용해 탐욕적으로 찾음\n",
        "- 범주형 특징의 경우 해당 특징 값을 가진 샘플들을 오른쪽 자신 노드에 할당함\n",
        "- 수치형 특징의 경우 해당 값보다 큰 값을 가진 샘플들을 오른쪽 자신 노드에 할당함"
      ]
    },
    {
      "cell_type": "markdown",
      "metadata": {
        "id": "5g0J8a-xE-Tx"
      },
      "source": [
        "# 09-4 - 의사결정트리 scikit-learn 실습\n",
        "> https://www.youtube.com/watch?v=2mH1WTXsv1g&list=PLwvr-xPygMX9TaQFW3C1UGEuD0zJF7pCk&index=52&ab_channel=K-ICT%EB%B9%85%EB%8D%B0%EC%9D%B4%ED%84%B0%EC%84%BC%ED%84%B0"
      ]
    },
    {
      "cell_type": "markdown",
      "metadata": {
        "id": "7LajbVT4H8p-"
      },
      "source": [
        "## 특징 행렬과 대상 벡터 준비"
      ]
    },
    {
      "cell_type": "code",
      "metadata": {
        "id": "V797GW7QCuYr",
        "colab": {
          "base_uri": "https://localhost:8080/"
        },
        "outputId": "d7d92998-3386-46f3-8eff-f54476c5abac"
      },
      "source": [
        "from sklearn.datasets import load_iris\n",
        "\n",
        "iris = load_iris()\n",
        "iris.keys()"
      ],
      "execution_count": null,
      "outputs": [
        {
          "output_type": "execute_result",
          "data": {
            "text/plain": [
              "dict_keys(['data', 'target', 'target_names', 'DESCR', 'feature_names', 'filename'])"
            ]
          },
          "metadata": {},
          "execution_count": 129
        }
      ]
    },
    {
      "cell_type": "code",
      "metadata": {
        "id": "xxhfuuhiHBTq",
        "colab": {
          "base_uri": "https://localhost:8080/"
        },
        "outputId": "1a4d8f90-6d1c-4ee2-b970-77007121851f"
      },
      "source": [
        "iris.data[:5]"
      ],
      "execution_count": null,
      "outputs": [
        {
          "output_type": "execute_result",
          "data": {
            "text/plain": [
              "array([[5.1, 3.5, 1.4, 0.2],\n",
              "       [4.9, 3. , 1.4, 0.2],\n",
              "       [4.7, 3.2, 1.3, 0.2],\n",
              "       [4.6, 3.1, 1.5, 0.2],\n",
              "       [5. , 3.6, 1.4, 0.2]])"
            ]
          },
          "metadata": {},
          "execution_count": 130
        }
      ]
    },
    {
      "cell_type": "code",
      "metadata": {
        "id": "RZUr86eZHDus",
        "colab": {
          "base_uri": "https://localhost:8080/"
        },
        "outputId": "31a4b040-9ffb-4e5c-c9f8-ad8217bab939"
      },
      "source": [
        "iris.feature_names"
      ],
      "execution_count": null,
      "outputs": [
        {
          "output_type": "execute_result",
          "data": {
            "text/plain": [
              "['sepal length (cm)',\n",
              " 'sepal width (cm)',\n",
              " 'petal length (cm)',\n",
              " 'petal width (cm)']"
            ]
          },
          "metadata": {},
          "execution_count": 131
        }
      ]
    },
    {
      "cell_type": "code",
      "metadata": {
        "id": "Bo05vQ8lHKF0"
      },
      "source": [
        "X = iris.data[:, 2:]"
      ],
      "execution_count": null,
      "outputs": []
    },
    {
      "cell_type": "code",
      "metadata": {
        "id": "SmXOBnwDHr0i",
        "colab": {
          "base_uri": "https://localhost:8080/"
        },
        "outputId": "0840af28-a0b3-4712-933c-96e2819d6c1f"
      },
      "source": [
        "iris.target[:5]"
      ],
      "execution_count": null,
      "outputs": [
        {
          "output_type": "execute_result",
          "data": {
            "text/plain": [
              "array([0, 0, 0, 0, 0])"
            ]
          },
          "metadata": {},
          "execution_count": 133
        }
      ]
    },
    {
      "cell_type": "code",
      "metadata": {
        "id": "NR8EplS-HvO7",
        "colab": {
          "base_uri": "https://localhost:8080/"
        },
        "outputId": "7a1b0f44-f2b7-4925-e61c-6cc53e970a44"
      },
      "source": [
        "np.unique(iris.target, return_counts=True)"
      ],
      "execution_count": null,
      "outputs": [
        {
          "output_type": "execute_result",
          "data": {
            "text/plain": [
              "(array([0, 1, 2]), array([50, 50, 50]))"
            ]
          },
          "metadata": {},
          "execution_count": 134
        }
      ]
    },
    {
      "cell_type": "code",
      "metadata": {
        "id": "eahT9fvyHzdF",
        "colab": {
          "base_uri": "https://localhost:8080/"
        },
        "outputId": "2a180978-f89a-42ac-9df5-9346de64d502"
      },
      "source": [
        "iris.target_names"
      ],
      "execution_count": null,
      "outputs": [
        {
          "output_type": "execute_result",
          "data": {
            "text/plain": [
              "array(['setosa', 'versicolor', 'virginica'], dtype='<U10')"
            ]
          },
          "metadata": {},
          "execution_count": 135
        }
      ]
    },
    {
      "cell_type": "code",
      "metadata": {
        "id": "9mUSF5lTH2f2"
      },
      "source": [
        "y= iris.target"
      ],
      "execution_count": null,
      "outputs": []
    },
    {
      "cell_type": "code",
      "metadata": {
        "id": "bGuO7YDeH4eO",
        "colab": {
          "base_uri": "https://localhost:8080/"
        },
        "outputId": "65ae03e5-9aab-4fa1-9965-4de70df38eb4"
      },
      "source": [
        "from sklearn.tree import DecisionTreeClassifier\n",
        "tree = DecisionTreeClassifier(max_depth=2)\n",
        "tree.fit(X, y)"
      ],
      "execution_count": null,
      "outputs": [
        {
          "output_type": "execute_result",
          "data": {
            "text/plain": [
              "DecisionTreeClassifier(ccp_alpha=0.0, class_weight=None, criterion='gini',\n",
              "                       max_depth=2, max_features=None, max_leaf_nodes=None,\n",
              "                       min_impurity_decrease=0.0, min_impurity_split=None,\n",
              "                       min_samples_leaf=1, min_samples_split=2,\n",
              "                       min_weight_fraction_leaf=0.0, presort='deprecated',\n",
              "                       random_state=None, splitter='best')"
            ]
          },
          "metadata": {},
          "execution_count": 137
        }
      ]
    },
    {
      "cell_type": "code",
      "metadata": {
        "id": "c4TQ9ioOIOSq",
        "colab": {
          "base_uri": "https://localhost:8080/"
        },
        "outputId": "aff69cb9-99c1-4bfd-bc09-3a3890e5f779"
      },
      "source": [
        "from sklearn.tree import export_graphviz\n",
        "export_graphviz(tree, out_file='iris.dot', feature_names=iris.feature_names[2:],\n",
        "                class_names = iris.target_names, rounded=True, filled=True, impurity=True)\n",
        "import pydot\n",
        "graph = pydot.graph_from_dot_file('iris.dot')[0]\n",
        "iris_png = graph.create_png()\n",
        "\n",
        "from IPython.core.display import Image\n",
        "Image(iris_png)"
      ],
      "execution_count": null,
      "outputs": [
        {
          "output_type": "execute_result",
          "data": {
            "image/png": "[encoded data removed]",
            "text/plain": [
              "<IPython.core.display.Image object>"
            ]
          },
          "metadata": {},
          "execution_count": 138
        }
      ]
    },
    {
      "cell_type": "code",
      "metadata": {
        "id": "OP6gbZYDJNBL",
        "colab": {
          "base_uri": "https://localhost:8080/"
        },
        "outputId": "da824eb0-0610-43ed-8877-6317096274ac"
      },
      "source": [
        "for feature, importance in zip(iris.feature_names[2:], tree.feature_importances_):\n",
        "    print('{}: {}'.format(feature, importance))"
      ],
      "execution_count": null,
      "outputs": [
        {
          "output_type": "stream",
          "name": "stdout",
          "text": [
            "petal length (cm): 0.5619909502262443\n",
            "petal width (cm): 0.4380090497737556\n"
          ]
        }
      ]
    },
    {
      "cell_type": "code",
      "metadata": {
        "id": "WPLk2OgRLneU"
      },
      "source": [
        ""
      ],
      "execution_count": null,
      "outputs": []
    },
    {
      "cell_type": "code",
      "metadata": {
        "id": "kbf23rQhMXXu"
      },
      "source": [
        ""
      ],
      "execution_count": null,
      "outputs": []
    }
  ]
}