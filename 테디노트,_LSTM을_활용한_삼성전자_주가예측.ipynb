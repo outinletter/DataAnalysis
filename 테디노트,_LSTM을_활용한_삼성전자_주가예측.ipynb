{
  "nbformat": 4,
  "nbformat_minor": 0,
  "metadata": {
    "accelerator": "GPU",
    "colab": {
      "name": "테디노트, LSTM을 활용한 삼성전자 주가예측.ipynb",
      "provenance": [],
      "collapsed_sections": [],
      "include_colab_link": true
    },
    "kernelspec": {
      "display_name": "Python 3",
      "language": "python",
      "name": "python3"
    },
    "language_info": {
      "codemirror_mode": {
        "name": "ipython",
        "version": 3
      },
      "file_extension": ".py",
      "mimetype": "text/x-python",
      "name": "python",
      "nbconvert_exporter": "python",
      "pygments_lexer": "ipython3",
      "version": "3.6.10"
    }
  },
  "cells": [
    {
      "cell_type": "markdown",
      "metadata": {
        "id": "view-in-github",
        "colab_type": "text"
      },
      "source": [
        "<a href=\"https://colab.research.google.com/github/outinletter/DataAnalysis/blob/main/%ED%85%8C%EB%94%94%EB%85%B8%ED%8A%B8%2C_LSTM%EC%9D%84_%ED%99%9C%EC%9A%A9%ED%95%9C_%EC%82%BC%EC%84%B1%EC%A0%84%EC%9E%90_%EC%A3%BC%EA%B0%80%EC%98%88%EC%B8%A1.ipynb\" target=\"_parent\"><img src=\"https://colab.research.google.com/assets/colab-badge.svg\" alt=\"Open In Colab\"/></a>"
      ]
    },
    {
      "cell_type": "markdown",
      "metadata": {
        "id": "PN8G0bCY-upN"
      },
      "source": [
        "# LSTM을 활용한 주가 예측 모델"
      ]
    },
    {
      "cell_type": "markdown",
      "metadata": {
        "id": "EBPhjJkD-upS"
      },
      "source": [
        "이번 튜토리얼 에서는 다음과 같은 **프로세스 파이프라인**으로 주가 예측을 진행합니다.\n",
        "\n",
        "- FinanceDataReader를 활용하여 주가 데이터 받아오기\n",
        "- TensorFlow Dataset 클래스를 활용하여 주가 데이터 구축\n",
        "- LSTM 을 활용한 주가 예측 모델 구축"
      ]
    },
    {
      "cell_type": "markdown",
      "metadata": {
        "id": "z_uctYGc-upT"
      },
      "source": [
        "## 필요한 모듈 import"
      ]
    },
    {
      "cell_type": "code",
      "metadata": {
        "id": "xGaRp7Ku-upU"
      },
      "source": [
        "import pandas as pd\n",
        "import numpy as np\n",
        "import matplotlib.pyplot as plt\n",
        "import seaborn as sns\n",
        "import warnings\n",
        "import os\n",
        "\n",
        "%matplotlib inline\n",
        "warnings.filterwarnings('ignore')\n",
        "\n",
        "plt.rcParams['font.family'] = 'NanumGothic'"
      ],
      "execution_count": 1,
      "outputs": []
    },
    {
      "cell_type": "markdown",
      "metadata": {
        "id": "rDQ0nPbk-upW"
      },
      "source": [
        "## 데이터 (FinanceDataReader)"
      ]
    },
    {
      "cell_type": "markdown",
      "metadata": {
        "id": "f6KHrs0T-upW"
      },
      "source": [
        "**FinanceDataReader**는 주가 데이터를 편리하게 가져올 수 있는 파이썬 패키지입니다.\n",
        "\n",
        "- [GitHub Repo](https://github.com/FinanceData/FinanceDataReader)"
      ]
    },
    {
      "cell_type": "markdown",
      "metadata": {
        "id": "FiswL_xC-upX"
      },
      "source": [
        "**FinanceDataReader**가 아직 설치 되지 않으신 분들은 아래의 주석을 해제한 후 명령어로 설치해 주시기 바랍니다."
      ]
    },
    {
      "cell_type": "code",
      "metadata": {
        "id": "FYIRHQI8-upY",
        "colab": {
          "base_uri": "https://localhost:8080/"
        },
        "outputId": "67fc163c-c2b0-420d-f9ab-9965f4cc4491"
      },
      "source": [
        "!pip install finance-datareader"
      ],
      "execution_count": 2,
      "outputs": [
        {
          "output_type": "stream",
          "name": "stdout",
          "text": [
            "Collecting finance-datareader\n",
            "  Downloading finance_datareader-0.9.31-py3-none-any.whl (17 kB)\n",
            "Requirement already satisfied: pandas>=0.19.2 in /usr/local/lib/python3.7/dist-packages (from finance-datareader) (1.1.5)\n",
            "Requirement already satisfied: lxml in /usr/local/lib/python3.7/dist-packages (from finance-datareader) (4.2.6)\n",
            "Requirement already satisfied: tqdm in /usr/local/lib/python3.7/dist-packages (from finance-datareader) (4.62.3)\n",
            "Collecting requests-file\n",
            "  Downloading requests_file-1.5.1-py2.py3-none-any.whl (3.7 kB)\n",
            "Requirement already satisfied: requests>=2.3.0 in /usr/local/lib/python3.7/dist-packages (from finance-datareader) (2.23.0)\n",
            "Requirement already satisfied: numpy>=1.15.4 in /usr/local/lib/python3.7/dist-packages (from pandas>=0.19.2->finance-datareader) (1.19.5)\n",
            "Requirement already satisfied: python-dateutil>=2.7.3 in /usr/local/lib/python3.7/dist-packages (from pandas>=0.19.2->finance-datareader) (2.8.2)\n",
            "Requirement already satisfied: pytz>=2017.2 in /usr/local/lib/python3.7/dist-packages (from pandas>=0.19.2->finance-datareader) (2018.9)\n",
            "Requirement already satisfied: six>=1.5 in /usr/local/lib/python3.7/dist-packages (from python-dateutil>=2.7.3->pandas>=0.19.2->finance-datareader) (1.15.0)\n",
            "Requirement already satisfied: urllib3!=1.25.0,!=1.25.1,<1.26,>=1.21.1 in /usr/local/lib/python3.7/dist-packages (from requests>=2.3.0->finance-datareader) (1.24.3)\n",
            "Requirement already satisfied: idna<3,>=2.5 in /usr/local/lib/python3.7/dist-packages (from requests>=2.3.0->finance-datareader) (2.10)\n",
            "Requirement already satisfied: chardet<4,>=3.0.2 in /usr/local/lib/python3.7/dist-packages (from requests>=2.3.0->finance-datareader) (3.0.4)\n",
            "Requirement already satisfied: certifi>=2017.4.17 in /usr/local/lib/python3.7/dist-packages (from requests>=2.3.0->finance-datareader) (2021.5.30)\n",
            "Installing collected packages: requests-file, finance-datareader\n",
            "Successfully installed finance-datareader-0.9.31 requests-file-1.5.1\n"
          ]
        }
      ]
    },
    {
      "cell_type": "code",
      "metadata": {
        "id": "A2KKg9Z0-upZ"
      },
      "source": [
        "import FinanceDataReader as fdr"
      ],
      "execution_count": 3,
      "outputs": []
    },
    {
      "cell_type": "code",
      "metadata": {
        "id": "L8DR3Wo6-upa"
      },
      "source": [
        "# 삼성전자(005930) 전체 (1996-11-05 ~ 현재)\n",
        "samsung = fdr.DataReader('005930')"
      ],
      "execution_count": 4,
      "outputs": []
    },
    {
      "cell_type": "markdown",
      "metadata": {
        "id": "2K4r58ib-upb"
      },
      "source": [
        "매우 편리하게 삼성전자 주가 데이터를 `DataFrame`형식으로 받아옵니다.\n",
        "\n",
        "기본 **오름차순 정렬**이 된 데이터임을 알 수 있습니다.\n",
        "\n",
        "### 컬럼 설명\n",
        "\n",
        "- `Open`:   시가\n",
        "- `High`:   고가\n",
        "- `Low`:    저가\n",
        "- `Close`:  종가\n",
        "- `Volume`: 거래량\n",
        "- `Change`: 대비"
      ]
    },
    {
      "cell_type": "code",
      "metadata": {
        "id": "qSLKAYRo-upb",
        "colab": {
          "base_uri": "https://localhost:8080/",
          "height": 237
        },
        "outputId": "e93b7949-9b4b-48e5-c053-f43a7f51e2f6"
      },
      "source": [
        "samsung.tail()"
      ],
      "execution_count": 5,
      "outputs": [
        {
          "output_type": "execute_result",
          "data": {
            "text/html": [
              "<div>\n",
              "<style scoped>\n",
              "    .dataframe tbody tr th:only-of-type {\n",
              "        vertical-align: middle;\n",
              "    }\n",
              "\n",
              "    .dataframe tbody tr th {\n",
              "        vertical-align: top;\n",
              "    }\n",
              "\n",
              "    .dataframe thead th {\n",
              "        text-align: right;\n",
              "    }\n",
              "</style>\n",
              "<table border=\"1\" class=\"dataframe\">\n",
              "  <thead>\n",
              "    <tr style=\"text-align: right;\">\n",
              "      <th></th>\n",
              "      <th>Open</th>\n",
              "      <th>High</th>\n",
              "      <th>Low</th>\n",
              "      <th>Close</th>\n",
              "      <th>Volume</th>\n",
              "      <th>Change</th>\n",
              "    </tr>\n",
              "    <tr>\n",
              "      <th>Date</th>\n",
              "      <th></th>\n",
              "      <th></th>\n",
              "      <th></th>\n",
              "      <th></th>\n",
              "      <th></th>\n",
              "      <th></th>\n",
              "    </tr>\n",
              "  </thead>\n",
              "  <tbody>\n",
              "    <tr>\n",
              "      <th>2021-10-08</th>\n",
              "      <td>72300</td>\n",
              "      <td>72400</td>\n",
              "      <td>71500</td>\n",
              "      <td>71500</td>\n",
              "      <td>14043287</td>\n",
              "      <td>-0.001397</td>\n",
              "    </tr>\n",
              "    <tr>\n",
              "      <th>2021-10-12</th>\n",
              "      <td>70700</td>\n",
              "      <td>70900</td>\n",
              "      <td>68700</td>\n",
              "      <td>69000</td>\n",
              "      <td>31001484</td>\n",
              "      <td>-0.034965</td>\n",
              "    </tr>\n",
              "    <tr>\n",
              "      <th>2021-10-13</th>\n",
              "      <td>68700</td>\n",
              "      <td>69600</td>\n",
              "      <td>68300</td>\n",
              "      <td>68800</td>\n",
              "      <td>24172015</td>\n",
              "      <td>-0.002899</td>\n",
              "    </tr>\n",
              "    <tr>\n",
              "      <th>2021-10-14</th>\n",
              "      <td>69000</td>\n",
              "      <td>69800</td>\n",
              "      <td>68800</td>\n",
              "      <td>69400</td>\n",
              "      <td>19520641</td>\n",
              "      <td>0.008721</td>\n",
              "    </tr>\n",
              "    <tr>\n",
              "      <th>2021-10-15</th>\n",
              "      <td>70200</td>\n",
              "      <td>71000</td>\n",
              "      <td>70000</td>\n",
              "      <td>70100</td>\n",
              "      <td>17531847</td>\n",
              "      <td>0.010086</td>\n",
              "    </tr>\n",
              "  </tbody>\n",
              "</table>\n",
              "</div>"
            ],
            "text/plain": [
              "             Open   High    Low  Close    Volume    Change\n",
              "Date                                                      \n",
              "2021-10-08  72300  72400  71500  71500  14043287 -0.001397\n",
              "2021-10-12  70700  70900  68700  69000  31001484 -0.034965\n",
              "2021-10-13  68700  69600  68300  68800  24172015 -0.002899\n",
              "2021-10-14  69000  69800  68800  69400  19520641  0.008721\n",
              "2021-10-15  70200  71000  70000  70100  17531847  0.010086"
            ]
          },
          "metadata": {},
          "execution_count": 5
        }
      ]
    },
    {
      "cell_type": "markdown",
      "metadata": {
        "id": "8QuUfbn_-upd"
      },
      "source": [
        "**미국 주식 데이터**도 가져올 수 있습니다."
      ]
    },
    {
      "cell_type": "code",
      "metadata": {
        "id": "FF64cPey-upd"
      },
      "source": [
        "# Apple(AAPL), 애플\n",
        "apple = fdr.DataReader('AAPL')"
      ],
      "execution_count": 6,
      "outputs": []
    },
    {
      "cell_type": "code",
      "metadata": {
        "id": "zHLrLLlz-upe",
        "colab": {
          "base_uri": "https://localhost:8080/",
          "height": 237
        },
        "outputId": "b7ccb824-5f93-4524-ec2b-97fdd50fd159"
      },
      "source": [
        "apple.tail()"
      ],
      "execution_count": 7,
      "outputs": [
        {
          "output_type": "execute_result",
          "data": {
            "text/html": [
              "<div>\n",
              "<style scoped>\n",
              "    .dataframe tbody tr th:only-of-type {\n",
              "        vertical-align: middle;\n",
              "    }\n",
              "\n",
              "    .dataframe tbody tr th {\n",
              "        vertical-align: top;\n",
              "    }\n",
              "\n",
              "    .dataframe thead th {\n",
              "        text-align: right;\n",
              "    }\n",
              "</style>\n",
              "<table border=\"1\" class=\"dataframe\">\n",
              "  <thead>\n",
              "    <tr style=\"text-align: right;\">\n",
              "      <th></th>\n",
              "      <th>Close</th>\n",
              "      <th>Open</th>\n",
              "      <th>High</th>\n",
              "      <th>Low</th>\n",
              "      <th>Volume</th>\n",
              "      <th>Change</th>\n",
              "    </tr>\n",
              "    <tr>\n",
              "      <th>Date</th>\n",
              "      <th></th>\n",
              "      <th></th>\n",
              "      <th></th>\n",
              "      <th></th>\n",
              "      <th></th>\n",
              "      <th></th>\n",
              "    </tr>\n",
              "  </thead>\n",
              "  <tbody>\n",
              "    <tr>\n",
              "      <th>2021-10-11</th>\n",
              "      <td>142.81</td>\n",
              "      <td>142.27</td>\n",
              "      <td>144.81</td>\n",
              "      <td>141.81</td>\n",
              "      <td>64260000.0</td>\n",
              "      <td>-0.0006</td>\n",
              "    </tr>\n",
              "    <tr>\n",
              "      <th>2021-10-12</th>\n",
              "      <td>141.51</td>\n",
              "      <td>143.23</td>\n",
              "      <td>143.25</td>\n",
              "      <td>141.04</td>\n",
              "      <td>73040000.0</td>\n",
              "      <td>-0.0091</td>\n",
              "    </tr>\n",
              "    <tr>\n",
              "      <th>2021-10-13</th>\n",
              "      <td>140.91</td>\n",
              "      <td>141.24</td>\n",
              "      <td>141.40</td>\n",
              "      <td>139.20</td>\n",
              "      <td>77570000.0</td>\n",
              "      <td>-0.0042</td>\n",
              "    </tr>\n",
              "    <tr>\n",
              "      <th>2021-10-14</th>\n",
              "      <td>143.76</td>\n",
              "      <td>142.11</td>\n",
              "      <td>143.88</td>\n",
              "      <td>141.51</td>\n",
              "      <td>67210000.0</td>\n",
              "      <td>0.0202</td>\n",
              "    </tr>\n",
              "    <tr>\n",
              "      <th>2021-10-15</th>\n",
              "      <td>144.84</td>\n",
              "      <td>143.77</td>\n",
              "      <td>144.90</td>\n",
              "      <td>143.51</td>\n",
              "      <td>67680000.0</td>\n",
              "      <td>0.0075</td>\n",
              "    </tr>\n",
              "  </tbody>\n",
              "</table>\n",
              "</div>"
            ],
            "text/plain": [
              "             Close    Open    High     Low      Volume  Change\n",
              "Date                                                          \n",
              "2021-10-11  142.81  142.27  144.81  141.81  64260000.0 -0.0006\n",
              "2021-10-12  141.51  143.23  143.25  141.04  73040000.0 -0.0091\n",
              "2021-10-13  140.91  141.24  141.40  139.20  77570000.0 -0.0042\n",
              "2021-10-14  143.76  142.11  143.88  141.51  67210000.0  0.0202\n",
              "2021-10-15  144.84  143.77  144.90  143.51  67680000.0  0.0075"
            ]
          },
          "metadata": {},
          "execution_count": 7
        }
      ]
    },
    {
      "cell_type": "markdown",
      "metadata": {
        "id": "grqH9Rdu-upe"
      },
      "source": [
        "다음과 같이 `2017`을 같이 넘겨주면, 해당 시점 이후의 주식 데이터를 가져옵니다."
      ]
    },
    {
      "cell_type": "code",
      "metadata": {
        "id": "M5MLIE6e-upf"
      },
      "source": [
        "# Apple(AAPL), 애플\n",
        "apple = fdr.DataReader('AAPL', '2017')"
      ],
      "execution_count": 8,
      "outputs": []
    },
    {
      "cell_type": "code",
      "metadata": {
        "id": "AxC-rbrW-upf",
        "colab": {
          "base_uri": "https://localhost:8080/",
          "height": 237
        },
        "outputId": "efbbc4e8-d901-42f9-d2d5-8d3eb831f7d8"
      },
      "source": [
        "apple.head()"
      ],
      "execution_count": 9,
      "outputs": [
        {
          "output_type": "execute_result",
          "data": {
            "text/html": [
              "<div>\n",
              "<style scoped>\n",
              "    .dataframe tbody tr th:only-of-type {\n",
              "        vertical-align: middle;\n",
              "    }\n",
              "\n",
              "    .dataframe tbody tr th {\n",
              "        vertical-align: top;\n",
              "    }\n",
              "\n",
              "    .dataframe thead th {\n",
              "        text-align: right;\n",
              "    }\n",
              "</style>\n",
              "<table border=\"1\" class=\"dataframe\">\n",
              "  <thead>\n",
              "    <tr style=\"text-align: right;\">\n",
              "      <th></th>\n",
              "      <th>Close</th>\n",
              "      <th>Open</th>\n",
              "      <th>High</th>\n",
              "      <th>Low</th>\n",
              "      <th>Volume</th>\n",
              "      <th>Change</th>\n",
              "    </tr>\n",
              "    <tr>\n",
              "      <th>Date</th>\n",
              "      <th></th>\n",
              "      <th></th>\n",
              "      <th></th>\n",
              "      <th></th>\n",
              "      <th></th>\n",
              "      <th></th>\n",
              "    </tr>\n",
              "  </thead>\n",
              "  <tbody>\n",
              "    <tr>\n",
              "      <th>2017-01-03</th>\n",
              "      <td>29.04</td>\n",
              "      <td>28.95</td>\n",
              "      <td>29.08</td>\n",
              "      <td>28.69</td>\n",
              "      <td>115130000.0</td>\n",
              "      <td>0.0031</td>\n",
              "    </tr>\n",
              "    <tr>\n",
              "      <th>2017-01-04</th>\n",
              "      <td>29.00</td>\n",
              "      <td>28.96</td>\n",
              "      <td>29.13</td>\n",
              "      <td>28.94</td>\n",
              "      <td>84470000.0</td>\n",
              "      <td>-0.0014</td>\n",
              "    </tr>\n",
              "    <tr>\n",
              "      <th>2017-01-05</th>\n",
              "      <td>29.15</td>\n",
              "      <td>28.98</td>\n",
              "      <td>29.22</td>\n",
              "      <td>28.95</td>\n",
              "      <td>88770000.0</td>\n",
              "      <td>0.0052</td>\n",
              "    </tr>\n",
              "    <tr>\n",
              "      <th>2017-01-06</th>\n",
              "      <td>29.48</td>\n",
              "      <td>29.20</td>\n",
              "      <td>29.54</td>\n",
              "      <td>29.12</td>\n",
              "      <td>127010000.0</td>\n",
              "      <td>0.0113</td>\n",
              "    </tr>\n",
              "    <tr>\n",
              "      <th>2017-01-09</th>\n",
              "      <td>29.75</td>\n",
              "      <td>29.49</td>\n",
              "      <td>29.86</td>\n",
              "      <td>29.48</td>\n",
              "      <td>134250000.0</td>\n",
              "      <td>0.0092</td>\n",
              "    </tr>\n",
              "  </tbody>\n",
              "</table>\n",
              "</div>"
            ],
            "text/plain": [
              "            Close   Open   High    Low       Volume  Change\n",
              "Date                                                       \n",
              "2017-01-03  29.04  28.95  29.08  28.69  115130000.0  0.0031\n",
              "2017-01-04  29.00  28.96  29.13  28.94   84470000.0 -0.0014\n",
              "2017-01-05  29.15  28.98  29.22  28.95   88770000.0  0.0052\n",
              "2017-01-06  29.48  29.20  29.54  29.12  127010000.0  0.0113\n",
              "2017-01-09  29.75  29.49  29.86  29.48  134250000.0  0.0092"
            ]
          },
          "metadata": {},
          "execution_count": 9
        }
      ]
    },
    {
      "cell_type": "markdown",
      "metadata": {
        "id": "6tqgvr9O-upg"
      },
      "source": [
        "**시작**과 **끝** 날짜를 지정하여 범위 데이터를 가져올 수 있습니다."
      ]
    },
    {
      "cell_type": "code",
      "metadata": {
        "id": "_4CFBFki-upg"
      },
      "source": [
        "# Ford(F), 1980-01-01 ~ 2019-12-30 (40년 데이터)\n",
        "ford = fdr.DataReader('F', '1980-01-01', '2019-12-30')"
      ],
      "execution_count": 10,
      "outputs": []
    },
    {
      "cell_type": "code",
      "metadata": {
        "id": "R4YopCBE-upg",
        "colab": {
          "base_uri": "https://localhost:8080/",
          "height": 237
        },
        "outputId": "e8a0b2c0-1f9d-451f-aec1-e2b911235c1a"
      },
      "source": [
        "ford.head()"
      ],
      "execution_count": 11,
      "outputs": [
        {
          "output_type": "execute_result",
          "data": {
            "text/html": [
              "<div>\n",
              "<style scoped>\n",
              "    .dataframe tbody tr th:only-of-type {\n",
              "        vertical-align: middle;\n",
              "    }\n",
              "\n",
              "    .dataframe tbody tr th {\n",
              "        vertical-align: top;\n",
              "    }\n",
              "\n",
              "    .dataframe thead th {\n",
              "        text-align: right;\n",
              "    }\n",
              "</style>\n",
              "<table border=\"1\" class=\"dataframe\">\n",
              "  <thead>\n",
              "    <tr style=\"text-align: right;\">\n",
              "      <th></th>\n",
              "      <th>Close</th>\n",
              "      <th>Open</th>\n",
              "      <th>High</th>\n",
              "      <th>Low</th>\n",
              "      <th>Volume</th>\n",
              "      <th>Change</th>\n",
              "    </tr>\n",
              "    <tr>\n",
              "      <th>Date</th>\n",
              "      <th></th>\n",
              "      <th></th>\n",
              "      <th></th>\n",
              "      <th></th>\n",
              "      <th></th>\n",
              "      <th></th>\n",
              "    </tr>\n",
              "  </thead>\n",
              "  <tbody>\n",
              "    <tr>\n",
              "      <th>1980-03-18</th>\n",
              "      <td>1.83</td>\n",
              "      <td>1.83</td>\n",
              "      <td>1.85</td>\n",
              "      <td>1.82</td>\n",
              "      <td>3770000.0</td>\n",
              "      <td>-0.0108</td>\n",
              "    </tr>\n",
              "    <tr>\n",
              "      <th>1980-03-19</th>\n",
              "      <td>1.85</td>\n",
              "      <td>1.85</td>\n",
              "      <td>1.86</td>\n",
              "      <td>1.83</td>\n",
              "      <td>1560000.0</td>\n",
              "      <td>0.0109</td>\n",
              "    </tr>\n",
              "    <tr>\n",
              "      <th>1980-03-20</th>\n",
              "      <td>1.86</td>\n",
              "      <td>1.86</td>\n",
              "      <td>1.88</td>\n",
              "      <td>1.85</td>\n",
              "      <td>1450000.0</td>\n",
              "      <td>0.0054</td>\n",
              "    </tr>\n",
              "    <tr>\n",
              "      <th>1980-03-21</th>\n",
              "      <td>1.78</td>\n",
              "      <td>1.78</td>\n",
              "      <td>1.85</td>\n",
              "      <td>1.76</td>\n",
              "      <td>5020000.0</td>\n",
              "      <td>-0.0430</td>\n",
              "    </tr>\n",
              "    <tr>\n",
              "      <th>1980-03-24</th>\n",
              "      <td>1.71</td>\n",
              "      <td>1.71</td>\n",
              "      <td>1.75</td>\n",
              "      <td>1.66</td>\n",
              "      <td>3330000.0</td>\n",
              "      <td>-0.0393</td>\n",
              "    </tr>\n",
              "  </tbody>\n",
              "</table>\n",
              "</div>"
            ],
            "text/plain": [
              "            Close  Open  High   Low     Volume  Change\n",
              "Date                                                  \n",
              "1980-03-18   1.83  1.83  1.85  1.82  3770000.0 -0.0108\n",
              "1980-03-19   1.85  1.85  1.86  1.83  1560000.0  0.0109\n",
              "1980-03-20   1.86  1.86  1.88  1.85  1450000.0  0.0054\n",
              "1980-03-21   1.78  1.78  1.85  1.76  5020000.0 -0.0430\n",
              "1980-03-24   1.71  1.71  1.75  1.66  3330000.0 -0.0393"
            ]
          },
          "metadata": {},
          "execution_count": 11
        }
      ]
    },
    {
      "cell_type": "code",
      "metadata": {
        "id": "hE_baxTA-uph",
        "colab": {
          "base_uri": "https://localhost:8080/",
          "height": 237
        },
        "outputId": "e1ae124f-f5a8-4f66-d503-7b30909077f0"
      },
      "source": [
        "ford.tail()"
      ],
      "execution_count": 12,
      "outputs": [
        {
          "output_type": "execute_result",
          "data": {
            "text/html": [
              "<div>\n",
              "<style scoped>\n",
              "    .dataframe tbody tr th:only-of-type {\n",
              "        vertical-align: middle;\n",
              "    }\n",
              "\n",
              "    .dataframe tbody tr th {\n",
              "        vertical-align: top;\n",
              "    }\n",
              "\n",
              "    .dataframe thead th {\n",
              "        text-align: right;\n",
              "    }\n",
              "</style>\n",
              "<table border=\"1\" class=\"dataframe\">\n",
              "  <thead>\n",
              "    <tr style=\"text-align: right;\">\n",
              "      <th></th>\n",
              "      <th>Close</th>\n",
              "      <th>Open</th>\n",
              "      <th>High</th>\n",
              "      <th>Low</th>\n",
              "      <th>Volume</th>\n",
              "      <th>Change</th>\n",
              "    </tr>\n",
              "    <tr>\n",
              "      <th>Date</th>\n",
              "      <th></th>\n",
              "      <th></th>\n",
              "      <th></th>\n",
              "      <th></th>\n",
              "      <th></th>\n",
              "      <th></th>\n",
              "    </tr>\n",
              "  </thead>\n",
              "  <tbody>\n",
              "    <tr>\n",
              "      <th>2019-12-23</th>\n",
              "      <td>9.44</td>\n",
              "      <td>9.50</td>\n",
              "      <td>9.57</td>\n",
              "      <td>9.40</td>\n",
              "      <td>54800000.0</td>\n",
              "      <td>-0.0042</td>\n",
              "    </tr>\n",
              "    <tr>\n",
              "      <th>2019-12-24</th>\n",
              "      <td>9.47</td>\n",
              "      <td>9.44</td>\n",
              "      <td>9.49</td>\n",
              "      <td>9.43</td>\n",
              "      <td>11880000.0</td>\n",
              "      <td>0.0032</td>\n",
              "    </tr>\n",
              "    <tr>\n",
              "      <th>2019-12-26</th>\n",
              "      <td>9.45</td>\n",
              "      <td>9.47</td>\n",
              "      <td>9.49</td>\n",
              "      <td>9.43</td>\n",
              "      <td>28980000.0</td>\n",
              "      <td>-0.0021</td>\n",
              "    </tr>\n",
              "    <tr>\n",
              "      <th>2019-12-27</th>\n",
              "      <td>9.36</td>\n",
              "      <td>9.45</td>\n",
              "      <td>9.46</td>\n",
              "      <td>9.35</td>\n",
              "      <td>28270000.0</td>\n",
              "      <td>-0.0095</td>\n",
              "    </tr>\n",
              "    <tr>\n",
              "      <th>2019-12-30</th>\n",
              "      <td>9.25</td>\n",
              "      <td>9.34</td>\n",
              "      <td>9.35</td>\n",
              "      <td>9.23</td>\n",
              "      <td>36090000.0</td>\n",
              "      <td>-0.0118</td>\n",
              "    </tr>\n",
              "  </tbody>\n",
              "</table>\n",
              "</div>"
            ],
            "text/plain": [
              "            Close  Open  High   Low      Volume  Change\n",
              "Date                                                   \n",
              "2019-12-23   9.44  9.50  9.57  9.40  54800000.0 -0.0042\n",
              "2019-12-24   9.47  9.44  9.49  9.43  11880000.0  0.0032\n",
              "2019-12-26   9.45  9.47  9.49  9.43  28980000.0 -0.0021\n",
              "2019-12-27   9.36  9.45  9.46  9.35  28270000.0 -0.0095\n",
              "2019-12-30   9.25  9.34  9.35  9.23  36090000.0 -0.0118"
            ]
          },
          "metadata": {},
          "execution_count": 12
        }
      ]
    },
    {
      "cell_type": "markdown",
      "metadata": {
        "id": "B10TSJDz-uph"
      },
      "source": [
        "그 밖에 **금, 은과 같은 현물**, **달러와 같은 화폐** 데이터도 가져올 수 있습니다."
      ]
    },
    {
      "cell_type": "markdown",
      "metadata": {
        "id": "-Sa7e7N4-uph"
      },
      "source": [
        "더욱 자세한 내용은 [GitHub 페이지 링크](https://github.com/FinanceData/FinanceDataReader)를 참고해 보시기 바랍니다."
      ]
    },
    {
      "cell_type": "code",
      "metadata": {
        "id": "RJtxeKQm0l2w"
      },
      "source": [
        "## 주가데이터 가져오기"
      ],
      "execution_count": 13,
      "outputs": []
    },
    {
      "cell_type": "markdown",
      "metadata": {
        "id": "n2rD9VBE-upi"
      },
      "source": [
        "지난 주식 예측 튜토리얼에서는 **삼성전자** 주가데이터로 실습을 해봤으니, \n",
        "\n",
        "이번에는 글로벌 증시의 대장주인 **Apple**사의 주가데이터를 가져와서 예측해 보도록 하겠습니다."
      ]
    },
    {
      "cell_type": "code",
      "metadata": {
        "id": "CROlqn93-upi"
      },
      "source": [
        "# 삼성전자 주식코드: 005930\n",
        "STOCK_CODE = '005930'"
      ],
      "execution_count": 14,
      "outputs": []
    },
    {
      "cell_type": "code",
      "metadata": {
        "id": "giiQ8NU0-upi"
      },
      "source": [
        "stock = fdr.DataReader(STOCK_CODE)"
      ],
      "execution_count": 15,
      "outputs": []
    },
    {
      "cell_type": "code",
      "metadata": {
        "id": "cz-75Cae-upj",
        "colab": {
          "base_uri": "https://localhost:8080/",
          "height": 237
        },
        "outputId": "e9f92ba2-005a-4be3-803b-98a253d5b280"
      },
      "source": [
        "stock.head()"
      ],
      "execution_count": 16,
      "outputs": [
        {
          "output_type": "execute_result",
          "data": {
            "text/html": [
              "<div>\n",
              "<style scoped>\n",
              "    .dataframe tbody tr th:only-of-type {\n",
              "        vertical-align: middle;\n",
              "    }\n",
              "\n",
              "    .dataframe tbody tr th {\n",
              "        vertical-align: top;\n",
              "    }\n",
              "\n",
              "    .dataframe thead th {\n",
              "        text-align: right;\n",
              "    }\n",
              "</style>\n",
              "<table border=\"1\" class=\"dataframe\">\n",
              "  <thead>\n",
              "    <tr style=\"text-align: right;\">\n",
              "      <th></th>\n",
              "      <th>Open</th>\n",
              "      <th>High</th>\n",
              "      <th>Low</th>\n",
              "      <th>Close</th>\n",
              "      <th>Volume</th>\n",
              "      <th>Change</th>\n",
              "    </tr>\n",
              "    <tr>\n",
              "      <th>Date</th>\n",
              "      <th></th>\n",
              "      <th></th>\n",
              "      <th></th>\n",
              "      <th></th>\n",
              "      <th></th>\n",
              "      <th></th>\n",
              "    </tr>\n",
              "  </thead>\n",
              "  <tbody>\n",
              "    <tr>\n",
              "      <th>1997-09-22</th>\n",
              "      <td>1227</td>\n",
              "      <td>1242</td>\n",
              "      <td>1209</td>\n",
              "      <td>1212</td>\n",
              "      <td>59140</td>\n",
              "      <td>NaN</td>\n",
              "    </tr>\n",
              "    <tr>\n",
              "      <th>1997-09-23</th>\n",
              "      <td>1209</td>\n",
              "      <td>1215</td>\n",
              "      <td>1192</td>\n",
              "      <td>1192</td>\n",
              "      <td>66140</td>\n",
              "      <td>-0.016502</td>\n",
              "    </tr>\n",
              "    <tr>\n",
              "      <th>1997-09-24</th>\n",
              "      <td>1186</td>\n",
              "      <td>1213</td>\n",
              "      <td>1165</td>\n",
              "      <td>1194</td>\n",
              "      <td>93880</td>\n",
              "      <td>0.001678</td>\n",
              "    </tr>\n",
              "    <tr>\n",
              "      <th>1997-09-25</th>\n",
              "      <td>1193</td>\n",
              "      <td>1193</td>\n",
              "      <td>1170</td>\n",
              "      <td>1179</td>\n",
              "      <td>70400</td>\n",
              "      <td>-0.012563</td>\n",
              "    </tr>\n",
              "    <tr>\n",
              "      <th>1997-09-26</th>\n",
              "      <td>1170</td>\n",
              "      <td>1179</td>\n",
              "      <td>1161</td>\n",
              "      <td>1174</td>\n",
              "      <td>70500</td>\n",
              "      <td>-0.004241</td>\n",
              "    </tr>\n",
              "  </tbody>\n",
              "</table>\n",
              "</div>"
            ],
            "text/plain": [
              "            Open  High   Low  Close  Volume    Change\n",
              "Date                                                 \n",
              "1997-09-22  1227  1242  1209   1212   59140       NaN\n",
              "1997-09-23  1209  1215  1192   1192   66140 -0.016502\n",
              "1997-09-24  1186  1213  1165   1194   93880  0.001678\n",
              "1997-09-25  1193  1193  1170   1179   70400 -0.012563\n",
              "1997-09-26  1170  1179  1161   1174   70500 -0.004241"
            ]
          },
          "metadata": {},
          "execution_count": 16
        }
      ]
    },
    {
      "cell_type": "code",
      "metadata": {
        "id": "dnMs5TSJ-upj",
        "colab": {
          "base_uri": "https://localhost:8080/",
          "height": 237
        },
        "outputId": "cd005def-b0ca-4cb5-b259-9637bbc8c6f8"
      },
      "source": [
        "stock.tail()"
      ],
      "execution_count": 17,
      "outputs": [
        {
          "output_type": "execute_result",
          "data": {
            "text/html": [
              "<div>\n",
              "<style scoped>\n",
              "    .dataframe tbody tr th:only-of-type {\n",
              "        vertical-align: middle;\n",
              "    }\n",
              "\n",
              "    .dataframe tbody tr th {\n",
              "        vertical-align: top;\n",
              "    }\n",
              "\n",
              "    .dataframe thead th {\n",
              "        text-align: right;\n",
              "    }\n",
              "</style>\n",
              "<table border=\"1\" class=\"dataframe\">\n",
              "  <thead>\n",
              "    <tr style=\"text-align: right;\">\n",
              "      <th></th>\n",
              "      <th>Open</th>\n",
              "      <th>High</th>\n",
              "      <th>Low</th>\n",
              "      <th>Close</th>\n",
              "      <th>Volume</th>\n",
              "      <th>Change</th>\n",
              "    </tr>\n",
              "    <tr>\n",
              "      <th>Date</th>\n",
              "      <th></th>\n",
              "      <th></th>\n",
              "      <th></th>\n",
              "      <th></th>\n",
              "      <th></th>\n",
              "      <th></th>\n",
              "    </tr>\n",
              "  </thead>\n",
              "  <tbody>\n",
              "    <tr>\n",
              "      <th>2021-10-08</th>\n",
              "      <td>72300</td>\n",
              "      <td>72400</td>\n",
              "      <td>71500</td>\n",
              "      <td>71500</td>\n",
              "      <td>14043287</td>\n",
              "      <td>-0.001397</td>\n",
              "    </tr>\n",
              "    <tr>\n",
              "      <th>2021-10-12</th>\n",
              "      <td>70700</td>\n",
              "      <td>70900</td>\n",
              "      <td>68700</td>\n",
              "      <td>69000</td>\n",
              "      <td>31001484</td>\n",
              "      <td>-0.034965</td>\n",
              "    </tr>\n",
              "    <tr>\n",
              "      <th>2021-10-13</th>\n",
              "      <td>68700</td>\n",
              "      <td>69600</td>\n",
              "      <td>68300</td>\n",
              "      <td>68800</td>\n",
              "      <td>24172015</td>\n",
              "      <td>-0.002899</td>\n",
              "    </tr>\n",
              "    <tr>\n",
              "      <th>2021-10-14</th>\n",
              "      <td>69000</td>\n",
              "      <td>69800</td>\n",
              "      <td>68800</td>\n",
              "      <td>69400</td>\n",
              "      <td>19520641</td>\n",
              "      <td>0.008721</td>\n",
              "    </tr>\n",
              "    <tr>\n",
              "      <th>2021-10-15</th>\n",
              "      <td>70200</td>\n",
              "      <td>71000</td>\n",
              "      <td>70000</td>\n",
              "      <td>70100</td>\n",
              "      <td>17531847</td>\n",
              "      <td>0.010086</td>\n",
              "    </tr>\n",
              "  </tbody>\n",
              "</table>\n",
              "</div>"
            ],
            "text/plain": [
              "             Open   High    Low  Close    Volume    Change\n",
              "Date                                                      \n",
              "2021-10-08  72300  72400  71500  71500  14043287 -0.001397\n",
              "2021-10-12  70700  70900  68700  69000  31001484 -0.034965\n",
              "2021-10-13  68700  69600  68300  68800  24172015 -0.002899\n",
              "2021-10-14  69000  69800  68800  69400  19520641  0.008721\n",
              "2021-10-15  70200  71000  70000  70100  17531847  0.010086"
            ]
          },
          "metadata": {},
          "execution_count": 17
        }
      ]
    },
    {
      "cell_type": "code",
      "metadata": {
        "id": "Fgy0zAB6-upj",
        "colab": {
          "base_uri": "https://localhost:8080/"
        },
        "outputId": "1fc26624-ea10-43ec-9613-f42e75bf1cfb"
      },
      "source": [
        "stock.index"
      ],
      "execution_count": 18,
      "outputs": [
        {
          "output_type": "execute_result",
          "data": {
            "text/plain": [
              "DatetimeIndex(['1997-09-22', '1997-09-23', '1997-09-24', '1997-09-25',\n",
              "               '1997-09-26', '1997-09-27', '1997-09-29', '1997-09-30',\n",
              "               '1997-10-01', '1997-10-02',\n",
              "               ...\n",
              "               '2021-09-30', '2021-10-01', '2021-10-05', '2021-10-06',\n",
              "               '2021-10-07', '2021-10-08', '2021-10-12', '2021-10-13',\n",
              "               '2021-10-14', '2021-10-15'],\n",
              "              dtype='datetime64[ns]', name='Date', length=6000, freq=None)"
            ]
          },
          "metadata": {},
          "execution_count": 18
        }
      ]
    },
    {
      "cell_type": "markdown",
      "metadata": {
        "id": "XavRiUA8-upk"
      },
      "source": [
        "위에서 보시는 바와 같이 index가 `DatetimeIndex`로 지정되어 있습니다.\n",
        "\n",
        "`DatetimeIndex`로 정의되어 있다면, 아래와 같이 연도, 월, 일을 쪼갤 수 있으며, **월별, 연도별 피벗데이터**를 만들때 유용하게 활용할 수 있습니다."
      ]
    },
    {
      "cell_type": "code",
      "metadata": {
        "id": "fif43Fh-0l4L"
      },
      "source": [
        "stock['Year'] = stock.index.year\n",
        "stock['Month'] = stock.index.month\n",
        "stock['Day'] = stock.index.day"
      ],
      "execution_count": 19,
      "outputs": []
    },
    {
      "cell_type": "code",
      "metadata": {
        "colab": {
          "base_uri": "https://localhost:8080/",
          "height": 237
        },
        "id": "0yAKE9Ag0l4S",
        "outputId": "43e11a04-9481-4610-b32e-b4ef72b304d8"
      },
      "source": [
        "stock.head()"
      ],
      "execution_count": 20,
      "outputs": [
        {
          "output_type": "execute_result",
          "data": {
            "text/html": [
              "<div>\n",
              "<style scoped>\n",
              "    .dataframe tbody tr th:only-of-type {\n",
              "        vertical-align: middle;\n",
              "    }\n",
              "\n",
              "    .dataframe tbody tr th {\n",
              "        vertical-align: top;\n",
              "    }\n",
              "\n",
              "    .dataframe thead th {\n",
              "        text-align: right;\n",
              "    }\n",
              "</style>\n",
              "<table border=\"1\" class=\"dataframe\">\n",
              "  <thead>\n",
              "    <tr style=\"text-align: right;\">\n",
              "      <th></th>\n",
              "      <th>Open</th>\n",
              "      <th>High</th>\n",
              "      <th>Low</th>\n",
              "      <th>Close</th>\n",
              "      <th>Volume</th>\n",
              "      <th>Change</th>\n",
              "      <th>Year</th>\n",
              "      <th>Month</th>\n",
              "      <th>Day</th>\n",
              "    </tr>\n",
              "    <tr>\n",
              "      <th>Date</th>\n",
              "      <th></th>\n",
              "      <th></th>\n",
              "      <th></th>\n",
              "      <th></th>\n",
              "      <th></th>\n",
              "      <th></th>\n",
              "      <th></th>\n",
              "      <th></th>\n",
              "      <th></th>\n",
              "    </tr>\n",
              "  </thead>\n",
              "  <tbody>\n",
              "    <tr>\n",
              "      <th>1997-09-22</th>\n",
              "      <td>1227</td>\n",
              "      <td>1242</td>\n",
              "      <td>1209</td>\n",
              "      <td>1212</td>\n",
              "      <td>59140</td>\n",
              "      <td>NaN</td>\n",
              "      <td>1997</td>\n",
              "      <td>9</td>\n",
              "      <td>22</td>\n",
              "    </tr>\n",
              "    <tr>\n",
              "      <th>1997-09-23</th>\n",
              "      <td>1209</td>\n",
              "      <td>1215</td>\n",
              "      <td>1192</td>\n",
              "      <td>1192</td>\n",
              "      <td>66140</td>\n",
              "      <td>-0.016502</td>\n",
              "      <td>1997</td>\n",
              "      <td>9</td>\n",
              "      <td>23</td>\n",
              "    </tr>\n",
              "    <tr>\n",
              "      <th>1997-09-24</th>\n",
              "      <td>1186</td>\n",
              "      <td>1213</td>\n",
              "      <td>1165</td>\n",
              "      <td>1194</td>\n",
              "      <td>93880</td>\n",
              "      <td>0.001678</td>\n",
              "      <td>1997</td>\n",
              "      <td>9</td>\n",
              "      <td>24</td>\n",
              "    </tr>\n",
              "    <tr>\n",
              "      <th>1997-09-25</th>\n",
              "      <td>1193</td>\n",
              "      <td>1193</td>\n",
              "      <td>1170</td>\n",
              "      <td>1179</td>\n",
              "      <td>70400</td>\n",
              "      <td>-0.012563</td>\n",
              "      <td>1997</td>\n",
              "      <td>9</td>\n",
              "      <td>25</td>\n",
              "    </tr>\n",
              "    <tr>\n",
              "      <th>1997-09-26</th>\n",
              "      <td>1170</td>\n",
              "      <td>1179</td>\n",
              "      <td>1161</td>\n",
              "      <td>1174</td>\n",
              "      <td>70500</td>\n",
              "      <td>-0.004241</td>\n",
              "      <td>1997</td>\n",
              "      <td>9</td>\n",
              "      <td>26</td>\n",
              "    </tr>\n",
              "  </tbody>\n",
              "</table>\n",
              "</div>"
            ],
            "text/plain": [
              "            Open  High   Low  Close  Volume    Change  Year  Month  Day\n",
              "Date                                                                   \n",
              "1997-09-22  1227  1242  1209   1212   59140       NaN  1997      9   22\n",
              "1997-09-23  1209  1215  1192   1192   66140 -0.016502  1997      9   23\n",
              "1997-09-24  1186  1213  1165   1194   93880  0.001678  1997      9   24\n",
              "1997-09-25  1193  1193  1170   1179   70400 -0.012563  1997      9   25\n",
              "1997-09-26  1170  1179  1161   1174   70500 -0.004241  1997      9   26"
            ]
          },
          "metadata": {},
          "execution_count": 20
        }
      ]
    },
    {
      "cell_type": "markdown",
      "metadata": {
        "id": "5FBTlube0l4d"
      },
      "source": [
        "## 시각화"
      ]
    },
    {
      "cell_type": "code",
      "metadata": {
        "colab": {
          "base_uri": "https://localhost:8080/",
          "height": 433
        },
        "id": "MWcaWEa80l4o",
        "outputId": "ff8de7f1-002c-4189-b6a7-a6105352f522"
      },
      "source": [
        "plt.figure(figsize=(16, 9))\n",
        "sns.lineplot(y=stock['Close'], x=stock.index)\n",
        "plt.xlabel('time')\n",
        "plt.ylabel('price')"
      ],
      "execution_count": 21,
      "outputs": [
        {
          "output_type": "execute_result",
          "data": {
            "text/plain": [
              "Text(0, 0.5, 'price')"
            ]
          },
          "metadata": {},
          "execution_count": 21
        },
        {
          "output_type": "stream",
          "name": "stderr",
          "text": [
            "findfont: Font family ['NanumGothic'] not found. Falling back to DejaVu Sans.\n"
          ]
        },
        {
          "output_type": "display_data",
          "data": {
            "image/png": "[encoded data removed]",
            "text/plain": [
              "<Figure size 1152x648 with 1 Axes>"
            ]
          },
          "metadata": {
            "needs_background": "light"
          }
        }
      ]
    },
    {
      "cell_type": "code",
      "metadata": {
        "id": "ri1amzLx-upm",
        "colab": {
          "base_uri": "https://localhost:8080/",
          "height": 415
        },
        "outputId": "1d5fef8a-028a-46fe-b451-6807dfc00d93"
      },
      "source": [
        "time_steps = [['1990', '2000'], \n",
        "              ['2000', '2010'], \n",
        "              ['2010', '2015'], \n",
        "              ['2015', '2020']]\n",
        "\n",
        "fig, axes = plt.subplots(2, 2)\n",
        "fig.set_size_inches(16, 9)\n",
        "for i in range(4):\n",
        "    ax = axes[i//2, i%2]\n",
        "    df = stock.loc[(stock.index > time_steps[i][0]) & (stock.index < time_steps[i][1])]\n",
        "    sns.lineplot(y=df['Close'], x=df.index, ax=ax)\n",
        "    ax.set_title(f'{time_steps[i][0]}~{time_steps[i][1]}')\n",
        "    ax.set_xlabel('time')\n",
        "    ax.set_ylabel('price')\n",
        "plt.tight_layout()\n",
        "plt.show()"
      ],
      "execution_count": 22,
      "outputs": [
        {
          "output_type": "stream",
          "name": "stderr",
          "text": [
            "findfont: Font family ['NanumGothic'] not found. Falling back to DejaVu Sans.\n"
          ]
        },
        {
          "output_type": "display_data",
          "data": {
            "image/png": "[encoded data removed]",
            "text/plain": [
              "<Figure size 1152x648 with 4 Axes>"
            ]
          },
          "metadata": {
            "needs_background": "light"
          }
        }
      ]
    },
    {
      "cell_type": "markdown",
      "metadata": {
        "id": "eqDVOhVl-upm"
      },
      "source": [
        "## 데이터 전처리"
      ]
    },
    {
      "cell_type": "markdown",
      "metadata": {
        "id": "cHpPS9rb-upn"
      },
      "source": [
        "주가 데이터에 대하여 딥러닝 모델이 더 잘 학습할 수 있도록 **정규화(Normalization)**를 해주도록 하겠습니다.\n",
        "\n",
        "**표준화 (Standardization)**와 **정규화(Normalization)**에 대한 내용은 아래 링크에서 더 자세히 다루니, 참고해 보시기 바랍니다.\n",
        "\n",
        "- [데이터 전처리에 관하여](https://teddylee777.github.io/scikit-learn/scikit-learn-preprocessing)"
      ]
    },
    {
      "cell_type": "code",
      "metadata": {
        "id": "4-4PgRMZ0l5Q",
        "colab": {
          "base_uri": "https://localhost:8080/"
        },
        "outputId": "7fe51fdb-df6a-46a4-a90b-0ecb253f49a8"
      },
      "source": [
        "from sklearn.preprocessing import MinMaxScaler\n",
        "\n",
        "scaler = MinMaxScaler()\n",
        "# 스케일을 적용할 column을 정의합니다.\n",
        "scale_cols = ['Open', 'High', 'Low', 'Close', 'Volume']\n",
        "# 스케일 후 columns\n",
        "scaled = scaler.fit_transform(stock[scale_cols])\n",
        "scaled"
      ],
      "execution_count": 23,
      "outputs": [
        {
          "output_type": "execute_result",
          "data": {
            "text/plain": [
              "array([[1.35880399e-02, 1.28305785e-02, 1.35083799e-02, 6.47317230e-03,\n",
              "        6.54883220e-04],\n",
              "       [1.33887043e-02, 1.25516529e-02, 1.33184358e-02, 6.25186726e-03,\n",
              "        7.32397298e-04],\n",
              "       [1.31339978e-02, 1.25309917e-02, 1.30167598e-02, 6.27399776e-03,\n",
              "        1.03957451e-03],\n",
              "       ...,\n",
              "       [7.60797342e-01, 7.19008264e-01, 7.63128492e-01, 7.54351410e-01,\n",
              "        2.67667349e-01],\n",
              "       [7.64119601e-01, 7.21074380e-01, 7.68715084e-01, 7.60990561e-01,\n",
              "        2.16160640e-01],\n",
              "       [7.77408638e-01, 7.33471074e-01, 7.82122905e-01, 7.68736238e-01,\n",
              "        1.94137850e-01]])"
            ]
          },
          "metadata": {},
          "execution_count": 23
        }
      ]
    },
    {
      "cell_type": "markdown",
      "metadata": {
        "id": "QJhy9jks-upn"
      },
      "source": [
        "스케일이 완료된 column으로 새로운 데이터프레임을 생성합니다.\n",
        "\n",
        "**시간 순으로 정렬**되어 있으며, datetime index는 제외했습니다.\n",
        "\n",
        "*6,000개의 row, 5개 column*으로 이루어진 데이터셋이 DataFrame으로 정리되었습니다."
      ]
    },
    {
      "cell_type": "code",
      "metadata": {
        "id": "dIJjE21B0l5m"
      },
      "source": [
        "df = pd.DataFrame(scaled, columns=scale_cols)"
      ],
      "execution_count": 24,
      "outputs": []
    },
    {
      "cell_type": "markdown",
      "metadata": {
        "id": "5Hy9o0I4-upo"
      },
      "source": [
        "## train / test 분할"
      ]
    },
    {
      "cell_type": "code",
      "metadata": {
        "id": "AVCwoqbr-upo"
      },
      "source": [
        "from sklearn.model_selection import train_test_split"
      ],
      "execution_count": 25,
      "outputs": []
    },
    {
      "cell_type": "code",
      "metadata": {
        "id": "C_QLyE6b-upo"
      },
      "source": [
        "x_train, x_test, y_train, y_test = train_test_split(df.drop('Close', 1), df['Close'], test_size=0.2, random_state=0, shuffle=False)"
      ],
      "execution_count": 26,
      "outputs": []
    },
    {
      "cell_type": "code",
      "metadata": {
        "id": "Tm8bR11M-upo",
        "colab": {
          "base_uri": "https://localhost:8080/"
        },
        "outputId": "645f8933-98c8-44e8-ec7a-87014b92a194"
      },
      "source": [
        "x_train.shape, y_train.shape"
      ],
      "execution_count": 27,
      "outputs": [
        {
          "output_type": "execute_result",
          "data": {
            "text/plain": [
              "((4800, 4), (4800,))"
            ]
          },
          "metadata": {},
          "execution_count": 27
        }
      ]
    },
    {
      "cell_type": "code",
      "metadata": {
        "id": "8qZ8CD0T-upp",
        "colab": {
          "base_uri": "https://localhost:8080/"
        },
        "outputId": "bb7d4a80-8dda-4612-befd-62c41f5faf7a"
      },
      "source": [
        "x_test.shape, y_test.shape"
      ],
      "execution_count": 28,
      "outputs": [
        {
          "output_type": "execute_result",
          "data": {
            "text/plain": [
              "((1200, 4), (1200,))"
            ]
          },
          "metadata": {},
          "execution_count": 28
        }
      ]
    },
    {
      "cell_type": "code",
      "metadata": {
        "id": "jo600k3e-upp",
        "colab": {
          "base_uri": "https://localhost:8080/",
          "height": 423
        },
        "outputId": "e82027c7-2734-4048-b63d-41eb5c554f07"
      },
      "source": [
        "x_train"
      ],
      "execution_count": 29,
      "outputs": [
        {
          "output_type": "execute_result",
          "data": {
            "text/html": [
              "<div>\n",
              "<style scoped>\n",
              "    .dataframe tbody tr th:only-of-type {\n",
              "        vertical-align: middle;\n",
              "    }\n",
              "\n",
              "    .dataframe tbody tr th {\n",
              "        vertical-align: top;\n",
              "    }\n",
              "\n",
              "    .dataframe thead th {\n",
              "        text-align: right;\n",
              "    }\n",
              "</style>\n",
              "<table border=\"1\" class=\"dataframe\">\n",
              "  <thead>\n",
              "    <tr style=\"text-align: right;\">\n",
              "      <th></th>\n",
              "      <th>Open</th>\n",
              "      <th>High</th>\n",
              "      <th>Low</th>\n",
              "      <th>Volume</th>\n",
              "    </tr>\n",
              "  </thead>\n",
              "  <tbody>\n",
              "    <tr>\n",
              "      <th>0</th>\n",
              "      <td>0.013588</td>\n",
              "      <td>0.012831</td>\n",
              "      <td>0.013508</td>\n",
              "      <td>0.000655</td>\n",
              "    </tr>\n",
              "    <tr>\n",
              "      <th>1</th>\n",
              "      <td>0.013389</td>\n",
              "      <td>0.012552</td>\n",
              "      <td>0.013318</td>\n",
              "      <td>0.000732</td>\n",
              "    </tr>\n",
              "    <tr>\n",
              "      <th>2</th>\n",
              "      <td>0.013134</td>\n",
              "      <td>0.012531</td>\n",
              "      <td>0.013017</td>\n",
              "      <td>0.001040</td>\n",
              "    </tr>\n",
              "    <tr>\n",
              "      <th>3</th>\n",
              "      <td>0.013212</td>\n",
              "      <td>0.012324</td>\n",
              "      <td>0.013073</td>\n",
              "      <td>0.000780</td>\n",
              "    </tr>\n",
              "    <tr>\n",
              "      <th>4</th>\n",
              "      <td>0.012957</td>\n",
              "      <td>0.012180</td>\n",
              "      <td>0.012972</td>\n",
              "      <td>0.000781</td>\n",
              "    </tr>\n",
              "    <tr>\n",
              "      <th>...</th>\n",
              "      <td>...</td>\n",
              "      <td>...</td>\n",
              "      <td>...</td>\n",
              "      <td>...</td>\n",
              "    </tr>\n",
              "    <tr>\n",
              "      <th>4795</th>\n",
              "      <td>0.350377</td>\n",
              "      <td>0.328099</td>\n",
              "      <td>0.350838</td>\n",
              "      <td>0.002095</td>\n",
              "    </tr>\n",
              "    <tr>\n",
              "      <th>4796</th>\n",
              "      <td>0.346622</td>\n",
              "      <td>0.331808</td>\n",
              "      <td>0.349721</td>\n",
              "      <td>0.001812</td>\n",
              "    </tr>\n",
              "    <tr>\n",
              "      <th>4797</th>\n",
              "      <td>0.355925</td>\n",
              "      <td>0.339876</td>\n",
              "      <td>0.357542</td>\n",
              "      <td>0.002160</td>\n",
              "    </tr>\n",
              "    <tr>\n",
              "      <th>4798</th>\n",
              "      <td>0.367885</td>\n",
              "      <td>0.343182</td>\n",
              "      <td>0.363352</td>\n",
              "      <td>0.002806</td>\n",
              "    </tr>\n",
              "    <tr>\n",
              "      <th>4799</th>\n",
              "      <td>0.365227</td>\n",
              "      <td>0.341322</td>\n",
              "      <td>0.364916</td>\n",
              "      <td>0.001718</td>\n",
              "    </tr>\n",
              "  </tbody>\n",
              "</table>\n",
              "<p>4800 rows × 4 columns</p>\n",
              "</div>"
            ],
            "text/plain": [
              "          Open      High       Low    Volume\n",
              "0     0.013588  0.012831  0.013508  0.000655\n",
              "1     0.013389  0.012552  0.013318  0.000732\n",
              "2     0.013134  0.012531  0.013017  0.001040\n",
              "3     0.013212  0.012324  0.013073  0.000780\n",
              "4     0.012957  0.012180  0.012972  0.000781\n",
              "...        ...       ...       ...       ...\n",
              "4795  0.350377  0.328099  0.350838  0.002095\n",
              "4796  0.346622  0.331808  0.349721  0.001812\n",
              "4797  0.355925  0.339876  0.357542  0.002160\n",
              "4798  0.367885  0.343182  0.363352  0.002806\n",
              "4799  0.365227  0.341322  0.364916  0.001718\n",
              "\n",
              "[4800 rows x 4 columns]"
            ]
          },
          "metadata": {},
          "execution_count": 29
        }
      ]
    },
    {
      "cell_type": "markdown",
      "metadata": {
        "id": "sYjMujDi-upq"
      },
      "source": [
        "## TensroFlow Dataset을 활용한 시퀀스 데이터셋 구성"
      ]
    },
    {
      "cell_type": "code",
      "metadata": {
        "id": "MgeBvqE2-upq"
      },
      "source": [
        "import tensorflow as tf"
      ],
      "execution_count": 30,
      "outputs": []
    },
    {
      "cell_type": "code",
      "metadata": {
        "id": "xXImqVQB-upq"
      },
      "source": [
        "def windowed_dataset(series, window_size, batch_size, shuffle):\n",
        "    series = tf.expand_dims(series, axis=-1)\n",
        "    ds = tf.data.Dataset.from_tensor_slices(series)\n",
        "    ds = ds.window(window_size + 1, shift=1, drop_remainder=True)\n",
        "    ds = ds.flat_map(lambda w: w.batch(window_size + 1))\n",
        "    if shuffle:\n",
        "        ds = ds.shuffle(1000)\n",
        "    ds = ds.map(lambda w: (w[:-1], w[-1]))\n",
        "    return ds.batch(batch_size).prefetch(1)"
      ],
      "execution_count": 31,
      "outputs": []
    },
    {
      "cell_type": "markdown",
      "metadata": {
        "id": "qlTOdt99-upq"
      },
      "source": [
        "Hyperparameter를 정의합니다."
      ]
    },
    {
      "cell_type": "code",
      "metadata": {
        "id": "bvBv8iec-upr"
      },
      "source": [
        "WINDOW_SIZE=20\n",
        "BATCH_SIZE=32"
      ],
      "execution_count": 32,
      "outputs": []
    },
    {
      "cell_type": "code",
      "metadata": {
        "id": "lJdto3PA-upr"
      },
      "source": [
        "# trian_data는 학습용 데이터셋, test_data는 검증용 데이터셋 입니다.\n",
        "train_data = windowed_dataset(y_train, WINDOW_SIZE, BATCH_SIZE, True)\n",
        "test_data = windowed_dataset(y_test, WINDOW_SIZE, BATCH_SIZE, False)"
      ],
      "execution_count": 33,
      "outputs": []
    },
    {
      "cell_type": "code",
      "metadata": {
        "id": "wNH2Rivh-upr",
        "colab": {
          "base_uri": "https://localhost:8080/"
        },
        "outputId": "be2b280c-d9dc-4adc-9be1-dc9bc3216c3a"
      },
      "source": [
        "# 아래의 코드로 데이터셋의 구성을 확인해 볼 수 있습니다.\n",
        "# X: (batch_size, window_size, feature)\n",
        "# Y: (batch_size, feature)\n",
        "for data in train_data.take(1):\n",
        "    print(f'데이터셋(X) 구성(batch_size, window_size, feature갯수): {data[0].shape}')\n",
        "    print(f'데이터셋(Y) 구성(batch_size, window_size, feature갯수): {data[1].shape}')"
      ],
      "execution_count": 34,
      "outputs": [
        {
          "output_type": "stream",
          "name": "stdout",
          "text": [
            "데이터셋(X) 구성(batch_size, window_size, feature갯수): (32, 20, 1)\n",
            "데이터셋(Y) 구성(batch_size, window_size, feature갯수): (32, 1)\n"
          ]
        }
      ]
    },
    {
      "cell_type": "markdown",
      "metadata": {
        "id": "cycNrxzd-ups"
      },
      "source": [
        "## 모델"
      ]
    },
    {
      "cell_type": "code",
      "metadata": {
        "id": "mAkmGu1j0l8M"
      },
      "source": [
        "from tensorflow.keras.models import Sequential\n",
        "from tensorflow.keras.layers import Dense, LSTM, Conv1D, Lambda\n",
        "from tensorflow.keras.losses import Huber\n",
        "from tensorflow.keras.optimizers import Adam\n",
        "from tensorflow.keras.callbacks import EarlyStopping, ModelCheckpoint\n",
        "\n",
        "\n",
        "model = Sequential([\n",
        "    # 1차원 feature map 생성\n",
        "    Conv1D(filters=32, kernel_size=5,\n",
        "           padding=\"causal\",\n",
        "           activation=\"relu\",\n",
        "           input_shape=[WINDOW_SIZE, 1]),\n",
        "    # LSTM\n",
        "    LSTM(16, activation='tanh'),\n",
        "    Dense(16, activation=\"relu\"),\n",
        "    Dense(1),\n",
        "])"
      ],
      "execution_count": 35,
      "outputs": []
    },
    {
      "cell_type": "code",
      "metadata": {
        "id": "xShll_EX0l8T"
      },
      "source": [
        "# Sequence 학습에 비교적 좋은 퍼포먼스를 내는 Huber()를 사용합니다.\n",
        "loss = Huber()\n",
        "optimizer = Adam(0.0005)\n",
        "model.compile(loss=Huber(), optimizer=optimizer, metrics=['mse'])"
      ],
      "execution_count": 36,
      "outputs": []
    },
    {
      "cell_type": "code",
      "metadata": {
        "id": "Vajtmaqa-upt"
      },
      "source": [
        "# earlystopping은 10번 epoch통안 val_loss 개선이 없다면 학습을 멈춥니다.\n",
        "earlystopping = EarlyStopping(monitor='val_loss', patience=10)\n",
        "# val_loss 기준 체크포인터도 생성합니다.\n",
        "filename = os.path.join('tmp', 'ckeckpointer.ckpt')\n",
        "checkpoint = ModelCheckpoint(filename, \n",
        "                             save_weights_only=True, \n",
        "                             save_best_only=True, \n",
        "                             monitor='val_loss', \n",
        "                             verbose=1)"
      ],
      "execution_count": 37,
      "outputs": []
    },
    {
      "cell_type": "code",
      "metadata": {
        "colab": {
          "base_uri": "https://localhost:8080/"
        },
        "id": "hmLoDA3H-upt",
        "outputId": "5b8ccc83-1943-4ad4-9bf1-7f66c0963b91"
      },
      "source": [
        "history = model.fit(train_data, \n",
        "                    validation_data=(test_data), \n",
        "                    epochs=50, \n",
        "                    callbacks=[checkpoint, earlystopping])"
      ],
      "execution_count": 38,
      "outputs": [
        {
          "output_type": "stream",
          "name": "stdout",
          "text": [
            "Epoch 1/50\n",
            "150/150 [==============================] - 35s 19ms/step - loss: 1.8675e-04 - mse: 3.7350e-04 - val_loss: 0.0052 - val_mse: 0.0104\n",
            "\n",
            "Epoch 00001: val_loss improved from inf to 0.00519, saving model to tmp/ckeckpointer.ckpt\n",
            "Epoch 2/50\n",
            "150/150 [==============================] - 2s 13ms/step - loss: 2.3644e-05 - mse: 4.7288e-05 - val_loss: 0.0044 - val_mse: 0.0088\n",
            "\n",
            "Epoch 00002: val_loss improved from 0.00519 to 0.00442, saving model to tmp/ckeckpointer.ckpt\n",
            "Epoch 3/50\n",
            "150/150 [==============================] - 2s 13ms/step - loss: 2.2551e-05 - mse: 4.5102e-05 - val_loss: 0.0047 - val_mse: 0.0094\n",
            "\n",
            "Epoch 00003: val_loss did not improve from 0.00442\n",
            "Epoch 4/50\n",
            "150/150 [==============================] - 2s 13ms/step - loss: 2.2697e-05 - mse: 4.5395e-05 - val_loss: 0.0046 - val_mse: 0.0091\n",
            "\n",
            "Epoch 00004: val_loss did not improve from 0.00442\n",
            "Epoch 5/50\n",
            "150/150 [==============================] - 2s 13ms/step - loss: 2.0559e-05 - mse: 4.1118e-05 - val_loss: 0.0050 - val_mse: 0.0099\n",
            "\n",
            "Epoch 00005: val_loss did not improve from 0.00442\n",
            "Epoch 6/50\n",
            "150/150 [==============================] - 2s 13ms/step - loss: 2.0572e-05 - mse: 4.1144e-05 - val_loss: 0.0048 - val_mse: 0.0096\n",
            "\n",
            "Epoch 00006: val_loss did not improve from 0.00442\n",
            "Epoch 7/50\n",
            "150/150 [==============================] - 2s 13ms/step - loss: 1.9658e-05 - mse: 3.9317e-05 - val_loss: 0.0048 - val_mse: 0.0096\n",
            "\n",
            "Epoch 00007: val_loss did not improve from 0.00442\n",
            "Epoch 8/50\n",
            "150/150 [==============================] - 2s 13ms/step - loss: 1.9297e-05 - mse: 3.8594e-05 - val_loss: 0.0052 - val_mse: 0.0104\n",
            "\n",
            "Epoch 00008: val_loss did not improve from 0.00442\n",
            "Epoch 9/50\n",
            "150/150 [==============================] - 2s 13ms/step - loss: 1.8502e-05 - mse: 3.7004e-05 - val_loss: 0.0053 - val_mse: 0.0105\n",
            "\n",
            "Epoch 00009: val_loss did not improve from 0.00442\n",
            "Epoch 10/50\n",
            "150/150 [==============================] - 2s 13ms/step - loss: 1.9812e-05 - mse: 3.9623e-05 - val_loss: 0.0046 - val_mse: 0.0092\n",
            "\n",
            "Epoch 00010: val_loss did not improve from 0.00442\n",
            "Epoch 11/50\n",
            "150/150 [==============================] - 2s 13ms/step - loss: 1.8112e-05 - mse: 3.6225e-05 - val_loss: 0.0043 - val_mse: 0.0087\n",
            "\n",
            "Epoch 00011: val_loss improved from 0.00442 to 0.00433, saving model to tmp/ckeckpointer.ckpt\n",
            "Epoch 12/50\n",
            "150/150 [==============================] - 2s 14ms/step - loss: 1.7750e-05 - mse: 3.5500e-05 - val_loss: 0.0046 - val_mse: 0.0093\n",
            "\n",
            "Epoch 00012: val_loss did not improve from 0.00433\n",
            "Epoch 13/50\n",
            "150/150 [==============================] - 2s 13ms/step - loss: 1.8992e-05 - mse: 3.7984e-05 - val_loss: 0.0048 - val_mse: 0.0095\n",
            "\n",
            "Epoch 00013: val_loss did not improve from 0.00433\n",
            "Epoch 14/50\n",
            "150/150 [==============================] - 2s 13ms/step - loss: 1.7319e-05 - mse: 3.4638e-05 - val_loss: 0.0048 - val_mse: 0.0096\n",
            "\n",
            "Epoch 00014: val_loss did not improve from 0.00433\n",
            "Epoch 15/50\n",
            "150/150 [==============================] - 2s 13ms/step - loss: 1.5780e-05 - mse: 3.1560e-05 - val_loss: 0.0044 - val_mse: 0.0089\n",
            "\n",
            "Epoch 00015: val_loss did not improve from 0.00433\n",
            "Epoch 16/50\n",
            "150/150 [==============================] - 2s 13ms/step - loss: 1.7024e-05 - mse: 3.4049e-05 - val_loss: 0.0047 - val_mse: 0.0093\n",
            "\n",
            "Epoch 00016: val_loss did not improve from 0.00433\n",
            "Epoch 17/50\n",
            "150/150 [==============================] - 2s 13ms/step - loss: 1.5448e-05 - mse: 3.0896e-05 - val_loss: 0.0045 - val_mse: 0.0090\n",
            "\n",
            "Epoch 00017: val_loss did not improve from 0.00433\n",
            "Epoch 18/50\n",
            "150/150 [==============================] - 2s 13ms/step - loss: 1.6506e-05 - mse: 3.3012e-05 - val_loss: 0.0048 - val_mse: 0.0095\n",
            "\n",
            "Epoch 00018: val_loss did not improve from 0.00433\n",
            "Epoch 19/50\n",
            "150/150 [==============================] - 2s 13ms/step - loss: 1.5570e-05 - mse: 3.1139e-05 - val_loss: 0.0042 - val_mse: 0.0084\n",
            "\n",
            "Epoch 00019: val_loss improved from 0.00433 to 0.00422, saving model to tmp/ckeckpointer.ckpt\n",
            "Epoch 20/50\n",
            "150/150 [==============================] - 2s 13ms/step - loss: 1.5561e-05 - mse: 3.1122e-05 - val_loss: 0.0042 - val_mse: 0.0083\n",
            "\n",
            "Epoch 00020: val_loss improved from 0.00422 to 0.00416, saving model to tmp/ckeckpointer.ckpt\n",
            "Epoch 21/50\n",
            "150/150 [==============================] - 2s 13ms/step - loss: 1.4781e-05 - mse: 2.9563e-05 - val_loss: 0.0039 - val_mse: 0.0079\n",
            "\n",
            "Epoch 00021: val_loss improved from 0.00416 to 0.00393, saving model to tmp/ckeckpointer.ckpt\n",
            "Epoch 22/50\n",
            "150/150 [==============================] - 2s 13ms/step - loss: 1.3991e-05 - mse: 2.7981e-05 - val_loss: 0.0036 - val_mse: 0.0072\n",
            "\n",
            "Epoch 00022: val_loss improved from 0.00393 to 0.00360, saving model to tmp/ckeckpointer.ckpt\n",
            "Epoch 23/50\n",
            "150/150 [==============================] - 2s 13ms/step - loss: 1.4905e-05 - mse: 2.9810e-05 - val_loss: 0.0038 - val_mse: 0.0077\n",
            "\n",
            "Epoch 00023: val_loss did not improve from 0.00360\n",
            "Epoch 24/50\n",
            "150/150 [==============================] - 2s 13ms/step - loss: 1.4502e-05 - mse: 2.9003e-05 - val_loss: 0.0037 - val_mse: 0.0074\n",
            "\n",
            "Epoch 00024: val_loss did not improve from 0.00360\n",
            "Epoch 25/50\n",
            "150/150 [==============================] - 2s 15ms/step - loss: 1.3978e-05 - mse: 2.7957e-05 - val_loss: 0.0046 - val_mse: 0.0091\n",
            "\n",
            "Epoch 00025: val_loss did not improve from 0.00360\n",
            "Epoch 26/50\n",
            "150/150 [==============================] - 2s 13ms/step - loss: 1.4716e-05 - mse: 2.9431e-05 - val_loss: 0.0035 - val_mse: 0.0070\n",
            "\n",
            "Epoch 00026: val_loss improved from 0.00360 to 0.00349, saving model to tmp/ckeckpointer.ckpt\n",
            "Epoch 27/50\n",
            "150/150 [==============================] - 2s 13ms/step - loss: 1.5657e-05 - mse: 3.1313e-05 - val_loss: 0.0036 - val_mse: 0.0072\n",
            "\n",
            "Epoch 00027: val_loss did not improve from 0.00349\n",
            "Epoch 28/50\n",
            "150/150 [==============================] - 2s 13ms/step - loss: 1.4056e-05 - mse: 2.8113e-05 - val_loss: 0.0044 - val_mse: 0.0089\n",
            "\n",
            "Epoch 00028: val_loss did not improve from 0.00349\n",
            "Epoch 29/50\n",
            "150/150 [==============================] - 2s 14ms/step - loss: 1.3399e-05 - mse: 2.6797e-05 - val_loss: 0.0032 - val_mse: 0.0064\n",
            "\n",
            "Epoch 00029: val_loss improved from 0.00349 to 0.00322, saving model to tmp/ckeckpointer.ckpt\n",
            "Epoch 30/50\n",
            "150/150 [==============================] - 2s 13ms/step - loss: 1.3651e-05 - mse: 2.7303e-05 - val_loss: 0.0029 - val_mse: 0.0059\n",
            "\n",
            "Epoch 00030: val_loss improved from 0.00322 to 0.00295, saving model to tmp/ckeckpointer.ckpt\n",
            "Epoch 31/50\n",
            "150/150 [==============================] - 2s 13ms/step - loss: 1.3230e-05 - mse: 2.6460e-05 - val_loss: 0.0034 - val_mse: 0.0068\n",
            "\n",
            "Epoch 00031: val_loss did not improve from 0.00295\n",
            "Epoch 32/50\n",
            "150/150 [==============================] - 2s 14ms/step - loss: 1.2943e-05 - mse: 2.5885e-05 - val_loss: 0.0034 - val_mse: 0.0067\n",
            "\n",
            "Epoch 00032: val_loss did not improve from 0.00295\n",
            "Epoch 33/50\n",
            "150/150 [==============================] - 2s 13ms/step - loss: 1.2420e-05 - mse: 2.4840e-05 - val_loss: 0.0036 - val_mse: 0.0072\n",
            "\n",
            "Epoch 00033: val_loss did not improve from 0.00295\n",
            "Epoch 34/50\n",
            "150/150 [==============================] - 2s 13ms/step - loss: 1.2335e-05 - mse: 2.4670e-05 - val_loss: 0.0029 - val_mse: 0.0059\n",
            "\n",
            "Epoch 00034: val_loss improved from 0.00295 to 0.00294, saving model to tmp/ckeckpointer.ckpt\n",
            "Epoch 35/50\n",
            "150/150 [==============================] - 2s 13ms/step - loss: 1.3465e-05 - mse: 2.6930e-05 - val_loss: 0.0032 - val_mse: 0.0065\n",
            "\n",
            "Epoch 00035: val_loss did not improve from 0.00294\n",
            "Epoch 36/50\n",
            "150/150 [==============================] - 2s 13ms/step - loss: 1.2107e-05 - mse: 2.4214e-05 - val_loss: 0.0038 - val_mse: 0.0076\n",
            "\n",
            "Epoch 00036: val_loss did not improve from 0.00294\n",
            "Epoch 37/50\n",
            "150/150 [==============================] - 2s 13ms/step - loss: 1.1858e-05 - mse: 2.3717e-05 - val_loss: 0.0038 - val_mse: 0.0075\n",
            "\n",
            "Epoch 00037: val_loss did not improve from 0.00294\n",
            "Epoch 38/50\n",
            "150/150 [==============================] - 2s 13ms/step - loss: 1.1676e-05 - mse: 2.3351e-05 - val_loss: 0.0036 - val_mse: 0.0072\n",
            "\n",
            "Epoch 00038: val_loss did not improve from 0.00294\n",
            "Epoch 39/50\n",
            "150/150 [==============================] - 2s 14ms/step - loss: 1.1391e-05 - mse: 2.2783e-05 - val_loss: 0.0030 - val_mse: 0.0061\n",
            "\n",
            "Epoch 00039: val_loss did not improve from 0.00294\n",
            "Epoch 40/50\n",
            "150/150 [==============================] - 2s 13ms/step - loss: 1.1761e-05 - mse: 2.3521e-05 - val_loss: 0.0033 - val_mse: 0.0065\n",
            "\n",
            "Epoch 00040: val_loss did not improve from 0.00294\n",
            "Epoch 41/50\n",
            "150/150 [==============================] - 2s 13ms/step - loss: 1.0866e-05 - mse: 2.1733e-05 - val_loss: 0.0030 - val_mse: 0.0060\n",
            "\n",
            "Epoch 00041: val_loss did not improve from 0.00294\n",
            "Epoch 42/50\n",
            "150/150 [==============================] - 2s 14ms/step - loss: 1.1791e-05 - mse: 2.3583e-05 - val_loss: 0.0031 - val_mse: 0.0062\n",
            "\n",
            "Epoch 00042: val_loss did not improve from 0.00294\n",
            "Epoch 43/50\n",
            "150/150 [==============================] - 2s 13ms/step - loss: 1.1493e-05 - mse: 2.2987e-05 - val_loss: 0.0025 - val_mse: 0.0050\n",
            "\n",
            "Epoch 00043: val_loss improved from 0.00294 to 0.00250, saving model to tmp/ckeckpointer.ckpt\n",
            "Epoch 44/50\n",
            "150/150 [==============================] - 2s 13ms/step - loss: 1.0957e-05 - mse: 2.1914e-05 - val_loss: 0.0025 - val_mse: 0.0050\n",
            "\n",
            "Epoch 00044: val_loss did not improve from 0.00250\n",
            "Epoch 45/50\n",
            "150/150 [==============================] - 2s 14ms/step - loss: 1.0343e-05 - mse: 2.0686e-05 - val_loss: 0.0031 - val_mse: 0.0061\n",
            "\n",
            "Epoch 00045: val_loss did not improve from 0.00250\n",
            "Epoch 46/50\n",
            "150/150 [==============================] - 2s 14ms/step - loss: 1.1215e-05 - mse: 2.2429e-05 - val_loss: 0.0027 - val_mse: 0.0053\n",
            "\n",
            "Epoch 00046: val_loss did not improve from 0.00250\n",
            "Epoch 47/50\n",
            "150/150 [==============================] - 2s 13ms/step - loss: 1.0725e-05 - mse: 2.1450e-05 - val_loss: 0.0028 - val_mse: 0.0056\n",
            "\n",
            "Epoch 00047: val_loss did not improve from 0.00250\n",
            "Epoch 48/50\n",
            "150/150 [==============================] - 2s 13ms/step - loss: 1.0668e-05 - mse: 2.1336e-05 - val_loss: 0.0033 - val_mse: 0.0065\n",
            "\n",
            "Epoch 00048: val_loss did not improve from 0.00250\n",
            "Epoch 49/50\n",
            "150/150 [==============================] - 3s 16ms/step - loss: 1.1300e-05 - mse: 2.2601e-05 - val_loss: 0.0030 - val_mse: 0.0061\n",
            "\n",
            "Epoch 00049: val_loss did not improve from 0.00250\n",
            "Epoch 50/50\n",
            "150/150 [==============================] - 2s 14ms/step - loss: 1.0491e-05 - mse: 2.0983e-05 - val_loss: 0.0029 - val_mse: 0.0058\n",
            "\n",
            "Epoch 00050: val_loss did not improve from 0.00250\n"
          ]
        }
      ]
    },
    {
      "cell_type": "markdown",
      "metadata": {
        "id": "P9udsVD3-upu"
      },
      "source": [
        "저장한 ModelCheckpoint 를 로드합니다."
      ]
    },
    {
      "cell_type": "code",
      "metadata": {
        "id": "RoPIDRSo32f-",
        "colab": {
          "base_uri": "https://localhost:8080/"
        },
        "outputId": "0b6c7343-8bef-4efd-e1ac-bb8d2764c9cf"
      },
      "source": [
        "model.load_weights(filename)"
      ],
      "execution_count": 39,
      "outputs": [
        {
          "output_type": "execute_result",
          "data": {
            "text/plain": [
              "<tensorflow.python.training.tracking.util.CheckpointLoadStatus at 0x7fcd59aa9f50>"
            ]
          },
          "metadata": {},
          "execution_count": 39
        }
      ]
    },
    {
      "cell_type": "markdown",
      "metadata": {
        "id": "epubFajQ-upv"
      },
      "source": [
        "`test_data`를 활용하여 예측을 진행합니다."
      ]
    },
    {
      "cell_type": "code",
      "metadata": {
        "id": "WxAxSLNL0l8Z"
      },
      "source": [
        "pred = model.predict(test_data)"
      ],
      "execution_count": 40,
      "outputs": []
    },
    {
      "cell_type": "code",
      "metadata": {
        "colab": {
          "base_uri": "https://localhost:8080/"
        },
        "id": "yMPXjSQ10l8d",
        "outputId": "1c0ae0f7-3d4e-4e73-fa46-dfccc0563d14"
      },
      "source": [
        "pred.shape"
      ],
      "execution_count": 41,
      "outputs": [
        {
          "output_type": "execute_result",
          "data": {
            "text/plain": [
              "(1180, 1)"
            ]
          },
          "metadata": {},
          "execution_count": 41
        }
      ]
    },
    {
      "cell_type": "markdown",
      "metadata": {
        "id": "jaWpXnQf6zMt"
      },
      "source": [
        "## 예측 데이터 시각화"
      ]
    },
    {
      "cell_type": "markdown",
      "metadata": {
        "id": "HKhx2UcP-upw"
      },
      "source": [
        "아래 시각화 코드중 y_test 데이터에 **[20:]**으로 슬라이싱을 한 이유는\n",
        "\n",
        "예측 데이터에서 20일치의 데이터로 21일치를 예측해야하기 때문에 test_data로 예측 시 *앞의 20일은 예측하지 않습니다.*\n",
        "\n",
        "따라서, 20번 째 index와 비교하면 더욱 정확합니다."
      ]
    },
    {
      "cell_type": "code",
      "metadata": {
        "colab": {
          "base_uri": "https://localhost:8080/",
          "height": 517
        },
        "id": "2F4QQ1O_0l8m",
        "outputId": "c89c1c57-39d3-41de-c68f-67d50d7deaf9"
      },
      "source": [
        "plt.figure(figsize=(12, 9))\n",
        "plt.plot(np.asarray(y_test)[20:], label='actual')\n",
        "plt.plot(pred, label='prediction')\n",
        "plt.legend()\n",
        "plt.show()"
      ],
      "execution_count": 42,
      "outputs": [
        {
          "output_type": "display_data",
          "data": {
            "image/png": "[encoded data removed]",
            "text/plain": [
              "<Figure size 864x648 with 1 Axes>"
            ]
          },
          "metadata": {
            "needs_background": "light"
          }
        }
      ]
    }
  ]
}