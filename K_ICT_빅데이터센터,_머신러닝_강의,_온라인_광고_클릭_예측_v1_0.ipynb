{
  "nbformat": 4,
  "nbformat_minor": 0,
  "metadata": {
    "colab": {
      "name": "K-ICT 빅데이터센터, 머신러닝 강의, 온라인 광고 클릭 예측_v1.0.ipynb",
      "provenance": [],
      "collapsed_sections": [],
      "authorship_tag": "ABX9TyPX/i8e2yFAfTHkE0cShMy/",
      "include_colab_link": true
    },
    "kernelspec": {
      "name": "python3",
      "display_name": "Python 3"
    },
    "language_info": {
      "name": "python"
    }
  },
  "cells": [
    {
      "cell_type": "markdown",
      "metadata": {
        "id": "view-in-github",
        "colab_type": "text"
      },
      "source": [
        "<a href=\"https://colab.research.google.com/github/outinletter/DataAnalysis/blob/main/K_ICT_%EB%B9%85%EB%8D%B0%EC%9D%B4%ED%84%B0%EC%84%BC%ED%84%B0%2C_%EB%A8%B8%EC%8B%A0%EB%9F%AC%EB%8B%9D_%EA%B0%95%EC%9D%98%2C_%EC%98%A8%EB%9D%BC%EC%9D%B8_%EA%B4%91%EA%B3%A0_%ED%81%B4%EB%A6%AD_%EC%98%88%EC%B8%A1_v1_0.ipynb\" target=\"_parent\"><img src=\"https://colab.research.google.com/assets/colab-badge.svg\" alt=\"Open In Colab\"/></a>"
      ]
    },
    {
      "cell_type": "markdown",
      "metadata": {
        "id": "XVqtwl6MMf4q"
      },
      "source": [
        "# 09-5 - 의사결정트리 기반 광고 클릭 예측 모델 학습 데이터 준비\n",
        "> https://www.youtube.com/watch?v=uwdkMXoFOWs&list=PLwvr-xPygMX9TaQFW3C1UGEuD0zJF7pCk&index=53&ab_channel=K-ICT%EB%B9%85%EB%8D%B0%EC%9D%B4%ED%84%B0%EC%84%BC%ED%84%B0\n",
        "\n",
        "> https://www.kaggle.com/c/avazu-ctr-prediction/download/train.gz\n",
        "# https://www.kaggle.com/c/avazu-ctr-prediction/data?select=train.gz#:~:text=drive_zip_outline-,train,-.gz"
      ]
    },
    {
      "cell_type": "code",
      "metadata": {
        "id": "qSB5wV3mOkvJ"
      },
      "source": [
        "import pandas as pd\n",
        "import numpy as np"
      ],
      "execution_count": null,
      "outputs": []
    },
    {
      "cell_type": "code",
      "metadata": {
        "colab": {
          "base_uri": "https://localhost:8080/"
        },
        "id": "iBVTGwNxPZUm",
        "outputId": "55cb96f9-66d2-419b-d769-0c8730ef9df4"
      },
      "source": [
        "import os\n",
        "print(os.getcwd())"
      ],
      "execution_count": null,
      "outputs": [
        {
          "output_type": "stream",
          "name": "stdout",
          "text": [
            "/content\n"
          ]
        }
      ]
    },
    {
      "cell_type": "code",
      "metadata": {
        "id": "-4k394M4Fms7"
      },
      "source": [
        "import os\n",
        "# os.environ을 이용하여 Kaggle API Username, Key 세팅하기\n",
        "# kaggle.json 파일 열어서 user명과 key값 확인\n",
        "os.environ['KAGGLE_USERNAME'] = 'bsjeon'\n",
        "os.environ['KAGGLE_KEY'] = '2461866e6d4f47fcc2f786f3602aff81'"
      ],
      "execution_count": null,
      "outputs": []
    },
    {
      "cell_type": "code",
      "metadata": {
        "id": "piVJJHbaFrRZ"
      },
      "source": [
        "# !kaggle datasets download c/avazu-ctr-prediction/data?select=train.gz\n",
        "# https://www.kaggle.com/c/avazu-ctr-prediction/data?select=train.gz#:~:text=drive_zip_outline-,train,-.gz"
      ],
      "execution_count": null,
      "outputs": []
    },
    {
      "cell_type": "code",
      "metadata": {
        "id": "Y7urIG-UE_gs"
      },
      "source": [
        "# cd /Users/imac/Downloads"
      ],
      "execution_count": null,
      "outputs": []
    },
    {
      "cell_type": "code",
      "metadata": {
        "id": "GqRS1XPbPuU9"
      },
      "source": [
        "train_df = pd.read_csv('train.gz', nrows=100000)"
      ],
      "execution_count": null,
      "outputs": []
    },
    {
      "cell_type": "code",
      "metadata": {
        "colab": {
          "base_uri": "https://localhost:8080/",
          "height": 223
        },
        "id": "0pRh_FJ8SWu3",
        "outputId": "6bacd810-0c4a-47cd-a497-0c8794b6ef23"
      },
      "source": [
        "train_df.head()"
      ],
      "execution_count": null,
      "outputs": [
        {
          "output_type": "execute_result",
          "data": {
            "text/html": [
              "<div>\n",
              "<style scoped>\n",
              "    .dataframe tbody tr th:only-of-type {\n",
              "        vertical-align: middle;\n",
              "    }\n",
              "\n",
              "    .dataframe tbody tr th {\n",
              "        vertical-align: top;\n",
              "    }\n",
              "\n",
              "    .dataframe thead th {\n",
              "        text-align: right;\n",
              "    }\n",
              "</style>\n",
              "<table border=\"1\" class=\"dataframe\">\n",
              "  <thead>\n",
              "    <tr style=\"text-align: right;\">\n",
              "      <th></th>\n",
              "      <th>id</th>\n",
              "      <th>click</th>\n",
              "      <th>hour</th>\n",
              "      <th>C1</th>\n",
              "      <th>banner_pos</th>\n",
              "      <th>site_id</th>\n",
              "      <th>site_domain</th>\n",
              "      <th>site_category</th>\n",
              "      <th>app_id</th>\n",
              "      <th>app_domain</th>\n",
              "      <th>app_category</th>\n",
              "      <th>device_id</th>\n",
              "      <th>device_ip</th>\n",
              "      <th>device_model</th>\n",
              "      <th>device_type</th>\n",
              "      <th>device_conn_type</th>\n",
              "      <th>C14</th>\n",
              "      <th>C15</th>\n",
              "      <th>C16</th>\n",
              "      <th>C17</th>\n",
              "      <th>C18</th>\n",
              "      <th>C19</th>\n",
              "      <th>C20</th>\n",
              "      <th>C21</th>\n",
              "    </tr>\n",
              "  </thead>\n",
              "  <tbody>\n",
              "    <tr>\n",
              "      <th>0</th>\n",
              "      <td>1.000009e+18</td>\n",
              "      <td>0</td>\n",
              "      <td>14102100</td>\n",
              "      <td>1005</td>\n",
              "      <td>0</td>\n",
              "      <td>1fbe01fe</td>\n",
              "      <td>f3845767</td>\n",
              "      <td>28905ebd</td>\n",
              "      <td>ecad2386</td>\n",
              "      <td>7801e8d9</td>\n",
              "      <td>07d7df22</td>\n",
              "      <td>a99f214a</td>\n",
              "      <td>ddd2926e</td>\n",
              "      <td>44956a24</td>\n",
              "      <td>1</td>\n",
              "      <td>2</td>\n",
              "      <td>15706</td>\n",
              "      <td>320</td>\n",
              "      <td>50</td>\n",
              "      <td>1722</td>\n",
              "      <td>0</td>\n",
              "      <td>35</td>\n",
              "      <td>-1</td>\n",
              "      <td>79</td>\n",
              "    </tr>\n",
              "    <tr>\n",
              "      <th>1</th>\n",
              "      <td>1.000017e+19</td>\n",
              "      <td>0</td>\n",
              "      <td>14102100</td>\n",
              "      <td>1005</td>\n",
              "      <td>0</td>\n",
              "      <td>1fbe01fe</td>\n",
              "      <td>f3845767</td>\n",
              "      <td>28905ebd</td>\n",
              "      <td>ecad2386</td>\n",
              "      <td>7801e8d9</td>\n",
              "      <td>07d7df22</td>\n",
              "      <td>a99f214a</td>\n",
              "      <td>96809ac8</td>\n",
              "      <td>711ee120</td>\n",
              "      <td>1</td>\n",
              "      <td>0</td>\n",
              "      <td>15704</td>\n",
              "      <td>320</td>\n",
              "      <td>50</td>\n",
              "      <td>1722</td>\n",
              "      <td>0</td>\n",
              "      <td>35</td>\n",
              "      <td>100084</td>\n",
              "      <td>79</td>\n",
              "    </tr>\n",
              "    <tr>\n",
              "      <th>2</th>\n",
              "      <td>1.000037e+19</td>\n",
              "      <td>0</td>\n",
              "      <td>14102100</td>\n",
              "      <td>1005</td>\n",
              "      <td>0</td>\n",
              "      <td>1fbe01fe</td>\n",
              "      <td>f3845767</td>\n",
              "      <td>28905ebd</td>\n",
              "      <td>ecad2386</td>\n",
              "      <td>7801e8d9</td>\n",
              "      <td>07d7df22</td>\n",
              "      <td>a99f214a</td>\n",
              "      <td>b3cf8def</td>\n",
              "      <td>8a4875bd</td>\n",
              "      <td>1</td>\n",
              "      <td>0</td>\n",
              "      <td>15704</td>\n",
              "      <td>320</td>\n",
              "      <td>50</td>\n",
              "      <td>1722</td>\n",
              "      <td>0</td>\n",
              "      <td>35</td>\n",
              "      <td>100084</td>\n",
              "      <td>79</td>\n",
              "    </tr>\n",
              "    <tr>\n",
              "      <th>3</th>\n",
              "      <td>1.000064e+19</td>\n",
              "      <td>0</td>\n",
              "      <td>14102100</td>\n",
              "      <td>1005</td>\n",
              "      <td>0</td>\n",
              "      <td>1fbe01fe</td>\n",
              "      <td>f3845767</td>\n",
              "      <td>28905ebd</td>\n",
              "      <td>ecad2386</td>\n",
              "      <td>7801e8d9</td>\n",
              "      <td>07d7df22</td>\n",
              "      <td>a99f214a</td>\n",
              "      <td>e8275b8f</td>\n",
              "      <td>6332421a</td>\n",
              "      <td>1</td>\n",
              "      <td>0</td>\n",
              "      <td>15706</td>\n",
              "      <td>320</td>\n",
              "      <td>50</td>\n",
              "      <td>1722</td>\n",
              "      <td>0</td>\n",
              "      <td>35</td>\n",
              "      <td>100084</td>\n",
              "      <td>79</td>\n",
              "    </tr>\n",
              "    <tr>\n",
              "      <th>4</th>\n",
              "      <td>1.000068e+19</td>\n",
              "      <td>0</td>\n",
              "      <td>14102100</td>\n",
              "      <td>1005</td>\n",
              "      <td>1</td>\n",
              "      <td>fe8cc448</td>\n",
              "      <td>9166c161</td>\n",
              "      <td>0569f928</td>\n",
              "      <td>ecad2386</td>\n",
              "      <td>7801e8d9</td>\n",
              "      <td>07d7df22</td>\n",
              "      <td>a99f214a</td>\n",
              "      <td>9644d0bf</td>\n",
              "      <td>779d90c2</td>\n",
              "      <td>1</td>\n",
              "      <td>0</td>\n",
              "      <td>18993</td>\n",
              "      <td>320</td>\n",
              "      <td>50</td>\n",
              "      <td>2161</td>\n",
              "      <td>0</td>\n",
              "      <td>35</td>\n",
              "      <td>-1</td>\n",
              "      <td>157</td>\n",
              "    </tr>\n",
              "  </tbody>\n",
              "</table>\n",
              "</div>"
            ],
            "text/plain": [
              "             id  click      hour    C1  banner_pos  ...   C17 C18 C19     C20  C21\n",
              "0  1.000009e+18      0  14102100  1005           0  ...  1722   0  35      -1   79\n",
              "1  1.000017e+19      0  14102100  1005           0  ...  1722   0  35  100084   79\n",
              "2  1.000037e+19      0  14102100  1005           0  ...  1722   0  35  100084   79\n",
              "3  1.000064e+19      0  14102100  1005           0  ...  1722   0  35  100084   79\n",
              "4  1.000068e+19      0  14102100  1005           1  ...  2161   0  35      -1  157\n",
              "\n",
              "[5 rows x 24 columns]"
            ]
          },
          "metadata": {},
          "execution_count": 7
        }
      ]
    },
    {
      "cell_type": "code",
      "metadata": {
        "colab": {
          "base_uri": "https://localhost:8080/"
        },
        "id": "ldgYQS0_R0Xp",
        "outputId": "8e2c8d97-88dd-4e26-dd1b-ba85db069b0d"
      },
      "source": [
        "train_df.shape"
      ],
      "execution_count": null,
      "outputs": [
        {
          "output_type": "execute_result",
          "data": {
            "text/plain": [
              "(100000, 24)"
            ]
          },
          "metadata": {},
          "execution_count": 8
        }
      ]
    },
    {
      "cell_type": "code",
      "metadata": {
        "colab": {
          "base_uri": "https://localhost:8080/"
        },
        "id": "EGK20sn9QB4_",
        "outputId": "9835f761-89b0-4896-9a46-bdd2cd1b01fb"
      },
      "source": [
        "train_df.columns"
      ],
      "execution_count": null,
      "outputs": [
        {
          "output_type": "execute_result",
          "data": {
            "text/plain": [
              "Index(['id', 'click', 'hour', 'C1', 'banner_pos', 'site_id', 'site_domain',\n",
              "       'site_category', 'app_id', 'app_domain', 'app_category', 'device_id',\n",
              "       'device_ip', 'device_model', 'device_type', 'device_conn_type', 'C14',\n",
              "       'C15', 'C16', 'C17', 'C18', 'C19', 'C20', 'C21'],\n",
              "      dtype='object')"
            ]
          },
          "metadata": {},
          "execution_count": 9
        }
      ]
    },
    {
      "cell_type": "code",
      "metadata": {
        "id": "HAvnfXiIQ9wV"
      },
      "source": [
        "unused_columns, label_column = ['id', 'hour', 'device_id', 'device_ip'], 'click'"
      ],
      "execution_count": null,
      "outputs": []
    },
    {
      "cell_type": "code",
      "metadata": {
        "id": "Wa1lwcMGRiXK"
      },
      "source": [
        "train_df = train_df.drop(unused_columns, axis=1)"
      ],
      "execution_count": null,
      "outputs": []
    },
    {
      "cell_type": "code",
      "metadata": {
        "colab": {
          "base_uri": "https://localhost:8080/"
        },
        "id": "vB_AqNSqR3o1",
        "outputId": "80921efd-0c87-4958-e83d-52fb80a61561"
      },
      "source": [
        "train_df.shape"
      ],
      "execution_count": null,
      "outputs": [
        {
          "output_type": "execute_result",
          "data": {
            "text/plain": [
              "(100000, 20)"
            ]
          },
          "metadata": {},
          "execution_count": 12
        }
      ]
    },
    {
      "cell_type": "code",
      "metadata": {
        "colab": {
          "base_uri": "https://localhost:8080/"
        },
        "id": "kDm5CDzYRxRw",
        "outputId": "232a7968-5ce3-4b75-e6d6-23b77cd5bef8"
      },
      "source": [
        "train_df.columns"
      ],
      "execution_count": null,
      "outputs": [
        {
          "output_type": "execute_result",
          "data": {
            "text/plain": [
              "Index(['click', 'C1', 'banner_pos', 'site_id', 'site_domain', 'site_category',\n",
              "       'app_id', 'app_domain', 'app_category', 'device_model', 'device_type',\n",
              "       'device_conn_type', 'C14', 'C15', 'C16', 'C17', 'C18', 'C19', 'C20',\n",
              "       'C21'],\n",
              "      dtype='object')"
            ]
          },
          "metadata": {},
          "execution_count": 13
        }
      ]
    },
    {
      "cell_type": "code",
      "metadata": {
        "id": "Uri03FqYMZvc"
      },
      "source": [
        "X_dict_train = list(train_df.drop(label_column, axis=1).T.to_dict().values())\n",
        "# 딕셔너리 형태로 변환하는 이유는 DictVectorizer 사용하여 원핫인코딩 하기 위함"
      ],
      "execution_count": null,
      "outputs": []
    },
    {
      "cell_type": "code",
      "metadata": {
        "colab": {
          "base_uri": "https://localhost:8080/"
        },
        "id": "oI2T1jCIRVPu",
        "outputId": "53938491-bf04-4696-c7f5-1805ced4ee0b"
      },
      "source": [
        "X_dict_train[0]"
      ],
      "execution_count": null,
      "outputs": [
        {
          "output_type": "execute_result",
          "data": {
            "text/plain": [
              "{'C1': 1005,\n",
              " 'C14': 15706,\n",
              " 'C15': 320,\n",
              " 'C16': 50,\n",
              " 'C17': 1722,\n",
              " 'C18': 0,\n",
              " 'C19': 35,\n",
              " 'C20': -1,\n",
              " 'C21': 79,\n",
              " 'app_category': '07d7df22',\n",
              " 'app_domain': '7801e8d9',\n",
              " 'app_id': 'ecad2386',\n",
              " 'banner_pos': 0,\n",
              " 'device_conn_type': 2,\n",
              " 'device_model': '44956a24',\n",
              " 'device_type': 1,\n",
              " 'site_category': '28905ebd',\n",
              " 'site_domain': 'f3845767',\n",
              " 'site_id': '1fbe01fe'}"
            ]
          },
          "metadata": {},
          "execution_count": 15
        }
      ]
    },
    {
      "cell_type": "code",
      "metadata": {
        "id": "QiJV0zYoSMgQ"
      },
      "source": [
        "y_train = train_df[label_column]"
      ],
      "execution_count": null,
      "outputs": []
    },
    {
      "cell_type": "code",
      "metadata": {
        "id": "MOA2cQ0GUSZU"
      },
      "source": [
        "test_df = pd.read_csv('train.gz', header=0, skiprows=(1, 100000), nrows=100000)"
      ],
      "execution_count": null,
      "outputs": []
    },
    {
      "cell_type": "code",
      "metadata": {
        "id": "63Wiyg4VVACp"
      },
      "source": [
        "test_df = test_df.drop(unused_columns, axis=1)"
      ],
      "execution_count": null,
      "outputs": []
    },
    {
      "cell_type": "code",
      "metadata": {
        "id": "Z8IfxcUsVHJZ"
      },
      "source": [
        "X_dict_test = list(test_df.drop(label_column, axis=1).T.to_dict().values())"
      ],
      "execution_count": null,
      "outputs": []
    },
    {
      "cell_type": "code",
      "metadata": {
        "id": "v0BfQAj-VPru"
      },
      "source": [
        "y_test = test_df[label_column]"
      ],
      "execution_count": null,
      "outputs": []
    },
    {
      "cell_type": "markdown",
      "metadata": {
        "id": "tvJBSdIMWede"
      },
      "source": [
        "## 범주형 데이터의 변환 필요, 원핫인코딩"
      ]
    },
    {
      "cell_type": "code",
      "metadata": {
        "id": "A-v_6OOdVTwa"
      },
      "source": [
        "from sklearn.feature_extraction import DictVectorizer"
      ],
      "execution_count": null,
      "outputs": []
    },
    {
      "cell_type": "code",
      "metadata": {
        "id": "-GgRc2T9Wsk4"
      },
      "source": [
        "vectorizer = DictVectorizer(sparse=True)\n",
        "# sparse = True : 희소 행렬(0이 아닌 값만 위치)\n",
        "# 그리드 서치 사용시 메모리 오류 발생을 방지하기 위해 반드시 sparse 매트릭스 사용"
      ],
      "execution_count": null,
      "outputs": []
    },
    {
      "cell_type": "code",
      "metadata": {
        "colab": {
          "base_uri": "https://localhost:8080/"
        },
        "id": "eJFnyMzmc7ao",
        "outputId": "c8e3776c-b2ca-4af0-9b82-bf2ccc16b6fe"
      },
      "source": [
        "vectorizer"
      ],
      "execution_count": null,
      "outputs": [
        {
          "output_type": "execute_result",
          "data": {
            "text/plain": [
              "DictVectorizer(dtype=<class 'numpy.float64'>, separator='=', sort=True,\n",
              "               sparse=True)"
            ]
          },
          "metadata": {},
          "execution_count": 78
        }
      ]
    },
    {
      "cell_type": "code",
      "metadata": {
        "id": "HNGazwXzXIu0"
      },
      "source": [
        "X_train = vectorizer.fit_transform(X_dict_train)"
      ],
      "execution_count": null,
      "outputs": []
    },
    {
      "cell_type": "code",
      "metadata": {
        "colab": {
          "base_uri": "https://localhost:8080/"
        },
        "id": "adaXOLpQXGhS",
        "outputId": "3e90b32c-9913-44e9-dd2e-0740312cb624"
      },
      "source": [
        "X_train.shape"
      ],
      "execution_count": null,
      "outputs": [
        {
          "output_type": "execute_result",
          "data": {
            "text/plain": [
              "(100000, 4952)"
            ]
          },
          "metadata": {},
          "execution_count": 24
        }
      ]
    },
    {
      "cell_type": "code",
      "metadata": {
        "colab": {
          "base_uri": "https://localhost:8080/",
          "height": 203
        },
        "id": "Uud5fRooVd8h",
        "outputId": "481e3663-34ed-4abb-a1e4-e384b964faa4"
      },
      "source": [
        "pd.DataFrame(X_train).head()"
      ],
      "execution_count": null,
      "outputs": [
        {
          "output_type": "execute_result",
          "data": {
            "text/html": [
              "<div>\n",
              "<style scoped>\n",
              "    .dataframe tbody tr th:only-of-type {\n",
              "        vertical-align: middle;\n",
              "    }\n",
              "\n",
              "    .dataframe tbody tr th {\n",
              "        vertical-align: top;\n",
              "    }\n",
              "\n",
              "    .dataframe thead th {\n",
              "        text-align: right;\n",
              "    }\n",
              "</style>\n",
              "<table border=\"1\" class=\"dataframe\">\n",
              "  <thead>\n",
              "    <tr style=\"text-align: right;\">\n",
              "      <th></th>\n",
              "      <th>0</th>\n",
              "    </tr>\n",
              "  </thead>\n",
              "  <tbody>\n",
              "    <tr>\n",
              "      <th>0</th>\n",
              "      <td>(0, 0)\\t1005.0\\n  (0, 1)\\t15706.0\\n  (0, 2)\\...</td>\n",
              "    </tr>\n",
              "    <tr>\n",
              "      <th>1</th>\n",
              "      <td>(0, 0)\\t1005.0\\n  (0, 1)\\t15704.0\\n  (0, 2)\\...</td>\n",
              "    </tr>\n",
              "    <tr>\n",
              "      <th>2</th>\n",
              "      <td>(0, 0)\\t1005.0\\n  (0, 1)\\t15704.0\\n  (0, 2)\\...</td>\n",
              "    </tr>\n",
              "    <tr>\n",
              "      <th>3</th>\n",
              "      <td>(0, 0)\\t1005.0\\n  (0, 1)\\t15706.0\\n  (0, 2)\\...</td>\n",
              "    </tr>\n",
              "    <tr>\n",
              "      <th>4</th>\n",
              "      <td>(0, 0)\\t1005.0\\n  (0, 1)\\t18993.0\\n  (0, 2)\\...</td>\n",
              "    </tr>\n",
              "  </tbody>\n",
              "</table>\n",
              "</div>"
            ],
            "text/plain": [
              "                                                   0\n",
              "0    (0, 0)\\t1005.0\\n  (0, 1)\\t15706.0\\n  (0, 2)\\...\n",
              "1    (0, 0)\\t1005.0\\n  (0, 1)\\t15704.0\\n  (0, 2)\\...\n",
              "2    (0, 0)\\t1005.0\\n  (0, 1)\\t15704.0\\n  (0, 2)\\...\n",
              "3    (0, 0)\\t1005.0\\n  (0, 1)\\t15706.0\\n  (0, 2)\\...\n",
              "4    (0, 0)\\t1005.0\\n  (0, 1)\\t18993.0\\n  (0, 2)\\..."
            ]
          },
          "metadata": {},
          "execution_count": 25
        }
      ]
    },
    {
      "cell_type": "code",
      "metadata": {
        "colab": {
          "base_uri": "https://localhost:8080/"
        },
        "id": "ZQgOrr7QYQ7n",
        "outputId": "34288a58-16a9-4997-eebc-ec555f18b65c"
      },
      "source": [
        "X_train.toarray()[:5]"
      ],
      "execution_count": null,
      "outputs": [
        {
          "output_type": "execute_result",
          "data": {
            "text/plain": [
              "array([[ 1005., 15706.,   320., ...,     0.,     0.,     0.],\n",
              "       [ 1005., 15704.,   320., ...,     0.,     0.,     0.],\n",
              "       [ 1005., 15704.,   320., ...,     0.,     0.,     0.],\n",
              "       [ 1005., 15706.,   320., ...,     0.,     0.,     0.],\n",
              "       [ 1005., 18993.,   320., ...,     0.,     0.,     0.]])"
            ]
          },
          "metadata": {},
          "execution_count": 26
        }
      ]
    },
    {
      "cell_type": "code",
      "metadata": {
        "id": "RFB4u0BGY742"
      },
      "source": [
        "X_test = vectorizer.fit_transform(X_dict_test)"
      ],
      "execution_count": null,
      "outputs": []
    },
    {
      "cell_type": "markdown",
      "metadata": {
        "id": "kUze_9i2ZKPD"
      },
      "source": [
        "# 09-6 - 의사결정트리 기반 광고 클릭 예측 모델의 학습\n",
        "> https://www.youtube.com/watch?v=SVQWHz5p00A&list=PLwvr-xPygMX9TaQFW3C1UGEuD0zJF7pCk&index=54&ab_channel=K-ICT%EB%B9%85%EB%8D%B0%EC%9D%B4%ED%84%B0%EC%84%BC%ED%84%B0"
      ]
    },
    {
      "cell_type": "code",
      "metadata": {
        "id": "qzVGzuDkZF_j"
      },
      "source": [
        "from sklearn.tree import DecisionTreeClassifier"
      ],
      "execution_count": null,
      "outputs": []
    },
    {
      "cell_type": "code",
      "metadata": {
        "id": "dHe7v_TKZZHL"
      },
      "source": [
        "parameters = {'max_depth' : [3, 15, None]}\n",
        "decision_tree = DecisionTreeClassifier(criterion='gini', min_samples_split=30)"
      ],
      "execution_count": null,
      "outputs": []
    },
    {
      "cell_type": "code",
      "metadata": {
        "id": "-LHadYP8Zj4x"
      },
      "source": [
        "from sklearn.model_selection import GridSearchCV"
      ],
      "execution_count": null,
      "outputs": []
    },
    {
      "cell_type": "code",
      "metadata": {
        "id": "akoZHW9-ZrPK"
      },
      "source": [
        "grid_search = GridSearchCV(decision_tree, parameters, n_jobs = -1, cv=3, scoring='roc_auc')\n",
        "# roc_auc : 분류평가지표"
      ],
      "execution_count": null,
      "outputs": []
    },
    {
      "cell_type": "code",
      "metadata": {
        "colab": {
          "base_uri": "https://localhost:8080/"
        },
        "id": "HjwLNuqMZyhV",
        "outputId": "4be0da4d-74c2-487e-caff-ab5ce8186b24"
      },
      "source": [
        "grid_search.fit(X_train, y_train)"
      ],
      "execution_count": null,
      "outputs": [
        {
          "output_type": "execute_result",
          "data": {
            "text/plain": [
              "GridSearchCV(cv=3, error_score=nan,\n",
              "             estimator=DecisionTreeClassifier(ccp_alpha=0.0, class_weight=None,\n",
              "                                              criterion='gini', max_depth=None,\n",
              "                                              max_features=None,\n",
              "                                              max_leaf_nodes=None,\n",
              "                                              min_impurity_decrease=0.0,\n",
              "                                              min_impurity_split=None,\n",
              "                                              min_samples_leaf=1,\n",
              "                                              min_samples_split=30,\n",
              "                                              min_weight_fraction_leaf=0.0,\n",
              "                                              presort='deprecated',\n",
              "                                              random_state=None,\n",
              "                                              splitter='best'),\n",
              "             iid='deprecated', n_jobs=-1,\n",
              "             param_grid={'max_depth': [3, 15, None]}, pre_dispatch='2*n_jobs',\n",
              "             refit=True, return_train_score=False, scoring='roc_auc',\n",
              "             verbose=0)"
            ]
          },
          "metadata": {},
          "execution_count": 32
        }
      ]
    },
    {
      "cell_type": "code",
      "metadata": {
        "colab": {
          "base_uri": "https://localhost:8080/"
        },
        "id": "cWEp8_GZaE8J",
        "outputId": "623402c9-1046-408d-eb6e-112a46fcf62d"
      },
      "source": [
        "grid_search.best_params_"
      ],
      "execution_count": null,
      "outputs": [
        {
          "output_type": "execute_result",
          "data": {
            "text/plain": [
              "{'max_depth': 15}"
            ]
          },
          "metadata": {},
          "execution_count": 33
        }
      ]
    },
    {
      "cell_type": "code",
      "metadata": {
        "id": "wdD1SeaZaJbi"
      },
      "source": [
        "decision_tree_best = grid_search.best_estimator_"
      ],
      "execution_count": null,
      "outputs": []
    },
    {
      "cell_type": "code",
      "metadata": {
        "id": "s83bwz3EaNw8"
      },
      "source": [
        "from sklearn.tree import export_graphviz"
      ],
      "execution_count": null,
      "outputs": []
    },
    {
      "cell_type": "code",
      "metadata": {
        "id": "SRIftXQtafT1"
      },
      "source": [
        "export_graphviz(decision_tree_best, out_file='ctr_decision_tree.dot', feature_names = vectorizer.feature_names_, \n",
        "                class_names=['0', '1'], rounded = True, filled=True, impurity=True)\n",
        "# dot 파일로 출력, class_names : 클릭 여부 분류"
      ],
      "execution_count": null,
      "outputs": []
    },
    {
      "cell_type": "code",
      "metadata": {
        "id": "2r4gab8Ca1so"
      },
      "source": [
        "import pydot\n",
        "graph = pydot.graph_from_dot_file('ctr_decision_tree.dot')[0]\n",
        "graph.write_png('ctr_decision_tree.png')"
      ],
      "execution_count": null,
      "outputs": []
    },
    {
      "cell_type": "code",
      "metadata": {
        "colab": {
          "base_uri": "https://localhost:8080/",
          "height": 35
        },
        "id": "SR8A2F7JcEy0",
        "outputId": "c307e34a-8bf4-4658-896b-1cb56bc7d8ab"
      },
      "source": [
        "import os\n",
        "os.getcwd()"
      ],
      "execution_count": null,
      "outputs": [
        {
          "output_type": "execute_result",
          "data": {
            "application/vnd.google.colaboratory.intrinsic+json": {
              "type": "string"
            },
            "text/plain": [
              "'/content'"
            ]
          },
          "metadata": {},
          "execution_count": 38
        }
      ]
    },
    {
      "cell_type": "markdown",
      "metadata": {
        "id": "DReFl3LpcZ6B"
      },
      "source": [
        "# 09-7 혼동행렬(confusion matrix)\n",
        "> https://www.youtube.com/watch?v=fvyWhQW9oyo&list=PLwvr-xPygMX9TaQFW3C1UGEuD0zJF7pCk&index=55&ab_channel=K-ICT%EB%B9%85%EB%8D%B0%EC%9D%B4%ED%84%B0%EC%84%BC%ED%84%B0"
      ]
    },
    {
      "cell_type": "markdown",
      "metadata": {
        "id": "HRjLHj-Xfm61"
      },
      "source": [
        "- 정확도(accuracy) : 전체 샘플ㄹ에서 정확하게 예측한 샘플 수의 비율\n",
        "\n",
        "    : TP+TN / (TP+TN+FP+FN)\n",
        "\n",
        "- 정밀도(precision) : 'Positive 클래스로 예측한' 샘플에서 실제 Positive 클래스에 속하는 샘플수의 비율\n",
        "    \n",
        "    : TP / (TP+FP)\n",
        "\n",
        "- 재현율(recall, TPR) : '실제 Positive 클래스에 속한' 샘플에서 Positive 클래스에 속한다고 예측한 샘플 수의 비율\n",
        "    (참 긍정률 : True Positive rate, 민감도(Sensitivity))\n",
        "    \n",
        "    : TP / (TP+FN)\n",
        "\n",
        "- 위양성률(fallout, FPR) : '실제 Positive 클래스에 속하지 않는' 샘플에서 Positive 클래스에 속하다고 예측한 샘플 수의 비율\n",
        "    (거짓 긍정률 : False Positive Rate)\n",
        "\n",
        "    : FP / (FP+TN)"
      ]
    },
    {
      "cell_type": "markdown",
      "metadata": {
        "id": "r118HWzlhQWV"
      },
      "source": [
        "## ROC(Receiver Operating Characteristics)\n",
        "- 참 긍정률(TPR)과 거짓 부정률(FPR) 사이를 표현하기 위해 사용\n",
        "- 예측된 확률로부터 여러 클래스로 분류를 수행하는 데 활용"
      ]
    },
    {
      "cell_type": "code",
      "metadata": {
        "colab": {
          "base_uri": "https://localhost:8080/"
        },
        "id": "OMd9wGb2fmsS",
        "outputId": "8c1ea0ad-5e73-4adb-d5cb-9539f3bd11ef"
      },
      "source": [
        "y_pred = decision_tree_best.predict(X_test)\n",
        "y_pred"
      ],
      "execution_count": null,
      "outputs": [
        {
          "output_type": "execute_result",
          "data": {
            "text/plain": [
              "array([0, 0, 0, ..., 0, 0, 0])"
            ]
          },
          "metadata": {},
          "execution_count": 39
        }
      ]
    },
    {
      "cell_type": "code",
      "metadata": {
        "colab": {
          "base_uri": "https://localhost:8080/"
        },
        "id": "morCD778fl3h",
        "outputId": "023e3fe5-9d60-49ac-9bfd-c94c00060215"
      },
      "source": [
        "np.unique(y_pred, return_counts=True)\n",
        "# 0: unclick"
      ],
      "execution_count": null,
      "outputs": [
        {
          "output_type": "execute_result",
          "data": {
            "text/plain": [
              "(array([0, 1]), array([96384,  3616]))"
            ]
          },
          "metadata": {},
          "execution_count": 40
        }
      ]
    },
    {
      "cell_type": "code",
      "metadata": {
        "id": "QvXXTPEviocJ"
      },
      "source": [
        "from sklearn.metrics import accuracy_score"
      ],
      "execution_count": null,
      "outputs": []
    },
    {
      "cell_type": "code",
      "metadata": {
        "colab": {
          "base_uri": "https://localhost:8080/"
        },
        "id": "aKmB4Bg_ixK9",
        "outputId": "22ef95a9-4242-4f47-9cf5-8c3987f30170"
      },
      "source": [
        "accuracy_score(y_test, y_pred)"
      ],
      "execution_count": null,
      "outputs": [
        {
          "output_type": "execute_result",
          "data": {
            "text/plain": [
              "0.8362"
            ]
          },
          "metadata": {},
          "execution_count": 42
        }
      ]
    },
    {
      "cell_type": "code",
      "metadata": {
        "colab": {
          "base_uri": "https://localhost:8080/"
        },
        "id": "e7v-ZmQei1BZ",
        "outputId": "64156a05-2a32-401b-d598-14d5b0e420d0"
      },
      "source": [
        "from sklearn.metrics import confusion_matrix\n",
        "confusion_matrix(y_test, y_pred)"
      ],
      "execution_count": null,
      "outputs": [
        {
          "output_type": "execute_result",
          "data": {
            "text/plain": [
              "array([[81257,  1253],\n",
              "       [15127,  2363]])"
            ]
          },
          "metadata": {},
          "execution_count": 43
        }
      ]
    },
    {
      "cell_type": "code",
      "metadata": {
        "id": "J-mXYPqii9GB"
      },
      "source": [
        "from sklearn.metrics import roc_auc_score, roc_curve"
      ],
      "execution_count": null,
      "outputs": []
    },
    {
      "cell_type": "code",
      "metadata": {
        "colab": {
          "base_uri": "https://localhost:8080/"
        },
        "id": "CVCFxOpJjE0A",
        "outputId": "062e97dd-4e75-4f1d-d6a7-531d35d0e817"
      },
      "source": [
        "y_pred_proba = decision_tree_best.predict_proba(X_test)[:, 1]\n",
        "y_pred_proba # 두 번째 클릭 확률값"
      ],
      "execution_count": null,
      "outputs": [
        {
          "output_type": "execute_result",
          "data": {
            "text/plain": [
              "array([0.20534795, 0.13114754, 0.3030303 , ..., 0.12054795, 0.06002947,\n",
              "       0.06002947])"
            ]
          },
          "metadata": {},
          "execution_count": 45
        }
      ]
    },
    {
      "cell_type": "code",
      "metadata": {
        "id": "dqsXz_qdjN05"
      },
      "source": [
        "fpr, tpr, _ = roc_curve(y_test, y_pred_proba)"
      ],
      "execution_count": null,
      "outputs": []
    },
    {
      "cell_type": "code",
      "metadata": {
        "id": "f20tVviXjjGr"
      },
      "source": [
        "auc = roc_auc_score(y_test, y_pred_proba)"
      ],
      "execution_count": null,
      "outputs": []
    },
    {
      "cell_type": "code",
      "metadata": {
        "colab": {
          "base_uri": "https://localhost:8080/",
          "height": 295
        },
        "id": "8IWVxgpjjwc0",
        "outputId": "040749ef-9b19-4d01-8826-90cf1ef398f6"
      },
      "source": [
        "import matplotlib.pyplot as plt\n",
        "\n",
        "plt.plot(fpr, tpr, 'r-', label = 'DecisionTreeClassifier')\n",
        "plt.plot([0,1], [0,1], 'b--', label = 'random guess')\n",
        "plt.xlabel('False Positive Rate')\n",
        "plt.ylabel('True Positive Rate')\n",
        "plt.title('AUC={0: .2f}'.format(auc))\n",
        "plt.legend(loc='lower right');"
      ],
      "execution_count": null,
      "outputs": [
        {
          "output_type": "display_data",
          "data": {
            "image/png": "[encoded data removed]",
            "text/plain": [
              "<Figure size 432x288 with 1 Axes>"
            ]
          },
          "metadata": {
            "needs_background": "light"
          }
        }
      ]
    },
    {
      "cell_type": "markdown",
      "metadata": {
        "id": "JwFX__ZYkjGJ"
      },
      "source": [
        "# 09-8 - 앙상블 기법 활용 광고 클릭 예측 모델 개선\n",
        "> https://www.youtube.com/watch?v=xwvqTa8AffQ&list=PLwvr-xPygMX9TaQFW3C1UGEuD0zJF7pCk&index=56&ab_channel=K-ICT%EB%B9%85%EB%8D%B0%EC%9D%B4%ED%84%B0%EC%84%BC%ED%84%B0"
      ]
    },
    {
      "cell_type": "markdown",
      "metadata": {
        "id": "XTGZ3JiVO--o"
      },
      "source": [
        "# 주요 정리\n",
        "- Scikit-Learn의 의사결정 트리 분류기는 CART 알고리즘의 분류에 대한 비용함수에서 지니 불순도를 기본적으로 사용\n",
        "- Scikit-Learn의 트리 기반 알고리즘은 수치형 특징을 입력 값으로 하기 때문에 범주형 특징은 원핫인코딩을 통해 이진 특징으로 변환\n",
        "- 혼동행렬은 실제 관측값을 얼마나 정확하게 예측했는지를 보여주는 행렬로 분류 모델의 성능 측정을 위한 평가지표 계산의 기반이 됨\n",
        "- 분류 모델의 평가지표로 정확도, 정밀도, 재현율, F1 점수, 특이성 , ROC 커브의 AUC(곡선하 면적) 등을 사용\n",
        "- 랜덤 포레스트는 특징 기반 배깅 방법을 적용한 의사결정 트리의 앙상블로 의사결정 트리모델의 고분산을 줄이며, 단일 트리보다 훨씬 더 좋은 성능을 제공\n",
        "- Scikit-Learn의 랜덤 포레스트 특징 중요도는 개별 트리의 특징 중요도를 모두 합한 후 트리의 수로 나눈 것으로, 중요도의 합이 1이 되도록 결과값을 정규화함"
      ]
    },
    {
      "cell_type": "markdown",
      "metadata": {
        "id": "6voKbvVJ7603"
      },
      "source": [
        "## Decision Tree의 가장 큰 문제점\n",
        "- 훈련데이터에 대한 고분산성\u001c\n",
        "\n",
        "## 앙상블 학습과 배깅\n",
        "- 부트스트랩 : Bootstrap, 중복을 허용하는 리샘플링\n",
        "- 배깅(Bagging) : 'B'ootstrap 'agg'regating의 약자\n",
        "- 훈련 데이터에서 부트스트래핑한 샘플에 대해 모든 변수를 선택해 다수의 의사경정 트리를 구성\n",
        "- 개별 예측기의 편향은 높지만, 수집함수를 통과한 후 앙상블의 결과는 원본 데이터 셋으로 하나의 예측기를 훈련시킬 때보다 편향은 비슷하지만 대체로 분산은 줄어듦"
      ]
    },
    {
      "cell_type": "markdown",
      "metadata": {
        "id": "FuDEbzOp_nTR"
      },
      "source": [
        "## 램덤 포레스트 (효과가 좋은 결과를 많이 내고, 최근 많이 사용함)\n",
        "- 랜덤 포레스트는 특징 기반 배깅 방법을 적용한 의사결정 트리의 앙상블\n",
        "- 트리 배깅은 의사결정 트리 모델의 단점 중 하나인 고분산을 줄여주며 이를 통해 단일 트리보다 훨씬 더 좋은 성능을 제공\n",
        "- 개별 트리간의 상관관계 문제를 피하기 위해 부트스트래핑 과정에서 훈련 데이터로부터 전체 p개의 변수 중 무작위 m개의 변수만 선택\n",
        "- 랜덤 포레스트의 무작위성 주입은 트리를 보다 다양하게 만들고, 편향을 손해 보는 대신 분산을 낮추어 훌륭한 모델을 만듦"
      ]
    },
    {
      "cell_type": "code",
      "metadata": {
        "id": "IkroRou3kHQ3",
        "colab": {
          "base_uri": "https://localhost:8080/"
        },
        "outputId": "32b4dc48-cf52-4344-950f-6f85851540cb"
      },
      "source": [
        "from sklearn.datasets import load_iris\n",
        "iris = load_iris()\n",
        "\n",
        "from sklearn.ensemble import RandomForestClassifier\n",
        "random_forest = RandomForestClassifier(n_estimators = 500, n_jobs=-1) \n",
        "# n_jobs : 전체프로세스를 사용\n",
        "random_forest.fit(iris.data, iris.target)"
      ],
      "execution_count": null,
      "outputs": [
        {
          "output_type": "execute_result",
          "data": {
            "text/plain": [
              "RandomForestClassifier(bootstrap=True, ccp_alpha=0.0, class_weight=None,\n",
              "                       criterion='gini', max_depth=None, max_features='auto',\n",
              "                       max_leaf_nodes=None, max_samples=None,\n",
              "                       min_impurity_decrease=0.0, min_impurity_split=None,\n",
              "                       min_samples_leaf=1, min_samples_split=2,\n",
              "                       min_weight_fraction_leaf=0.0, n_estimators=500,\n",
              "                       n_jobs=-1, oob_score=False, random_state=None, verbose=0,\n",
              "                       warm_start=False)"
            ]
          },
          "metadata": {},
          "execution_count": 49
        }
      ]
    },
    {
      "cell_type": "code",
      "metadata": {
        "colab": {
          "base_uri": "https://localhost:8080/"
        },
        "id": "GQBg7IFxC-Ta",
        "outputId": "f989c019-9919-458d-e979-ebeca8599d37"
      },
      "source": [
        "for feature, importance in zip(iris.feature_names, random_forest.feature_importances_):\n",
        "    print('{} : {}'.format(feature, importance))\n",
        "# 배제된 것 없이 모두 중요도를 확인할 수 있음"
      ],
      "execution_count": null,
      "outputs": [
        {
          "output_type": "stream",
          "name": "stdout",
          "text": [
            "sepal length (cm) : 0.08853109831972582\n",
            "sepal width (cm) : 0.021241060425727164\n",
            "petal length (cm) : 0.4266329548671186\n",
            "petal width (cm) : 0.4635948863874284\n"
          ]
        }
      ]
    },
    {
      "cell_type": "code",
      "metadata": {
        "colab": {
          "base_uri": "https://localhost:8080/"
        },
        "id": "DRPVdDeLDbeE",
        "outputId": "3b4e7c2e-afa7-4f69-9429-64b2d7361b51"
      },
      "source": [
        "from sklearn.ensemble import RandomForestClassifier\n",
        "random_forest = RandomForestClassifier(n_estimators=100, criterion='gini', \n",
        "                                       min_samples_split=30, n_jobs=-1)\n",
        "# gini 불순도 계수, parameter(max depth)\n",
        "grid_search = GridSearchCV(random_forest, parameters, n_jobs=-1, cv=3, scoring='roc_auc')\n",
        "grid_search.fit(X_train, y_train)"
      ],
      "execution_count": null,
      "outputs": [
        {
          "output_type": "execute_result",
          "data": {
            "text/plain": [
              "GridSearchCV(cv=3, error_score=nan,\n",
              "             estimator=RandomForestClassifier(bootstrap=True, ccp_alpha=0.0,\n",
              "                                              class_weight=None,\n",
              "                                              criterion='gini', max_depth=None,\n",
              "                                              max_features='auto',\n",
              "                                              max_leaf_nodes=None,\n",
              "                                              max_samples=None,\n",
              "                                              min_impurity_decrease=0.0,\n",
              "                                              min_impurity_split=None,\n",
              "                                              min_samples_leaf=1,\n",
              "                                              min_samples_split=30,\n",
              "                                              min_weight_fraction_leaf=0.0,\n",
              "                                              n_estimators=100, n_jobs=-1,\n",
              "                                              oob_score=False,\n",
              "                                              random_state=None, verbose=0,\n",
              "                                              warm_start=False),\n",
              "             iid='deprecated', n_jobs=-1,\n",
              "             param_grid={'max_depth': [3, 15, None]}, pre_dispatch='2*n_jobs',\n",
              "             refit=True, return_train_score=False, scoring='roc_auc',\n",
              "             verbose=0)"
            ]
          },
          "metadata": {},
          "execution_count": 51
        }
      ]
    },
    {
      "cell_type": "code",
      "metadata": {
        "colab": {
          "base_uri": "https://localhost:8080/"
        },
        "id": "YCck8_iLME-0",
        "outputId": "5b757f50-07ca-4009-f66e-cb08327fc751"
      },
      "source": [
        "RandomForestClassifier()"
      ],
      "execution_count": null,
      "outputs": [
        {
          "output_type": "execute_result",
          "data": {
            "text/plain": [
              "RandomForestClassifier(bootstrap=True, ccp_alpha=0.0, class_weight=None,\n",
              "                       criterion='gini', max_depth=None, max_features='auto',\n",
              "                       max_leaf_nodes=None, max_samples=None,\n",
              "                       min_impurity_decrease=0.0, min_impurity_split=None,\n",
              "                       min_samples_leaf=1, min_samples_split=2,\n",
              "                       min_weight_fraction_leaf=0.0, n_estimators=100,\n",
              "                       n_jobs=None, oob_score=False, random_state=None,\n",
              "                       verbose=0, warm_start=False)"
            ]
          },
          "metadata": {},
          "execution_count": 52
        }
      ]
    },
    {
      "cell_type": "markdown",
      "metadata": {
        "id": "8R1f8PJmIMAH"
      },
      "source": [
        "## 랜덤 포레스트의 성능 개선을 위한 주요 파라미터\n",
        "- max_feature : 최적의 분할 지점을 찾기 위해 검토할 특징의 개수, 일반적으로 n차원의 데이터 세트의 root(n)의 반올림 값을 설정\n",
        "- n_estimator : 트리의 개수가 많을 수록 성능이 더 좋지만 계산 시간이 많이 걸림. 일반적으로 100, 200, 500을 설정\n",
        "- min_sample_split : 노드에서 추가 분할을 위해 필요한 샘플의 최소 개수. 숫자가 너무 작으면 오버피팅, 너무 크면 언더피팅이 일어날 수 있음. 일반적으로 10, 30, 50으로 시작"
      ]
    },
    {
      "cell_type": "code",
      "metadata": {
        "colab": {
          "base_uri": "https://localhost:8080/"
        },
        "id": "BSP65NFGLMJi",
        "outputId": "9c2f37ba-4f5f-4a3e-95c6-9287a06ac3b6"
      },
      "source": [
        "X_test"
      ],
      "execution_count": null,
      "outputs": [
        {
          "output_type": "execute_result",
          "data": {
            "text/plain": [
              "<100000x4952 sparse matrix of type '<class 'numpy.float64'>'\n",
              "\twith 1900000 stored elements in Compressed Sparse Row format>"
            ]
          },
          "metadata": {},
          "execution_count": 53
        }
      ]
    },
    {
      "cell_type": "code",
      "metadata": {
        "colab": {
          "base_uri": "https://localhost:8080/"
        },
        "id": "lqos3vI2EF6u",
        "outputId": "9eadbd87-80f0-415a-ed11-12f1c0be770c"
      },
      "source": [
        "grid_search.best_params_ # parameters = {'max_depth' : [3, 15, None]}"
      ],
      "execution_count": null,
      "outputs": [
        {
          "output_type": "execute_result",
          "data": {
            "text/plain": [
              "{'max_depth': None}"
            ]
          },
          "metadata": {},
          "execution_count": 54
        }
      ]
    },
    {
      "cell_type": "code",
      "metadata": {
        "id": "3HJjX0JKEF3n"
      },
      "source": [
        "random_forest_best = grid_search.best_estimator_ # best_estimator로 객체를 만듦"
      ],
      "execution_count": null,
      "outputs": []
    },
    {
      "cell_type": "code",
      "metadata": {
        "colab": {
          "base_uri": "https://localhost:8080/"
        },
        "id": "ARu-3FbJJGsa",
        "outputId": "69c3033e-4703-4ac1-9337-ad095e760058"
      },
      "source": [
        "y_pred = random_forest_best.predict(X_test)\n",
        "y_pred"
      ],
      "execution_count": null,
      "outputs": [
        {
          "output_type": "execute_result",
          "data": {
            "text/plain": [
              "array([0, 0, 0, ..., 0, 0, 0])"
            ]
          },
          "metadata": {},
          "execution_count": 56
        }
      ]
    },
    {
      "cell_type": "code",
      "metadata": {
        "colab": {
          "base_uri": "https://localhost:8080/"
        },
        "id": "OerT4x4GJU9P",
        "outputId": "a10219ac-775b-40cd-aa2b-01516d4b84d4"
      },
      "source": [
        "accuracy_score(y_test, y_pred)"
      ],
      "execution_count": null,
      "outputs": [
        {
          "output_type": "execute_result",
          "data": {
            "text/plain": [
              "0.8519"
            ]
          },
          "metadata": {},
          "execution_count": 57
        }
      ]
    },
    {
      "cell_type": "code",
      "metadata": {
        "id": "7B2P1Nv4JaMp"
      },
      "source": [
        "y_pred_proba = random_forest_best.predict_proba(X_test)[:, 1]\n",
        "# 확률 기반 예측 (클릭할 확률)"
      ],
      "execution_count": null,
      "outputs": []
    },
    {
      "cell_type": "code",
      "metadata": {
        "colab": {
          "base_uri": "https://localhost:8080/"
        },
        "id": "P8sBeID8JpDF",
        "outputId": "37b9d072-7320-448f-d4ec-d23f8df025d1"
      },
      "source": [
        "y_pred_proba, len(y_pred_proba), X_test.shape"
      ],
      "execution_count": null,
      "outputs": [
        {
          "output_type": "execute_result",
          "data": {
            "text/plain": [
              "(array([0.20481706, 0.12466986, 0.29901031, ..., 0.12104427, 0.15987235,\n",
              "        0.04991447]), 100000, (100000, 4952))"
            ]
          },
          "metadata": {},
          "execution_count": 59
        }
      ]
    },
    {
      "cell_type": "markdown",
      "metadata": {
        "id": "0PHO2IcOKJ8s"
      },
      "source": [
        "- 재현율(recall, TPR) : '실제 Positive 클래스에 속한' 샘플에서 Positive 클래스에 속한다고 예측한 샘플 수의 비율 (참 긍정률 : True Positive rate, 민감도(Sensitivity))\n",
        "\n",
        "    : TP / (TP+FN)\n",
        "\n",
        "- 위양성률(fallout, FPR) : '실제 Positive 클래스에 속하지 않는' 샘플에서 Positive 클래스에 속하다고 예측한 샘플 수의 비율 (거짓 긍정률 : False Positive Rate)\n",
        "\n",
        "    : FP / (FP+TN)"
      ]
    },
    {
      "cell_type": "code",
      "metadata": {
        "id": "73W-GE3FJ190"
      },
      "source": [
        "fpr, tpr, _ = roc_curve(y_test, y_pred_proba)\n",
        "# _ : 임계값(thresholds)\n",
        "# roc_auc : 분류평가지표"
      ],
      "execution_count": null,
      "outputs": []
    },
    {
      "cell_type": "code",
      "metadata": {
        "id": "N2P5KFbzKuw0"
      },
      "source": [
        "auc = roc_auc_score(y_test, y_pred_proba)"
      ],
      "execution_count": null,
      "outputs": []
    },
    {
      "cell_type": "code",
      "metadata": {
        "colab": {
          "base_uri": "https://localhost:8080/",
          "height": 295
        },
        "id": "FifXmIoTLu51",
        "outputId": "9d1009b1-e39f-43e6-8bb2-eb8e3f9ad93d"
      },
      "source": [
        "plt.plot(fpr, tpr, 'r-', label = 'RandomForestClassifier')\n",
        "plt.plot([0,1], [0, 1], 'b--', label = 'Random Guess')\n",
        "plt.xlabel('False Positive Rate')\n",
        "plt.ylabel('True Positve Rate')\n",
        "plt.title('AUC={0: .2f}'.format(auc))\n",
        "plt.legend(loc='lower right');"
      ],
      "execution_count": null,
      "outputs": [
        {
          "output_type": "display_data",
          "data": {
            "image/png": "[encoded data removed]",
            "text/plain": [
              "<Figure size 432x288 with 1 Axes>"
            ]
          },
          "metadata": {
            "needs_background": "light"
          }
        }
      ]
    },
    {
      "cell_type": "markdown",
      "metadata": {
        "id": "nbgeHWuzPox6"
      },
      "source": [
        "# 10-1 - 로지스틱 회귀 개념\n",
        "> https://www.youtube.com/watch?v=853BBAG3OVM&list=PLwvr-xPygMX9TaQFW3C1UGEuD0zJF7pCk&index=58&ab_channel=K-ICT%EB%B9%85%EB%8D%B0%EC%9D%B4%ED%84%B0%EC%84%BC%ED%84%B0"
      ]
    },
    {
      "cell_type": "markdown",
      "metadata": {
        "id": "fp14rElFRPga"
      },
      "source": [
        "## 로지스틱 회귀의 개요\n",
        "- 베르누이 분포 : 긍정 확률(양성확률) P와 부정 확률(음성확률) 1-P를 갖는 랜덤 변수의 확률 분포(자연계의 일반적인 정규분포와 대칭이 되는 구조의 분포 (예: 동전 던지기 등)\n",
        "- 베르누이 분포를 따르는 반응 변수의 확률 범위는 [0,1]\n",
        "- 선형 회귀는 특징 값의 일정한 변화로 반응 변수에도 일정한 변화가 일어난다는 가정을 하므로, 반응 변수가 확률을 나타낼 경우 가정이 유효하지 않음\n",
        "- 일반화 선형 모델은 연결 함수를 사용해 특징의 선형 조합을 반응 변수와 연결 짓는 방법을 통해 선형 회귀의 가정을 없앰\n",
        "- 특징의 선형 조합을 정규 분포를 따르지 않는 반응 변수와 연계하려면 연결함수가 필요\n",
        "\n",
        "## 로지스틱 회귀와 분류\n",
        "- 로지스틱 회귀의 반응 변수의 값 = 긍정(양성) 클래스의 확률\n",
        "- 반응 변수의 값 >= 임계치(0~1값 중 0.5) : 긍정(양성) 클래스를 예측\n",
        "- 반응 변수는 '로지스틱 함수'를 사용해 특징의 선형 조합 함수로 모델링 됨(로지스틱 함수 : 테스트 인스턴스를 사용해서 값이 0~1 사이의 값이 나오게 계산해 주는 것)\n",
        "- 로지스틱 회귀는 이진 분류(예: 스팸 vs 햄, 양성종양 vs 악성종양, 흡연 vs 비흡연)"
      ]
    },
    {
      "cell_type": "code",
      "metadata": {
        "id": "6KeZoDMRUOG7"
      },
      "source": [
        ""
      ],
      "execution_count": null,
      "outputs": []
    },
    {
      "cell_type": "code",
      "metadata": {
        "id": "V6Gc_RAzOOGb"
      },
      "source": [
        "def sigmoid(z) :\n",
        "    return 1.0 / (1+np.exp(-z))\n",
        "# exp : exponent 함수"
      ],
      "execution_count": null,
      "outputs": []
    },
    {
      "cell_type": "code",
      "metadata": {
        "colab": {
          "base_uri": "https://localhost:8080/",
          "height": 279
        },
        "id": "_d1jiuCPTs-B",
        "outputId": "7b4fc742-9eef-4a85-db1b-44f293a6e64f"
      },
      "source": [
        "z = np.linspace(-10, 10, 1000)\n",
        "y = sigmoid(z)\n",
        "plt.plot(z, y)\n",
        "plt.axhline(y=0, linestyle = ':', color='black')\n",
        "plt.axhline(y=0.5, linestyle = ':', color='black')\n",
        "plt.axhline(y=1, linestyle = ':', color='black')\n",
        "plt.yticks([0.0, 0.25, 0.5, 0.75, 1.0])\n",
        "plt.xlabel('z')\n",
        "plt.ylabel('y(z)');"
      ],
      "execution_count": null,
      "outputs": [
        {
          "output_type": "display_data",
          "data": {
            "image/png": "[encoded data removed]",
            "text/plain": [
              "<Figure size 432x288 with 1 Axes>"
            ]
          },
          "metadata": {
            "needs_background": "light"
          }
        }
      ]
    },
    {
      "cell_type": "markdown",
      "metadata": {
        "id": "0GmrNMu6Vx2F"
      },
      "source": [
        "# 10-4 - 로지스틱 회귀 기반 광고 클릭 예측 모델 학습\n",
        "## 그리드 서치를 이용한 로지스틱 회귀 모델 학습\n",
        "### LogisticRegression는 이진 분류기, 대규모 데이터를 다룰 때 매우 유용\n",
        "\n",
        "> https://www.youtube.com/watch?v=GKTsHh7uj98&list=PLwvr-xPygMX9TaQFW3C1UGEuD0zJF7pCk&index=61&ab_channel=K-ICT%EB%B9%85%EB%8D%B0%EC%9D%B4%ED%84%B0%EC%84%BC%ED%84%B0"
      ]
    },
    {
      "cell_type": "code",
      "metadata": {
        "colab": {
          "base_uri": "https://localhost:8080/"
        },
        "id": "PuFEVW76Ts7D",
        "outputId": "1ecb57b6-a967-4787-9a5c-43f268a3ddff"
      },
      "source": [
        "from sklearn.linear_model.logistic import LogisticRegression\n",
        "\n",
        "clf = LogisticRegression()\n",
        "clf.fit(X_train, y_train)\n",
        "# 버전 업을 예고하는 Future Warning"
      ],
      "execution_count": null,
      "outputs": [
        {
          "output_type": "stream",
          "name": "stderr",
          "text": [
            "/usr/local/lib/python3.7/dist-packages/sklearn/utils/deprecation.py:144: FutureWarning: The sklearn.linear_model.logistic module is  deprecated in version 0.22 and will be removed in version 0.24. The corresponding classes / functions should instead be imported from sklearn.linear_model. Anything that cannot be imported from sklearn.linear_model is now part of the private API.\n",
            "  warnings.warn(message, FutureWarning)\n",
            "/usr/local/lib/python3.7/dist-packages/sklearn/linear_model/_logistic.py:940: ConvergenceWarning: lbfgs failed to converge (status=1):\n",
            "STOP: TOTAL NO. of ITERATIONS REACHED LIMIT.\n",
            "\n",
            "Increase the number of iterations (max_iter) or scale the data as shown in:\n",
            "    https://scikit-learn.org/stable/modules/preprocessing.html\n",
            "Please also refer to the documentation for alternative solver options:\n",
            "    https://scikit-learn.org/stable/modules/linear_model.html#logistic-regression\n",
            "  extra_warning_msg=_LOGISTIC_SOLVER_CONVERGENCE_MSG)\n"
          ]
        },
        {
          "output_type": "execute_result",
          "data": {
            "text/plain": [
              "LogisticRegression(C=1.0, class_weight=None, dual=False, fit_intercept=True,\n",
              "                   intercept_scaling=1, l1_ratio=None, max_iter=100,\n",
              "                   multi_class='auto', n_jobs=None, penalty='l2',\n",
              "                   random_state=None, solver='lbfgs', tol=0.0001, verbose=0,\n",
              "                   warm_start=False)"
            ]
          },
          "metadata": {},
          "execution_count": 65
        }
      ]
    },
    {
      "cell_type": "markdown",
      "metadata": {
        "id": "M8Qwq4nBWzVS"
      },
      "source": [
        "- LogisticRegression(C=1.0, class_weight=None, dual=False, fit_intercept=True, intercept_scaling=1, l1_ratio=None, max_iter=100, multi_class='auto', n_jobs=None, penalty='l2', random_state=None, solver='lbfgs', tol=0.0001, verbose=0, warm_start=False)\n",
        "\n",
        "- C : 오버피팅을 방지, 값이 커지면 규제가 느슨해지고, 0에 가까워지면 규제가 강해지는 경향\n",
        "- l1 규제 : 0이 됨\n",
        "- l2 가중치 페널티 : 0에 가깝게"
      ]
    },
    {
      "cell_type": "code",
      "metadata": {
        "colab": {
          "base_uri": "https://localhost:8080/"
        },
        "id": "8emQ4_A8Ts4B",
        "outputId": "3b7d3376-32a9-4b5c-ab5f-47931763b298"
      },
      "source": [
        "from sklearn.model_selection import GridSearchCV\n",
        "\n",
        "# parameters = {'C': [0.001, 0.01, 0.1, 1, 10], 'penalty' : ['l1', '12']}\n",
        "parameters = {'C': [0.001, 0.01, 0.1, 1, 10],   'penalty' : ['l1', 'l2']}\n",
        "grid_search = GridSearchCV(clf, parameters, n_jobs=-1, cv=3, scoring='roc_auc')\n",
        "grid_search.fit(X_train, y_train)"
      ],
      "execution_count": null,
      "outputs": [
        {
          "output_type": "stream",
          "name": "stderr",
          "text": [
            "/usr/local/lib/python3.7/dist-packages/sklearn/linear_model/_logistic.py:940: ConvergenceWarning: lbfgs failed to converge (status=1):\n",
            "STOP: TOTAL NO. of ITERATIONS REACHED LIMIT.\n",
            "\n",
            "Increase the number of iterations (max_iter) or scale the data as shown in:\n",
            "    https://scikit-learn.org/stable/modules/preprocessing.html\n",
            "Please also refer to the documentation for alternative solver options:\n",
            "    https://scikit-learn.org/stable/modules/linear_model.html#logistic-regression\n",
            "  extra_warning_msg=_LOGISTIC_SOLVER_CONVERGENCE_MSG)\n"
          ]
        },
        {
          "output_type": "execute_result",
          "data": {
            "text/plain": [
              "GridSearchCV(cv=3, error_score=nan,\n",
              "             estimator=LogisticRegression(C=1.0, class_weight=None, dual=False,\n",
              "                                          fit_intercept=True,\n",
              "                                          intercept_scaling=1, l1_ratio=None,\n",
              "                                          max_iter=100, multi_class='auto',\n",
              "                                          n_jobs=None, penalty='l2',\n",
              "                                          random_state=None, solver='lbfgs',\n",
              "                                          tol=0.0001, verbose=0,\n",
              "                                          warm_start=False),\n",
              "             iid='deprecated', n_jobs=-1,\n",
              "             param_grid={'C': [0.001, 0.01, 0.1, 1, 10],\n",
              "                         'penalty': ['l1', 'l2']},\n",
              "             pre_dispatch='2*n_jobs', refit=True, return_train_score=False,\n",
              "             scoring='roc_auc', verbose=0)"
            ]
          },
          "metadata": {},
          "execution_count": 66
        }
      ]
    },
    {
      "cell_type": "code",
      "metadata": {
        "colab": {
          "base_uri": "https://localhost:8080/"
        },
        "id": "hEKtq0LDX3K0",
        "outputId": "2efebbf2-b015-46a7-9b76-531c40dee298"
      },
      "source": [
        "grid_search.best_params_ # 최적의 파라미터 출력"
      ],
      "execution_count": null,
      "outputs": [
        {
          "output_type": "execute_result",
          "data": {
            "text/plain": [
              "{'C': 1, 'penalty': 'l2'}"
            ]
          },
          "metadata": {},
          "execution_count": 67
        }
      ]
    },
    {
      "cell_type": "code",
      "metadata": {
        "id": "mhOxMMgGYbPM"
      },
      "source": [
        "clf_best = grid_search.best_estimator_"
      ],
      "execution_count": null,
      "outputs": []
    },
    {
      "cell_type": "code",
      "metadata": {
        "colab": {
          "base_uri": "https://localhost:8080/"
        },
        "id": "JdSyH24wYytF",
        "outputId": "b81deada-0c85-42ce-b30c-df53d0b1d7d1"
      },
      "source": [
        "y_pred = clf_best.predict(X_test)\n",
        "y_pred"
      ],
      "execution_count": null,
      "outputs": [
        {
          "output_type": "execute_result",
          "data": {
            "text/plain": [
              "array([0, 0, 0, ..., 0, 0, 0])"
            ]
          },
          "metadata": {},
          "execution_count": 69
        }
      ]
    },
    {
      "cell_type": "code",
      "metadata": {
        "colab": {
          "base_uri": "https://localhost:8080/"
        },
        "id": "zYuMuI6VY3QL",
        "outputId": "95814182-1d39-4cf5-c6c9-76584cdfc8b6"
      },
      "source": [
        "np.unique(y_pred, return_counts=True)\n",
        "# 음성(unclick) 9981"
      ],
      "execution_count": null,
      "outputs": [
        {
          "output_type": "execute_result",
          "data": {
            "text/plain": [
              "(array([0, 1]), array([99680,   320]))"
            ]
          },
          "metadata": {},
          "execution_count": 70
        }
      ]
    },
    {
      "cell_type": "code",
      "metadata": {
        "colab": {
          "base_uri": "https://localhost:8080/"
        },
        "id": "2HrEBKLrY_WZ",
        "outputId": "dfc9c48f-c5c4-4487-a85c-429164a2801c"
      },
      "source": [
        "from sklearn.metrics import accuracy_score\n",
        "accuracy_score(y_test, y_pred)\n",
        "# 실측값(y_test), 예측값(y_pred) 순으로 작성"
      ],
      "execution_count": null,
      "outputs": [
        {
          "output_type": "execute_result",
          "data": {
            "text/plain": [
              "0.82398"
            ]
          },
          "metadata": {},
          "execution_count": 71
        }
      ]
    },
    {
      "cell_type": "code",
      "metadata": {
        "colab": {
          "base_uri": "https://localhost:8080/"
        },
        "id": "h8hWNSPhZaAL",
        "outputId": "abd02901-a65e-40a4-9770-d9c663cfc569"
      },
      "source": [
        " from sklearn.metrics import confusion_matrix\n",
        " confusion_matrix(y_test, y_pred)"
      ],
      "execution_count": null,
      "outputs": [
        {
          "output_type": "execute_result",
          "data": {
            "text/plain": [
              "array([[82294,   216],\n",
              "       [17386,   104]])"
            ]
          },
          "metadata": {},
          "execution_count": 72
        }
      ]
    },
    {
      "cell_type": "code",
      "metadata": {
        "id": "I_lWg_o4Zwoo"
      },
      "source": [
        "from sklearn.metrics import roc_auc_score, roc_curve\n",
        "y_pred_proba = clf_best.predict_proba(X_test)[:, 1]\n",
        "# 로지스틱 회귀는 확률 기반이므로 predic가 아니라 predict probability(predict_proba) 사용\n",
        "# X_test 확률 양성값은 두 번째 열에 저장\n",
        "y_pred_proba"
      ],
      "execution_count": null,
      "outputs": []
    },
    {
      "cell_type": "code",
      "metadata": {
        "colab": {
          "base_uri": "https://localhost:8080/",
          "height": 295
        },
        "id": "RcFMoGojaMYA",
        "outputId": "80cc5e76-b435-4766-9e4d-eac1169d4e0e"
      },
      "source": [
        "# roc_auc_score 함수를 이용해 곡선의 밑면적과 관련돼 있는 정보를 바로 얻어서 사용할 수 있음\n",
        "# 분류기로서의 성능을 auc지표를 통해 확인\n",
        "\n",
        "fpr, tpr, _ = roc_curve(y_test, y_pred_proba)\n",
        "auc = roc_auc_score(y_test, y_pred_proba)\n",
        "plt.plot(fpr, tpr, 'r-', label = 'LogisticRegression')\n",
        "plt.plot([0,1], [0, 1], 'b--', label = 'Random Guess')\n",
        "plt.xlabel('False Positive Rate')\n",
        "plt.ylabel('True Positve Rate')\n",
        "plt.title('AUC={0: .2f}'.format(auc))\n",
        "plt.legend(loc='lower right');"
      ],
      "execution_count": null,
      "outputs": [
        {
          "output_type": "display_data",
          "data": {
            "image/png": "[encoded data removed]",
            "text/plain": [
              "<Figure size 432x288 with 1 Axes>"
            ]
          },
          "metadata": {
            "needs_background": "light"
          }
        }
      ]
    },
    {
      "cell_type": "markdown",
      "metadata": {
        "id": "fSUUIH9oe7OT"
      },
      "source": [
        "# K-최근접 이웃(KNN) 알고리즘 개념\n",
        "> https://www.youtube.com/watch?v=8gd0QeQ9ilQ&list=PLwvr-xPygMX9TaQFW3C1UGEuD0zJF7pCk&index=64&ab_channel=K-ICT%EB%B9%85%EB%8D%B0%EC%9D%B4%ED%84%B0%EC%84%BC%ED%84%B0"
      ]
    },
    {
      "cell_type": "code",
      "metadata": {
        "id": "elPXF3cDe61H"
      },
      "source": [
        ""
      ],
      "execution_count": null,
      "outputs": []
    },
    {
      "cell_type": "code",
      "metadata": {
        "id": "DQ9iitEWe6yL"
      },
      "source": [
        ""
      ],
      "execution_count": null,
      "outputs": []
    },
    {
      "cell_type": "code",
      "metadata": {
        "id": "hVe7Y--9e6vh"
      },
      "source": [
        ""
      ],
      "execution_count": null,
      "outputs": []
    }
  ]
}