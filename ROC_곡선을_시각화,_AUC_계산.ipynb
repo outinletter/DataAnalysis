{
  "nbformat": 4,
  "nbformat_minor": 0,
  "metadata": {
    "colab": {
      "name": "ROC 곡선을 시각화, AUC 계산.ipynb",
      "provenance": [],
      "collapsed_sections": [],
      "include_colab_link": true
    },
    "kernelspec": {
      "name": "python3",
      "display_name": "Python 3"
    },
    "language_info": {
      "name": "python"
    }
  },
  "cells": [
    {
      "cell_type": "markdown",
      "metadata": {
        "id": "view-in-github",
        "colab_type": "text"
      },
      "source": [
        "<a href=\"https://colab.research.google.com/github/outinletter/DataAnalysis/blob/main/ROC_%EA%B3%A1%EC%84%A0%EC%9D%84_%EC%8B%9C%EA%B0%81%ED%99%94%2C_AUC_%EA%B3%84%EC%82%B0.ipynb\" target=\"_parent\"><img src=\"https://colab.research.google.com/assets/colab-badge.svg\" alt=\"Open In Colab\"/></a>"
      ]
    },
    {
      "cell_type": "markdown",
      "metadata": {
        "id": "E6Bt5Yhi10Yr"
      },
      "source": [
        "# ROC 곡선을 시각화, AUC 계산\n",
        ">  https://ichi.pro/ko/roc-mich-auc-gigye-hagseub-model-eul-jeugsi-pyeong-gahaneun-bangbeob-276127822658175"
      ]
    },
    {
      "cell_type": "code",
      "metadata": {
        "id": "MFQAejn2caM9"
      },
      "source": [
        "from sklearn.linear_model import LogisticRegression\n",
        "from sklearn.tree import DecisionTreeClassifier\n",
        "from sklearn.ensemble import RandomForestClassifier\n",
        "from xgboost import XGBClassifier"
      ],
      "execution_count": null,
      "outputs": []
    },
    {
      "cell_type": "code",
      "metadata": {
        "id": "2kIgxiJxcaKo"
      },
      "source": [
        "model_lr = LogisticRegression().fit(X_train, y_train)\n",
        "probs_lr = model_lr.predict_proba(X_test)[:, 1]\n",
        "\n",
        "model_dt = DecisionTreeClassifier().fit(X_train, y_train)\n",
        "probs_dt = model_dt.predict_proba(X_test)[:, 1]\n",
        "\n",
        "model_rf = RandomForestClassifier().fit(X_train, y_train)\n",
        "probs_rf = model_rf.predict_proba(X_test)[:, 1]\n",
        "\n",
        "model_xg = XGBClassifier().fit(X_train, y_train)\n",
        "probs_xg = model_xg.predict_proba(X_test)[:, 1]"
      ],
      "execution_count": null,
      "outputs": []
    },
    {
      "cell_type": "code",
      "metadata": {
        "id": "E3EmSvjIcaAu"
      },
      "source": [
        "from sklearn.metrics import roc_auc_score, roc_curve\n",
        "\n",
        "# y_test_int = y_test.replace({'Good': 1, 'Bad': 0})\n",
        "\n",
        "auc_lr = roc_auc_score(y_test_int, probs_lr)\n",
        "fpr_lr, tpr_lr, thresholds_lr = roc_curve(y_test_r, probs_lr)\n",
        "\n",
        "auc_dt = roc_auc_score(y_test_int, probs_dt)\n",
        "fpr_dt, tpr_dt, thresholds_dt = roc_curve(y_test_int, probs_dt)\n",
        "\n",
        "auc_rf = roc_auc_score(y_test_int, probs_rf)\n",
        "fpr_rf, tpr_rf, thresholds_rf = roc_curve(y_test_int, probs_rf)\n",
        "\n",
        "auc_xg = roc_auc_score(y_test_int, probs_xg)\n",
        "fpr_xg, tpr_xg, thresholds_xg = roc_curve(y_test_int, probs_xg)"
      ],
      "execution_count": null,
      "outputs": []
    },
    {
      "cell_type": "code",
      "metadata": {
        "id": "umeRhMz61q_6"
      },
      "source": [
        "\n",
        "plt.figure(figsize=(12, 7))\n",
        "plt.plot(fpr_lr, tpr_lr, label=f'AUC(Logistic Regression) = {auc_lr:.2f}')\n",
        "plt.plot(fpr_dt, tpr_dt, label=f'AUC (Decision Tree) = {auc_dt:.2f}')\n",
        "plt.plot(fpr_rf, tpr_rf, label=f'AUC (Random Forests) = {auc_rf:.2f}')\n",
        "plt.plot(fpr_xg, tpr_xg, label=f'AUC (XGBoost) = {auc_xg:.2f}')\n",
        "plt.plot([0, 1], [0, 1], color='blue', linestyle='--', label='Baseline')\n",
        "plt.title('ROC Curve', size=20)\n",
        "plt.xlabel('False Positive Rate', size=14)\n",
        "plt.ylabel('True Positive Rate', size=14)\n",
        "plt.legend();"
      ],
      "execution_count": null,
      "outputs": []
    }
  ]
}