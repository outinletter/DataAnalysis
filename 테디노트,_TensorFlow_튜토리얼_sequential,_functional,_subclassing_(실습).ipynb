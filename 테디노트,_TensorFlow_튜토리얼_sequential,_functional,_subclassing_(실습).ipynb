{
  "nbformat": 4,
  "nbformat_minor": 0,
  "metadata": {
    "colab": {
      "name": " 테디노트, TensorFlow 튜토리얼 - sequential, functional, subclassing (실습)",
      "provenance": [],
      "collapsed_sections": [],
      "include_colab_link": true
    },
    "kernelspec": {
      "name": "python3",
      "display_name": "Python 3"
    },
    "accelerator": "GPU"
  },
  "cells": [
    {
      "cell_type": "markdown",
      "metadata": {
        "id": "view-in-github",
        "colab_type": "text"
      },
      "source": [
        "<a href=\"https://colab.research.google.com/github/outinletter/DataAnalysis/blob/main/%ED%85%8C%EB%94%94%EB%85%B8%ED%8A%B8%2C_TensorFlow_%ED%8A%9C%ED%86%A0%EB%A6%AC%EC%96%BC_sequential%2C_functional%2C_subclassing_(%EC%8B%A4%EC%8A%B5).ipynb\" target=\"_parent\"><img src=\"https://colab.research.google.com/assets/colab-badge.svg\" alt=\"Open In Colab\"/></a>"
      ]
    },
    {
      "cell_type": "markdown",
      "metadata": {
        "id": "nuY4RBC888iA"
      },
      "source": [
        "## 데이터셋 로드"
      ]
    },
    {
      "cell_type": "code",
      "metadata": {
        "id": "lgpBVcnNGQr_"
      },
      "source": [
        "import tensorflow as tf\n",
        "from tensorflow.keras.layers import Conv2D, MaxPooling2D, Dense, Flatten, Input\n",
        "from tensorflow.keras.models import Sequential, Model\n",
        "from tensorflow.keras.callbacks import ModelCheckpoint"
      ],
      "execution_count": 31,
      "outputs": []
    },
    {
      "cell_type": "code",
      "metadata": {
        "id": "9KDaM3hzxfGC"
      },
      "source": [
        "# 데이터셋 로드\n",
        "mnist = tf.keras.datasets.mnist\n",
        "(x_train, y_train), (x_valid, y_valid) = mnist.load_data()"
      ],
      "execution_count": 32,
      "outputs": []
    },
    {
      "cell_type": "code",
      "metadata": {
        "id": "dxidgyUU2cy4",
        "colab": {
          "base_uri": "https://localhost:8080/"
        },
        "outputId": "899c9c2a-20b4-41aa-d55e-d7b13481ac26"
      },
      "source": [
        "x_train.shape, x_valid.shape"
      ],
      "execution_count": 33,
      "outputs": [
        {
          "output_type": "execute_result",
          "data": {
            "text/plain": [
              "((60000, 28, 28), (10000, 28, 28))"
            ]
          },
          "metadata": {},
          "execution_count": 33
        }
      ]
    },
    {
      "cell_type": "code",
      "metadata": {
        "id": "QfKv5fGd2fjv",
        "colab": {
          "base_uri": "https://localhost:8080/"
        },
        "outputId": "1b9974cd-8f03-4417-e0c4-c4a258bb1708"
      },
      "source": [
        "y_train.shape, y_valid.shape"
      ],
      "execution_count": 4,
      "outputs": [
        {
          "output_type": "execute_result",
          "data": {
            "text/plain": [
              "((60000,), (10000,))"
            ]
          },
          "metadata": {},
          "execution_count": 4
        }
      ]
    },
    {
      "cell_type": "markdown",
      "metadata": {
        "id": "6yQ8YpTixkue"
      },
      "source": [
        "## Sequential"
      ]
    },
    {
      "cell_type": "code",
      "metadata": {
        "id": "jZXRh_2PxhHe"
      },
      "source": [
        "model = Sequential([\n",
        "                    Flatten(input_shape=(28,28)),\n",
        "                    Dense(256, activation='relu'),\n",
        "                    Dense(128, activation='relu'),\n",
        "                    Dense(64, activation='relu'),\n",
        "                    Dense(32, activation='relu'),\n",
        "                    Dense(10, activation='softmax'),\n",
        "])"
      ],
      "execution_count": 5,
      "outputs": []
    },
    {
      "cell_type": "code",
      "metadata": {
        "id": "_nu_8Hkxx4Oh",
        "colab": {
          "base_uri": "https://localhost:8080/"
        },
        "outputId": "7d743508-83e4-4e43-eef6-e8a4c8dd66d1"
      },
      "source": [
        "model.summary()"
      ],
      "execution_count": 6,
      "outputs": [
        {
          "output_type": "stream",
          "name": "stdout",
          "text": [
            "Model: \"sequential\"\n",
            "_________________________________________________________________\n",
            "Layer (type)                 Output Shape              Param #   \n",
            "=================================================================\n",
            "flatten (Flatten)            (None, 784)               0         \n",
            "_________________________________________________________________\n",
            "dense (Dense)                (None, 256)               200960    \n",
            "_________________________________________________________________\n",
            "dense_1 (Dense)              (None, 128)               32896     \n",
            "_________________________________________________________________\n",
            "dense_2 (Dense)              (None, 64)                8256      \n",
            "_________________________________________________________________\n",
            "dense_3 (Dense)              (None, 32)                2080      \n",
            "_________________________________________________________________\n",
            "dense_4 (Dense)              (None, 10)                330       \n",
            "=================================================================\n",
            "Total params: 244,522\n",
            "Trainable params: 244,522\n",
            "Non-trainable params: 0\n",
            "_________________________________________________________________\n"
          ]
        }
      ]
    },
    {
      "cell_type": "code",
      "metadata": {
        "id": "ZklHkdXIfdkb"
      },
      "source": [
        "model.compile(optimizer='adam', loss='sparse_categorical_crossentropy', metrics=['acc'])"
      ],
      "execution_count": 7,
      "outputs": []
    },
    {
      "cell_type": "code",
      "metadata": {
        "colab": {
          "base_uri": "https://localhost:8080/"
        },
        "id": "g6aopB-zflYm",
        "outputId": "b3b19206-b259-4acd-e94f-dfc1f9852bc6"
      },
      "source": [
        "model.fit(x_train, y_train, validation_data=(x_valid, y_valid), epochs=10)"
      ],
      "execution_count": 8,
      "outputs": [
        {
          "output_type": "stream",
          "name": "stdout",
          "text": [
            "Epoch 1/10\n",
            "1875/1875 [==============================] - 7s 3ms/step - loss: 0.6818 - acc: 0.8722 - val_loss: 0.2965 - val_acc: 0.9283\n",
            "Epoch 2/10\n",
            "1875/1875 [==============================] - 6s 3ms/step - loss: 0.2190 - acc: 0.9403 - val_loss: 0.2202 - val_acc: 0.9406\n",
            "Epoch 3/10\n",
            "1875/1875 [==============================] - 6s 3ms/step - loss: 0.1564 - acc: 0.9564 - val_loss: 0.1388 - val_acc: 0.9610\n",
            "Epoch 4/10\n",
            "1875/1875 [==============================] - 6s 3ms/step - loss: 0.1226 - acc: 0.9657 - val_loss: 0.1586 - val_acc: 0.9584\n",
            "Epoch 5/10\n",
            "1875/1875 [==============================] - 6s 3ms/step - loss: 0.1001 - acc: 0.9716 - val_loss: 0.1368 - val_acc: 0.9610\n",
            "Epoch 6/10\n",
            "1875/1875 [==============================] - 6s 3ms/step - loss: 0.0856 - acc: 0.9757 - val_loss: 0.1082 - val_acc: 0.9704\n",
            "Epoch 7/10\n",
            "1875/1875 [==============================] - 6s 3ms/step - loss: 0.0764 - acc: 0.9791 - val_loss: 0.1218 - val_acc: 0.9692\n",
            "Epoch 8/10\n",
            "1875/1875 [==============================] - 6s 3ms/step - loss: 0.0686 - acc: 0.9815 - val_loss: 0.1301 - val_acc: 0.9665\n",
            "Epoch 9/10\n",
            "1875/1875 [==============================] - 6s 3ms/step - loss: 0.0617 - acc: 0.9840 - val_loss: 0.1095 - val_acc: 0.9740\n",
            "Epoch 10/10\n",
            "1875/1875 [==============================] - 6s 3ms/step - loss: 0.0561 - acc: 0.9848 - val_loss: 0.1122 - val_acc: 0.9724\n"
          ]
        },
        {
          "output_type": "execute_result",
          "data": {
            "text/plain": [
              "<keras.callbacks.History at 0x7f785056c750>"
            ]
          },
          "metadata": {},
          "execution_count": 8
        }
      ]
    },
    {
      "cell_type": "markdown",
      "metadata": {
        "id": "94eld9-Axqny"
      },
      "source": [
        "## 함수형 (Functional API)"
      ]
    },
    {
      "cell_type": "code",
      "metadata": {
        "id": "vmdVUYCXxjba"
      },
      "source": [
        "# Functional API\n",
        "input_ = Input(shape=(28,28))\n",
        "\n",
        "x1 = Flatten()(input_)\n",
        "x2 = Dense(256, activation='relu')(x1)\n",
        "x3 = Dense(128, activation='relu')(x2)\n",
        "x4 = Dense(64, activation='relu')(x3)\n",
        "x5 = Dense(32, activation='relu')(x4)\n",
        "output_ = Dense(10, activation='softmax')(x5)"
      ],
      "execution_count": 9,
      "outputs": []
    },
    {
      "cell_type": "code",
      "metadata": {
        "colab": {
          "base_uri": "https://localhost:8080/"
        },
        "id": "oTTAQaULgpQN",
        "outputId": "7a23648c-4eed-4fc0-be27-607d6f90bcd9"
      },
      "source": [
        "output_"
      ],
      "execution_count": 10,
      "outputs": [
        {
          "output_type": "execute_result",
          "data": {
            "text/plain": [
              "<KerasTensor: shape=(None, 10) dtype=float32 (created by layer 'dense_9')>"
            ]
          },
          "metadata": {},
          "execution_count": 10
        }
      ]
    },
    {
      "cell_type": "code",
      "metadata": {
        "id": "tVeX7ujoyQhR"
      },
      "source": [
        "model = Model(input_, output_)"
      ],
      "execution_count": 11,
      "outputs": []
    },
    {
      "cell_type": "code",
      "metadata": {
        "id": "OsOQjALgyXot",
        "colab": {
          "base_uri": "https://localhost:8080/"
        },
        "outputId": "c830d533-5884-44f3-acd5-9117d80f4e4b"
      },
      "source": [
        "model.summary()"
      ],
      "execution_count": 12,
      "outputs": [
        {
          "output_type": "stream",
          "name": "stdout",
          "text": [
            "Model: \"model\"\n",
            "_________________________________________________________________\n",
            "Layer (type)                 Output Shape              Param #   \n",
            "=================================================================\n",
            "input_1 (InputLayer)         [(None, 28, 28)]          0         \n",
            "_________________________________________________________________\n",
            "flatten_1 (Flatten)          (None, 784)               0         \n",
            "_________________________________________________________________\n",
            "dense_5 (Dense)              (None, 256)               200960    \n",
            "_________________________________________________________________\n",
            "dense_6 (Dense)              (None, 128)               32896     \n",
            "_________________________________________________________________\n",
            "dense_7 (Dense)              (None, 64)                8256      \n",
            "_________________________________________________________________\n",
            "dense_8 (Dense)              (None, 32)                2080      \n",
            "_________________________________________________________________\n",
            "dense_9 (Dense)              (None, 10)                330       \n",
            "=================================================================\n",
            "Total params: 244,522\n",
            "Trainable params: 244,522\n",
            "Non-trainable params: 0\n",
            "_________________________________________________________________\n"
          ]
        }
      ]
    },
    {
      "cell_type": "code",
      "metadata": {
        "id": "kB6CtcEDgwv_"
      },
      "source": [
        "model.compile(optimizer='adam', loss='sparse_categorical_crossentropy', \n",
        "              metrics=['acc'])"
      ],
      "execution_count": 13,
      "outputs": []
    },
    {
      "cell_type": "code",
      "metadata": {
        "colab": {
          "base_uri": "https://localhost:8080/"
        },
        "id": "83yiAVsgg2FK",
        "outputId": "d6096a1c-edb9-4236-f601-5cf3e3475436"
      },
      "source": [
        "model.fit(x_train, y_train, validation_data=(x_valid, y_valid), epochs=10)"
      ],
      "execution_count": 14,
      "outputs": [
        {
          "output_type": "stream",
          "name": "stdout",
          "text": [
            "Epoch 1/10\n",
            "1875/1875 [==============================] - 6s 3ms/step - loss: 0.6706 - acc: 0.8713 - val_loss: 0.2435 - val_acc: 0.9327\n",
            "Epoch 2/10\n",
            "1875/1875 [==============================] - 6s 3ms/step - loss: 0.1972 - acc: 0.9437 - val_loss: 0.2136 - val_acc: 0.9437\n",
            "Epoch 3/10\n",
            "1875/1875 [==============================] - 6s 3ms/step - loss: 0.1466 - acc: 0.9581 - val_loss: 0.1427 - val_acc: 0.9611\n",
            "Epoch 4/10\n",
            "1875/1875 [==============================] - 6s 3ms/step - loss: 0.1262 - acc: 0.9648 - val_loss: 0.1229 - val_acc: 0.9648\n",
            "Epoch 5/10\n",
            "1875/1875 [==============================] - 6s 3ms/step - loss: 0.1039 - acc: 0.9706 - val_loss: 0.1319 - val_acc: 0.9647\n",
            "Epoch 6/10\n",
            "1875/1875 [==============================] - 6s 3ms/step - loss: 0.0896 - acc: 0.9746 - val_loss: 0.1193 - val_acc: 0.9658\n",
            "Epoch 7/10\n",
            "1875/1875 [==============================] - 6s 3ms/step - loss: 0.0790 - acc: 0.9777 - val_loss: 0.1099 - val_acc: 0.9742\n",
            "Epoch 8/10\n",
            "1875/1875 [==============================] - 6s 3ms/step - loss: 0.0655 - acc: 0.9814 - val_loss: 0.1365 - val_acc: 0.9667\n",
            "Epoch 9/10\n",
            "1875/1875 [==============================] - 6s 3ms/step - loss: 0.0647 - acc: 0.9830 - val_loss: 0.1092 - val_acc: 0.9734\n",
            "Epoch 10/10\n",
            "1875/1875 [==============================] - 6s 3ms/step - loss: 0.0576 - acc: 0.9844 - val_loss: 0.1036 - val_acc: 0.9747\n"
          ]
        },
        {
          "output_type": "execute_result",
          "data": {
            "text/plain": [
              "<keras.callbacks.History at 0x7f78502c3650>"
            ]
          },
          "metadata": {},
          "execution_count": 14
        }
      ]
    },
    {
      "cell_type": "markdown",
      "metadata": {
        "id": "QbqFE24AyXg0"
      },
      "source": [
        "## Sub-Classing"
      ]
    },
    {
      "cell_type": "code",
      "metadata": {
        "id": "egcyWUIRyXcM"
      },
      "source": [
        "# Sub Classing\n",
        "class MyModel(Model):\n",
        "    def __init__(self):\n",
        "        super(MyModel, self).__init__()\n",
        "        self.flatten = Flatten()\n",
        "        self.dense1 = Dense(256, activation='relu')\n",
        "        self.dense2 = Dense(128, activation='relu')\n",
        "        self.dense3 = Dense(64, activation='relu')\n",
        "        self.dense4 = Dense(32, activation='relu')\n",
        "        self.output_ = Dense(10, activation='softmax')\n",
        "\n",
        "    def call(self, input_):\n",
        "        x = self.flatten(input_)\n",
        "        x = self.dense1(x)\n",
        "        x = self.dense2(x)\n",
        "        x = self.dense3(x)\n",
        "        x = self.dense4(x)\n",
        "        x = self.output_(x)\n",
        "        return(x)"
      ],
      "execution_count": 15,
      "outputs": []
    },
    {
      "cell_type": "code",
      "metadata": {
        "colab": {
          "base_uri": "https://localhost:8080/"
        },
        "id": "jH2KsoE5k81Q",
        "outputId": "1c59f898-51a8-4394-bc75-84a1ec1ce1b4"
      },
      "source": [
        "output_"
      ],
      "execution_count": 16,
      "outputs": [
        {
          "output_type": "execute_result",
          "data": {
            "text/plain": [
              "<KerasTensor: shape=(None, 10) dtype=float32 (created by layer 'dense_9')>"
            ]
          },
          "metadata": {},
          "execution_count": 16
        }
      ]
    },
    {
      "cell_type": "code",
      "metadata": {
        "id": "1Cm_Joyx2UOD"
      },
      "source": [
        "model = MyModel()"
      ],
      "execution_count": 17,
      "outputs": []
    },
    {
      "cell_type": "code",
      "metadata": {
        "colab": {
          "base_uri": "https://localhost:8080/"
        },
        "id": "GUcUgS2ajqN_",
        "outputId": "203e4d1f-9994-4786-a90c-95ba09f3262d"
      },
      "source": [
        "input_ = Input(shape=(28,28))\n",
        "model(input_)"
      ],
      "execution_count": 18,
      "outputs": [
        {
          "output_type": "execute_result",
          "data": {
            "text/plain": [
              "<KerasTensor: shape=(None, 10) dtype=float32 (created by layer 'my_model')>"
            ]
          },
          "metadata": {},
          "execution_count": 18
        }
      ]
    },
    {
      "cell_type": "code",
      "metadata": {
        "id": "RxbnP9gY2mH3",
        "colab": {
          "base_uri": "https://localhost:8080/"
        },
        "outputId": "384fe4ee-1617-45f7-c262-bb55b0c6f415"
      },
      "source": [
        "model.summary()"
      ],
      "execution_count": 19,
      "outputs": [
        {
          "output_type": "stream",
          "name": "stdout",
          "text": [
            "Model: \"my_model\"\n",
            "_________________________________________________________________\n",
            "Layer (type)                 Output Shape              Param #   \n",
            "=================================================================\n",
            "flatten_2 (Flatten)          multiple                  0         \n",
            "_________________________________________________________________\n",
            "dense_10 (Dense)             multiple                  200960    \n",
            "_________________________________________________________________\n",
            "dense_11 (Dense)             multiple                  32896     \n",
            "_________________________________________________________________\n",
            "dense_12 (Dense)             multiple                  8256      \n",
            "_________________________________________________________________\n",
            "dense_13 (Dense)             multiple                  2080      \n",
            "_________________________________________________________________\n",
            "dense_14 (Dense)             multiple                  330       \n",
            "=================================================================\n",
            "Total params: 244,522\n",
            "Trainable params: 244,522\n",
            "Non-trainable params: 0\n",
            "_________________________________________________________________\n"
          ]
        }
      ]
    },
    {
      "cell_type": "markdown",
      "metadata": {
        "id": "Xxq3E0bxHPdW"
      },
      "source": [
        "## Layer 커스텀"
      ]
    },
    {
      "cell_type": "code",
      "metadata": {
        "id": "8F_fO5GEFbsc"
      },
      "source": [
        "# Layer Custom\n",
        "class MyDense(tf.keras.layers.Layer):\n",
        "    def __init__(self, nodes):\n",
        "        super(MyDense, self).__init__()\n",
        "        self.dense1 = Dense(nodes, activation='relu')\n",
        "        self.dense2 = Dense(nodes //2, activation='relu')\n",
        "        self.dense3 = Dense(nodes //4, activation='relu')\n",
        "        self.dense4 = Dense(nodes //8, activation='relu')\n",
        "\n",
        "    def call(self, x):\n",
        "        x = self.dense1(x)\n",
        "        x = self.dense2(x)\n",
        "        x = self.dense3(x)\n",
        "        x = self.dense4(x)\n",
        "        return x"
      ],
      "execution_count": 26,
      "outputs": []
    },
    {
      "cell_type": "code",
      "metadata": {
        "id": "jneJcKCZtSHG"
      },
      "source": [
        "class MyModel(Model):\n",
        "    def __init__(self):\n",
        "        super(MyModel, self).__init__()\n",
        "        self.flatten = Flatten()\n",
        "        self.dense = MyDense(256)\n",
        "        self.output_ = Dense(10, activation='softmax')\n",
        "        \n",
        "    def call(self, input_):\n",
        "        x = self.flatten(input_)\n",
        "        x = self.dense(x)\n",
        "        x = self.output_(x)\n",
        "        return(x)"
      ],
      "execution_count": 27,
      "outputs": []
    },
    {
      "cell_type": "code",
      "metadata": {
        "id": "jVDM4hbzGdfy"
      },
      "source": [
        "model =  MyModel()"
      ],
      "execution_count": 28,
      "outputs": []
    },
    {
      "cell_type": "code",
      "metadata": {
        "colab": {
          "base_uri": "https://localhost:8080/"
        },
        "id": "CYxq_OTMtiPo",
        "outputId": "3e85d658-41cd-450e-8cda-c79f635a78b9"
      },
      "source": [
        "input_ = Input(shape=(28,28))\n",
        "model(input_)"
      ],
      "execution_count": 29,
      "outputs": [
        {
          "output_type": "execute_result",
          "data": {
            "text/plain": [
              "<KerasTensor: shape=(None, 10) dtype=float32 (created by layer 'my_model_3')>"
            ]
          },
          "metadata": {},
          "execution_count": 29
        }
      ]
    },
    {
      "cell_type": "code",
      "metadata": {
        "id": "jlGnZ7rWGfC4",
        "colab": {
          "base_uri": "https://localhost:8080/"
        },
        "outputId": "0b019bc4-aa8e-40ae-e179-f9f002f607ba"
      },
      "source": [
        "model.summary()"
      ],
      "execution_count": 30,
      "outputs": [
        {
          "output_type": "stream",
          "name": "stdout",
          "text": [
            "Model: \"my_model_3\"\n",
            "_________________________________________________________________\n",
            "Layer (type)                 Output Shape              Param #   \n",
            "=================================================================\n",
            "flatten_5 (Flatten)          multiple                  0         \n",
            "_________________________________________________________________\n",
            "my_dense (MyDense)           multiple                  244192    \n",
            "_________________________________________________________________\n",
            "dense_19 (Dense)             multiple                  330       \n",
            "=================================================================\n",
            "Total params: 244,522\n",
            "Trainable params: 244,522\n",
            "Non-trainable params: 0\n",
            "_________________________________________________________________\n"
          ]
        }
      ]
    },
    {
      "cell_type": "markdown",
      "metadata": {
        "id": "QI36YaYM99VK"
      },
      "source": [
        "# TF 튜토리얼 - 전문가(Expert)를 위한 Custom 학습의 모든것\n",
        "> https://www.youtube.com/watch?v=KOiJ_unhoXA&list=PLIMb_GuNnFwegrf_XgIogbsyjQJ1B9M7p&index=11&ab_channel=%ED%85%8C%EB%94%94%EB%85%B8%ED%8A%B8\n"
      ]
    },
    {
      "cell_type": "markdown",
      "metadata": {
        "id": "Vv6MUAgo7Z8H"
      },
      "source": [
        "## 데이터 셋 준비"
      ]
    },
    {
      "cell_type": "code",
      "metadata": {
        "id": "Aym2DumU7b7U"
      },
      "source": [
        "train_data = tf.data.Dataset.from_tensor_slices((x_train, y_train)).shuffle(1000).batch(32)\n",
        "valid_data = tf.data.Dataset.from_tensor_slices((x_train, y_train)).shuffle(1000).batch(32)"
      ],
      "execution_count": 35,
      "outputs": []
    },
    {
      "cell_type": "markdown",
      "metadata": {
        "id": "xoJj_J7N3pkk"
      },
      "source": [
        "## 학습 방법 (Train)"
      ]
    },
    {
      "cell_type": "markdown",
      "metadata": {
        "id": "isNZhccT9nW7"
      },
      "source": [
        "### optimizer와 loss_function 정의"
      ]
    },
    {
      "cell_type": "code",
      "metadata": {
        "colab": {
          "base_uri": "https://localhost:8080/"
        },
        "id": "uz1IyjrC8Ydu",
        "outputId": "173c932a-de7b-4dd6-b580-02c3727388f3"
      },
      "source": [
        "y_train[0] # 원-핫인코딩이 되어 있지 않은 sparce 데이터"
      ],
      "execution_count": 36,
      "outputs": [
        {
          "output_type": "execute_result",
          "data": {
            "text/plain": [
              "5"
            ]
          },
          "metadata": {},
          "execution_count": 36
        }
      ]
    },
    {
      "cell_type": "code",
      "metadata": {
        "id": "U9jkM4bN5LEz"
      },
      "source": [
        "optimizer = tf.keras.optimizers.Adam()\n",
        "loss_function = tf.keras.losses.SparseCategoricalCrossentropy()"
      ],
      "execution_count": 37,
      "outputs": []
    },
    {
      "cell_type": "markdown",
      "metadata": {
        "id": "Wkenbq8r9qVg"
      },
      "source": [
        "### (기록을 위한) Metric 정의"
      ]
    },
    {
      "cell_type": "code",
      "metadata": {
        "id": "Tn84h8TK4qg9"
      },
      "source": [
        "train_loss = tf.keras.metrics.Mean()\n",
        "train_accuracy = tf.keras.metrics.SparseCategoricalAccuracy()\n",
        "valid_loss = tf.keras.metrics.Mean()\n",
        "valid_accuracy = tf.keras.metrics.SparseCategoricalAccuracy()"
      ],
      "execution_count": 38,
      "outputs": []
    },
    {
      "cell_type": "markdown",
      "metadata": {
        "id": "D0Fy8u3E9uLQ"
      },
      "source": [
        "### train_step 정의"
      ]
    },
    {
      "cell_type": "code",
      "metadata": {
        "id": "ucGb6xhC4WLN"
      },
      "source": [
        "@tf.function\n",
        "def train_step(images, labels):\n",
        "    # GradientTape 적용\n",
        "    with tf.GradientTape() as tape:\n",
        "        # 예측\n",
        "        predictions = model(images, training = True)\n",
        "        # 손실\n",
        "        loss = loss_function(labels, predictions)\n",
        "    # 미분 (gradient) 값 계산\n",
        "    gradients = tape.gradient(loss, model.trainable_variables)\n",
        "    # optimizer 적용\n",
        "    optimizer.apply_gradients(zip(gradients, model.trainable_variables))\n",
        "\n",
        "    # loss, accuracy 계산\n",
        "    train_loss(loss)\n",
        "    train_accuracy(labels, predictions)"
      ],
      "execution_count": 49,
      "outputs": []
    },
    {
      "cell_type": "code",
      "metadata": {
        "id": "Q-JKg5Qj5Ehu"
      },
      "source": [
        "@tf.function\n",
        "def valid_step(images, labels):\n",
        "    # 예측\n",
        "    predictions = model(images, training=False)\n",
        "    # 손실\n",
        "    loss = loss_function(labels, predictions)\n",
        "\n",
        "    # loss, accuracy 계산\n",
        "    valid_loss(loss)\n",
        "    valid_accuracy(labels, predictions)"
      ],
      "execution_count": 50,
      "outputs": []
    },
    {
      "cell_type": "markdown",
      "metadata": {
        "id": "NTR6cVuG9wUQ"
      },
      "source": [
        "### 학습 (train)"
      ]
    },
    {
      "cell_type": "code",
      "metadata": {
        "id": "2MU-dxe35WjA",
        "colab": {
          "base_uri": "https://localhost:8080/"
        },
        "outputId": "459e4168-e23d-4563-aaeb-907bff9cbf03"
      },
      "source": [
        "# 초기화 코드\n",
        "train_loss.reset_states()\n",
        "train_accuracy.reset_states()\n",
        "valid_loss.reset_states()\n",
        "valid_accuracy.reset_states()\n",
        "\n",
        "# Epoch 반복\n",
        "for epoch in range(10):\n",
        "    # train: batch 별 순회\n",
        "    for images, labels in train_data:\n",
        "        # train_step\n",
        "        train_step(images, labels)\n",
        "    # valid: batch 별 순회\n",
        "    for images, labels in valid_data:\n",
        "        # valid_step\n",
        "        valid_step(images, labels)\n",
        "\n",
        "    # 로그 출력\n",
        "    template = 'epoch: {}, loss: {:.3f}, acc: {:.3f}, val_loss: {:.3f}, val_acc: {:.3f}'\n",
        "    print(template.format(epoch+1, train_loss.result(), train_accuracy.result()*100, valid_loss.result(), valid_accuracy.result()*100))"
      ],
      "execution_count": 51,
      "outputs": [
        {
          "output_type": "stream",
          "name": "stdout",
          "text": [
            "epoch: 1, loss: 0.664, acc: 87.930, val_loss: 0.217, val_acc: 94.107\n",
            "epoch: 2, loss: 0.428, acc: 91.306, val_loss: 0.192, val_acc: 94.683\n",
            "epoch: 3, loss: 0.332, acc: 92.868, val_loss: 0.172, val_acc: 95.207\n",
            "epoch: 4, loss: 0.279, acc: 93.794, val_loss: 0.160, val_acc: 95.533\n",
            "epoch: 5, loss: 0.244, acc: 94.451, val_loss: 0.143, val_acc: 95.990\n",
            "epoch: 6, loss: 0.217, acc: 94.986, val_loss: 0.134, val_acc: 96.228\n",
            "epoch: 7, loss: 0.197, acc: 95.399, val_loss: 0.123, val_acc: 96.548\n",
            "epoch: 8, loss: 0.181, acc: 95.746, val_loss: 0.114, val_acc: 96.770\n",
            "epoch: 9, loss: 0.167, acc: 96.039, val_loss: 0.110, val_acc: 96.928\n",
            "epoch: 10, loss: 0.156, acc: 96.286, val_loss: 0.103, val_acc: 97.116\n"
          ]
        }
      ]
    },
    {
      "cell_type": "code",
      "metadata": {
        "id": "eGorl8Ib9jJp"
      },
      "source": [
        ""
      ],
      "execution_count": 51,
      "outputs": []
    }
  ]
}