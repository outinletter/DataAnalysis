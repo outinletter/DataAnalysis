{
  "nbformat": 4,
  "nbformat_minor": 0,
  "metadata": {
    "colab": {
      "name": "참고, 코딩, 'npy' save 메소드, unzip 코드.ipynb",
      "provenance": [],
      "collapsed_sections": [],
      "authorship_tag": "ABX9TyMlYmPMjKbQgyFQAd6Bl1xC",
      "include_colab_link": true
    },
    "kernelspec": {
      "name": "python3",
      "display_name": "Python 3"
    },
    "language_info": {
      "name": "python"
    }
  },
  "cells": [
    {
      "cell_type": "markdown",
      "metadata": {
        "id": "view-in-github",
        "colab_type": "text"
      },
      "source": [
        "<a href=\"https://colab.research.google.com/github/outinletter/DataAnalysis/blob/main/%EC%B0%B8%EA%B3%A0%2C_%EC%BD%94%EB%94%A9%2C_'npy'_save_%EB%A9%94%EC%86%8C%EB%93%9C%2C_unzip_%EC%BD%94%EB%93%9C.ipynb\" target=\"_parent\"><img src=\"https://colab.research.google.com/assets/colab-badge.svg\" alt=\"Open In Colab\"/></a>"
      ]
    },
    {
      "cell_type": "markdown",
      "metadata": {
        "id": "CErx8AK33yGD"
      },
      "source": [
        "# [혼자 공부하는 머신러닝+딥러닝]"
      ]
    },
    {
      "cell_type": "code",
      "metadata": {
        "id": "QAE81J2pS9r-"
      },
      "source": [
        "# '!'는 파이썬 명령어가 아닌 shell 명령어이며 'npy'는 numpy에서 제공하는 save 메소드\n",
        "!wget https://bit.ly/fruits_300_data -O fruits_300.npy"
      ],
      "execution_count": null,
      "outputs": []
    },
    {
      "cell_type": "code",
      "metadata": {
        "id": "CZDccTjd3H6c"
      },
      "source": [
        ""
      ],
      "execution_count": null,
      "outputs": []
    },
    {
      "cell_type": "markdown",
      "metadata": {
        "id": "c214z7c43Mmd"
      },
      "source": [
        "# 캐글 데이터셋에 데이터 다운로드 링크 복사\n",
        "> https://www.youtube.com/watch?v=4xlaycPT-hQ&list=PL1xKqHsVFgvktrttPFUK8ayVr0oTz5RoN&index=5&ab_channel=%EC%84%B8%EC%A2%85%EB%8C%80.%EC%B5%9C%EC%9C%A0%EA%B2%BD%EA%B5%90%EC%88%98"
      ]
    },
    {
      "cell_type": "code",
      "metadata": {
        "id": "8fXATTf13R7E"
      },
      "source": [
        ""
      ],
      "execution_count": null,
      "outputs": []
    },
    {
      "cell_type": "markdown",
      "metadata": {
        "id": "yog1RJsTPgzO"
      },
      "source": [
        "# 캐글 데이터 직접 다운로드 및 압축파일 해제\n",
        "> https://www.youtube.com/watch?v=H3vGRmrU6xU&list=PL1xKqHsVFgvktrttPFUK8ayVr0oTz5RoN&index=27&ab_channel=%EC%84%B8%EC%A2%85%EB%8C%80.%EC%B5%9C%EC%9C%A0%EA%B2%BD%EA%B5%90%EC%88%98"
      ]
    },
    {
      "cell_type": "code",
      "metadata": {
        "id": "9xvDJ-1LP2Fw"
      },
      "source": [
        "!pip uninstall -y kaggle\n",
        "!pip install --upgrade pip\n",
        "!pip install kaggle==1.5.6\n",
        "!kaggle -v"
      ],
      "execution_count": null,
      "outputs": []
    },
    {
      "cell_type": "code",
      "metadata": {
        "id": "dzmU1yQKP2C7"
      },
      "source": [
        "!mkdir -p ~/.kaggle\n",
        "!cp kaggle.json !/.kaggle\n",
        "!chmod 600 ~/.kaggle/kaggle.json"
      ],
      "execution_count": null,
      "outputs": []
    },
    {
      "cell_type": "code",
      "metadata": {
        "id": "tY33gpiUP2AV"
      },
      "source": [
        ""
      ],
      "execution_count": null,
      "outputs": []
    },
    {
      "cell_type": "code",
      "metadata": {
        "id": "KpAwFj7i3Mfw"
      },
      "source": [
        "# download 뒤에 경로 붙여넣기\n",
        "!kaggle competitions download -c 2021-ml-wlp3"
      ],
      "execution_count": null,
      "outputs": []
    },
    {
      "cell_type": "code",
      "metadata": {
        "id": "1HP-T2hlPh6N"
      },
      "source": [
        "!unzip 2021-ml-wlp3"
      ],
      "execution_count": null,
      "outputs": []
    }
  ]
}