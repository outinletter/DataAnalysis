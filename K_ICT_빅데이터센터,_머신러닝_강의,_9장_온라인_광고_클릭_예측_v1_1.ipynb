{
  "nbformat": 4,
  "nbformat_minor": 0,
  "metadata": {
    "colab": {
      "name": "K-ICT 빅데이터센터, 머신러닝 강의, 9장 온라인 광고 클릭 예측_v1.1.ipynb",
      "provenance": [],
      "collapsed_sections": [],
      "authorship_tag": "ABX9TyNAS2HgctdieOHUG5pCI4Ve",
      "include_colab_link": true
    },
    "kernelspec": {
      "name": "python3",
      "display_name": "Python 3"
    },
    "language_info": {
      "name": "python"
    }
  },
  "cells": [
    {
      "cell_type": "markdown",
      "metadata": {
        "id": "view-in-github",
        "colab_type": "text"
      },
      "source": [
        "<a href=\"https://colab.research.google.com/github/outinletter/DataAnalysis/blob/main/K_ICT_%EB%B9%85%EB%8D%B0%EC%9D%B4%ED%84%B0%EC%84%BC%ED%84%B0%2C_%EB%A8%B8%EC%8B%A0%EB%9F%AC%EB%8B%9D_%EA%B0%95%EC%9D%98%2C_9%EC%9E%A5_%EC%98%A8%EB%9D%BC%EC%9D%B8_%EA%B4%91%EA%B3%A0_%ED%81%B4%EB%A6%AD_%EC%98%88%EC%B8%A1_v1_1.ipynb\" target=\"_parent\"><img src=\"https://colab.research.google.com/assets/colab-badge.svg\" alt=\"Open In Colab\"/></a>"
      ]
    },
    {
      "cell_type": "markdown",
      "metadata": {
        "id": "XVqtwl6MMf4q"
      },
      "source": [
        "# 09-5 - 의사결정트리 기반 광고 클릭 예측 모델 학습 데이터 준비\n",
        "> https://www.youtube.com/watch?v=uwdkMXoFOWs&list=PLwvr-xPygMX9TaQFW3C1UGEuD0zJF7pCk&index=53&ab_channel=K-ICT%EB%B9%85%EB%8D%B0%EC%9D%B4%ED%84%B0%EC%84%BC%ED%84%B0\n",
        "\n",
        "> https://www.kaggle.com/c/avazu-ctr-prediction/download/train.gz\n",
        "# https://www.kaggle.com/c/avazu-ctr-prediction/data?select=train.gz#:~:text=drive_zip_outline-,train,-.gz"
      ]
    },
    {
      "cell_type": "code",
      "metadata": {
        "id": "qSB5wV3mOkvJ"
      },
      "source": [
        "import pandas as pd\n",
        "import numpy as np"
      ],
      "execution_count": null,
      "outputs": []
    },
    {
      "cell_type": "code",
      "metadata": {
        "colab": {
          "base_uri": "https://localhost:8080/"
        },
        "id": "iBVTGwNxPZUm",
        "outputId": "483bbe2d-9fd0-41a2-c596-c16c575309f9"
      },
      "source": [
        "import os\n",
        "print(os.getcwd())"
      ],
      "execution_count": null,
      "outputs": [
        {
          "output_type": "stream",
          "name": "stdout",
          "text": [
            "/content\n"
          ]
        }
      ]
    },
    {
      "cell_type": "code",
      "metadata": {
        "id": "-4k394M4Fms7"
      },
      "source": [
        "import os\n",
        "# os.environ을 이용하여 Kaggle API Username, Key 세팅하기\n",
        "# kaggle.json 파일 열어서 user명과 key값 확인\n",
        "os.environ['KAGGLE_USERNAME'] = 'bsjeon'\n",
        "os.environ['KAGGLE_KEY'] = '2461866e6d4f47fcc2f786f3602aff81'"
      ],
      "execution_count": null,
      "outputs": []
    },
    {
      "cell_type": "code",
      "metadata": {
        "id": "piVJJHbaFrRZ"
      },
      "source": [
        "# !kaggle datasets download c/avazu-ctr-prediction/data?select=train.gz\n",
        "# !kaggle datasets download https://www.kaggle.com/c/avazu-ctr-prediction/data?select=train.gz#:~:text=drive_zip_outline-,train,-.gz"
      ],
      "execution_count": null,
      "outputs": []
    },
    {
      "cell_type": "code",
      "metadata": {
        "id": "Y7urIG-UE_gs"
      },
      "source": [
        "# cd /Users/imac/Downloads"
      ],
      "execution_count": null,
      "outputs": []
    },
    {
      "cell_type": "code",
      "metadata": {
        "id": "GqRS1XPbPuU9"
      },
      "source": [
        "train_df = pd.read_csv('train.gz', nrows=100000)"
      ],
      "execution_count": null,
      "outputs": []
    },
    {
      "cell_type": "code",
      "metadata": {
        "id": "0pRh_FJ8SWu3",
        "colab": {
          "base_uri": "https://localhost:8080/",
          "height": 223
        },
        "outputId": "9121eaf2-e835-42fc-bff5-05e0ce2988b6"
      },
      "source": [
        "train_df.head()"
      ],
      "execution_count": null,
      "outputs": [
        {
          "output_type": "execute_result",
          "data": {
            "text/html": [
              "<div>\n",
              "<style scoped>\n",
              "    .dataframe tbody tr th:only-of-type {\n",
              "        vertical-align: middle;\n",
              "    }\n",
              "\n",
              "    .dataframe tbody tr th {\n",
              "        vertical-align: top;\n",
              "    }\n",
              "\n",
              "    .dataframe thead th {\n",
              "        text-align: right;\n",
              "    }\n",
              "</style>\n",
              "<table border=\"1\" class=\"dataframe\">\n",
              "  <thead>\n",
              "    <tr style=\"text-align: right;\">\n",
              "      <th></th>\n",
              "      <th>id</th>\n",
              "      <th>click</th>\n",
              "      <th>hour</th>\n",
              "      <th>C1</th>\n",
              "      <th>banner_pos</th>\n",
              "      <th>site_id</th>\n",
              "      <th>site_domain</th>\n",
              "      <th>site_category</th>\n",
              "      <th>app_id</th>\n",
              "      <th>app_domain</th>\n",
              "      <th>app_category</th>\n",
              "      <th>device_id</th>\n",
              "      <th>device_ip</th>\n",
              "      <th>device_model</th>\n",
              "      <th>device_type</th>\n",
              "      <th>device_conn_type</th>\n",
              "      <th>C14</th>\n",
              "      <th>C15</th>\n",
              "      <th>C16</th>\n",
              "      <th>C17</th>\n",
              "      <th>C18</th>\n",
              "      <th>C19</th>\n",
              "      <th>C20</th>\n",
              "      <th>C21</th>\n",
              "    </tr>\n",
              "  </thead>\n",
              "  <tbody>\n",
              "    <tr>\n",
              "      <th>0</th>\n",
              "      <td>1.000009e+18</td>\n",
              "      <td>0</td>\n",
              "      <td>14102100</td>\n",
              "      <td>1005</td>\n",
              "      <td>0</td>\n",
              "      <td>1fbe01fe</td>\n",
              "      <td>f3845767</td>\n",
              "      <td>28905ebd</td>\n",
              "      <td>ecad2386</td>\n",
              "      <td>7801e8d9</td>\n",
              "      <td>07d7df22</td>\n",
              "      <td>a99f214a</td>\n",
              "      <td>ddd2926e</td>\n",
              "      <td>44956a24</td>\n",
              "      <td>1</td>\n",
              "      <td>2</td>\n",
              "      <td>15706</td>\n",
              "      <td>320</td>\n",
              "      <td>50</td>\n",
              "      <td>1722</td>\n",
              "      <td>0</td>\n",
              "      <td>35</td>\n",
              "      <td>-1</td>\n",
              "      <td>79</td>\n",
              "    </tr>\n",
              "    <tr>\n",
              "      <th>1</th>\n",
              "      <td>1.000017e+19</td>\n",
              "      <td>0</td>\n",
              "      <td>14102100</td>\n",
              "      <td>1005</td>\n",
              "      <td>0</td>\n",
              "      <td>1fbe01fe</td>\n",
              "      <td>f3845767</td>\n",
              "      <td>28905ebd</td>\n",
              "      <td>ecad2386</td>\n",
              "      <td>7801e8d9</td>\n",
              "      <td>07d7df22</td>\n",
              "      <td>a99f214a</td>\n",
              "      <td>96809ac8</td>\n",
              "      <td>711ee120</td>\n",
              "      <td>1</td>\n",
              "      <td>0</td>\n",
              "      <td>15704</td>\n",
              "      <td>320</td>\n",
              "      <td>50</td>\n",
              "      <td>1722</td>\n",
              "      <td>0</td>\n",
              "      <td>35</td>\n",
              "      <td>100084</td>\n",
              "      <td>79</td>\n",
              "    </tr>\n",
              "    <tr>\n",
              "      <th>2</th>\n",
              "      <td>1.000037e+19</td>\n",
              "      <td>0</td>\n",
              "      <td>14102100</td>\n",
              "      <td>1005</td>\n",
              "      <td>0</td>\n",
              "      <td>1fbe01fe</td>\n",
              "      <td>f3845767</td>\n",
              "      <td>28905ebd</td>\n",
              "      <td>ecad2386</td>\n",
              "      <td>7801e8d9</td>\n",
              "      <td>07d7df22</td>\n",
              "      <td>a99f214a</td>\n",
              "      <td>b3cf8def</td>\n",
              "      <td>8a4875bd</td>\n",
              "      <td>1</td>\n",
              "      <td>0</td>\n",
              "      <td>15704</td>\n",
              "      <td>320</td>\n",
              "      <td>50</td>\n",
              "      <td>1722</td>\n",
              "      <td>0</td>\n",
              "      <td>35</td>\n",
              "      <td>100084</td>\n",
              "      <td>79</td>\n",
              "    </tr>\n",
              "    <tr>\n",
              "      <th>3</th>\n",
              "      <td>1.000064e+19</td>\n",
              "      <td>0</td>\n",
              "      <td>14102100</td>\n",
              "      <td>1005</td>\n",
              "      <td>0</td>\n",
              "      <td>1fbe01fe</td>\n",
              "      <td>f3845767</td>\n",
              "      <td>28905ebd</td>\n",
              "      <td>ecad2386</td>\n",
              "      <td>7801e8d9</td>\n",
              "      <td>07d7df22</td>\n",
              "      <td>a99f214a</td>\n",
              "      <td>e8275b8f</td>\n",
              "      <td>6332421a</td>\n",
              "      <td>1</td>\n",
              "      <td>0</td>\n",
              "      <td>15706</td>\n",
              "      <td>320</td>\n",
              "      <td>50</td>\n",
              "      <td>1722</td>\n",
              "      <td>0</td>\n",
              "      <td>35</td>\n",
              "      <td>100084</td>\n",
              "      <td>79</td>\n",
              "    </tr>\n",
              "    <tr>\n",
              "      <th>4</th>\n",
              "      <td>1.000068e+19</td>\n",
              "      <td>0</td>\n",
              "      <td>14102100</td>\n",
              "      <td>1005</td>\n",
              "      <td>1</td>\n",
              "      <td>fe8cc448</td>\n",
              "      <td>9166c161</td>\n",
              "      <td>0569f928</td>\n",
              "      <td>ecad2386</td>\n",
              "      <td>7801e8d9</td>\n",
              "      <td>07d7df22</td>\n",
              "      <td>a99f214a</td>\n",
              "      <td>9644d0bf</td>\n",
              "      <td>779d90c2</td>\n",
              "      <td>1</td>\n",
              "      <td>0</td>\n",
              "      <td>18993</td>\n",
              "      <td>320</td>\n",
              "      <td>50</td>\n",
              "      <td>2161</td>\n",
              "      <td>0</td>\n",
              "      <td>35</td>\n",
              "      <td>-1</td>\n",
              "      <td>157</td>\n",
              "    </tr>\n",
              "  </tbody>\n",
              "</table>\n",
              "</div>"
            ],
            "text/plain": [
              "             id  click      hour    C1  banner_pos  ...   C17 C18 C19     C20  C21\n",
              "0  1.000009e+18      0  14102100  1005           0  ...  1722   0  35      -1   79\n",
              "1  1.000017e+19      0  14102100  1005           0  ...  1722   0  35  100084   79\n",
              "2  1.000037e+19      0  14102100  1005           0  ...  1722   0  35  100084   79\n",
              "3  1.000064e+19      0  14102100  1005           0  ...  1722   0  35  100084   79\n",
              "4  1.000068e+19      0  14102100  1005           1  ...  2161   0  35      -1  157\n",
              "\n",
              "[5 rows x 24 columns]"
            ]
          },
          "metadata": {},
          "execution_count": 7
        }
      ]
    },
    {
      "cell_type": "code",
      "metadata": {
        "id": "ldgYQS0_R0Xp",
        "colab": {
          "base_uri": "https://localhost:8080/"
        },
        "outputId": "a83ecdd6-c4ef-48d0-e24b-80b259a86898"
      },
      "source": [
        "train_df.shape"
      ],
      "execution_count": null,
      "outputs": [
        {
          "output_type": "execute_result",
          "data": {
            "text/plain": [
              "(100000, 24)"
            ]
          },
          "metadata": {},
          "execution_count": 8
        }
      ]
    },
    {
      "cell_type": "code",
      "metadata": {
        "id": "EGK20sn9QB4_",
        "colab": {
          "base_uri": "https://localhost:8080/"
        },
        "outputId": "6b853a12-ad63-43ca-e4a8-5e3d0293ad50"
      },
      "source": [
        "train_df.columns"
      ],
      "execution_count": null,
      "outputs": [
        {
          "output_type": "execute_result",
          "data": {
            "text/plain": [
              "Index(['id', 'click', 'hour', 'C1', 'banner_pos', 'site_id', 'site_domain',\n",
              "       'site_category', 'app_id', 'app_domain', 'app_category', 'device_id',\n",
              "       'device_ip', 'device_model', 'device_type', 'device_conn_type', 'C14',\n",
              "       'C15', 'C16', 'C17', 'C18', 'C19', 'C20', 'C21'],\n",
              "      dtype='object')"
            ]
          },
          "metadata": {},
          "execution_count": 9
        }
      ]
    },
    {
      "cell_type": "code",
      "metadata": {
        "id": "HAvnfXiIQ9wV"
      },
      "source": [
        "unused_columns, label_column = ['id', 'hour', 'device_id', 'device_ip'], 'click'"
      ],
      "execution_count": null,
      "outputs": []
    },
    {
      "cell_type": "code",
      "metadata": {
        "id": "Wa1lwcMGRiXK"
      },
      "source": [
        "train_df = train_df.drop(unused_columns, axis=1)"
      ],
      "execution_count": null,
      "outputs": []
    },
    {
      "cell_type": "code",
      "metadata": {
        "id": "vB_AqNSqR3o1",
        "colab": {
          "base_uri": "https://localhost:8080/"
        },
        "outputId": "297b67ac-5920-4e4c-f6fd-46d59c045c86"
      },
      "source": [
        "train_df.shape"
      ],
      "execution_count": null,
      "outputs": [
        {
          "output_type": "execute_result",
          "data": {
            "text/plain": [
              "(100000, 20)"
            ]
          },
          "metadata": {},
          "execution_count": 12
        }
      ]
    },
    {
      "cell_type": "code",
      "metadata": {
        "id": "kDm5CDzYRxRw",
        "colab": {
          "base_uri": "https://localhost:8080/"
        },
        "outputId": "bcad1a51-edaa-439d-83fe-b83601a477c9"
      },
      "source": [
        "train_df.columns"
      ],
      "execution_count": null,
      "outputs": [
        {
          "output_type": "execute_result",
          "data": {
            "text/plain": [
              "Index(['click', 'C1', 'banner_pos', 'site_id', 'site_domain', 'site_category',\n",
              "       'app_id', 'app_domain', 'app_category', 'device_model', 'device_type',\n",
              "       'device_conn_type', 'C14', 'C15', 'C16', 'C17', 'C18', 'C19', 'C20',\n",
              "       'C21'],\n",
              "      dtype='object')"
            ]
          },
          "metadata": {},
          "execution_count": 13
        }
      ]
    },
    {
      "cell_type": "code",
      "metadata": {
        "id": "Uri03FqYMZvc"
      },
      "source": [
        "X_dict_train = list(train_df.drop(label_column, axis=1).T.to_dict().values())\n",
        "# 딕셔너리 형태로 변환하는 이유는 DictVectorizer 사용하여 원핫인코딩 하기 위함"
      ],
      "execution_count": null,
      "outputs": []
    },
    {
      "cell_type": "code",
      "metadata": {
        "id": "oI2T1jCIRVPu",
        "colab": {
          "base_uri": "https://localhost:8080/"
        },
        "outputId": "a9dc1fc2-8c0b-4213-9898-acc59f851167"
      },
      "source": [
        "X_dict_train[0]"
      ],
      "execution_count": null,
      "outputs": [
        {
          "output_type": "execute_result",
          "data": {
            "text/plain": [
              "{'C1': 1005,\n",
              " 'C14': 15706,\n",
              " 'C15': 320,\n",
              " 'C16': 50,\n",
              " 'C17': 1722,\n",
              " 'C18': 0,\n",
              " 'C19': 35,\n",
              " 'C20': -1,\n",
              " 'C21': 79,\n",
              " 'app_category': '07d7df22',\n",
              " 'app_domain': '7801e8d9',\n",
              " 'app_id': 'ecad2386',\n",
              " 'banner_pos': 0,\n",
              " 'device_conn_type': 2,\n",
              " 'device_model': '44956a24',\n",
              " 'device_type': 1,\n",
              " 'site_category': '28905ebd',\n",
              " 'site_domain': 'f3845767',\n",
              " 'site_id': '1fbe01fe'}"
            ]
          },
          "metadata": {},
          "execution_count": 15
        }
      ]
    },
    {
      "cell_type": "code",
      "metadata": {
        "id": "QiJV0zYoSMgQ"
      },
      "source": [
        "y_train = train_df[label_column]"
      ],
      "execution_count": null,
      "outputs": []
    },
    {
      "cell_type": "code",
      "metadata": {
        "id": "MOA2cQ0GUSZU"
      },
      "source": [
        "test_df = pd.read_csv('train.gz', header=0, skiprows=(1, 100000), nrows=100000)"
      ],
      "execution_count": null,
      "outputs": []
    },
    {
      "cell_type": "code",
      "metadata": {
        "id": "63Wiyg4VVACp"
      },
      "source": [
        "test_df = test_df.drop(unused_columns, axis=1)"
      ],
      "execution_count": null,
      "outputs": []
    },
    {
      "cell_type": "code",
      "metadata": {
        "id": "Z8IfxcUsVHJZ"
      },
      "source": [
        "X_dict_test = list(test_df.drop(label_column, axis=1).T.to_dict().values())"
      ],
      "execution_count": null,
      "outputs": []
    },
    {
      "cell_type": "code",
      "metadata": {
        "id": "v0BfQAj-VPru"
      },
      "source": [
        "y_test = test_df[label_column]"
      ],
      "execution_count": null,
      "outputs": []
    },
    {
      "cell_type": "markdown",
      "metadata": {
        "id": "tvJBSdIMWede"
      },
      "source": [
        "## 범주형 데이터의 변환 필요, 원핫인코딩"
      ]
    },
    {
      "cell_type": "code",
      "metadata": {
        "id": "A-v_6OOdVTwa"
      },
      "source": [
        "from sklearn.feature_extraction import DictVectorizer"
      ],
      "execution_count": null,
      "outputs": []
    },
    {
      "cell_type": "code",
      "metadata": {
        "id": "-GgRc2T9Wsk4"
      },
      "source": [
        "vectorizer = DictVectorizer(sparse=True)\n",
        "# sparse = True : 희소 행렬(0이 아닌 값만 위치)\n",
        "# 그리드 서치 사용시 메모리 오류 발생을 방지하기 위해 반드시 sparse 매트릭스 사용"
      ],
      "execution_count": null,
      "outputs": []
    },
    {
      "cell_type": "code",
      "metadata": {
        "id": "eJFnyMzmc7ao",
        "colab": {
          "base_uri": "https://localhost:8080/"
        },
        "outputId": "182efeb3-1493-4eee-a27c-54e9138eac32"
      },
      "source": [
        "vectorizer"
      ],
      "execution_count": null,
      "outputs": [
        {
          "output_type": "execute_result",
          "data": {
            "text/plain": [
              "DictVectorizer(dtype=<class 'numpy.float64'>, separator='=', sort=True,\n",
              "               sparse=True)"
            ]
          },
          "metadata": {},
          "execution_count": 23
        }
      ]
    },
    {
      "cell_type": "code",
      "metadata": {
        "id": "HNGazwXzXIu0"
      },
      "source": [
        "X_train = vectorizer.fit_transform(X_dict_train)"
      ],
      "execution_count": null,
      "outputs": []
    },
    {
      "cell_type": "code",
      "metadata": {
        "id": "adaXOLpQXGhS",
        "colab": {
          "base_uri": "https://localhost:8080/"
        },
        "outputId": "93086dce-dc72-481d-b079-5dbda363de48"
      },
      "source": [
        "X_train.shape"
      ],
      "execution_count": null,
      "outputs": [
        {
          "output_type": "execute_result",
          "data": {
            "text/plain": [
              "(100000, 4952)"
            ]
          },
          "metadata": {},
          "execution_count": 25
        }
      ]
    },
    {
      "cell_type": "code",
      "metadata": {
        "id": "Uud5fRooVd8h",
        "colab": {
          "base_uri": "https://localhost:8080/",
          "height": 203
        },
        "outputId": "c7cc82ed-2b81-433a-8a45-e11aee041359"
      },
      "source": [
        "pd.DataFrame(X_train).head()"
      ],
      "execution_count": null,
      "outputs": [
        {
          "output_type": "execute_result",
          "data": {
            "text/html": [
              "<div>\n",
              "<style scoped>\n",
              "    .dataframe tbody tr th:only-of-type {\n",
              "        vertical-align: middle;\n",
              "    }\n",
              "\n",
              "    .dataframe tbody tr th {\n",
              "        vertical-align: top;\n",
              "    }\n",
              "\n",
              "    .dataframe thead th {\n",
              "        text-align: right;\n",
              "    }\n",
              "</style>\n",
              "<table border=\"1\" class=\"dataframe\">\n",
              "  <thead>\n",
              "    <tr style=\"text-align: right;\">\n",
              "      <th></th>\n",
              "      <th>0</th>\n",
              "    </tr>\n",
              "  </thead>\n",
              "  <tbody>\n",
              "    <tr>\n",
              "      <th>0</th>\n",
              "      <td>(0, 0)\\t1005.0\\n  (0, 1)\\t15706.0\\n  (0, 2)\\...</td>\n",
              "    </tr>\n",
              "    <tr>\n",
              "      <th>1</th>\n",
              "      <td>(0, 0)\\t1005.0\\n  (0, 1)\\t15704.0\\n  (0, 2)\\...</td>\n",
              "    </tr>\n",
              "    <tr>\n",
              "      <th>2</th>\n",
              "      <td>(0, 0)\\t1005.0\\n  (0, 1)\\t15704.0\\n  (0, 2)\\...</td>\n",
              "    </tr>\n",
              "    <tr>\n",
              "      <th>3</th>\n",
              "      <td>(0, 0)\\t1005.0\\n  (0, 1)\\t15706.0\\n  (0, 2)\\...</td>\n",
              "    </tr>\n",
              "    <tr>\n",
              "      <th>4</th>\n",
              "      <td>(0, 0)\\t1005.0\\n  (0, 1)\\t18993.0\\n  (0, 2)\\...</td>\n",
              "    </tr>\n",
              "  </tbody>\n",
              "</table>\n",
              "</div>"
            ],
            "text/plain": [
              "                                                   0\n",
              "0    (0, 0)\\t1005.0\\n  (0, 1)\\t15706.0\\n  (0, 2)\\...\n",
              "1    (0, 0)\\t1005.0\\n  (0, 1)\\t15704.0\\n  (0, 2)\\...\n",
              "2    (0, 0)\\t1005.0\\n  (0, 1)\\t15704.0\\n  (0, 2)\\...\n",
              "3    (0, 0)\\t1005.0\\n  (0, 1)\\t15706.0\\n  (0, 2)\\...\n",
              "4    (0, 0)\\t1005.0\\n  (0, 1)\\t18993.0\\n  (0, 2)\\..."
            ]
          },
          "metadata": {},
          "execution_count": 26
        }
      ]
    },
    {
      "cell_type": "code",
      "metadata": {
        "id": "ZQgOrr7QYQ7n",
        "colab": {
          "base_uri": "https://localhost:8080/"
        },
        "outputId": "d67fba5d-44d5-4f98-a31f-e0184a573293"
      },
      "source": [
        "X_train.toarray()[:5]"
      ],
      "execution_count": null,
      "outputs": [
        {
          "output_type": "execute_result",
          "data": {
            "text/plain": [
              "array([[ 1005., 15706.,   320., ...,     0.,     0.,     0.],\n",
              "       [ 1005., 15704.,   320., ...,     0.,     0.,     0.],\n",
              "       [ 1005., 15704.,   320., ...,     0.,     0.,     0.],\n",
              "       [ 1005., 15706.,   320., ...,     0.,     0.,     0.],\n",
              "       [ 1005., 18993.,   320., ...,     0.,     0.,     0.]])"
            ]
          },
          "metadata": {},
          "execution_count": 27
        }
      ]
    },
    {
      "cell_type": "code",
      "metadata": {
        "id": "RFB4u0BGY742"
      },
      "source": [
        "X_test = vectorizer.fit_transform(X_dict_test)"
      ],
      "execution_count": null,
      "outputs": []
    },
    {
      "cell_type": "markdown",
      "metadata": {
        "id": "kUze_9i2ZKPD"
      },
      "source": [
        "# 09-6 - 의사결정트리 기반 광고 클릭 예측 모델의 학습\n",
        "> https://www.youtube.com/watch?v=SVQWHz5p00A&list=PLwvr-xPygMX9TaQFW3C1UGEuD0zJF7pCk&index=54&ab_channel=K-ICT%EB%B9%85%EB%8D%B0%EC%9D%B4%ED%84%B0%EC%84%BC%ED%84%B0"
      ]
    },
    {
      "cell_type": "code",
      "metadata": {
        "id": "qzVGzuDkZF_j"
      },
      "source": [
        "from sklearn.tree import DecisionTreeClassifier"
      ],
      "execution_count": null,
      "outputs": []
    },
    {
      "cell_type": "code",
      "metadata": {
        "id": "dHe7v_TKZZHL"
      },
      "source": [
        "parameters = {'max_depth' : [3, 15, None]}\n",
        "decision_tree = DecisionTreeClassifier(criterion='gini', min_samples_split=30)"
      ],
      "execution_count": null,
      "outputs": []
    },
    {
      "cell_type": "code",
      "metadata": {
        "id": "-LHadYP8Zj4x"
      },
      "source": [
        "from sklearn.model_selection import GridSearchCV"
      ],
      "execution_count": null,
      "outputs": []
    },
    {
      "cell_type": "code",
      "metadata": {
        "id": "akoZHW9-ZrPK"
      },
      "source": [
        "grid_search = GridSearchCV(decision_tree, parameters, n_jobs = -1, cv=3, scoring='roc_auc')\n",
        "# roc_auc : 분류평가지표"
      ],
      "execution_count": null,
      "outputs": []
    },
    {
      "cell_type": "code",
      "metadata": {
        "id": "HjwLNuqMZyhV",
        "colab": {
          "base_uri": "https://localhost:8080/"
        },
        "outputId": "1662d011-9c16-4fff-f2d8-6edf8582b785"
      },
      "source": [
        "grid_search.fit(X_train, y_train)"
      ],
      "execution_count": null,
      "outputs": [
        {
          "output_type": "execute_result",
          "data": {
            "text/plain": [
              "GridSearchCV(cv=3, error_score=nan,\n",
              "             estimator=DecisionTreeClassifier(ccp_alpha=0.0, class_weight=None,\n",
              "                                              criterion='gini', max_depth=None,\n",
              "                                              max_features=None,\n",
              "                                              max_leaf_nodes=None,\n",
              "                                              min_impurity_decrease=0.0,\n",
              "                                              min_impurity_split=None,\n",
              "                                              min_samples_leaf=1,\n",
              "                                              min_samples_split=30,\n",
              "                                              min_weight_fraction_leaf=0.0,\n",
              "                                              presort='deprecated',\n",
              "                                              random_state=None,\n",
              "                                              splitter='best'),\n",
              "             iid='deprecated', n_jobs=-1,\n",
              "             param_grid={'max_depth': [3, 15, None]}, pre_dispatch='2*n_jobs',\n",
              "             refit=True, return_train_score=False, scoring='roc_auc',\n",
              "             verbose=0)"
            ]
          },
          "metadata": {},
          "execution_count": 33
        }
      ]
    },
    {
      "cell_type": "code",
      "metadata": {
        "id": "cWEp8_GZaE8J",
        "colab": {
          "base_uri": "https://localhost:8080/"
        },
        "outputId": "700880a2-d5d5-48a7-d5da-e26fde9ff975"
      },
      "source": [
        "grid_search.best_params_"
      ],
      "execution_count": null,
      "outputs": [
        {
          "output_type": "execute_result",
          "data": {
            "text/plain": [
              "{'max_depth': 15}"
            ]
          },
          "metadata": {},
          "execution_count": 34
        }
      ]
    },
    {
      "cell_type": "code",
      "metadata": {
        "id": "wdD1SeaZaJbi"
      },
      "source": [
        "decision_tree_best = grid_search.best_estimator_"
      ],
      "execution_count": null,
      "outputs": []
    },
    {
      "cell_type": "code",
      "metadata": {
        "id": "s83bwz3EaNw8"
      },
      "source": [
        "from sklearn.tree import export_graphviz"
      ],
      "execution_count": null,
      "outputs": []
    },
    {
      "cell_type": "code",
      "metadata": {
        "id": "SRIftXQtafT1"
      },
      "source": [
        "export_graphviz(decision_tree_best, out_file='ctr_decision_tree.dot', feature_names = vectorizer.feature_names_, \n",
        "                class_names=['0', '1'], rounded = True, filled=True, impurity=True)\n",
        "# dot 파일로 출력, class_names : 클릭 여부 분류"
      ],
      "execution_count": null,
      "outputs": []
    },
    {
      "cell_type": "code",
      "metadata": {
        "id": "2r4gab8Ca1so"
      },
      "source": [
        "import pydot\n",
        "graph = pydot.graph_from_dot_file('ctr_decision_tree.dot')[0]\n",
        "graph.write_png('ctr_decision_tree.png')"
      ],
      "execution_count": null,
      "outputs": []
    },
    {
      "cell_type": "code",
      "metadata": {
        "id": "SR8A2F7JcEy0",
        "colab": {
          "base_uri": "https://localhost:8080/",
          "height": 35
        },
        "outputId": "a732deb1-17e9-475f-ba8f-29d42b215803"
      },
      "source": [
        "import os\n",
        "os.getcwd()"
      ],
      "execution_count": null,
      "outputs": [
        {
          "output_type": "execute_result",
          "data": {
            "application/vnd.google.colaboratory.intrinsic+json": {
              "type": "string"
            },
            "text/plain": [
              "'/content'"
            ]
          },
          "metadata": {},
          "execution_count": 39
        }
      ]
    },
    {
      "cell_type": "markdown",
      "metadata": {
        "id": "DReFl3LpcZ6B"
      },
      "source": [
        "# 09-7 혼동행렬(confusion matrix)\n",
        "> https://www.youtube.com/watch?v=fvyWhQW9oyo&list=PLwvr-xPygMX9TaQFW3C1UGEuD0zJF7pCk&index=55&ab_channel=K-ICT%EB%B9%85%EB%8D%B0%EC%9D%B4%ED%84%B0%EC%84%BC%ED%84%B0"
      ]
    },
    {
      "cell_type": "markdown",
      "metadata": {
        "id": "HRjLHj-Xfm61"
      },
      "source": [
        "- 정확도(accuracy) : 전체 샘플ㄹ에서 정확하게 예측한 샘플 수의 비율\n",
        "\n",
        "    : TP+TN / (TP+TN+FP+FN)\n",
        "\n",
        "- 정밀도(precision) : 'Positive 클래스로 예측한' 샘플에서 실제 Positive 클래스에 속하는 샘플수의 비율\n",
        "    \n",
        "    : TP / (TP+FP)\n",
        "\n",
        "- 재현율(recall, TPR) : '실제 Positive 클래스에 속한' 샘플에서 Positive 클래스에 속한다고 예측한 샘플 수의 비율\n",
        "    (참 긍정률 : True Positive rate, 민감도(Sensitivity))\n",
        "    \n",
        "    : TP / (TP+FN)\n",
        "\n",
        "- 위양성률(fallout, FPR) : '실제 Positive 클래스에 속하지 않는' 샘플에서 Positive 클래스에 속하다고 예측한 샘플 수의 비율\n",
        "    (거짓 긍정률 : False Positive Rate)\n",
        "\n",
        "    : FP / (FP+TN)"
      ]
    },
    {
      "cell_type": "markdown",
      "metadata": {
        "id": "r118HWzlhQWV"
      },
      "source": [
        "## ROC(Receiver Operating Characteristics)\n",
        "- 참 긍정률(TPR)과 거짓 부정률(FPR) 사이를 표현하기 위해 사용\n",
        "- 예측된 확률로부터 여러 클래스로 분류를 수행하는 데 활용"
      ]
    },
    {
      "cell_type": "code",
      "metadata": {
        "id": "OMd9wGb2fmsS",
        "colab": {
          "base_uri": "https://localhost:8080/"
        },
        "outputId": "f3bdd269-3cdb-4dd6-e4f0-12de1895b7b8"
      },
      "source": [
        "y_pred = decision_tree_best.predict(X_test)\n",
        "y_pred"
      ],
      "execution_count": null,
      "outputs": [
        {
          "output_type": "execute_result",
          "data": {
            "text/plain": [
              "array([0, 0, 0, ..., 0, 0, 0])"
            ]
          },
          "metadata": {},
          "execution_count": 40
        }
      ]
    },
    {
      "cell_type": "code",
      "metadata": {
        "id": "morCD778fl3h",
        "colab": {
          "base_uri": "https://localhost:8080/"
        },
        "outputId": "a8dfeb0d-e904-4ef6-80ef-59ea31846fb5"
      },
      "source": [
        "np.unique(y_pred, return_counts=True)\n",
        "# 0: unclick"
      ],
      "execution_count": null,
      "outputs": [
        {
          "output_type": "execute_result",
          "data": {
            "text/plain": [
              "(array([0, 1]), array([96378,  3622]))"
            ]
          },
          "metadata": {},
          "execution_count": 41
        }
      ]
    },
    {
      "cell_type": "code",
      "metadata": {
        "id": "QvXXTPEviocJ"
      },
      "source": [
        "from sklearn.metrics import accuracy_score"
      ],
      "execution_count": null,
      "outputs": []
    },
    {
      "cell_type": "code",
      "metadata": {
        "id": "aKmB4Bg_ixK9",
        "colab": {
          "base_uri": "https://localhost:8080/"
        },
        "outputId": "a6b25772-75e4-4f1d-9bf0-5f294f0f508b"
      },
      "source": [
        "accuracy_score(y_test, y_pred)"
      ],
      "execution_count": null,
      "outputs": [
        {
          "output_type": "execute_result",
          "data": {
            "text/plain": [
              "0.8362"
            ]
          },
          "metadata": {},
          "execution_count": 43
        }
      ]
    },
    {
      "cell_type": "code",
      "metadata": {
        "id": "e7v-ZmQei1BZ",
        "colab": {
          "base_uri": "https://localhost:8080/"
        },
        "outputId": "b6a81032-cadb-4c4a-9ab2-4736933ebf52"
      },
      "source": [
        "from sklearn.metrics import confusion_matrix\n",
        "confusion_matrix(y_test, y_pred)"
      ],
      "execution_count": null,
      "outputs": [
        {
          "output_type": "execute_result",
          "data": {
            "text/plain": [
              "array([[81254,  1256],\n",
              "       [15124,  2366]])"
            ]
          },
          "metadata": {},
          "execution_count": 44
        }
      ]
    },
    {
      "cell_type": "code",
      "metadata": {
        "id": "J-mXYPqii9GB"
      },
      "source": [
        "from sklearn.metrics import roc_auc_score, roc_curve"
      ],
      "execution_count": null,
      "outputs": []
    },
    {
      "cell_type": "code",
      "metadata": {
        "id": "CVCFxOpJjE0A",
        "colab": {
          "base_uri": "https://localhost:8080/"
        },
        "outputId": "21c8ceb2-8501-4c2d-e934-0d3c747b2eaa"
      },
      "source": [
        "y_pred_proba = decision_tree_best.predict_proba(X_test)[:, 1]\n",
        "y_pred_proba # 두 번째 클릭 확률값"
      ],
      "execution_count": null,
      "outputs": [
        {
          "output_type": "execute_result",
          "data": {
            "text/plain": [
              "array([0.20534795, 0.13114754, 0.3030303 , ..., 0.12054795, 0.06002947,\n",
              "       0.06002947])"
            ]
          },
          "metadata": {},
          "execution_count": 46
        }
      ]
    },
    {
      "cell_type": "code",
      "metadata": {
        "id": "dqsXz_qdjN05"
      },
      "source": [
        "fpr, tpr, _ = roc_curve(y_test, y_pred_proba)"
      ],
      "execution_count": null,
      "outputs": []
    },
    {
      "cell_type": "code",
      "metadata": {
        "id": "f20tVviXjjGr"
      },
      "source": [
        "auc = roc_auc_score(y_test, y_pred_proba)"
      ],
      "execution_count": null,
      "outputs": []
    },
    {
      "cell_type": "code",
      "metadata": {
        "id": "8IWVxgpjjwc0",
        "colab": {
          "base_uri": "https://localhost:8080/",
          "height": 295
        },
        "outputId": "3753ef46-b32f-4e34-e164-8992a5f3b86e"
      },
      "source": [
        "import matplotlib.pyplot as plt\n",
        "\n",
        "plt.plot(fpr, tpr, 'r-', label = 'DecisionTreeClassifier')\n",
        "plt.plot([0,1], [0,1], 'b--', label = 'random guess')\n",
        "plt.xlabel('False Positive Rate')\n",
        "plt.ylabel('True Positive Rate')\n",
        "plt.title('AUC={0: .2f}'.format(auc))\n",
        "plt.legend(loc='lower right');"
      ],
      "execution_count": null,
      "outputs": [
        {
          "output_type": "display_data",
          "data": {
            "image/png": "[encoded data removed]",
            "text/plain": [
              "<Figure size 432x288 with 1 Axes>"
            ]
          },
          "metadata": {
            "needs_background": "light"
          }
        }
      ]
    },
    {
      "cell_type": "markdown",
      "metadata": {
        "id": "JwFX__ZYkjGJ"
      },
      "source": [
        "# 09-8 - 앙상블 기법 활용 광고 클릭 예측 모델 개선\n",
        "> https://www.youtube.com/watch?v=xwvqTa8AffQ&list=PLwvr-xPygMX9TaQFW3C1UGEuD0zJF7pCk&index=56&ab_channel=K-ICT%EB%B9%85%EB%8D%B0%EC%9D%B4%ED%84%B0%EC%84%BC%ED%84%B0"
      ]
    },
    {
      "cell_type": "markdown",
      "metadata": {
        "id": "XTGZ3JiVO--o"
      },
      "source": [
        "# 주요 정리\n",
        "- Scikit-Learn의 의사결정 트리 분류기는 CART 알고리즘의 분류에 대한 비용함수에서 지니 불순도를 기본적으로 사용\n",
        "- Scikit-Learn의 트리 기반 알고리즘은 수치형 특징을 입력 값으로 하기 때문에 범주형 특징은 원핫인코딩을 통해 이진 특징으로 변환\n",
        "- 혼동행렬은 실제 관측값을 얼마나 정확하게 예측했는지를 보여주는 행렬로 분류 모델의 성능 측정을 위한 평가지표 계산의 기반이 됨\n",
        "- 분류 모델의 평가지표로 정확도, 정밀도, 재현율, F1 점수, 특이성 , ROC 커브의 AUC(곡선하 면적) 등을 사용\n",
        "- 랜덤 포레스트는 특징 기반 배깅 방법을 적용한 의사결정 트리의 앙상블로 의사결정 트리모델의 고분산을 줄이며, 단일 트리보다 훨씬 더 좋은 성능을 제공\n",
        "- Scikit-Learn의 랜덤 포레스트 특징 중요도는 개별 트리의 특징 중요도를 모두 합한 후 트리의 수로 나눈 것으로, 중요도의 합이 1이 되도록 결과값을 정규화함"
      ]
    },
    {
      "cell_type": "markdown",
      "metadata": {
        "id": "6voKbvVJ7603"
      },
      "source": [
        "## Decision Tree의 가장 큰 문제점\n",
        "- 훈련데이터에 대한 고분산성\u001c\n",
        "\n",
        "## 앙상블 학습과 배깅\n",
        "- 부트스트랩 : Bootstrap, 중복을 허용하는 리샘플링\n",
        "- 배깅(Bagging) : 'B'ootstrap 'agg'regating의 약자\n",
        "- 훈련 데이터에서 부트스트래핑한 샘플에 대해 모든 변수를 선택해 다수의 의사경정 트리를 구성\n",
        "- 개별 예측기의 편향은 높지만, 수집함수를 통과한 후 앙상블의 결과는 원본 데이터 셋으로 하나의 예측기를 훈련시킬 때보다 편향은 비슷하지만 대체로 분산은 줄어듦"
      ]
    },
    {
      "cell_type": "markdown",
      "metadata": {
        "id": "FuDEbzOp_nTR"
      },
      "source": [
        "## 랜덤 포레스트 (효과가 좋은 결과를 많이 내고, 최근 많이 사용함)\n",
        "- 랜덤 포레스트는 특징 기반 배깅 방법을 적용한 의사결정 트리의 앙상블\n",
        "- 트리 배깅은 의사결정 트리 모델의 단점 중 하나인 고분산을 줄여주며 이를 통해 단일 트리보다 훨씬 더 좋은 성능을 제공\n",
        "- 개별 트리간의 상관관계 문제를 피하기 위해 부트스트래핑 과정에서 훈련 데이터로부터 전체 p개의 변수 중 무작위 m개의 변수만 선택\n",
        "- 랜덤 포레스트의 무작위성 주입은 트리를 보다 다양하게 만들고, 편향을 손해 보는 대신 분산을 낮추어 훌륭한 모델을 만듦"
      ]
    },
    {
      "cell_type": "code",
      "metadata": {
        "id": "IkroRou3kHQ3",
        "colab": {
          "base_uri": "https://localhost:8080/"
        },
        "outputId": "028c9392-631b-41b1-86f4-7cc895515a84"
      },
      "source": [
        "from sklearn.datasets import load_iris\n",
        "iris = load_iris()\n",
        "\n",
        "from sklearn.ensemble import RandomForestClassifier\n",
        "random_forest = RandomForestClassifier(n_estimators = 500, n_jobs=-1) \n",
        "# n_jobs : 전체프로세스를 사용\n",
        "random_forest.fit(iris.data, iris.target)"
      ],
      "execution_count": null,
      "outputs": [
        {
          "output_type": "execute_result",
          "data": {
            "text/plain": [
              "RandomForestClassifier(bootstrap=True, ccp_alpha=0.0, class_weight=None,\n",
              "                       criterion='gini', max_depth=None, max_features='auto',\n",
              "                       max_leaf_nodes=None, max_samples=None,\n",
              "                       min_impurity_decrease=0.0, min_impurity_split=None,\n",
              "                       min_samples_leaf=1, min_samples_split=2,\n",
              "                       min_weight_fraction_leaf=0.0, n_estimators=500,\n",
              "                       n_jobs=-1, oob_score=False, random_state=None, verbose=0,\n",
              "                       warm_start=False)"
            ]
          },
          "metadata": {},
          "execution_count": 50
        }
      ]
    },
    {
      "cell_type": "code",
      "metadata": {
        "id": "GQBg7IFxC-Ta",
        "colab": {
          "base_uri": "https://localhost:8080/"
        },
        "outputId": "d8ac2cb6-3b4d-4652-96c5-812e2a43b2f9"
      },
      "source": [
        "for feature, importance in zip(iris.feature_names, random_forest.feature_importances_):\n",
        "    print('{} : {}'.format(feature, importance))\n",
        "# 배제된 것 없이 모두 중요도를 확인할 수 있음"
      ],
      "execution_count": null,
      "outputs": [
        {
          "output_type": "stream",
          "name": "stdout",
          "text": [
            "sepal length (cm) : 0.10029732019326702\n",
            "sepal width (cm) : 0.024145805555928063\n",
            "petal length (cm) : 0.4540182122769044\n",
            "petal width (cm) : 0.4215386619739004\n"
          ]
        }
      ]
    },
    {
      "cell_type": "code",
      "metadata": {
        "id": "DRPVdDeLDbeE",
        "colab": {
          "base_uri": "https://localhost:8080/"
        },
        "outputId": "c6e84d0f-48c7-420c-fafa-e41423eede5d"
      },
      "source": [
        "from sklearn.ensemble import RandomForestClassifier\n",
        "random_forest = RandomForestClassifier(n_estimators=100, criterion='gini', \n",
        "                                       min_samples_split=30, n_jobs=-1)\n",
        "# gini 불순도 계수, parameter(max depth)\n",
        "grid_search = GridSearchCV(random_forest, parameters, n_jobs=-1, cv=3, scoring='roc_auc')\n",
        "grid_search.fit(X_train, y_train)"
      ],
      "execution_count": null,
      "outputs": [
        {
          "output_type": "execute_result",
          "data": {
            "text/plain": [
              "GridSearchCV(cv=3, error_score=nan,\n",
              "             estimator=RandomForestClassifier(bootstrap=True, ccp_alpha=0.0,\n",
              "                                              class_weight=None,\n",
              "                                              criterion='gini', max_depth=None,\n",
              "                                              max_features='auto',\n",
              "                                              max_leaf_nodes=None,\n",
              "                                              max_samples=None,\n",
              "                                              min_impurity_decrease=0.0,\n",
              "                                              min_impurity_split=None,\n",
              "                                              min_samples_leaf=1,\n",
              "                                              min_samples_split=30,\n",
              "                                              min_weight_fraction_leaf=0.0,\n",
              "                                              n_estimators=100, n_jobs=-1,\n",
              "                                              oob_score=False,\n",
              "                                              random_state=None, verbose=0,\n",
              "                                              warm_start=False),\n",
              "             iid='deprecated', n_jobs=-1,\n",
              "             param_grid={'max_depth': [3, 15, None]}, pre_dispatch='2*n_jobs',\n",
              "             refit=True, return_train_score=False, scoring='roc_auc',\n",
              "             verbose=0)"
            ]
          },
          "metadata": {},
          "execution_count": 52
        }
      ]
    },
    {
      "cell_type": "code",
      "metadata": {
        "id": "YCck8_iLME-0",
        "colab": {
          "base_uri": "https://localhost:8080/"
        },
        "outputId": "03090396-f353-4514-dd60-7e13055f2827"
      },
      "source": [
        "RandomForestClassifier()"
      ],
      "execution_count": null,
      "outputs": [
        {
          "output_type": "execute_result",
          "data": {
            "text/plain": [
              "RandomForestClassifier(bootstrap=True, ccp_alpha=0.0, class_weight=None,\n",
              "                       criterion='gini', max_depth=None, max_features='auto',\n",
              "                       max_leaf_nodes=None, max_samples=None,\n",
              "                       min_impurity_decrease=0.0, min_impurity_split=None,\n",
              "                       min_samples_leaf=1, min_samples_split=2,\n",
              "                       min_weight_fraction_leaf=0.0, n_estimators=100,\n",
              "                       n_jobs=None, oob_score=False, random_state=None,\n",
              "                       verbose=0, warm_start=False)"
            ]
          },
          "metadata": {},
          "execution_count": 53
        }
      ]
    },
    {
      "cell_type": "markdown",
      "metadata": {
        "id": "8R1f8PJmIMAH"
      },
      "source": [
        "## 랜덤 포레스트의 성능 개선을 위한 주요 파라미터\n",
        "- max_feature : 최적의 분할 지점을 찾기 위해 검토할 특징의 개수, 일반적으로 n차원의 데이터 세트의 root(n)의 반올림 값을 설정\n",
        "- n_estimator : 트리의 개수가 많을 수록 성능이 더 좋지만 계산 시간이 많이 걸림. 일반적으로 100, 200, 500을 설정\n",
        "- min_sample_split : 노드에서 추가 분할을 위해 필요한 샘플의 최소 개수. 숫자가 너무 작으면 오버피팅, 너무 크면 언더피팅이 일어날 수 있음. 일반적으로 10, 30, 50으로 시작"
      ]
    },
    {
      "cell_type": "code",
      "metadata": {
        "id": "BSP65NFGLMJi",
        "colab": {
          "base_uri": "https://localhost:8080/"
        },
        "outputId": "b41213c2-af51-474d-aab3-b683dd28ff9e"
      },
      "source": [
        "X_test"
      ],
      "execution_count": null,
      "outputs": [
        {
          "output_type": "execute_result",
          "data": {
            "text/plain": [
              "<100000x4952 sparse matrix of type '<class 'numpy.float64'>'\n",
              "\twith 1900000 stored elements in Compressed Sparse Row format>"
            ]
          },
          "metadata": {},
          "execution_count": 54
        }
      ]
    },
    {
      "cell_type": "code",
      "metadata": {
        "id": "lqos3vI2EF6u",
        "colab": {
          "base_uri": "https://localhost:8080/"
        },
        "outputId": "5ec2337a-a658-409e-da0a-4d890aae2619"
      },
      "source": [
        "grid_search.best_params_ # parameters = {'max_depth' : [3, 15, None]}"
      ],
      "execution_count": null,
      "outputs": [
        {
          "output_type": "execute_result",
          "data": {
            "text/plain": [
              "{'max_depth': None}"
            ]
          },
          "metadata": {},
          "execution_count": 55
        }
      ]
    },
    {
      "cell_type": "code",
      "metadata": {
        "id": "3HJjX0JKEF3n"
      },
      "source": [
        "random_forest_best = grid_search.best_estimator_ # best_estimator로 객체를 만듦"
      ],
      "execution_count": null,
      "outputs": []
    },
    {
      "cell_type": "code",
      "metadata": {
        "id": "ARu-3FbJJGsa",
        "colab": {
          "base_uri": "https://localhost:8080/"
        },
        "outputId": "6a159aad-99c6-427a-ec2e-93e30180b79c"
      },
      "source": [
        "y_pred = random_forest_best.predict(X_test)\n",
        "y_pred"
      ],
      "execution_count": null,
      "outputs": [
        {
          "output_type": "execute_result",
          "data": {
            "text/plain": [
              "array([0, 0, 0, ..., 0, 0, 0])"
            ]
          },
          "metadata": {},
          "execution_count": 57
        }
      ]
    },
    {
      "cell_type": "code",
      "metadata": {
        "id": "OerT4x4GJU9P",
        "colab": {
          "base_uri": "https://localhost:8080/"
        },
        "outputId": "57ebb527-9d07-4bff-c8c8-e1d95e570c33"
      },
      "source": [
        "accuracy_score(y_test, y_pred)"
      ],
      "execution_count": null,
      "outputs": [
        {
          "output_type": "execute_result",
          "data": {
            "text/plain": [
              "0.85202"
            ]
          },
          "metadata": {},
          "execution_count": 58
        }
      ]
    },
    {
      "cell_type": "code",
      "metadata": {
        "id": "7B2P1Nv4JaMp"
      },
      "source": [
        "y_pred_proba = random_forest_best.predict_proba(X_test)[:, 1]\n",
        "# 확률 기반 예측 (클릭할 확률)"
      ],
      "execution_count": null,
      "outputs": []
    },
    {
      "cell_type": "code",
      "metadata": {
        "id": "P8sBeID8JpDF",
        "colab": {
          "base_uri": "https://localhost:8080/"
        },
        "outputId": "5d464ac8-51d4-4b03-e926-bfc5de71bca9"
      },
      "source": [
        "y_pred_proba, len(y_pred_proba), X_test.shape"
      ],
      "execution_count": null,
      "outputs": [
        {
          "output_type": "execute_result",
          "data": {
            "text/plain": [
              "(array([0.20862823, 0.12989251, 0.30397424, ..., 0.11778577, 0.19929287,\n",
              "        0.05027882]), 100000, (100000, 4952))"
            ]
          },
          "metadata": {},
          "execution_count": 60
        }
      ]
    },
    {
      "cell_type": "markdown",
      "metadata": {
        "id": "0PHO2IcOKJ8s"
      },
      "source": [
        "- 재현율(recall, TPR) : '실제 Positive 클래스에 속한' 샘플에서 Positive 클래스에 속한다고 예측한 샘플 수의 비율 (참 긍정률 : True Positive rate, 민감도(Sensitivity))\n",
        "\n",
        "    : TP / (TP+FN)\n",
        "\n",
        "- 위양성률(fallout, FPR) : '실제 Positive 클래스에 속하지 않는' 샘플에서 Positive 클래스에 속하다고 예측한 샘플 수의 비율 (거짓 긍정률 : False Positive Rate)\n",
        "\n",
        "    : FP / (FP+TN)"
      ]
    },
    {
      "cell_type": "code",
      "metadata": {
        "id": "73W-GE3FJ190"
      },
      "source": [
        "fpr, tpr, _ = roc_curve(y_test, y_pred_proba)\n",
        "# _ : 임계값(thresholds)\n",
        "# roc_auc : 분류평가지표"
      ],
      "execution_count": null,
      "outputs": []
    },
    {
      "cell_type": "code",
      "metadata": {
        "id": "N2P5KFbzKuw0"
      },
      "source": [
        "auc = roc_auc_score(y_test, y_pred_proba)"
      ],
      "execution_count": null,
      "outputs": []
    },
    {
      "cell_type": "code",
      "metadata": {
        "id": "FifXmIoTLu51",
        "colab": {
          "base_uri": "https://localhost:8080/",
          "height": 54
        },
        "outputId": "91d16a4a-41f1-461b-cce0-fa3c1a323be5"
      },
      "source": [
        "plt.plot(fpr, tpr, 'r-', label = 'RandomForestClassifier')\n",
        "plt.plot([0,1], [0, 1], 'b--', label = 'Random Guess')\n",
        "plt.xlabel('False Positive Rate')\n",
        "plt.ylabel('True Positve Rate')\n",
        "plt.title('AUC={0: .2f}'.format(auc))\n",
        "plt.legend(loc='lower right');"
      ],
      "execution_count": null,
      "outputs": [
        {
          "output_type": "display_data",
          "data": {
            "image/png": "[encoded data removed]",
            "text/plain": [
              "<Figure size 432x288 with 1 Axes>"
            ]
          },
          "metadata": {
            "needs_background": "light"
          }
        }
      ]
    },
    {
      "cell_type": "markdown",
      "metadata": {
        "id": "nbgeHWuzPox6"
      },
      "source": [
        "# 10-1 - 로지스틱 회귀 개념\n",
        "> https://www.youtube.com/watch?v=853BBAG3OVM&list=PLwvr-xPygMX9TaQFW3C1UGEuD0zJF7pCk&index=58&ab_channel=K-ICT%EB%B9%85%EB%8D%B0%EC%9D%B4%ED%84%B0%EC%84%BC%ED%84%B0"
      ]
    },
    {
      "cell_type": "markdown",
      "metadata": {
        "id": "fp14rElFRPga"
      },
      "source": [
        "## 로지스틱 회귀의 개요\n",
        "- 베르누이 분포 : 긍정 확률(양성확률) P와 부정 확률(음성확률) 1-P를 갖는 랜덤 변수의 확률 분포(자연계의 일반적인 정규분포와 대칭이 되는 구조의 분포 (예: 동전 던지기 등)\n",
        "- 베르누이 분포를 따르는 반응 변수의 확률 범위는 [0,1]\n",
        "- 선형 회귀는 특징 값의 일정한 변화로 반응 변수에도 일정한 변화가 일어난다는 가정을 하므로, 반응 변수가 확률을 나타낼 경우 가정이 유효하지 않음\n",
        "- 일반화 선형 모델은 연결 함수를 사용해 특징의 선형 조합을 반응 변수와 연결 짓는 방법을 통해 선형 회귀의 가정을 없앰\n",
        "- 특징의 선형 조합을 정규 분포를 따르지 않는 반응 변수와 연계하려면 연결함수가 필요\n",
        "\n",
        "## 로지스틱 회귀와 분류\n",
        "- 로지스틱 회귀의 반응 변수의 값 = 긍정(양성) 클래스의 확률\n",
        "- 반응 변수의 값 >= 임계치(0~1값 중 0.5) : 긍정(양성) 클래스를 예측\n",
        "- 반응 변수는 '로지스틱 함수'를 사용해 특징의 선형 조합 함수로 모델링 됨(로지스틱 함수 : 테스트 인스턴스를 사용해서 값이 0~1 사이의 값이 나오게 계산해 주는 것)\n",
        "- 로지스틱 회귀는 이진 분류(예: 스팸 vs 햄, 양성종양 vs 악성종양, 흡연 vs 비흡연)"
      ]
    },
    {
      "cell_type": "code",
      "metadata": {
        "id": "6KeZoDMRUOG7"
      },
      "source": [
        ""
      ],
      "execution_count": null,
      "outputs": []
    },
    {
      "cell_type": "code",
      "metadata": {
        "id": "V6Gc_RAzOOGb"
      },
      "source": [
        "def sigmoid(z) :\n",
        "    return 1.0 / (1+np.exp(-z))\n",
        "# exp : exponent 함수"
      ],
      "execution_count": null,
      "outputs": []
    },
    {
      "cell_type": "code",
      "metadata": {
        "id": "_d1jiuCPTs-B",
        "colab": {
          "base_uri": "https://localhost:8080/",
          "height": 54
        },
        "outputId": "8c788f96-1d8b-4d55-c838-86a1b8779439"
      },
      "source": [
        "z = np.linspace(-10, 10, 1000)\n",
        "y = sigmoid(z)\n",
        "plt.plot(z, y)\n",
        "plt.axhline(y=0, linestyle = ':', color='black')\n",
        "plt.axhline(y=0.5, linestyle = ':', color='black')\n",
        "plt.axhline(y=1, linestyle = ':', color='black')\n",
        "plt.yticks([0.0, 0.25, 0.5, 0.75, 1.0])\n",
        "plt.xlabel('z')\n",
        "plt.ylabel('y(z)');"
      ],
      "execution_count": null,
      "outputs": [
        {
          "output_type": "display_data",
          "data": {
            "image/png": "[encoded data removed]",
            "text/plain": [
              "<Figure size 432x288 with 1 Axes>"
            ]
          },
          "metadata": {
            "needs_background": "light"
          }
        }
      ]
    },
    {
      "cell_type": "markdown",
      "metadata": {
        "id": "0GmrNMu6Vx2F"
      },
      "source": [
        "# 10-4 - 로지스틱 회귀 기반 광고 클릭 예측 모델 학습\n",
        "## 그리드 서치를 이용한 로지스틱 회귀 모델 학습\n",
        "### LogisticRegression는 이진 분류기, 대규모 데이터를 다룰 때 매우 유용\n",
        "\n",
        "> https://www.youtube.com/watch?v=GKTsHh7uj98&list=PLwvr-xPygMX9TaQFW3C1UGEuD0zJF7pCk&index=61&ab_channel=K-ICT%EB%B9%85%EB%8D%B0%EC%9D%B4%ED%84%B0%EC%84%BC%ED%84%B0"
      ]
    },
    {
      "cell_type": "code",
      "metadata": {
        "id": "PuFEVW76Ts7D",
        "colab": {
          "base_uri": "https://localhost:8080/"
        },
        "outputId": "68405522-8f4d-43a2-e860-6183b87ee26d"
      },
      "source": [
        "from sklearn.linear_model.logistic import LogisticRegression\n",
        "\n",
        "clf = LogisticRegression()\n",
        "clf.fit(X_train, y_train)\n",
        "# 버전 업을 예고하는 Future Warning"
      ],
      "execution_count": null,
      "outputs": [
        {
          "output_type": "stream",
          "name": "stderr",
          "text": [
            "/usr/local/lib/python3.7/dist-packages/sklearn/utils/deprecation.py:144: FutureWarning: The sklearn.linear_model.logistic module is  deprecated in version 0.22 and will be removed in version 0.24. The corresponding classes / functions should instead be imported from sklearn.linear_model. Anything that cannot be imported from sklearn.linear_model is now part of the private API.\n",
            "  warnings.warn(message, FutureWarning)\n",
            "/usr/local/lib/python3.7/dist-packages/sklearn/linear_model/_logistic.py:940: ConvergenceWarning: lbfgs failed to converge (status=1):\n",
            "STOP: TOTAL NO. of ITERATIONS REACHED LIMIT.\n",
            "\n",
            "Increase the number of iterations (max_iter) or scale the data as shown in:\n",
            "    https://scikit-learn.org/stable/modules/preprocessing.html\n",
            "Please also refer to the documentation for alternative solver options:\n",
            "    https://scikit-learn.org/stable/modules/linear_model.html#logistic-regression\n",
            "  extra_warning_msg=_LOGISTIC_SOLVER_CONVERGENCE_MSG)\n"
          ]
        },
        {
          "output_type": "execute_result",
          "data": {
            "text/plain": [
              "LogisticRegression(C=1.0, class_weight=None, dual=False, fit_intercept=True,\n",
              "                   intercept_scaling=1, l1_ratio=None, max_iter=100,\n",
              "                   multi_class='auto', n_jobs=None, penalty='l2',\n",
              "                   random_state=None, solver='lbfgs', tol=0.0001, verbose=0,\n",
              "                   warm_start=False)"
            ]
          },
          "metadata": {},
          "execution_count": 66
        }
      ]
    },
    {
      "cell_type": "markdown",
      "metadata": {
        "id": "M8Qwq4nBWzVS"
      },
      "source": [
        "- LogisticRegression(C=1.0, class_weight=None, dual=False, fit_intercept=True, intercept_scaling=1, l1_ratio=None, max_iter=100, multi_class='auto', n_jobs=None, penalty='l2', random_state=None, solver='lbfgs', tol=0.0001, verbose=0, warm_start=False)\n",
        "\n",
        "- C : 오버피팅을 방지, 값이 커지면 규제가 느슨해지고, 0에 가까워지면 규제가 강해지는 경향\n",
        "- l1 규제 : 0이 됨\n",
        "- l2 가중치 페널티 : 0에 가깝게"
      ]
    },
    {
      "cell_type": "code",
      "metadata": {
        "id": "8emQ4_A8Ts4B",
        "colab": {
          "base_uri": "https://localhost:8080/"
        },
        "outputId": "2b4dfcec-62dc-4f26-c664-242dff52543d"
      },
      "source": [
        "from sklearn.model_selection import GridSearchCV\n",
        "\n",
        "# parameters = {'C': [0.001, 0.01, 0.1, 1, 10], 'penalty' : ['l1', '12']}\n",
        "parameters = {'C': [0.001, 0.01, 0.1, 1, 10],   'penalty' : ['l1', 'l2']}\n",
        "grid_search = GridSearchCV(clf, parameters, n_jobs=-1, cv=3, scoring='roc_auc')\n",
        "grid_search.fit(X_train, y_train)"
      ],
      "execution_count": null,
      "outputs": [
        {
          "output_type": "stream",
          "name": "stderr",
          "text": [
            "/usr/local/lib/python3.7/dist-packages/sklearn/linear_model/_logistic.py:940: ConvergenceWarning: lbfgs failed to converge (status=1):\n",
            "STOP: TOTAL NO. of ITERATIONS REACHED LIMIT.\n",
            "\n",
            "Increase the number of iterations (max_iter) or scale the data as shown in:\n",
            "    https://scikit-learn.org/stable/modules/preprocessing.html\n",
            "Please also refer to the documentation for alternative solver options:\n",
            "    https://scikit-learn.org/stable/modules/linear_model.html#logistic-regression\n",
            "  extra_warning_msg=_LOGISTIC_SOLVER_CONVERGENCE_MSG)\n"
          ]
        },
        {
          "output_type": "execute_result",
          "data": {
            "text/plain": [
              "GridSearchCV(cv=3, error_score=nan,\n",
              "             estimator=LogisticRegression(C=1.0, class_weight=None, dual=False,\n",
              "                                          fit_intercept=True,\n",
              "                                          intercept_scaling=1, l1_ratio=None,\n",
              "                                          max_iter=100, multi_class='auto',\n",
              "                                          n_jobs=None, penalty='l2',\n",
              "                                          random_state=None, solver='lbfgs',\n",
              "                                          tol=0.0001, verbose=0,\n",
              "                                          warm_start=False),\n",
              "             iid='deprecated', n_jobs=-1,\n",
              "             param_grid={'C': [0.001, 0.01, 0.1, 1, 10],\n",
              "                         'penalty': ['l1', 'l2']},\n",
              "             pre_dispatch='2*n_jobs', refit=True, return_train_score=False,\n",
              "             scoring='roc_auc', verbose=0)"
            ]
          },
          "metadata": {},
          "execution_count": 67
        }
      ]
    },
    {
      "cell_type": "code",
      "metadata": {
        "id": "hEKtq0LDX3K0",
        "colab": {
          "base_uri": "https://localhost:8080/"
        },
        "outputId": "d2a4a05d-06e8-47c9-a5f5-f51948e1d539"
      },
      "source": [
        "grid_search.best_params_ # 최적의 파라미터 출력"
      ],
      "execution_count": null,
      "outputs": [
        {
          "output_type": "execute_result",
          "data": {
            "text/plain": [
              "{'C': 1, 'penalty': 'l2'}"
            ]
          },
          "metadata": {},
          "execution_count": 68
        }
      ]
    },
    {
      "cell_type": "code",
      "metadata": {
        "id": "mhOxMMgGYbPM"
      },
      "source": [
        "clf_best = grid_search.best_estimator_"
      ],
      "execution_count": null,
      "outputs": []
    },
    {
      "cell_type": "code",
      "metadata": {
        "id": "JdSyH24wYytF",
        "colab": {
          "base_uri": "https://localhost:8080/"
        },
        "outputId": "2942ae1e-3149-45e9-878b-56d1be5ab729"
      },
      "source": [
        "y_pred = clf_best.predict(X_test)\n",
        "y_pred"
      ],
      "execution_count": null,
      "outputs": [
        {
          "output_type": "execute_result",
          "data": {
            "text/plain": [
              "array([0, 0, 0, ..., 0, 0, 0])"
            ]
          },
          "metadata": {},
          "execution_count": 70
        }
      ]
    },
    {
      "cell_type": "code",
      "metadata": {
        "id": "zYuMuI6VY3QL",
        "colab": {
          "base_uri": "https://localhost:8080/"
        },
        "outputId": "db0346cd-c3f4-46a8-b9da-2740f0a4bff9"
      },
      "source": [
        "np.unique(y_pred, return_counts=True)\n",
        "# 음성(unclick) 9981"
      ],
      "execution_count": null,
      "outputs": [
        {
          "output_type": "execute_result",
          "data": {
            "text/plain": [
              "(array([0, 1]), array([99680,   320]))"
            ]
          },
          "metadata": {},
          "execution_count": 71
        }
      ]
    },
    {
      "cell_type": "code",
      "metadata": {
        "id": "2HrEBKLrY_WZ",
        "colab": {
          "base_uri": "https://localhost:8080/"
        },
        "outputId": "a84459b0-8582-4d05-b14c-9648e569c916"
      },
      "source": [
        "from sklearn.metrics import accuracy_score\n",
        "accuracy_score(y_test, y_pred)\n",
        "# 실측값(y_test), 예측값(y_pred) 순으로 작성"
      ],
      "execution_count": null,
      "outputs": [
        {
          "output_type": "execute_result",
          "data": {
            "text/plain": [
              "0.82398"
            ]
          },
          "metadata": {},
          "execution_count": 72
        }
      ]
    },
    {
      "cell_type": "code",
      "metadata": {
        "id": "h8hWNSPhZaAL",
        "colab": {
          "base_uri": "https://localhost:8080/"
        },
        "outputId": "86fc0b14-1fb1-486b-b98d-983ad7db58cf"
      },
      "source": [
        " from sklearn.metrics import confusion_matrix\n",
        " confusion_matrix(y_test, y_pred)"
      ],
      "execution_count": null,
      "outputs": [
        {
          "output_type": "execute_result",
          "data": {
            "text/plain": [
              "array([[82294,   216],\n",
              "       [17386,   104]])"
            ]
          },
          "metadata": {},
          "execution_count": 73
        }
      ]
    },
    {
      "cell_type": "code",
      "metadata": {
        "id": "I_lWg_o4Zwoo",
        "colab": {
          "base_uri": "https://localhost:8080/"
        },
        "outputId": "98635073-f206-4e3b-b67e-d52543bec5e4"
      },
      "source": [
        "from sklearn.metrics import roc_auc_score, roc_curve\n",
        "y_pred_proba = clf_best.predict_proba(X_test)[:, 1]\n",
        "# 로지스틱 회귀는 확률 기반이므로 predic가 아니라 predict probability(predict_proba) 사용\n",
        "# X_test 확률 양성값은 두 번째 열에 저장\n",
        "y_pred_proba"
      ],
      "execution_count": null,
      "outputs": [
        {
          "output_type": "execute_result",
          "data": {
            "text/plain": [
              "array([0.15490176, 0.15489559, 0.15488173, ..., 0.18262125, 0.18447341,\n",
              "       0.09986801])"
            ]
          },
          "metadata": {},
          "execution_count": 74
        }
      ]
    },
    {
      "cell_type": "code",
      "metadata": {
        "id": "RcFMoGojaMYA",
        "colab": {
          "base_uri": "https://localhost:8080/",
          "height": 54
        },
        "outputId": "c3f6cded-e588-4cfd-b22e-2b991d8a3d4e"
      },
      "source": [
        "# roc_auc_score 함수를 이용해 곡선의 밑면적과 관련돼 있는 정보를 바로 얻어서 사용할 수 있음\n",
        "# 분류기로서의 성능을 auc지표를 통해 확인\n",
        "\n",
        "fpr, tpr, _ = roc_curve(y_test, y_pred_proba)\n",
        "auc = roc_auc_score(y_test, y_pred_proba)\n",
        "plt.plot(fpr, tpr, 'r-', label = 'LogisticRegression')\n",
        "plt.plot([0,1], [0, 1], 'b--', label = 'Random Guess')\n",
        "plt.xlabel('False Positive Rate')\n",
        "plt.ylabel('True Positve Rate')\n",
        "plt.title('AUC={0: .2f}'.format(auc))\n",
        "plt.legend(loc='lower right');"
      ],
      "execution_count": null,
      "outputs": [
        {
          "output_type": "display_data",
          "data": {
            "image/png": "[encoded data removed]",
            "text/plain": [
              "<Figure size 432x288 with 1 Axes>"
            ]
          },
          "metadata": {
            "needs_background": "light"
          }
        }
      ]
    },
    {
      "cell_type": "markdown",
      "metadata": {
        "id": "fSUUIH9oe7OT"
      },
      "source": [
        "# 11-1 K-최근접 이웃(KNN) 알고리즘 개념\n",
        "> https://www.youtube.com/watch?v=8gd0QeQ9ilQ&list=PLwvr-xPygMX9TaQFW3C1UGEuD0zJF7pCk&index=64&ab_channel=K-ICT%EB%B9%85%EB%8D%B0%EC%9D%B4%ED%84%B0%EC%84%BC%ED%84%B0\n",
        "\n",
        "- 분류나 회귀에 사용할 수 있는 알고리즘으로 단수해 보이지만 강력하고 유용한 기법\n",
        "- 비매개변수 머신러닝 모델\n",
        "- 훈련 단계에서 학습을 하지 않기 때문에 '게이른 학습'이라 부름\n",
        "- 테스트/검증 단계에서 테스트 관측값과 가장 근접한 훈련 관측값을 비교\n",
        "- 거리에만 의존하므로 차원의 저주에 따라 예측에 필요한 특징의 개수가 늘어나면 성능이 크게 저하됨\n",
        "- k개의 가장 가까운 훈련 인스턴스를 골라 가장 많은 레이블을 분류로 선택\n",
        "- 특징의 표준화된 크기 조절(스케일링)이 필요\n",
        "- k-최근접 이웃 분류기의 성능측정은 혼동행렬을 이용해 정확도, AUC와 같은 다양한 평가지표를 활용할 수 있다.\n",
        "- 그리드 서치를 이용해 n_neightbors와 같은 k-최근접 이웃 하이퍼파라미터의 최적 값을 찾아낼 수 있다."
      ]
    },
    {
      "cell_type": "code",
      "metadata": {
        "id": "-edueV2TP1nD"
      },
      "source": [
        "import pandas as pd\n",
        "import numpy as np\n",
        "import matplotlib.pyplot as plt"
      ],
      "execution_count": null,
      "outputs": []
    },
    {
      "cell_type": "code",
      "metadata": {
        "colab": {
          "base_uri": "https://localhost:8080/",
          "height": 280
        },
        "id": "edFvSEcROpkc",
        "outputId": "9bea843c-58a6-46ad-cfe2-82dd28c699d4"
      },
      "source": [
        "df_1d = pd.DataFrame(data = np.random.rand(60,1), columns=['1d_points'])\n",
        "df_1d['height'] = 1\n",
        "plt.scatter(df_1d['1d_points'], df_1d['height'])\n",
        "plt.yticks([])\n",
        "plt.xlabel(df_1d.columns[0]);"
      ],
      "execution_count": null,
      "outputs": [
        {
          "output_type": "display_data",
          "data": {
            "image/png": "[encoded data removed]",
            "text/plain": [
              "<Figure size 432x288 with 1 Axes>"
            ]
          },
          "metadata": {
            "needs_background": "light"
          }
        }
      ]
    },
    {
      "cell_type": "code",
      "metadata": {
        "colab": {
          "base_uri": "https://localhost:8080/",
          "height": 54
        },
        "id": "hOVuKVKbOpp3",
        "outputId": "d7007334-2325-41b5-c069-3dba033c363f"
      },
      "source": [
        "df_2d = pd.DataFrame(data = np.random.rand(60,2), columns=['x', 'y'])\n",
        "plt.scatter(df_2d['x'], df_2d['y'])\n",
        "plt.yticks([])\n",
        "plt.xlabel(df_1d.columns[0])\n",
        "plt.ylabel(df_2d.columns[1]);"
      ],
      "execution_count": null,
      "outputs": [
        {
          "output_type": "display_data",
          "data": {
            "image/png": "[encoded data removed]",
            "text/plain": [
              "<Figure size 432x288 with 1 Axes>"
            ]
          },
          "metadata": {
            "needs_background": "light"
          }
        }
      ]
    },
    {
      "cell_type": "code",
      "metadata": {
        "id": "elPXF3cDe61H",
        "colab": {
          "base_uri": "https://localhost:8080/",
          "height": 248
        },
        "outputId": "d86b1059-537a-472a-8205-ef49c759458c"
      },
      "source": [
        "# 차원이 증가하여 점과 점 사이가 멀어지면 분류기 작동이 어려워짐\n",
        "\n",
        "df_3d = pd.DataFrame(data = np.random.rand(60,3), columns=['x', 'y', 'z'])\n",
        "\n",
        "from mpl_toolkits.mplot3d import Axes3D\n",
        "fig = plt.figure()\n",
        "ax = fig.add_subplot(111, projection='3d')\n",
        "ax.scatter(df_3d['x'], df_3d['y'], df_3d['y']);"
      ],
      "execution_count": null,
      "outputs": [
        {
          "output_type": "display_data",
          "data": {
            "image/png": "[encoded data removed]",
            "text/plain": [
              "<Figure size 432x288 with 1 Axes>"
            ]
          },
          "metadata": {
            "needs_background": "light"
          }
        }
      ]
    },
    {
      "cell_type": "markdown",
      "metadata": {
        "id": "BW4yVGUyRFKu"
      },
      "source": [
        "# 11-2 - 암 진단 분류 모델 데이터 준비\n",
        "\n",
        "> https://www.youtube.com/watch?v=t86vs1s5jCY&list=PLwvr-xPygMX9TaQFW3C1UGEuD0zJF7pCk&index=65&ab_channel=K-ICT%EB%B9%85%EB%8D%B0%EC%9D%B4%ED%84%B0%EC%84%BC%ED%84%B0\n",
        "\n",
        "> https://archive.ics.uci.edu/ml/machine-learning-databases/breast-cancer-wisconsin/breast-cancer-wisconsin.data\n",
        "\n"
      ]
    },
    {
      "cell_type": "code",
      "metadata": {
        "id": "DQ9iitEWe6yL",
        "colab": {
          "base_uri": "https://localhost:8080/",
          "height": 203
        },
        "outputId": "7d25e8cb-bf6b-4f9d-b707-c51b238ac010"
      },
      "source": [
        "breast_cancer = pd.read_csv('https://archive.ics.uci.edu/ml/machine-learning-databases/breast-cancer-wisconsin/breast-cancer-wisconsin.data', header=None)\n",
        "breast_cancer.head()"
      ],
      "execution_count": null,
      "outputs": [
        {
          "output_type": "execute_result",
          "data": {
            "text/html": [
              "<div>\n",
              "<style scoped>\n",
              "    .dataframe tbody tr th:only-of-type {\n",
              "        vertical-align: middle;\n",
              "    }\n",
              "\n",
              "    .dataframe tbody tr th {\n",
              "        vertical-align: top;\n",
              "    }\n",
              "\n",
              "    .dataframe thead th {\n",
              "        text-align: right;\n",
              "    }\n",
              "</style>\n",
              "<table border=\"1\" class=\"dataframe\">\n",
              "  <thead>\n",
              "    <tr style=\"text-align: right;\">\n",
              "      <th></th>\n",
              "      <th>0</th>\n",
              "      <th>1</th>\n",
              "      <th>2</th>\n",
              "      <th>3</th>\n",
              "      <th>4</th>\n",
              "      <th>5</th>\n",
              "      <th>6</th>\n",
              "      <th>7</th>\n",
              "      <th>8</th>\n",
              "      <th>9</th>\n",
              "      <th>10</th>\n",
              "    </tr>\n",
              "  </thead>\n",
              "  <tbody>\n",
              "    <tr>\n",
              "      <th>0</th>\n",
              "      <td>1000025</td>\n",
              "      <td>5</td>\n",
              "      <td>1</td>\n",
              "      <td>1</td>\n",
              "      <td>1</td>\n",
              "      <td>2</td>\n",
              "      <td>1</td>\n",
              "      <td>3</td>\n",
              "      <td>1</td>\n",
              "      <td>1</td>\n",
              "      <td>2</td>\n",
              "    </tr>\n",
              "    <tr>\n",
              "      <th>1</th>\n",
              "      <td>1002945</td>\n",
              "      <td>5</td>\n",
              "      <td>4</td>\n",
              "      <td>4</td>\n",
              "      <td>5</td>\n",
              "      <td>7</td>\n",
              "      <td>10</td>\n",
              "      <td>3</td>\n",
              "      <td>2</td>\n",
              "      <td>1</td>\n",
              "      <td>2</td>\n",
              "    </tr>\n",
              "    <tr>\n",
              "      <th>2</th>\n",
              "      <td>1015425</td>\n",
              "      <td>3</td>\n",
              "      <td>1</td>\n",
              "      <td>1</td>\n",
              "      <td>1</td>\n",
              "      <td>2</td>\n",
              "      <td>2</td>\n",
              "      <td>3</td>\n",
              "      <td>1</td>\n",
              "      <td>1</td>\n",
              "      <td>2</td>\n",
              "    </tr>\n",
              "    <tr>\n",
              "      <th>3</th>\n",
              "      <td>1016277</td>\n",
              "      <td>6</td>\n",
              "      <td>8</td>\n",
              "      <td>8</td>\n",
              "      <td>1</td>\n",
              "      <td>3</td>\n",
              "      <td>4</td>\n",
              "      <td>3</td>\n",
              "      <td>7</td>\n",
              "      <td>1</td>\n",
              "      <td>2</td>\n",
              "    </tr>\n",
              "    <tr>\n",
              "      <th>4</th>\n",
              "      <td>1017023</td>\n",
              "      <td>4</td>\n",
              "      <td>1</td>\n",
              "      <td>1</td>\n",
              "      <td>3</td>\n",
              "      <td>2</td>\n",
              "      <td>1</td>\n",
              "      <td>3</td>\n",
              "      <td>1</td>\n",
              "      <td>1</td>\n",
              "      <td>2</td>\n",
              "    </tr>\n",
              "  </tbody>\n",
              "</table>\n",
              "</div>"
            ],
            "text/plain": [
              "        0   1   2   3   4   5   6   7   8   9   10\n",
              "0  1000025   5   1   1   1   2   1   3   1   1   2\n",
              "1  1002945   5   4   4   5   7  10   3   2   1   2\n",
              "2  1015425   3   1   1   1   2   2   3   1   1   2\n",
              "3  1016277   6   8   8   1   3   4   3   7   1   2\n",
              "4  1017023   4   1   1   3   2   1   3   1   1   2"
            ]
          },
          "metadata": {},
          "execution_count": 80
        }
      ]
    },
    {
      "cell_type": "code",
      "metadata": {
        "id": "hVe7Y--9e6vh",
        "colab": {
          "base_uri": "https://localhost:8080/",
          "height": 223
        },
        "outputId": "8d4436d2-1ee6-4280-b78b-8eacf9d824a3"
      },
      "source": [
        "breast_cancer.columns = ['id_number', 'clum_thickness', 'unif_cell_size', 'unif_cell_shape','marg_adhesion', 'single_epith_cell_size', 'bare_nuclei', 'bland_chromatin', 'normal_nucleoli', 'mitoses', 'class' ]\n",
        "breast_cancer.head()"
      ],
      "execution_count": null,
      "outputs": [
        {
          "output_type": "execute_result",
          "data": {
            "text/html": [
              "<div>\n",
              "<style scoped>\n",
              "    .dataframe tbody tr th:only-of-type {\n",
              "        vertical-align: middle;\n",
              "    }\n",
              "\n",
              "    .dataframe tbody tr th {\n",
              "        vertical-align: top;\n",
              "    }\n",
              "\n",
              "    .dataframe thead th {\n",
              "        text-align: right;\n",
              "    }\n",
              "</style>\n",
              "<table border=\"1\" class=\"dataframe\">\n",
              "  <thead>\n",
              "    <tr style=\"text-align: right;\">\n",
              "      <th></th>\n",
              "      <th>id_number</th>\n",
              "      <th>clum_thickness</th>\n",
              "      <th>unif_cell_size</th>\n",
              "      <th>unif_cell_shape</th>\n",
              "      <th>marg_adhesion</th>\n",
              "      <th>single_epith_cell_size</th>\n",
              "      <th>bare_nuclei</th>\n",
              "      <th>bland_chromatin</th>\n",
              "      <th>normal_nucleoli</th>\n",
              "      <th>mitoses</th>\n",
              "      <th>class</th>\n",
              "    </tr>\n",
              "  </thead>\n",
              "  <tbody>\n",
              "    <tr>\n",
              "      <th>0</th>\n",
              "      <td>1000025</td>\n",
              "      <td>5</td>\n",
              "      <td>1</td>\n",
              "      <td>1</td>\n",
              "      <td>1</td>\n",
              "      <td>2</td>\n",
              "      <td>1</td>\n",
              "      <td>3</td>\n",
              "      <td>1</td>\n",
              "      <td>1</td>\n",
              "      <td>2</td>\n",
              "    </tr>\n",
              "    <tr>\n",
              "      <th>1</th>\n",
              "      <td>1002945</td>\n",
              "      <td>5</td>\n",
              "      <td>4</td>\n",
              "      <td>4</td>\n",
              "      <td>5</td>\n",
              "      <td>7</td>\n",
              "      <td>10</td>\n",
              "      <td>3</td>\n",
              "      <td>2</td>\n",
              "      <td>1</td>\n",
              "      <td>2</td>\n",
              "    </tr>\n",
              "    <tr>\n",
              "      <th>2</th>\n",
              "      <td>1015425</td>\n",
              "      <td>3</td>\n",
              "      <td>1</td>\n",
              "      <td>1</td>\n",
              "      <td>1</td>\n",
              "      <td>2</td>\n",
              "      <td>2</td>\n",
              "      <td>3</td>\n",
              "      <td>1</td>\n",
              "      <td>1</td>\n",
              "      <td>2</td>\n",
              "    </tr>\n",
              "    <tr>\n",
              "      <th>3</th>\n",
              "      <td>1016277</td>\n",
              "      <td>6</td>\n",
              "      <td>8</td>\n",
              "      <td>8</td>\n",
              "      <td>1</td>\n",
              "      <td>3</td>\n",
              "      <td>4</td>\n",
              "      <td>3</td>\n",
              "      <td>7</td>\n",
              "      <td>1</td>\n",
              "      <td>2</td>\n",
              "    </tr>\n",
              "    <tr>\n",
              "      <th>4</th>\n",
              "      <td>1017023</td>\n",
              "      <td>4</td>\n",
              "      <td>1</td>\n",
              "      <td>1</td>\n",
              "      <td>3</td>\n",
              "      <td>2</td>\n",
              "      <td>1</td>\n",
              "      <td>3</td>\n",
              "      <td>1</td>\n",
              "      <td>1</td>\n",
              "      <td>2</td>\n",
              "    </tr>\n",
              "  </tbody>\n",
              "</table>\n",
              "</div>"
            ],
            "text/plain": [
              "   id_number  clum_thickness  unif_cell_size  ...  normal_nucleoli  mitoses  class\n",
              "0    1000025               5               1  ...                1        1      2\n",
              "1    1002945               5               4  ...                2        1      2\n",
              "2    1015425               3               1  ...                1        1      2\n",
              "3    1016277               6               8  ...                7        1      2\n",
              "4    1017023               4               1  ...                1        1      2\n",
              "\n",
              "[5 rows x 11 columns]"
            ]
          },
          "metadata": {},
          "execution_count": 81
        }
      ]
    },
    {
      "cell_type": "code",
      "metadata": {
        "colab": {
          "base_uri": "https://localhost:8080/"
        },
        "id": "9HdJqTa6XCxs",
        "outputId": "d1bc1bcd-2b66-4ac6-c5e1-23fe43e943bb"
      },
      "source": [
        "breast_cancer.info()"
      ],
      "execution_count": null,
      "outputs": [
        {
          "output_type": "stream",
          "name": "stdout",
          "text": [
            "<class 'pandas.core.frame.DataFrame'>\n",
            "RangeIndex: 699 entries, 0 to 698\n",
            "Data columns (total 11 columns):\n",
            " #   Column                  Non-Null Count  Dtype \n",
            "---  ------                  --------------  ----- \n",
            " 0   id_number               699 non-null    int64 \n",
            " 1   clum_thickness          699 non-null    int64 \n",
            " 2   unif_cell_size          699 non-null    int64 \n",
            " 3   unif_cell_shape         699 non-null    int64 \n",
            " 4   marg_adhesion           699 non-null    int64 \n",
            " 5   single_epith_cell_size  699 non-null    int64 \n",
            " 6   bare_nuclei             699 non-null    object\n",
            " 7   bland_chromatin         699 non-null    int64 \n",
            " 8   normal_nucleoli         699 non-null    int64 \n",
            " 9   mitoses                 699 non-null    int64 \n",
            " 10  class                   699 non-null    int64 \n",
            "dtypes: int64(10), object(1)\n",
            "memory usage: 60.2+ KB\n"
          ]
        }
      ]
    },
    {
      "cell_type": "code",
      "metadata": {
        "colab": {
          "base_uri": "https://localhost:8080/"
        },
        "id": "n1T7If9OXFoI",
        "outputId": "0652205a-70b6-40a9-ae71-e54d269ade96"
      },
      "source": [
        "breast_cancer.isnull().values.sum()"
      ],
      "execution_count": null,
      "outputs": [
        {
          "output_type": "execute_result",
          "data": {
            "text/plain": [
              "0"
            ]
          },
          "metadata": {},
          "execution_count": 83
        }
      ]
    },
    {
      "cell_type": "code",
      "metadata": {
        "colab": {
          "base_uri": "https://localhost:8080/"
        },
        "id": "e9U4fBTlXIYn",
        "outputId": "5cb28df5-6b42-4b26-8397-45189a36a286"
      },
      "source": [
        "breast_cancer['bare_nuclei'].unique()"
      ],
      "execution_count": null,
      "outputs": [
        {
          "output_type": "execute_result",
          "data": {
            "text/plain": [
              "array(['1', '10', '2', '4', '3', '9', '7', '?', '5', '8', '6'],\n",
              "      dtype=object)"
            ]
          },
          "metadata": {},
          "execution_count": 84
        }
      ]
    },
    {
      "cell_type": "code",
      "metadata": {
        "colab": {
          "base_uri": "https://localhost:8080/"
        },
        "id": "IMCH3rI9XpYs",
        "outputId": "ddadfb38-b8e6-4859-c76e-1113568b553e"
      },
      "source": [
        "breast_cancer['bare_nuclei'].value_counts()"
      ],
      "execution_count": null,
      "outputs": [
        {
          "output_type": "execute_result",
          "data": {
            "text/plain": [
              "1     402\n",
              "10    132\n",
              "2      30\n",
              "5      30\n",
              "3      28\n",
              "8      21\n",
              "4      19\n",
              "?      16\n",
              "9       9\n",
              "7       8\n",
              "6       4\n",
              "Name: bare_nuclei, dtype: int64"
            ]
          },
          "metadata": {},
          "execution_count": 85
        }
      ]
    },
    {
      "cell_type": "code",
      "metadata": {
        "id": "4tVy07WiXaQn"
      },
      "source": [
        "breast_cancer['bare_nuclei'] = breast_cancer['bare_nuclei'].replace('?', np.NAN)\n",
        "breast_cancer['bare_nuclei'] = breast_cancer['bare_nuclei'].fillna(breast_cancer['bare_nuclei'].value_counts().index[0])"
      ],
      "execution_count": null,
      "outputs": []
    },
    {
      "cell_type": "code",
      "metadata": {
        "colab": {
          "base_uri": "https://localhost:8080/"
        },
        "id": "R66VLZ2jYxsX",
        "outputId": "196c7458-2178-4b72-fa8d-d48aea92aadf"
      },
      "source": [
        "breast_cancer['class'].unique()"
      ],
      "execution_count": null,
      "outputs": [
        {
          "output_type": "execute_result",
          "data": {
            "text/plain": [
              "array([2, 4])"
            ]
          },
          "metadata": {},
          "execution_count": 87
        }
      ]
    },
    {
      "cell_type": "code",
      "metadata": {
        "id": "nKred71IXvZX"
      },
      "source": [
        "breast_cancer['cancer_ind'] = 0\n",
        "breast_cancer.loc[breast_cancer['class']==4, 'cancer_ind'] = 1\n",
        "# 마스킹 : breast_cancer['class']==4\n",
        "# 인텍싱 : 'cancer_ind'"
      ],
      "execution_count": null,
      "outputs": []
    },
    {
      "cell_type": "code",
      "metadata": {
        "id": "YDDv2RZaXvWs"
      },
      "source": [
        "X = breast_cancer.drop(['id_number', 'class', 'cancer_ind'], axis=1)\n",
        "y = breast_cancer.cancer_ind"
      ],
      "execution_count": null,
      "outputs": []
    },
    {
      "cell_type": "code",
      "metadata": {
        "id": "iPQ0lpmYXvUS"
      },
      "source": [
        "from sklearn.model_selection import train_test_split\n",
        "X_train, X_test, y_train, y_test = train_test_split(X, y, test_size = 0.3, random_state=42)"
      ],
      "execution_count": null,
      "outputs": []
    },
    {
      "cell_type": "code",
      "metadata": {
        "colab": {
          "base_uri": "https://localhost:8080/",
          "height": 417
        },
        "id": "N2pCcumqcUUI",
        "outputId": "98459571-1ca0-4dc6-9fe4-548e92552f18"
      },
      "source": [
        "X_train"
      ],
      "execution_count": null,
      "outputs": [
        {
          "output_type": "execute_result",
          "data": {
            "text/html": [
              "<div>\n",
              "<style scoped>\n",
              "    .dataframe tbody tr th:only-of-type {\n",
              "        vertical-align: middle;\n",
              "    }\n",
              "\n",
              "    .dataframe tbody tr th {\n",
              "        vertical-align: top;\n",
              "    }\n",
              "\n",
              "    .dataframe thead th {\n",
              "        text-align: right;\n",
              "    }\n",
              "</style>\n",
              "<table border=\"1\" class=\"dataframe\">\n",
              "  <thead>\n",
              "    <tr style=\"text-align: right;\">\n",
              "      <th></th>\n",
              "      <th>clum_thickness</th>\n",
              "      <th>unif_cell_size</th>\n",
              "      <th>unif_cell_shape</th>\n",
              "      <th>marg_adhesion</th>\n",
              "      <th>single_epith_cell_size</th>\n",
              "      <th>bare_nuclei</th>\n",
              "      <th>bland_chromatin</th>\n",
              "      <th>normal_nucleoli</th>\n",
              "      <th>mitoses</th>\n",
              "    </tr>\n",
              "  </thead>\n",
              "  <tbody>\n",
              "    <tr>\n",
              "      <th>357</th>\n",
              "      <td>8</td>\n",
              "      <td>10</td>\n",
              "      <td>10</td>\n",
              "      <td>7</td>\n",
              "      <td>10</td>\n",
              "      <td>10</td>\n",
              "      <td>7</td>\n",
              "      <td>3</td>\n",
              "      <td>8</td>\n",
              "    </tr>\n",
              "    <tr>\n",
              "      <th>648</th>\n",
              "      <td>5</td>\n",
              "      <td>10</td>\n",
              "      <td>10</td>\n",
              "      <td>10</td>\n",
              "      <td>10</td>\n",
              "      <td>2</td>\n",
              "      <td>10</td>\n",
              "      <td>10</td>\n",
              "      <td>10</td>\n",
              "    </tr>\n",
              "    <tr>\n",
              "      <th>291</th>\n",
              "      <td>1</td>\n",
              "      <td>1</td>\n",
              "      <td>1</td>\n",
              "      <td>1</td>\n",
              "      <td>2</td>\n",
              "      <td>1</td>\n",
              "      <td>3</td>\n",
              "      <td>1</td>\n",
              "      <td>1</td>\n",
              "    </tr>\n",
              "    <tr>\n",
              "      <th>420</th>\n",
              "      <td>3</td>\n",
              "      <td>2</td>\n",
              "      <td>2</td>\n",
              "      <td>3</td>\n",
              "      <td>2</td>\n",
              "      <td>3</td>\n",
              "      <td>3</td>\n",
              "      <td>1</td>\n",
              "      <td>1</td>\n",
              "    </tr>\n",
              "    <tr>\n",
              "      <th>177</th>\n",
              "      <td>5</td>\n",
              "      <td>10</td>\n",
              "      <td>10</td>\n",
              "      <td>3</td>\n",
              "      <td>8</td>\n",
              "      <td>1</td>\n",
              "      <td>5</td>\n",
              "      <td>10</td>\n",
              "      <td>3</td>\n",
              "    </tr>\n",
              "    <tr>\n",
              "      <th>...</th>\n",
              "      <td>...</td>\n",
              "      <td>...</td>\n",
              "      <td>...</td>\n",
              "      <td>...</td>\n",
              "      <td>...</td>\n",
              "      <td>...</td>\n",
              "      <td>...</td>\n",
              "      <td>...</td>\n",
              "      <td>...</td>\n",
              "    </tr>\n",
              "    <tr>\n",
              "      <th>71</th>\n",
              "      <td>6</td>\n",
              "      <td>10</td>\n",
              "      <td>2</td>\n",
              "      <td>8</td>\n",
              "      <td>10</td>\n",
              "      <td>2</td>\n",
              "      <td>7</td>\n",
              "      <td>8</td>\n",
              "      <td>10</td>\n",
              "    </tr>\n",
              "    <tr>\n",
              "      <th>106</th>\n",
              "      <td>10</td>\n",
              "      <td>10</td>\n",
              "      <td>10</td>\n",
              "      <td>8</td>\n",
              "      <td>2</td>\n",
              "      <td>10</td>\n",
              "      <td>4</td>\n",
              "      <td>1</td>\n",
              "      <td>1</td>\n",
              "    </tr>\n",
              "    <tr>\n",
              "      <th>270</th>\n",
              "      <td>8</td>\n",
              "      <td>4</td>\n",
              "      <td>7</td>\n",
              "      <td>1</td>\n",
              "      <td>3</td>\n",
              "      <td>10</td>\n",
              "      <td>3</td>\n",
              "      <td>9</td>\n",
              "      <td>2</td>\n",
              "    </tr>\n",
              "    <tr>\n",
              "      <th>435</th>\n",
              "      <td>10</td>\n",
              "      <td>8</td>\n",
              "      <td>10</td>\n",
              "      <td>1</td>\n",
              "      <td>3</td>\n",
              "      <td>10</td>\n",
              "      <td>5</td>\n",
              "      <td>1</td>\n",
              "      <td>1</td>\n",
              "    </tr>\n",
              "    <tr>\n",
              "      <th>102</th>\n",
              "      <td>4</td>\n",
              "      <td>1</td>\n",
              "      <td>2</td>\n",
              "      <td>1</td>\n",
              "      <td>2</td>\n",
              "      <td>1</td>\n",
              "      <td>3</td>\n",
              "      <td>1</td>\n",
              "      <td>1</td>\n",
              "    </tr>\n",
              "  </tbody>\n",
              "</table>\n",
              "<p>489 rows × 9 columns</p>\n",
              "</div>"
            ],
            "text/plain": [
              "     clum_thickness  unif_cell_size  ...  normal_nucleoli  mitoses\n",
              "357               8              10  ...                3        8\n",
              "648               5              10  ...               10       10\n",
              "291               1               1  ...                1        1\n",
              "420               3               2  ...                1        1\n",
              "177               5              10  ...               10        3\n",
              "..              ...             ...  ...              ...      ...\n",
              "71                6              10  ...                8       10\n",
              "106              10              10  ...                1        1\n",
              "270               8               4  ...                9        2\n",
              "435              10               8  ...                1        1\n",
              "102               4               1  ...                1        1\n",
              "\n",
              "[489 rows x 9 columns]"
            ]
          },
          "metadata": {},
          "execution_count": 91
        }
      ]
    },
    {
      "cell_type": "code",
      "metadata": {
        "colab": {
          "base_uri": "https://localhost:8080/",
          "height": 203
        },
        "id": "SMEmSIJefZWe",
        "outputId": "7e71bb5b-b3e4-4dad-a7f2-879fa980d2fa"
      },
      "source": [
        "pd.DataFrame(y_test).head()"
      ],
      "execution_count": null,
      "outputs": [
        {
          "output_type": "execute_result",
          "data": {
            "text/html": [
              "<div>\n",
              "<style scoped>\n",
              "    .dataframe tbody tr th:only-of-type {\n",
              "        vertical-align: middle;\n",
              "    }\n",
              "\n",
              "    .dataframe tbody tr th {\n",
              "        vertical-align: top;\n",
              "    }\n",
              "\n",
              "    .dataframe thead th {\n",
              "        text-align: right;\n",
              "    }\n",
              "</style>\n",
              "<table border=\"1\" class=\"dataframe\">\n",
              "  <thead>\n",
              "    <tr style=\"text-align: right;\">\n",
              "      <th></th>\n",
              "      <th>cancer_ind</th>\n",
              "    </tr>\n",
              "  </thead>\n",
              "  <tbody>\n",
              "    <tr>\n",
              "      <th>158</th>\n",
              "      <td>0</td>\n",
              "    </tr>\n",
              "    <tr>\n",
              "      <th>499</th>\n",
              "      <td>0</td>\n",
              "    </tr>\n",
              "    <tr>\n",
              "      <th>396</th>\n",
              "      <td>0</td>\n",
              "    </tr>\n",
              "    <tr>\n",
              "      <th>155</th>\n",
              "      <td>1</td>\n",
              "    </tr>\n",
              "    <tr>\n",
              "      <th>321</th>\n",
              "      <td>0</td>\n",
              "    </tr>\n",
              "  </tbody>\n",
              "</table>\n",
              "</div>"
            ],
            "text/plain": [
              "     cancer_ind\n",
              "158           0\n",
              "499           0\n",
              "396           0\n",
              "155           1\n",
              "321           0"
            ]
          },
          "metadata": {},
          "execution_count": 92
        }
      ]
    },
    {
      "cell_type": "code",
      "metadata": {
        "id": "pl1PeOI4XvSF"
      },
      "source": [
        "from sklearn.preprocessing import StandardScaler\n",
        "scaler = StandardScaler()\n",
        "# 스케일링 : (x-평균) / 표준편차"
      ],
      "execution_count": null,
      "outputs": []
    },
    {
      "cell_type": "code",
      "metadata": {
        "id": "zgl7H6pSZKEm"
      },
      "source": [
        "X_train_scaled = scaler.fit_transform(X_train)\n",
        "X_test_scaled = scaler.transform(X_test)\n",
        "# train : fit.transform\n",
        "# test   : transform (이유?)"
      ],
      "execution_count": null,
      "outputs": []
    },
    {
      "cell_type": "code",
      "metadata": {
        "colab": {
          "base_uri": "https://localhost:8080/"
        },
        "id": "6-1vCfmVZdGC",
        "outputId": "c769d633-0d83-4984-d8b5-4854c52fdb81"
      },
      "source": [
        "X_train_scaled"
      ],
      "execution_count": null,
      "outputs": [
        {
          "output_type": "execute_result",
          "data": {
            "text/plain": [
              "array([[ 1.23203096,  2.25737003,  2.24548782, ...,  1.3873881 ,\n",
              "         0.0493974 ,  3.93974808],\n",
              "       [ 0.16698121,  2.25737003,  2.24548782, ...,  2.57692542,\n",
              "         2.36566183,  5.16333449],\n",
              "       [-1.25308511, -0.71708671, -0.76927481, ..., -0.19866165,\n",
              "        -0.61239244, -0.34280437],\n",
              "       ...,\n",
              "       [ 1.23203096,  0.27439887,  1.24056694, ..., -0.19866165,\n",
              "         2.03476692,  0.26898883],\n",
              "       [ 1.94206413,  1.59637965,  2.24548782, ...,  0.59436323,\n",
              "        -0.61239244, -0.34280437],\n",
              "       [-0.18803537, -0.71708671, -0.43430118, ..., -0.19866165,\n",
              "        -0.61239244, -0.34280437]])"
            ]
          },
          "metadata": {},
          "execution_count": 95
        }
      ]
    },
    {
      "cell_type": "code",
      "metadata": {
        "colab": {
          "base_uri": "https://localhost:8080/"
        },
        "id": "MRW54vRJZ1Ve",
        "outputId": "6a79a6d1-64e2-475c-c3e1-46a0e43a47f5"
      },
      "source": [
        "from sklearn.neighbors import KNeighborsClassifier\n",
        "knn = KNeighborsClassifier(n_neighbors = 3)\n",
        "knn.fit(X_train_scaled, y_train)"
      ],
      "execution_count": null,
      "outputs": [
        {
          "output_type": "execute_result",
          "data": {
            "text/plain": [
              "KNeighborsClassifier(algorithm='auto', leaf_size=30, metric='minkowski',\n",
              "                     metric_params=None, n_jobs=None, n_neighbors=3, p=2,\n",
              "                     weights='uniform')"
            ]
          },
          "metadata": {},
          "execution_count": 96
        }
      ]
    },
    {
      "cell_type": "code",
      "metadata": {
        "id": "eyd6QUTbZ1Sv"
      },
      "source": [
        "from sklearn.metrics import accuracy_score, confusion_matrix, roc_auc_score, roc_curve"
      ],
      "execution_count": null,
      "outputs": []
    },
    {
      "cell_type": "code",
      "metadata": {
        "id": "jYqRyIJpZ1QN"
      },
      "source": [
        "y_pred = knn.predict(X_test_scaled)"
      ],
      "execution_count": null,
      "outputs": []
    },
    {
      "cell_type": "code",
      "metadata": {
        "colab": {
          "base_uri": "https://localhost:8080/"
        },
        "id": "smuRsWXfZ1NP",
        "outputId": "28d445bc-3964-4d26-fd56-7dd3ca7e26e3"
      },
      "source": [
        "accuracy_score(y_test, y_pred)"
      ],
      "execution_count": null,
      "outputs": [
        {
          "output_type": "execute_result",
          "data": {
            "text/plain": [
              "0.9761904761904762"
            ]
          },
          "metadata": {},
          "execution_count": 99
        }
      ]
    },
    {
      "cell_type": "code",
      "metadata": {
        "colab": {
          "base_uri": "https://localhost:8080/"
        },
        "id": "KXKJI-ViZ1Kg",
        "outputId": "2469ec3b-0d8a-460c-e01b-a8ff40a268d9"
      },
      "source": [
        "confusion_matrix(y_test, y_pred)"
      ],
      "execution_count": null,
      "outputs": [
        {
          "output_type": "execute_result",
          "data": {
            "text/plain": [
              "array([[141,   2],\n",
              "       [  3,  64]])"
            ]
          },
          "metadata": {},
          "execution_count": 100
        }
      ]
    },
    {
      "cell_type": "code",
      "metadata": {
        "colab": {
          "base_uri": "https://localhost:8080/"
        },
        "id": "NMDpWXCsemr9",
        "outputId": "59e0a36d-ae1b-416f-9f7e-dbbeaeb5920b"
      },
      "source": [
        "roc_auc_score(y_test, y_pred)"
      ],
      "execution_count": null,
      "outputs": [
        {
          "output_type": "execute_result",
          "data": {
            "text/plain": [
              "0.9706189333055005"
            ]
          },
          "metadata": {},
          "execution_count": 101
        }
      ]
    },
    {
      "cell_type": "markdown",
      "metadata": {
        "id": "Is9aAemylNGJ"
      },
      "source": [
        "### 실습 영상에서는 scaling 작업을 split 전에 실시\n",
        "1. from sklearn.preprocessing import StandardScaler\n",
        "    scaler = StandardScaler()\n",
        "\n",
        "2. X_scaled_df = scaler.fit_transform(X_df)\n",
        "3. from sklearn.model_selection import train_test_split\n",
        "X_train, X_test, y_train, y_test = train_test_split(X, y, test_size = 0.3, random_state=42)"
      ]
    },
    {
      "cell_type": "code",
      "metadata": {
        "id": "uvsyhkaTmK6T"
      },
      "source": [
        "X_df = breast_cancer.drop(['id_number', 'class', 'cancer_ind'], axis=1)\n",
        "y = breast_cancer.cancer_ind"
      ],
      "execution_count": null,
      "outputs": []
    },
    {
      "cell_type": "code",
      "metadata": {
        "id": "KxcqWFVbmK2j"
      },
      "source": [
        "from sklearn.preprocessing import StandardScaler \n",
        "scaler = StandardScaler()"
      ],
      "execution_count": null,
      "outputs": []
    },
    {
      "cell_type": "code",
      "metadata": {
        "id": "H9SGiWbhmKvC"
      },
      "source": [
        "X_scaled_df = scaler.fit_transform(X_df)"
      ],
      "execution_count": null,
      "outputs": []
    },
    {
      "cell_type": "code",
      "metadata": {
        "id": "0BjDjVv2mKsj"
      },
      "source": [
        "from sklearn.model_selection import train_test_split \n",
        "X_train, X_test, y_train, y_test = train_test_split(X_scaled_df, y, test_size = 0.3, random_state=42)"
      ],
      "execution_count": null,
      "outputs": []
    },
    {
      "cell_type": "code",
      "metadata": {
        "colab": {
          "base_uri": "https://localhost:8080/"
        },
        "id": "fIVzm6u4mzSi",
        "outputId": "18e2289e-076f-491b-cc90-c82c79032ae5"
      },
      "source": [
        "from sklearn.neighbors import KNeighborsClassifier\n",
        "knn = KNeighborsClassifier(n_neighbors = 3)\n",
        "knn.fit(X_train, y_train)"
      ],
      "execution_count": null,
      "outputs": [
        {
          "output_type": "execute_result",
          "data": {
            "text/plain": [
              "KNeighborsClassifier(algorithm='auto', leaf_size=30, metric='minkowski',\n",
              "                     metric_params=None, n_jobs=None, n_neighbors=3, p=2,\n",
              "                     weights='uniform')"
            ]
          },
          "metadata": {},
          "execution_count": 106
        }
      ]
    },
    {
      "cell_type": "code",
      "metadata": {
        "id": "O5Ay3gzgmzSq"
      },
      "source": [
        "from sklearn.metrics import accuracy_score, confusion_matrix, roc_auc_score, roc_curve"
      ],
      "execution_count": null,
      "outputs": []
    },
    {
      "cell_type": "code",
      "metadata": {
        "id": "ZmSjj149mzSr"
      },
      "source": [
        "y_pred = knn.predict(X_test)"
      ],
      "execution_count": null,
      "outputs": []
    },
    {
      "cell_type": "code",
      "metadata": {
        "colab": {
          "base_uri": "https://localhost:8080/"
        },
        "id": "a2HmLk-amzSr",
        "outputId": "32f84edd-1075-4cb0-8bcb-66d679076c05"
      },
      "source": [
        "accuracy_score(y_test, y_pred)"
      ],
      "execution_count": null,
      "outputs": [
        {
          "output_type": "execute_result",
          "data": {
            "text/plain": [
              "0.9761904761904762"
            ]
          },
          "metadata": {},
          "execution_count": 109
        }
      ]
    },
    {
      "cell_type": "code",
      "metadata": {
        "colab": {
          "base_uri": "https://localhost:8080/"
        },
        "id": "ez-3VYdbmzSr",
        "outputId": "b90daa23-6421-4854-f1cf-db4992c49f50"
      },
      "source": [
        "confusion_matrix(y_test, y_pred)"
      ],
      "execution_count": null,
      "outputs": [
        {
          "output_type": "execute_result",
          "data": {
            "text/plain": [
              "array([[141,   2],\n",
              "       [  3,  64]])"
            ]
          },
          "metadata": {},
          "execution_count": 110
        }
      ]
    },
    {
      "cell_type": "code",
      "metadata": {
        "colab": {
          "base_uri": "https://localhost:8080/"
        },
        "id": "1QTVfrl0mzSr",
        "outputId": "920a3d57-8660-4cd6-dbe3-4c5dad70ab9c"
      },
      "source": [
        "roc_auc_score(y_test, y_pred)"
      ],
      "execution_count": null,
      "outputs": [
        {
          "output_type": "execute_result",
          "data": {
            "text/plain": [
              "0.9706189333055005"
            ]
          },
          "metadata": {},
          "execution_count": 111
        }
      ]
    },
    {
      "cell_type": "code",
      "metadata": {
        "id": "fm7M8jmfmKmQ"
      },
      "source": [
        ""
      ],
      "execution_count": null,
      "outputs": []
    },
    {
      "cell_type": "code",
      "metadata": {
        "id": "nADcejuemKjh"
      },
      "source": [
        ""
      ],
      "execution_count": null,
      "outputs": []
    },
    {
      "cell_type": "markdown",
      "metadata": {
        "id": "QyQQd82ne2CE"
      },
      "source": [
        "## 그리드 서치를 이용한 하이퍼파라미터의 최적 값 선택"
      ]
    },
    {
      "cell_type": "code",
      "metadata": {
        "id": "_PGYriX9epZ0"
      },
      "source": [
        "from sklearn.model_selection import GridSearchCV"
      ],
      "execution_count": null,
      "outputs": []
    },
    {
      "cell_type": "code",
      "metadata": {
        "id": "RyZtCUyMe9DM"
      },
      "source": [
        "# knn = KNeighborsClassifier(n_neighbors = 3)\n",
        "grid_search = GridSearchCV(knn, {'n_neighbors': [1,2,3,4,5]}, n_jobs=-1, cv=7, scoring='roc_auc')"
      ],
      "execution_count": null,
      "outputs": []
    },
    {
      "cell_type": "code",
      "metadata": {
        "colab": {
          "base_uri": "https://localhost:8080/"
        },
        "id": "pQEnQhN4fJye",
        "outputId": "0c914570-dc45-465e-8c85-89656eb5c640"
      },
      "source": [
        "grid_search.fit(X_train_scaled, y_train)"
      ],
      "execution_count": null,
      "outputs": [
        {
          "output_type": "execute_result",
          "data": {
            "text/plain": [
              "GridSearchCV(cv=7, error_score=nan,\n",
              "             estimator=KNeighborsClassifier(algorithm='auto', leaf_size=30,\n",
              "                                            metric='minkowski',\n",
              "                                            metric_params=None, n_jobs=None,\n",
              "                                            n_neighbors=3, p=2,\n",
              "                                            weights='uniform'),\n",
              "             iid='deprecated', n_jobs=-1,\n",
              "             param_grid={'n_neighbors': [1, 2, 3, 4, 5]},\n",
              "             pre_dispatch='2*n_jobs', refit=True, return_train_score=False,\n",
              "             scoring='roc_auc', verbose=0)"
            ]
          },
          "metadata": {},
          "execution_count": 114
        }
      ]
    },
    {
      "cell_type": "code",
      "metadata": {
        "colab": {
          "base_uri": "https://localhost:8080/"
        },
        "id": "3pUxVMvWfw-X",
        "outputId": "77a768e7-b678-44d0-d790-da17585bbc00"
      },
      "source": [
        "grid_search.best_params_"
      ],
      "execution_count": null,
      "outputs": [
        {
          "output_type": "execute_result",
          "data": {
            "text/plain": [
              "{'n_neighbors': 5}"
            ]
          },
          "metadata": {},
          "execution_count": 115
        }
      ]
    },
    {
      "cell_type": "code",
      "metadata": {
        "id": "hV6fEgdZf959"
      },
      "source": [
        "# knn = KNeighborsClassifier(n_neighbors = 3)\n",
        "knn_best = grid_search.best_estimator_"
      ],
      "execution_count": null,
      "outputs": []
    },
    {
      "cell_type": "code",
      "metadata": {
        "id": "g5FgOlV8gfnV"
      },
      "source": [
        "y_pred = knn_best.predict(X_test_scaled)"
      ],
      "execution_count": null,
      "outputs": []
    },
    {
      "cell_type": "code",
      "metadata": {
        "colab": {
          "base_uri": "https://localhost:8080/"
        },
        "id": "uo1IUn4pgnHZ",
        "outputId": "c385270b-1000-4a7d-8d9e-a280855ccb36"
      },
      "source": [
        "accuracy_score(y_test, y_pred)\n",
        "# 0.9761904761904762 "
      ],
      "execution_count": null,
      "outputs": [
        {
          "output_type": "execute_result",
          "data": {
            "text/plain": [
              "0.9666666666666667"
            ]
          },
          "metadata": {},
          "execution_count": 118
        }
      ]
    },
    {
      "cell_type": "code",
      "metadata": {
        "colab": {
          "base_uri": "https://localhost:8080/"
        },
        "id": "885H-nOdhUVm",
        "outputId": "6d30fb3e-5aaf-4a13-d797-c234d410f500"
      },
      "source": [
        "confusion_matrix(y_test, y_pred)"
      ],
      "execution_count": null,
      "outputs": [
        {
          "output_type": "execute_result",
          "data": {
            "text/plain": [
              "array([[141,   2],\n",
              "       [  5,  62]])"
            ]
          },
          "metadata": {},
          "execution_count": 119
        }
      ]
    },
    {
      "cell_type": "code",
      "metadata": {
        "colab": {
          "base_uri": "https://localhost:8080/"
        },
        "id": "XdSFOQvOhUSP",
        "outputId": "7bdc07ad-08b2-4e1d-abc5-5acd5e68e5c9"
      },
      "source": [
        "roc_auc_score(y_test, y_pred)"
      ],
      "execution_count": null,
      "outputs": [
        {
          "output_type": "execute_result",
          "data": {
            "text/plain": [
              "0.9556935601711722"
            ]
          },
          "metadata": {},
          "execution_count": 120
        }
      ]
    },
    {
      "cell_type": "code",
      "metadata": {
        "id": "NYFjY4XFlYk-"
      },
      "source": [
        ""
      ],
      "execution_count": null,
      "outputs": []
    }
  ]
}